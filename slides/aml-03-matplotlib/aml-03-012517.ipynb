{
 "cells": [
  {
   "cell_type": "code",
   "execution_count": 6,
   "metadata": {
    "collapsed": true
   },
   "outputs": [],
   "source": [
    "% matplotlib widget\n",
    "import matplotlib.pyplot as plt"
   ]
  },
  {
   "cell_type": "code",
   "execution_count": 7,
   "metadata": {
    "collapsed": false
   },
   "outputs": [
    {
     "data": {
      "application/vnd.jupyter.widget-view+json": {
       "model_id": "88f8cfc3f69c46dea61537ffc8f44990",
       "version_major": 2,
       "version_minor": 0
      },
      "text/plain": [
       "FigureCanvasNbAgg()"
      ]
     },
     "metadata": {},
     "output_type": "display_data"
    }
   ],
   "source": [
    "ax11 = plt.subplot(2, 2, 1)\n",
    "ax21 = plt.subplot(2, 2, 2)\n",
    "ax12 = plt.subplot(2, 2, 3)\n",
    "ax22 = plt.subplot(2, 2, 4)\n",
    "\n",
    "ax11.set_title(\"ax11\")\n",
    "ax21.set_title(\"ax21\")\n",
    "ax12.set_title(\"ax12\")\n",
    "ax22.set_title(\"ax22\")\n",
    "plt.show()"
   ]
  },
  {
   "cell_type": "code",
   "execution_count": 3,
   "metadata": {
    "collapsed": false
   },
   "outputs": [
    {
     "data": {
      "application/vnd.jupyter.widget-view+json": {
       "model_id": "0e4e61e8bc074d598cb2d9ff6fa380e1",
       "version_major": 2,
       "version_minor": 0
      },
      "text/plain": [
       "FigureCanvasNbAgg()"
      ]
     },
     "metadata": {},
     "output_type": "display_data"
    },
    {
     "data": {
      "text/plain": [
       "Text(0.5, 1.0, 'ax22')"
      ]
     },
     "execution_count": 3,
     "metadata": {},
     "output_type": "execute_result"
    }
   ],
   "source": [
    "fig, axes = plt.subplots(2, 2)\n",
    "ax11, ax21, ax12, ax22 = axes.ravel()\n",
    "ax11.set_title(\"ax11\")\n",
    "ax21.set_title(\"ax21\")\n",
    "ax12.set_title(\"ax12\")\n",
    "ax22.set_title(\"ax22\")"
   ]
  },
  {
   "cell_type": "code",
   "execution_count": 4,
   "metadata": {
    "collapsed": false
   },
   "outputs": [
    {
     "data": {
      "application/vnd.jupyter.widget-view+json": {
       "model_id": "e01f8ca056664c729102a3db2d88a22a",
       "version_major": 2,
       "version_minor": 0
      },
      "text/plain": [
       "FigureCanvasNbAgg()"
      ]
     },
     "metadata": {},
     "output_type": "display_data"
    },
    {
     "data": {
      "text/plain": [
       "Text(0.5, 1.0, 'ax2')"
      ]
     },
     "execution_count": 4,
     "metadata": {},
     "output_type": "execute_result"
    }
   ],
   "source": [
    "plt.figure()\n",
    "ax11 = plt.subplot(2, 2, 1)\n",
    "ax21 = plt.subplot(2, 2, 2)\n",
    "ax2 = plt.subplot(2, 1, 2)\n",
    "ax11.set_title(\"ax11\")\n",
    "ax21.set_title(\"ax21\")\n",
    "ax2.set_title(\"ax2\")"
   ]
  },
  {
   "cell_type": "code",
   "execution_count": 5,
   "metadata": {
    "collapsed": false
   },
   "outputs": [
    {
     "data": {
      "application/vnd.jupyter.widget-view+json": {
       "model_id": "80ffffda7e46460fa277008e267bc4e5",
       "version_major": 2,
       "version_minor": 0
      },
      "text/plain": [
       "FigureCanvasNbAgg()"
      ]
     },
     "metadata": {},
     "output_type": "display_data"
    },
    {
     "data": {
      "text/plain": [
       "[<matplotlib.lines.Line2D at 0x7f8b08fcb438>]"
      ]
     },
     "execution_count": 5,
     "metadata": {},
     "output_type": "execute_result"
    }
   ],
   "source": [
    "import numpy as np\n",
    "sin = np.sin(np.linspace(-4, 4, 100))\n",
    "fig, axes = plt.subplots(2, 2)\n",
    "plt.plot(sin)"
   ]
  },
  {
   "cell_type": "code",
   "execution_count": 6,
   "metadata": {
    "collapsed": false
   },
   "outputs": [
    {
     "data": {
      "application/vnd.jupyter.widget-view+json": {
       "model_id": "d66676956101488f923b9ef5994ef8fd",
       "version_major": 2,
       "version_minor": 0
      },
      "text/plain": [
       "FigureCanvasNbAgg()"
      ]
     },
     "metadata": {},
     "output_type": "display_data"
    },
    {
     "data": {
      "text/plain": [
       "[<matplotlib.lines.Line2D at 0x7f8b0956ef60>]"
      ]
     },
     "execution_count": 6,
     "metadata": {},
     "output_type": "execute_result"
    }
   ],
   "source": [
    "fig, axes = plt.subplots(2, 2)\n",
    "axes[0, 0].plot(sin)"
   ]
  },
  {
   "cell_type": "code",
   "execution_count": null,
   "metadata": {
    "collapsed": false
   },
   "outputs": [],
   "source": [
    "asdf = plt.gca()\n",
    "asdf.plot()"
   ]
  },
  {
   "cell_type": "code",
   "execution_count": null,
   "metadata": {
    "collapsed": false
   },
   "outputs": [],
   "source": [
    "fig, ax = plt.subplots(2, 4, figsize=(10, 5))\n",
    "ax[0, 0].plot(sin)\n",
    "ax[0, 1].plot(range(100), sin)  # same as above\n",
    "ax[0, 2].plot(np.linspace(-4, 4, 100), sin)\n",
    "ax[0, 3].plot(sin[::10], 'o')\n",
    "ax[1, 0].plot(sin, c='r')\n",
    "ax[1, 1].plot(sin, '--')\n",
    "ax[1, 2].plot(sin, lw=3)\n",
    "ax[1, 3].plot(sin[::10], '--o')\n",
    "plt.tight_layout() # makes stuff fit - usually works"
   ]
  },
  {
   "cell_type": "code",
   "execution_count": null,
   "metadata": {
    "collapsed": false
   },
   "outputs": [],
   "source": [
    "x = np.random.uniform(size=50)\n",
    "y = x + np.random.normal(0, .1, size=50)\n",
    "\n",
    "fig, ax = plt.subplots(2, 2, figsize=(5, 5),\n",
    "                       subplot_kw={'xticks': (), 'yticks': ()})\n",
    "ax[0, 0].scatter(x, y)\n",
    "ax[0, 0].set_title(\"scatter\")\n",
    "ax[0, 1].plot(x, y, 'o')\n",
    "ax[0, 1].set_title(\"plot\")\n",
    "ax[1, 0].scatter(x, y, c=x-y, cmap='bwr', edgecolor='k')\n",
    "ax[1, 1].scatter(x, y, c=x-y, s=np.abs(np.random.normal(scale=20, size=50)), cmap='bwr', edgecolor='k')\n",
    "plt.tight_layout()"
   ]
  },
  {
   "cell_type": "code",
   "execution_count": null,
   "metadata": {
    "collapsed": false
   },
   "outputs": [],
   "source": [
    "import pandas as pd\n",
    "df, = pd.read_html(\"\"\"<table><tbody><tr><th>&nbsp;</th><th>&nbsp;</th><th>Movie</th><th>Distributor</th><th>Gross</th><th>Change</th><th>Thtrs.</th><th>Per Thtr.</th><th>Total Gross</th><th>Days</th></tr>\n",
    "<tr>\n",
    "<td class=\"data\">1</td>\n",
    "<td class=\"data\">(1)</td>\n",
    "<td><b><a href=\"/movie/Hidden-Figures#tab=box-office\">Hidden Figures</a></b></td>\n",
    "<td><a href=\"/market/distributor/20th-Century-Fox\">20th Century Fox</a></td>\n",
    "<td class=\"data\">$33,605,651</td>\n",
    "<td class=\"data chart_up\">+7%</td>\n",
    "<td class=\"data\">3,286</td>\n",
    "<td class=\"data chart_grey\">$10,227</td>\n",
    "<td class=\"data\">&nbsp;&nbsp;$67,988,751</td>\n",
    "<td class=\"data\">26</td>\n",
    "</tr>\n",
    "<tr bgcolor=\"#ffeeff\">\n",
    "<td class=\"data chart_up\"><b>2</b></td>\n",
    "<td class=\"data\">(5)</td>\n",
    "<td><b><a href=\"/movie/La-La-Land#tab=box-office\">La La Land</a></b></td>\n",
    "<td><a href=\"/market/distributor/Lionsgate\">Lionsgate</a></td>\n",
    "<td class=\"data\">$21,748,928</td>\n",
    "<td class=\"data chart_up\">+21%</td>\n",
    "<td class=\"data\">1,848</td>\n",
    "<td class=\"data chart_grey\">$11,769</td>\n",
    "<td class=\"data\">&nbsp;&nbsp;$81,330,497</td>\n",
    "<td class=\"data\">42</td>\n",
    "</tr>\n",
    "<tr>\n",
    "<td class=\"data\">3</td>\n",
    "<td class=\"data\">(3)</td>\n",
    "<td><b><a href=\"/movie/Sing-(2016)#tab=box-office\">Sing</a></b></td>\n",
    "<td><a href=\"/market/distributor/Universal\">Universal</a></td>\n",
    "<td class=\"data\">$21,109,675</td>\n",
    "<td class=\"data chart_down\">-17%</td>\n",
    "<td class=\"data\">3,431</td>\n",
    "<td class=\"data chart_grey\">$6,153</td>\n",
    "<td class=\"data\">&nbsp;&nbsp;$240,325,195</td>\n",
    "<td class=\"data\">30</td>\n",
    "</tr>\n",
    "<tr bgcolor=\"#ffeeff\">\n",
    "<td class=\"data chart_down\">4</td>\n",
    "<td class=\"data\">(2)</td>\n",
    "<td><b><a href=\"/movie/Rogue-One-A-Star-Wars-Story#tab=box-office\">Rogue One: A Star Wars Story</a></b></td>\n",
    "<td><a href=\"/market/distributor/Walt-Disney\">Walt Disney</a></td>\n",
    "<td class=\"data\">$20,073,829</td>\n",
    "<td class=\"data chart_down\">-33%</td>\n",
    "<td class=\"data\">3,162</td>\n",
    "<td class=\"data chart_grey\">$6,348</td>\n",
    "<td class=\"data\">&nbsp;&nbsp;$505,165,563</td>\n",
    "<td class=\"data\">35</td>\n",
    "</tr>\n",
    "<tr>\n",
    "<td class=\"data chart_up\"><b>5</b></td>\n",
    "<td class=\"data\">(28)</td>\n",
    "<td><b><a href=\"/movie/Patriots-Day#tab=box-office\">Patriots Day</a></b></td>\n",
    "<td><a href=\"/market/distributor/Lionsgate\">Lionsgate</a></td>\n",
    "<td class=\"data\">$16,715,863</td>\n",
    "<td class=\"data chart_up\">+10,435%</td>\n",
    "<td class=\"data\">3,120</td>\n",
    "<td class=\"data chart_grey\">$5,358</td>\n",
    "<td class=\"data\">&nbsp;&nbsp;$17,639,945</td>\n",
    "<td class=\"data\">30</td>\n",
    "</tr>\n",
    "<tr bgcolor=\"#ffeeff\">\n",
    "<td class=\"data\">6</td>\n",
    "<td class=\"data\"><b>new</b></td>\n",
    "<td><b><a href=\"/movie/Bye-Bye-Man-The#tab=box-office\">The Bye Bye Man</a></b></td>\n",
    "<td><a href=\"/market/distributor/STX-Entertainment\">STX Entertainment</a></td>\n",
    "<td class=\"data\">$16,559,630</td>\n",
    "<td class=\"data\">&nbsp;</td>\n",
    "<td class=\"data\">2,220</td>\n",
    "<td class=\"data chart_grey\">$7,459</td>\n",
    "<td class=\"data\">&nbsp;&nbsp;$16,559,630</td>\n",
    "<td class=\"data\">7</td>\n",
    "</tr>\n",
    "<tr>\n",
    "<td class=\"data\">7</td>\n",
    "<td class=\"data\"><b>new</b></td>\n",
    "<td><b><a href=\"/movie/Monster-Trucks#tab=box-office\">Monster Trucks</a></b></td>\n",
    "<td><a href=\"/market/distributor/Paramount-Pictures\">Paramount Pictures</a></td>\n",
    "<td class=\"data\">$15,611,554</td>\n",
    "<td class=\"data\">&nbsp;</td>\n",
    "<td class=\"data\">3,119</td>\n",
    "<td class=\"data chart_grey\">$5,005</td>\n",
    "<td class=\"data\">&nbsp;&nbsp;$15,611,554</td>\n",
    "<td class=\"data\">7</td>\n",
    "</tr>\n",
    "<tr bgcolor=\"#ffeeff\">\n",
    "<td class=\"data\">8</td>\n",
    "<td class=\"data\"><b>new</b></td>\n",
    "<td><b><a href=\"/movie/Sleepless-(2016)#tab=box-office\">Sleepless</a></b></td>\n",
    "<td><a href=\"/market/distributor/Open-Road\">Open Road</a></td>\n",
    "<td class=\"data\">$11,486,904</td>\n",
    "<td class=\"data\">&nbsp;</td>\n",
    "<td class=\"data\">1,803</td>\n",
    "<td class=\"data chart_grey\">$6,371</td>\n",
    "<td class=\"data\">&nbsp;&nbsp;$11,486,904</td>\n",
    "<td class=\"data\">7</td>\n",
    "</tr>\n",
    "<tr>\n",
    "<td class=\"data chart_down\">9</td>\n",
    "<td class=\"data\">(4)</td>\n",
    "<td><b><a href=\"/movie/Underworld-Blood-Wars#tab=box-office\">Underworld: Blood Wars</a></b></td>\n",
    "<td><a href=\"/market/distributor/Sony-Pictures\">Sony Pictures</a></td>\n",
    "<td class=\"data\">$8,794,841</td>\n",
    "<td class=\"data chart_down\">-51%</td>\n",
    "<td class=\"data\">3,070</td>\n",
    "<td class=\"data chart_grey\">$2,865</td>\n",
    "<td class=\"data\">&nbsp;&nbsp;$26,910,959</td>\n",
    "<td class=\"data\">14</td>\n",
    "</tr>\n",
    "<tr bgcolor=\"#ffeeff\">\n",
    "<td class=\"data chart_down\">10</td>\n",
    "<td class=\"data\">(6)</td>\n",
    "<td><b><a href=\"/movie/Passengers-(2016)#tab=box-office\">Passengers</a></b></td>\n",
    "<td><a href=\"/market/distributor/Sony-Pictures\">Sony Pictures</a></td>\n",
    "<td class=\"data\">$7,853,457</td>\n",
    "<td class=\"data chart_down\">-36%</td>\n",
    "<td class=\"data\">2,447</td>\n",
    "<td class=\"data chart_grey\">$3,209</td>\n",
    "<td class=\"data\">&nbsp;&nbsp;$92,233,188</td>\n",
    "<td class=\"data\">30</td>\n",
    "</tr>\n",
    "<tr>\n",
    "<td class=\"data chart_up\"><b>11</b></td>\n",
    "<td class=\"data\">(38)</td>\n",
    "<td><b><a href=\"/movie/Live-by-Night#tab=box-office\">Live by Night</a></b></td>\n",
    "<td><a href=\"/market/distributor/Warner-Bros\">Warner Bros.</a></td>\n",
    "<td class=\"data\">$7,481,705</td>\n",
    "<td class=\"data chart_up\">+16,845%</td>\n",
    "<td class=\"data\">2,822</td>\n",
    "<td class=\"data chart_grey\">$2,651</td>\n",
    "<td class=\"data\">&nbsp;&nbsp;$7,667,349</td>\n",
    "<td class=\"data\">26</td>\n",
    "</tr>\n",
    "<tr bgcolor=\"#ffeeff\">\n",
    "<td class=\"data chart_down\">12</td>\n",
    "<td class=\"data\">(8)</td>\n",
    "<td><b><a href=\"/movie/Moana#tab=box-office\">Moana</a></b></td>\n",
    "<td><a href=\"/market/distributor/Walt-Disney\">Walt Disney</a></td>\n",
    "<td class=\"data\">$6,968,577</td>\n",
    "<td class=\"data chart_down\">-16%</td>\n",
    "<td class=\"data\">1,847</td>\n",
    "<td class=\"data chart_grey\">$3,773</td>\n",
    "<td class=\"data\">&nbsp;&nbsp;$234,274,702</td>\n",
    "<td class=\"data\">58</td>\n",
    "</tr>\n",
    "<tr>\n",
    "<td class=\"data chart_down\">13</td>\n",
    "<td class=\"data\">(7)</td>\n",
    "<td><b><a href=\"/movie/Why-Him#tab=box-office\">Why Him?</a></b></td>\n",
    "<td><a href=\"/market/distributor/20th-Century-Fox\">20th Century Fox</a></td>\n",
    "<td class=\"data\">$5,032,411</td>\n",
    "<td class=\"data chart_down\">-49%</td>\n",
    "<td class=\"data\">1,977</td>\n",
    "<td class=\"data chart_grey\">$2,545</td>\n",
    "<td class=\"data\">&nbsp;&nbsp;$56,865,458</td>\n",
    "<td class=\"data\">28</td>\n",
    "</tr>\n",
    "<tr bgcolor=\"#ffeeff\">\n",
    "<td class=\"data chart_down\">14</td>\n",
    "<td class=\"data\">(9)</td>\n",
    "<td><b><a href=\"/movie/Fences#tab=box-office\">Fences</a></b></td>\n",
    "<td><a href=\"/market/distributor/Paramount-Pictures\">Paramount Pictures</a></td>\n",
    "<td class=\"data\">$4,367,322</td>\n",
    "<td class=\"data chart_down\">-39%</td>\n",
    "<td class=\"data\">1,342</td>\n",
    "<td class=\"data chart_grey\">$3,254</td>\n",
    "<td class=\"data\">&nbsp;&nbsp;$47,499,684</td>\n",
    "<td class=\"data\">35</td>\n",
    "</tr>\n",
    "<tr>\n",
    "<td class=\"data chart_down\">15</td>\n",
    "<td class=\"data\">(12)</td>\n",
    "<td><b><a href=\"/movie/Lion-(Australia)#tab=box-office\">Lion</a></b></td>\n",
    "<td><a href=\"/market/distributor/Weinstein-Co\">Weinstein Co.</a></td>\n",
    "<td class=\"data\">$3,539,926</td>\n",
    "<td class=\"data chart_up\">+9%</td>\n",
    "<td class=\"data\">575</td>\n",
    "<td class=\"data chart_grey\">$6,156</td>\n",
    "<td class=\"data\">&nbsp;&nbsp;$14,582,530</td>\n",
    "<td class=\"data\">56</td>\n",
    "</tr>\n",
    "<tr bgcolor=\"#ffeeff\">\n",
    "<td class=\"data chart_up\"><b>16</b></td>\n",
    "<td class=\"data\">(20)</td>\n",
    "<td><b><a href=\"/movie/Silence-(2016)#tab=box-office\">Silence</a></b></td>\n",
    "<td><a href=\"/market/distributor/Paramount-Pictures\">Paramount Pictures</a></td>\n",
    "<td class=\"data\">$2,926,937</td>\n",
    "<td class=\"data chart_up\">+319%</td>\n",
    "<td class=\"data\">747</td>\n",
    "<td class=\"data chart_grey\">$3,918</td>\n",
    "<td class=\"data\">&nbsp;&nbsp;$4,008,701</td>\n",
    "<td class=\"data\">28</td>\n",
    "</tr>\n",
    "<tr>\n",
    "<td class=\"data chart_down\">17</td>\n",
    "<td class=\"data\">(11)</td>\n",
    "<td><b><a href=\"/movie/Manchester-by-the-Sea#tab=box-office\">Manchester-by-the Sea</a></b></td>\n",
    "<td><a href=\"/market/distributor/Roadside-Attractions\">Roadside Attractions</a></td>\n",
    "<td class=\"data\">$2,786,718</td>\n",
    "<td class=\"data chart_down\">-27%</td>\n",
    "<td class=\"data\">726</td>\n",
    "<td class=\"data chart_grey\">$3,838</td>\n",
    "<td class=\"data\">&nbsp;&nbsp;$37,948,496</td>\n",
    "<td class=\"data\">63</td>\n",
    "</tr>\n",
    "<tr bgcolor=\"#ffeeff\">\n",
    "<td class=\"data chart_down\">18</td>\n",
    "<td class=\"data\">(10)</td>\n",
    "<td><b><a href=\"/movie/Assassins-Creed#tab=box-office\">Assassin’s Creed</a></b></td>\n",
    "<td><a href=\"/market/distributor/20th-Century-Fox\">20th Century Fox</a></td>\n",
    "<td class=\"data\">$1,979,315</td>\n",
    "<td class=\"data chart_down\">-66%</td>\n",
    "<td class=\"data\">968</td>\n",
    "<td class=\"data chart_grey\">$2,045</td>\n",
    "<td class=\"data\">&nbsp;&nbsp;$53,482,956</td>\n",
    "<td class=\"data\">30</td>\n",
    "</tr>\n",
    "<tr>\n",
    "<td class=\"data chart_up\"><b>19</b></td>\n",
    "<td class=\"data\">(21)</td>\n",
    "<td><b><a href=\"/movie/Moonlight-(2015)#tab=box-office\">Moonlight</a></b></td>\n",
    "<td><a href=\"/market/distributor/A24\">A24</a></td>\n",
    "<td class=\"data\">$1,693,623</td>\n",
    "<td class=\"data chart_up\">+185%</td>\n",
    "<td class=\"data\">582</td>\n",
    "<td class=\"data chart_grey\">$2,910</td>\n",
    "<td class=\"data\">&nbsp;&nbsp;$15,192,382</td>\n",
    "<td class=\"data\">91</td>\n",
    "</tr>\n",
    "<tr bgcolor=\"#ffeeff\">\n",
    "<td class=\"data chart_down\">20</td>\n",
    "<td class=\"data\">(14)</td>\n",
    "<td><b><a href=\"/movie/Fantastic-Beasts-and-Where-to-Find-Them#tab=box-office\">Fantastic Beasts and Where …</a></b></td>\n",
    "<td><a href=\"/market/distributor/Warner-Bros\">Warner Bros.</a></td>\n",
    "<td class=\"data\">$1,406,667</td>\n",
    "<td class=\"data chart_down\">-46%</td>\n",
    "<td class=\"data\">502</td>\n",
    "<td class=\"data chart_grey\">$2,802</td>\n",
    "<td class=\"data\">&nbsp;&nbsp;$231,277,992</td>\n",
    "<td class=\"data\">63</td>\n",
    "</tr>\n",
    "<tr>\n",
    "<td class=\"data chart_down\">21</td>\n",
    "<td class=\"data\">(16)</td>\n",
    "<td><b><a href=\"/movie/Jackie-(2016)#tab=box-office\">Jackie</a></b></td>\n",
    "<td><a href=\"/market/distributor/Fox-Searchlight\">Fox Searchlight</a></td>\n",
    "<td class=\"data\">$1,149,751</td>\n",
    "<td class=\"data chart_down\">-26%</td>\n",
    "<td class=\"data\">353</td>\n",
    "<td class=\"data chart_grey\">$3,257</td>\n",
    "<td class=\"data\">&nbsp;&nbsp;$10,902,840</td>\n",
    "<td class=\"data\">49</td>\n",
    "</tr>\n",
    "<tr bgcolor=\"#ffeeff\">\n",
    "<td class=\"data chart_down\">22</td>\n",
    "<td class=\"data\">(13)</td>\n",
    "<td><b><a href=\"/movie/Monster-Calls-A#tab=box-office\">A Monster Calls</a></b></td>\n",
    "<td><a href=\"/market/distributor/Focus-Features\">Focus Features</a></td>\n",
    "<td class=\"data\">$887,171</td>\n",
    "<td class=\"data chart_down\">-68%</td>\n",
    "<td class=\"data\">1,513</td>\n",
    "<td class=\"data chart_grey\">$586</td>\n",
    "<td class=\"data\">&nbsp;&nbsp;$3,710,799</td>\n",
    "<td class=\"data\">28</td>\n",
    "</tr>\n",
    "<tr>\n",
    "<td class=\"data chart_down\">23</td>\n",
    "<td class=\"data\">(17)</td>\n",
    "<td><b><a href=\"/movie/Arrival-(2016)#tab=box-office\">Arrival</a></b></td>\n",
    "<td><a href=\"/market/distributor/Paramount-Pictures\">Paramount Pictures</a></td>\n",
    "<td class=\"data\">$829,052</td>\n",
    "<td class=\"data chart_down\">-34%</td>\n",
    "<td class=\"data\">247</td>\n",
    "<td class=\"data chart_grey\">$3,356</td>\n",
    "<td class=\"data\">&nbsp;&nbsp;$95,349,632</td>\n",
    "<td class=\"data\">70</td>\n",
    "</tr>\n",
    "<tr bgcolor=\"#ffeeff\">\n",
    "<td class=\"data chart_down\">24</td>\n",
    "<td class=\"data\">(22)</td>\n",
    "<td><b><a href=\"/movie/Trolls#tab=box-office\">Trolls</a></b></td>\n",
    "<td><a href=\"/market/distributor/20th-Century-Fox\">20th Century Fox</a></td>\n",
    "<td class=\"data\">$639,148</td>\n",
    "<td class=\"data chart_up\">+15%</td>\n",
    "<td class=\"data\">262</td>\n",
    "<td class=\"data chart_grey\">$2,439</td>\n",
    "<td class=\"data\">&nbsp;&nbsp;$152,041,839</td>\n",
    "<td class=\"data\">77</td>\n",
    "</tr>\n",
    "<tr>\n",
    "<td class=\"data chart_down\">25</td>\n",
    "<td class=\"data\">(19)</td>\n",
    "<td><b><a href=\"/movie/Dangal-(India)#tab=box-office\">Dangal</a></b></td>\n",
    "<td><a href=\"/market/distributor/UTV-Communications\">UTV Communications</a></td>\n",
    "<td class=\"data\">$537,498</td>\n",
    "<td class=\"data chart_down\">-52%</td>\n",
    "<td class=\"data\">95</td>\n",
    "<td class=\"data chart_grey\">$5,658</td>\n",
    "<td class=\"data\">&nbsp;&nbsp;$12,008,183</td>\n",
    "<td class=\"data\">30</td>\n",
    "</tr>\n",
    "<tr bgcolor=\"#ffeeff\">\n",
    "<td class=\"data\">26</td>\n",
    "<td class=\"data\">(26)</td>\n",
    "<td><b><a href=\"/movie/20th-Century-Women#tab=box-office\">20th Century Women</a></b></td>\n",
    "<td><a href=\"/market/distributor/A24\">A24</a></td>\n",
    "<td class=\"data\">$482,993</td>\n",
    "<td class=\"data chart_up\">+153%</td>\n",
    "<td class=\"data\">29</td>\n",
    "<td class=\"data chart_grey\">$16,655</td>\n",
    "<td class=\"data\">&nbsp;&nbsp;$926,641</td>\n",
    "<td class=\"data\">26</td>\n",
    "</tr>\n",
    "<tr>\n",
    "<td class=\"data\">27</td>\n",
    "<td class=\"data\"><b>new</b></td>\n",
    "<td><b><a href=\"/movie/Ok-Jaanu-(India)#tab=box-office\">Ok Jaanu</a></b></td>\n",
    "<td><a href=\"/market/distributor/FIP\">FIP</a></td>\n",
    "<td class=\"data\">$312,090</td>\n",
    "<td class=\"data\">&nbsp;</td>\n",
    "<td class=\"data\">121</td>\n",
    "<td class=\"data chart_grey\">$2,579</td>\n",
    "<td class=\"data\">&nbsp;&nbsp;$312,090</td>\n",
    "<td class=\"data\">7</td>\n",
    "</tr>\n",
    "<tr bgcolor=\"#ffeeff\">\n",
    "<td class=\"data chart_down\">28</td>\n",
    "<td class=\"data\">(23)</td>\n",
    "<td><b><a href=\"/movie/Doctor-Strange-(2016)#tab=box-office\">Doctor Strange</a></b></td>\n",
    "<td><a href=\"/market/distributor/Walt-Disney\">Walt Disney</a></td>\n",
    "<td class=\"data\">$309,972</td>\n",
    "<td class=\"data chart_down\">-30%</td>\n",
    "<td class=\"data\">162</td>\n",
    "<td class=\"data chart_grey\">$1,913</td>\n",
    "<td class=\"data\">&nbsp;&nbsp;$231,345,380</td>\n",
    "<td class=\"data\">77</td>\n",
    "</tr>\n",
    "<tr>\n",
    "<td class=\"data chart_down\">29</td>\n",
    "<td class=\"data\">(15)</td>\n",
    "<td><b><a href=\"/movie/Collateral-Beauty#tab=box-office\">Collateral Beauty</a></b></td>\n",
    "<td><a href=\"/market/distributor/Warner-Bros\">Warner Bros.</a></td>\n",
    "<td class=\"data\">$305,013</td>\n",
    "<td class=\"data chart_down\">-83%</td>\n",
    "<td class=\"data\">254</td>\n",
    "<td class=\"data chart_grey\">$1,201</td>\n",
    "<td class=\"data\">&nbsp;&nbsp;$30,621,252</td>\n",
    "<td class=\"data\">35</td>\n",
    "</tr>\n",
    "<tr bgcolor=\"#ffeeff\">\n",
    "<td class=\"data chart_down\">30</td>\n",
    "<td class=\"data\">(24)</td>\n",
    "<td><b><a href=\"/movie/Hacksaw-Ridge#tab=box-office\">Hacksaw Ridge</a></b></td>\n",
    "<td><a href=\"/market/distributor/Lionsgate\">Lionsgate</a></td>\n",
    "<td class=\"data\">$208,955</td>\n",
    "<td class=\"data chart_down\">-34%</td>\n",
    "<td class=\"data\">172</td>\n",
    "<td class=\"data chart_grey\">$1,215</td>\n",
    "<td class=\"data\">&nbsp;&nbsp;$65,411,438</td>\n",
    "<td class=\"data\">77</td>\n",
    "</tr>\n",
    "<tr>\n",
    "<td class=\"data chart_down\">31</td>\n",
    "<td class=\"data\">(18)</td>\n",
    "<td><b><a href=\"/movie/Office-Christmas-Party#tab=box-office\">Office Christmas Party</a></b></td>\n",
    "<td><a href=\"/market/distributor/Paramount-Pictures\">Paramount Pictures</a></td>\n",
    "<td class=\"data\">$165,146</td>\n",
    "<td class=\"data chart_down\">-86%</td>\n",
    "<td class=\"data\">141</td>\n",
    "<td class=\"data chart_grey\">$1,171</td>\n",
    "<td class=\"data\">&nbsp;&nbsp;$54,648,213</td>\n",
    "<td class=\"data\">42</td>\n",
    "</tr>\n",
    "<tr bgcolor=\"#ffeeff\">\n",
    "<td class=\"data chart_down\">32</td>\n",
    "<td class=\"data\">(30)</td>\n",
    "<td><b><a href=\"/movie/Allied#tab=box-office\">Allied</a></b></td>\n",
    "<td><a href=\"/market/distributor/Paramount-Pictures\">Paramount Pictures</a></td>\n",
    "<td class=\"data\">$161,201</td>\n",
    "<td class=\"data chart_up\">+20%</td>\n",
    "<td class=\"data\">174</td>\n",
    "<td class=\"data chart_grey\">$926</td>\n",
    "<td class=\"data\">&nbsp;&nbsp;$40,015,450</td>\n",
    "<td class=\"data\">58</td>\n",
    "</tr>\n",
    "<tr>\n",
    "<td class=\"data chart_down\">33</td>\n",
    "<td class=\"data\">(29)</td>\n",
    "<td><b><a href=\"/movie/Nocturnal-Animals#tab=box-office\">Nocturnal Animals</a></b></td>\n",
    "<td><a href=\"/market/distributor/Focus-Features\">Focus Features</a></td>\n",
    "<td class=\"data\">$112,841</td>\n",
    "<td class=\"data chart_down\">-25%</td>\n",
    "<td class=\"data\">54</td>\n",
    "<td class=\"data chart_grey\">$2,090</td>\n",
    "<td class=\"data\">&nbsp;&nbsp;$10,604,004</td>\n",
    "<td class=\"data\">63</td>\n",
    "</tr>\n",
    "<tr bgcolor=\"#ffeeff\">\n",
    "<td class=\"data chart_up\"><b>34</b></td>\n",
    "<td class=\"data\">(36)</td>\n",
    "<td><b><a href=\"/movie/Neruda-(Chile)#tab=box-office\">Neruda</a></b></td>\n",
    "<td><a href=\"/market/distributor/Orchard-The\">The Orchard</a></td>\n",
    "<td class=\"data\">$69,515</td>\n",
    "<td class=\"data chart_up\">+25%</td>\n",
    "<td class=\"data\">15</td>\n",
    "<td class=\"data chart_grey\">$4,634</td>\n",
    "<td class=\"data\">&nbsp;&nbsp;$296,307</td>\n",
    "<td class=\"data\">35</td>\n",
    "</tr>\n",
    "<tr>\n",
    "<td class=\"data chart_down\">35</td>\n",
    "<td class=\"data\">(34)</td>\n",
    "<td><b><a href=\"/movie/Miss-Peregrines-Home-for-Peculiar-Children#tab=box-office\">Miss Peregrine’s Home for…</a></b></td>\n",
    "<td><a href=\"/market/distributor/20th-Century-Fox\">20th Century Fox</a></td>\n",
    "<td class=\"data\">$68,755</td>\n",
    "<td class=\"data chart_down\">-4%</td>\n",
    "<td class=\"data\">84</td>\n",
    "<td class=\"data chart_grey\">$819</td>\n",
    "<td class=\"data\">&nbsp;&nbsp;$87,170,123</td>\n",
    "<td class=\"data\">112</td>\n",
    "</tr>\n",
    "<tr bgcolor=\"#ffeeff\">\n",
    "<td class=\"data chart_down\">36</td>\n",
    "<td class=\"data\">(33)</td>\n",
    "<td><b><a href=\"/movie/Loving-(2016)#tab=box-office\">Loving</a></b></td>\n",
    "<td><a href=\"/market/distributor/Focus-Features\">Focus Features</a></td>\n",
    "<td class=\"data\">$56,241</td>\n",
    "<td class=\"data chart_down\">-28%</td>\n",
    "<td class=\"data\">41</td>\n",
    "<td class=\"data chart_grey\">$1,372</td>\n",
    "<td class=\"data\">&nbsp;&nbsp;$7,679,676</td>\n",
    "<td class=\"data\">77</td>\n",
    "</tr>\n",
    "<tr>\n",
    "<td class=\"data chart_down\">37</td>\n",
    "<td class=\"data\">(27)</td>\n",
    "<td><b><a href=\"/movie/Railroad-Tigers#tab=box-office\">Railroad Tigers</a></b></td>\n",
    "<td><a href=\"/market/distributor/Well-Go-USA\">Well Go USA</a></td>\n",
    "<td class=\"data\">$39,136</td>\n",
    "<td class=\"data chart_down\">-76%</td>\n",
    "<td class=\"data\">13</td>\n",
    "<td class=\"data chart_grey\">$3,010</td>\n",
    "<td class=\"data\">&nbsp;&nbsp;$205,655</td>\n",
    "<td class=\"data\">14</td>\n",
    "</tr>\n",
    "<tr bgcolor=\"#ffeeff\">\n",
    "<td class=\"data chart_up\"><b>38</b></td>\n",
    "<td class=\"data\">(40)</td>\n",
    "<td><b><a href=\"/movie/avenir-L-(france)#tab=box-office\">Things to Come</a></b></td>\n",
    "<td><a href=\"/market/distributor/IFC-Films\">IFC Films</a></td>\n",
    "<td class=\"data\">$30,237</td>\n",
    "<td class=\"data chart_down\">-10%</td>\n",
    "<td class=\"data\">20</td>\n",
    "<td class=\"data chart_grey\">$1,512</td>\n",
    "<td class=\"data\">&nbsp;&nbsp;$326,869</td>\n",
    "<td class=\"data\">49</td>\n",
    "</tr>\n",
    "<tr>\n",
    "<td class=\"data\">39</td>\n",
    "<td class=\"data\">(39)</td>\n",
    "<td><b><a href=\"/movie/A-Ga-ssi-(S-Korea)#tab=box-office\">The Handmaiden</a></b></td>\n",
    "<td><a href=\"/market/distributor/Magnolia-Pictures\">Magnolia Pictures</a></td>\n",
    "<td class=\"data\">$29,808</td>\n",
    "<td class=\"data chart_down\">-18%</td>\n",
    "<td class=\"data\">16</td>\n",
    "<td class=\"data chart_grey\">$1,863</td>\n",
    "<td class=\"data\">&nbsp;&nbsp;$1,961,089</td>\n",
    "<td class=\"data\">91</td>\n",
    "</tr>\n",
    "<tr bgcolor=\"#ffeeff\">\n",
    "<td class=\"data\">40</td>\n",
    "<td class=\"data\"><b>new</b></td>\n",
    "<td><b><a href=\"/movie/Enas-Allos-Kosmos-(Greece)#tab=box-office\">Worlds Apart</a></b></td>\n",
    "<td><a href=\"/market/distributor/Cinema-Libre\">Cinema Libre</a></td>\n",
    "<td class=\"data\">$25,007</td>\n",
    "<td class=\"data\">&nbsp;</td>\n",
    "<td class=\"data\">1</td>\n",
    "<td class=\"data chart_grey\">$25,007</td>\n",
    "<td class=\"data\">&nbsp;&nbsp;$25,007</td>\n",
    "<td class=\"data\">7</td>\n",
    "</tr>\n",
    "<tr>\n",
    "<td class=\"data\">41</td>\n",
    "<td class=\"data\">(41)</td>\n",
    "<td><b><a href=\"/movie/Sully#tab=box-office\">Sully</a></b></td>\n",
    "<td><a href=\"/market/distributor/Warner-Bros\">Warner Bros.</a></td>\n",
    "<td class=\"data\">$19,427</td>\n",
    "<td class=\"data chart_down\">-18%</td>\n",
    "<td class=\"data\">35</td>\n",
    "<td class=\"data chart_grey\">$555</td>\n",
    "<td class=\"data\">&nbsp;&nbsp;$125,059,249</td>\n",
    "<td class=\"data\">133</td>\n",
    "</tr>\n",
    "<tr bgcolor=\"#ffeeff\">\n",
    "<td class=\"data\">42</td>\n",
    "<td class=\"data\"><b>new</b></td>\n",
    "<td><b><a href=\"/movie/Jeder-stirbt-fur-sich-allein-(Germany)#tab=box-office\">Alone in Berlin</a></b></td>\n",
    "<td><a href=\"/market/distributor/IFC-Films\">IFC Films</a></td>\n",
    "<td class=\"data\">$14,502</td>\n",
    "<td class=\"data\">&nbsp;</td>\n",
    "<td class=\"data\">2</td>\n",
    "<td class=\"data chart_grey\">$7,251</td>\n",
    "<td class=\"data\">&nbsp;&nbsp;$14,502</td>\n",
    "<td class=\"data\">7</td>\n",
    "</tr>\n",
    "<tr>\n",
    "<td class=\"data\">43</td>\n",
    "<td class=\"data\"><b>new</b></td>\n",
    "<td><b><a href=\"/movie/Vince-Giordano-Theres-a-Future-in-the-Past#tab=box-office\">Vince Giordano: There’s a…</a></b></td>\n",
    "<td><a href=\"/market/distributor/First-Run-Features\">First Run Features</a></td>\n",
    "<td class=\"data\">$10,625</td>\n",
    "<td class=\"data\">&nbsp;</td>\n",
    "<td class=\"data\">1</td>\n",
    "<td class=\"data chart_grey\">$10,625</td>\n",
    "<td class=\"data\">&nbsp;&nbsp;$10,625</td>\n",
    "<td class=\"data\">7</td>\n",
    "</tr>\n",
    "<tr bgcolor=\"#ffeeff\">\n",
    "<td class=\"data chart_up\"><b>44</b></td>\n",
    "<td class=\"data\">(46)</td>\n",
    "<td><b><a href=\"/movie/tout-nouveau-testament-Le-(Belgium)#tab=box-office\">The Brand New Testament</a></b></td>\n",
    "<td><a href=\"/market/distributor/Music-Box-Films\">Music Box Films</a></td>\n",
    "<td class=\"data\">$8,835</td>\n",
    "<td class=\"data chart_down\">-31%</td>\n",
    "<td class=\"data\">13</td>\n",
    "<td class=\"data chart_grey\">$680</td>\n",
    "<td class=\"data\">&nbsp;&nbsp;$103,977</td>\n",
    "<td class=\"data\">42</td>\n",
    "</tr>\n",
    "<tr>\n",
    "<td class=\"data chart_down\">45</td>\n",
    "<td class=\"data\">(42)</td>\n",
    "<td><b><a href=\"/movie/Bad-Santa-2#tab=box-office\">Bad Santa 2</a></b></td>\n",
    "<td><a href=\"/market/distributor/Broad-Green-Pictures\">Broad Green Pictures</a></td>\n",
    "<td class=\"data\">$5,777</td>\n",
    "<td class=\"data chart_down\">-74%</td>\n",
    "<td class=\"data\">19</td>\n",
    "<td class=\"data chart_grey\">$304</td>\n",
    "<td class=\"data\">&nbsp;&nbsp;$17,781,710</td>\n",
    "<td class=\"data\">58</td>\n",
    "</tr>\n",
    "<tr bgcolor=\"#ffeeff\">\n",
    "<td class=\"data chart_down\">46</td>\n",
    "<td class=\"data\">(43)</td>\n",
    "<td><b><a href=\"/movie/man-som-heter-Ove-En#tab=box-office\">A Man Called Ove</a></b></td>\n",
    "<td><a href=\"/market/distributor/Music-Box-Films\">Music Box Films</a></td>\n",
    "<td class=\"data\">$5,635</td>\n",
    "<td class=\"data chart_down\">-69%</td>\n",
    "<td class=\"data\">7</td>\n",
    "<td class=\"data chart_grey\">$805</td>\n",
    "<td class=\"data\">&nbsp;&nbsp;$3,375,381</td>\n",
    "<td class=\"data\">112</td>\n",
    "</tr>\n",
    "<tr>\n",
    "<td class=\"data chart_down\">47</td>\n",
    "<td class=\"data\">(45)</td>\n",
    "<td><b><a href=\"/movie/Trilogie-Marseillaise-La-(France)#tab=box-office\">The Marseille Trilogy</a></b></td>\n",
    "<td><a href=\"/market/distributor/Janus-Films\">Janus Films</a></td>\n",
    "<td class=\"data\">$4,173</td>\n",
    "<td class=\"data chart_down\">-71%</td>\n",
    "<td class=\"data\">1</td>\n",
    "<td class=\"data chart_grey\">$4,173</td>\n",
    "<td class=\"data\">&nbsp;&nbsp;$21,513</td>\n",
    "<td class=\"data\">21</td>\n",
    "</tr>\n",
    "<tr bgcolor=\"#ffeeff\">\n",
    "<td class=\"data\">48</td>\n",
    "<td class=\"data\">(48)</td>\n",
    "<td><b><a href=\"/movie/Saisons-Les-(France)#tab=box-office\">Seasons</a></b></td>\n",
    "<td><a href=\"/market/distributor/Music-Box-Films\">Music Box Films</a></td>\n",
    "<td class=\"data\">$3,763</td>\n",
    "<td class=\"data chart_down\">-60%</td>\n",
    "<td class=\"data\">4</td>\n",
    "<td class=\"data chart_grey\">$941</td>\n",
    "<td class=\"data\">&nbsp;&nbsp;$126,431</td>\n",
    "<td class=\"data\">70</td>\n",
    "</tr>\n",
    "<tr>\n",
    "<td class=\"data chart_down\">49</td>\n",
    "<td class=\"data\">(44)</td>\n",
    "<td><b><a href=\"/movie/Tanpopo#tab=box-office\">Tampopo</a></b></td>\n",
    "<td><a href=\"/market/distributor/Janus-Films\">Janus Films</a></td>\n",
    "<td class=\"data\">$2,716</td>\n",
    "<td class=\"data chart_down\">-85%</td>\n",
    "<td class=\"data\">1</td>\n",
    "<td class=\"data chart_grey\">$2,716</td>\n",
    "<td class=\"data\">&nbsp;&nbsp;$203,791</td>\n",
    "<td class=\"data\">91</td>\n",
    "</tr>\n",
    "<tr bgcolor=\"#ffeeff\">\n",
    "<td class=\"data chart_up\"><b>50</b></td>\n",
    "<td class=\"data\">(55)</td>\n",
    "<td><b><a href=\"/movie/Bad-Kids-The-(2016)#tab=box-office\">The Bad Kids</a></b></td>\n",
    "<td><a href=\"/market/distributor/FilmRise\">FilmRise</a></td>\n",
    "<td class=\"data\">$1,863</td>\n",
    "<td class=\"data chart_up\">+34%</td>\n",
    "<td class=\"data\">6</td>\n",
    "<td class=\"data chart_grey\">$311</td>\n",
    "<td class=\"data\">&nbsp;&nbsp;$6,226</td>\n",
    "<td class=\"data\">35</td>\n",
    "</tr>\n",
    "<tr>\n",
    "<td class=\"data\">51</td>\n",
    "<td class=\"data\">(51)</td>\n",
    "<td><b><a href=\"/movie/Harry-Benson-Shoot-First#tab=box-office\">Harry Benson: Shoot First</a></b></td>\n",
    "<td><a href=\"/market/distributor/Magnolia-Pictures\">Magnolia Pictures</a></td>\n",
    "<td class=\"data\">$1,344</td>\n",
    "<td class=\"data chart_down\">-37%</td>\n",
    "<td class=\"data\">5</td>\n",
    "<td class=\"data chart_grey\">$269</td>\n",
    "<td class=\"data\">&nbsp;&nbsp;$17,184</td>\n",
    "<td class=\"data\">42</td>\n",
    "</tr>\n",
    "<tr bgcolor=\"#ffeeff\">\n",
    "<td class=\"data chart_up\"><b>52</b></td>\n",
    "<td class=\"data\">(53)</td>\n",
    "<td><b><a href=\"/movie/Ardennen-D-(Belgium)#tab=box-office\">The Ardennes</a></b></td>\n",
    "<td><a href=\"/market/distributor/Film-Movement\">Film Movement</a></td>\n",
    "<td class=\"data\">$976</td>\n",
    "<td class=\"data chart_down\">-32%</td>\n",
    "<td class=\"data\">2</td>\n",
    "<td class=\"data chart_grey\">$488</td>\n",
    "<td class=\"data\">&nbsp;&nbsp;$2,415</td>\n",
    "<td class=\"data\">14</td>\n",
    "</tr>\n",
    "<tr>\n",
    "<td class=\"data chart_down\">53</td>\n",
    "<td class=\"data\">(50)</td>\n",
    "<td><b><a href=\"/movie/Busanhaeng-(south-korea)#tab=box-office\">Train to Busan</a></b></td>\n",
    "<td><a href=\"/market/distributor/Well-Go-USA\">Well Go USA</a></td>\n",
    "<td class=\"data\">$799</td>\n",
    "<td class=\"data chart_down\">-66%</td>\n",
    "<td class=\"data\">2</td>\n",
    "<td class=\"data chart_grey\">$400</td>\n",
    "<td class=\"data\">&nbsp;&nbsp;$2,128,963</td>\n",
    "<td class=\"data\">182</td>\n",
    "</tr>\n",
    "</tbody></table>\"\"\", header=0)"
   ]
  },
  {
   "cell_type": "code",
   "execution_count": null,
   "metadata": {
    "collapsed": false
   },
   "outputs": [],
   "source": [
    "df.Gross = df.Gross.str.replace(\"[$,]\", \"\").astype(\"int\")"
   ]
  },
  {
   "cell_type": "code",
   "execution_count": null,
   "metadata": {
    "collapsed": false
   },
   "outputs": [],
   "source": [
    "df.head()"
   ]
  },
  {
   "cell_type": "code",
   "execution_count": null,
   "metadata": {
    "collapsed": true
   },
   "outputs": [],
   "source": [
    "gross = df.Gross.values[20:]\n",
    "movie = df.Movie.values[20:]"
   ]
  },
  {
   "cell_type": "code",
   "execution_count": null,
   "metadata": {
    "collapsed": false
   },
   "outputs": [],
   "source": [
    "plt.figure()\n",
    "plt.bar(range(len(gross)), gross)\n",
    "plt.xticks(range(len(gross)), movie, rotation=90)\n",
    "plt.tight_layout()"
   ]
  },
  {
   "cell_type": "code",
   "execution_count": null,
   "metadata": {
    "collapsed": false
   },
   "outputs": [],
   "source": [
    "plt.figure()\n",
    "plt.barh(range(len(gross)), gross)\n",
    "plt.yticks(range(len(gross)), movie, fontsize=8)\n",
    "ax = plt.gca()\n",
    "ax.set_frame_on(False)\n",
    "ax.tick_params(length=0)\n",
    "plt.tight_layout()"
   ]
  },
  {
   "cell_type": "code",
   "execution_count": null,
   "metadata": {
    "collapsed": true
   },
   "outputs": [],
   "source": [
    "asdf.hist()"
   ]
  },
  {
   "cell_type": "code",
   "execution_count": null,
   "metadata": {
    "collapsed": false
   },
   "outputs": [],
   "source": [
    "fig, ax = plt.subplots(1, 3, figsize=(10, 3))\n",
    "ax[0].hist(np.random.normal(size=1000))\n",
    "ax[1].hist(np.random.normal(size=1000), bins=100)\n",
    "ax[2].hist(np.random.normal(size=1000), bins=\"auto\")"
   ]
  },
  {
   "cell_type": "code",
   "execution_count": null,
   "metadata": {
    "collapsed": true
   },
   "outputs": [],
   "source": [
    "from matplotlib.cbook import get_sample_data\n",
    "f = get_sample_data(\"axes_grid/bivariate_normal.npy\", asfileobj=False)"
   ]
  },
  {
   "cell_type": "code",
   "execution_count": null,
   "metadata": {
    "collapsed": false,
    "scrolled": true
   },
   "outputs": [],
   "source": [
    "np.set_printoptions(suppress=True, precision=2)\n",
    "arr = np.load(f)"
   ]
  },
  {
   "cell_type": "code",
   "execution_count": null,
   "metadata": {
    "collapsed": true
   },
   "outputs": [],
   "source": [
    "asdf.imshow(interpolation=)"
   ]
  },
  {
   "cell_type": "code",
   "execution_count": null,
   "metadata": {
    "collapsed": false
   },
   "outputs": [],
   "source": [
    "fig, ax = plt.subplots(2, 2)\n",
    "im1 = ax[0, 0].imshow(arr)\n",
    "ax[0, 1].imshow(arr, interpolation='bilinear')\n",
    "im3 = ax[1, 0].imshow(arr, cmap='gray')\n",
    "im4 = ax[1, 1].imshow(arr, cmap='bwr', vmin=-1.5, vmax=1.5)\n",
    "plt.colorbar(im1, ax=ax[0, 0])\n",
    "plt.colorbar(im3, ax=ax[1, 0])\n",
    "plt.colorbar(im4, ax=ax[1, 1])"
   ]
  },
  {
   "cell_type": "code",
   "execution_count": null,
   "metadata": {
    "collapsed": false
   },
   "outputs": [],
   "source": [
    "x1, y1 = 1 / np.random.uniform(-1000, 100, size=(2, 10000))\n",
    "x2, y2 = np.dot(np.random.uniform(size=(2, 2)), np.random.normal(size=(2, 1000)))\n",
    "x = np.hstack([x1, x2])\n",
    "y = np.hstack([y1, y2])"
   ]
  },
  {
   "cell_type": "code",
   "execution_count": null,
   "metadata": {
    "collapsed": false
   },
   "outputs": [],
   "source": [
    "plt.figure()\n",
    "plt.xlim(-1, 1)\n",
    "plt.ylim(-1, 1)\n",
    "plt.scatter(x, y)"
   ]
  },
  {
   "cell_type": "code",
   "execution_count": null,
   "metadata": {
    "collapsed": false
   },
   "outputs": [],
   "source": [
    "fig, ax = plt.subplots(1, 3, figsize=(10, 4),\n",
    "                       subplot_kw={'xlim': (-1, 1),\n",
    "                                   'ylim': (-1, 1)})\n",
    "ax[0].scatter(x, y)\n",
    "ax[1].scatter(x, y, alpha=.1)\n",
    "ax[2].scatter(x, y, alpha=.01)"
   ]
  },
  {
   "cell_type": "code",
   "execution_count": null,
   "metadata": {
    "collapsed": false
   },
   "outputs": [],
   "source": [
    "plt.figure()\n",
    "plt.hexbin(x, y, bins='log', extent=(-1, 1, -1, 1))\n",
    "plt.colorbar()"
   ]
  },
  {
   "cell_type": "markdown",
   "metadata": {},
   "source": [
    "# Twinx"
   ]
  },
  {
   "cell_type": "code",
   "execution_count": null,
   "metadata": {
    "collapsed": false
   },
   "outputs": [],
   "source": [
    "df = pd.DataFrame({'Math PhDs awareded (US)': {'2000': 1050,\n",
    "  '2001': 1010,\n",
    "  '2002': 919,\n",
    "  '2003': 993,\n",
    "  '2004': 1076,\n",
    "  '2005': 1205,\n",
    "  '2006': 1325,\n",
    "  '2007': 1393,\n",
    "  '2008': 1399,\n",
    "  '2009': 1554},\n",
    " 'Total revenue by arcades (US)': {'2000': 1196000000,\n",
    "  '2001': 1176000000,\n",
    "  '2002': 1269000000,\n",
    "  '2003': 1240000000,\n",
    "  '2004': 1307000000,\n",
    "  '2005': 1435000000,\n",
    "  '2006': 1601000000,\n",
    "  '2007': 1654000000,\n",
    "  '2008': 1803000000,\n",
    "  '2009': 1734000000}})"
   ]
  },
  {
   "cell_type": "code",
   "execution_count": null,
   "metadata": {
    "collapsed": false
   },
   "outputs": [],
   "source": [
    "# could also do df.plot()\n",
    "phds = df['Math PhDs awareded (US)']\n",
    "revenue = df['Total revenue by arcades (US)']\n",
    "years = df.index\n",
    "\n",
    "plt.figure()\n",
    "ax1 = plt.gca()\n",
    "line1, = ax1.plot(years, phds)\n",
    "line2, = ax1.plot(years, revenue, c='r')\n",
    "plt.legend((line1, line2), (\"math PhDs awarded\", \"revenue by arcades\"))"
   ]
  },
  {
   "cell_type": "code",
   "execution_count": null,
   "metadata": {
    "collapsed": false
   },
   "outputs": [],
   "source": [
    "plt.figure()\n",
    "ax1 = plt.gca()\n",
    "line1, = ax1.plot(years, phds)\n",
    "ax2 = ax1.twinx()\n",
    "line2, = ax2.plot(years, revenue, c='r')\n",
    "plt.legend((line1, line2), (\"math PhDs awarded\", \"revenue by arcades\"))\n",
    "ax1.set_ylabel(\"Math PhDs awarded\")\n",
    "ax2.set_ylabel(\"revenue by arcades\")"
   ]
  },
  {
   "cell_type": "code",
   "execution_count": null,
   "metadata": {
    "collapsed": true
   },
   "outputs": [],
   "source": [
    "# DONT!"
   ]
  },
  {
   "cell_type": "code",
   "execution_count": 3,
   "metadata": {},
   "outputs": [
    {
     "data": {
      "image/png": "[encoded data removed]",
      "text/plain": [
       "<Figure size 432x288 with 1 Axes>"
      ]
     },
     "metadata": {},
     "output_type": "display_data"
    }
   ],
   "source": [
    "# This import registers the 3D projection, but is otherwise unused.\n",
    "from mpl_toolkits.mplot3d import Axes3D  # noqa: F401 unused import\n",
    "\n",
    "import matplotlib.pyplot as plt\n",
    "import numpy as np\n",
    "\n",
    "# Fixing random state for reproducibility\n",
    "np.random.seed(19680801)\n",
    "\n",
    "\n",
    "fig = plt.figure()\n",
    "ax = fig.add_subplot(111, projection='3d')\n",
    "x, y = np.random.rand(2, 100) * 4\n",
    "hist, xedges, yedges = np.histogram2d(x, y, bins=4, range=[[0, 4], [0, 4]])\n",
    "\n",
    "# Construct arrays for the anchor positions of the 16 bars.\n",
    "xpos, ypos = np.meshgrid(xedges[:-1] + 0.25, yedges[:-1] + 0.25, indexing=\"ij\")\n",
    "xpos = xpos.ravel()\n",
    "ypos = ypos.ravel()\n",
    "zpos = 0\n",
    "\n",
    "# Construct arrays with the dimensions for the 16 bars.\n",
    "dx = dy = 0.5 * np.ones_like(zpos)\n",
    "dz = hist.ravel()\n",
    "\n",
    "ax.bar3d(xpos, ypos, zpos, dx, dy, dz, color='b', zsort='average')\n",
    "\n",
    "plt.savefig(\"images/3dhist.png\", dpi=300)"
   ]
  },
  {
   "cell_type": "code",
   "execution_count": 7,
   "metadata": {},
   "outputs": [
    {
     "data": {
      "image/png": "[encoded data removed]",
      "text/plain": [
       "<Figure size 432x288 with 1 Axes>"
      ]
     },
     "metadata": {},
     "output_type": "display_data"
    }
   ],
   "source": [
    "import numpy as np\n",
    "import matplotlib.pyplot as plt\n",
    "# This import registers the 3D projection, but is otherwise unused.\n",
    "from mpl_toolkits.mplot3d import Axes3D  # noqa: F401 unused import\n",
    "\n",
    "\n",
    "def lorenz(x, y, z, s=10, r=28, b=2.667):\n",
    "    '''\n",
    "    Given:\n",
    "       x, y, z: a point of interest in three dimensional space\n",
    "       s, r, b: parameters defining the lorenz attractor\n",
    "    Returns:\n",
    "       x_dot, y_dot, z_dot: values of the lorenz attractor's partial\n",
    "           derivatives at the point x, y, z\n",
    "    '''\n",
    "    x_dot = s*(y - x)\n",
    "    y_dot = r*x - y - x*z\n",
    "    z_dot = x*y - b*z\n",
    "    return x_dot, y_dot, z_dot\n",
    "\n",
    "\n",
    "dt = 0.01\n",
    "num_steps = 10000\n",
    "\n",
    "# Need one more for the initial values\n",
    "xs = np.empty((num_steps + 1,))\n",
    "ys = np.empty((num_steps + 1,))\n",
    "zs = np.empty((num_steps + 1,))\n",
    "\n",
    "# Set initial values\n",
    "xs[0], ys[0], zs[0] = (0., 1., 1.05)\n",
    "\n",
    "# Step through \"time\", calculating the partial derivatives at the current point\n",
    "# and using them to estimate the next point\n",
    "for i in range(num_steps):\n",
    "    x_dot, y_dot, z_dot = lorenz(xs[i], ys[i], zs[i])\n",
    "    xs[i + 1] = xs[i] + (x_dot * dt)\n",
    "    ys[i + 1] = ys[i] + (y_dot * dt)\n",
    "    zs[i + 1] = zs[i] + (z_dot * dt)\n",
    "\n",
    "\n",
    "# Plot\n",
    "fig = plt.figure()\n",
    "ax = fig.gca(projection='3d')\n",
    "\n",
    "ax.plot(xs, ys, zs, lw=0.5)\n",
    "ax.set_xlabel(\"X Axis\")\n",
    "ax.set_ylabel(\"Y Axis\")\n",
    "ax.set_zlabel(\"Z Axis\")\n",
    "ax.set_title(\"Lorenz Attractor\")\n",
    "plt.savefig(\"images/lorenz.png\", dpi=300)"
   ]
  },
  {
   "cell_type": "code",
   "execution_count": 8,
   "metadata": {},
   "outputs": [
    {
     "data": {
      "image/png": "[encoded data removed]",
      "text/plain": [
       "<Figure size 432x288 with 1 Axes>"
      ]
     },
     "metadata": {},
     "output_type": "display_data"
    }
   ],
   "source": [
    "from mpl_toolkits.mplot3d import Axes3D \n",
    "import matplotlib.pyplot as plt\n",
    "from sklearn.datasets import load_iris\n",
    "\n",
    "iris = load_iris()\n",
    "X, y = iris.data, iris.target\n",
    "fig = plt.figure()\n",
    "ax = fig.add_subplot(111, projection='3d')\n",
    "ax.scatter(X[:, 1], X[:, 2], X[:, 3], c=y)\n",
    "\n",
    "\n",
    "plt.savefig(\"images/3dscatter.png\", dpi=300)"
   ]
  },
  {
   "cell_type": "code",
   "execution_count": null,
   "metadata": {},
   "outputs": [],
   "source": []
  }
 ],
 "metadata": {
  "anaconda-cloud": {},
  "kernelspec": {
   "display_name": "Python 3",
   "language": "python",
   "name": "python3"
  },
  "language_info": {
   "codemirror_mode": {
    "name": "ipython",
    "version": 3
   },
   "file_extension": ".py",
   "mimetype": "text/x-python",
   "name": "python",
   "nbconvert_exporter": "python",
   "pygments_lexer": "ipython3",
   "version": "3.7.1"
  }
 },
 "nbformat": 4,
 "nbformat_minor": 2
}
