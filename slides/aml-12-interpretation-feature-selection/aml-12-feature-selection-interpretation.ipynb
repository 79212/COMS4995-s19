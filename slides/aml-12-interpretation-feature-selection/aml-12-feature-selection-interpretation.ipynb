{
 "cells": [
  {
   "cell_type": "code",
   "execution_count": 1,
   "metadata": {
    "collapsed": true
   },
   "outputs": [],
   "source": [
    "import numpy as np\n",
    "import matplotlib.pyplot as plt\n",
    "import pandas as pd\n",
    "% matplotlib inline\n",
    "plt.rcParams[\"savefig.dpi\"] = 300\n",
    "plt.rcParams[\"savefig.bbox\"] = 'tight'\n",
    "import warnings\n",
    "from sklearn.exceptions import ConvergenceWarning\n",
    "warnings.simplefilter('ignore', (FutureWarning, ConvergenceWarning))"
   ]
  },
  {
   "cell_type": "markdown",
   "metadata": {},
   "source": [
    "# Feature importances and Model interpretation"
   ]
  },
  {
   "cell_type": "code",
   "execution_count": 4,
   "metadata": {},
   "outputs": [],
   "source": [
    "# generate data from original 2d linear model\n",
    "from sklearn.preprocessing import scale\n",
    "\n",
    "# 35 13 50? \n",
    "rng = np.random.RandomState(13)\n",
    "n_samples = 100000\n",
    "n_informative = 2\n",
    "n_correlated_per_inf = 2\n",
    "n_noise = 4\n",
    "noise_std = .001\n",
    "noise_correlated_std = .4\n",
    "noise_y = .5\n",
    "\n",
    "\n",
    "X_original = rng.uniform(-1, 1, size=(n_samples, n_informative))\n",
    "coef = rng.normal(size=n_informative)\n",
    "y = np.dot(X_original, coef) + rng.normal(scale=noise_y, size=n_samples)\n",
    "\n",
    "correlated_transform = np.zeros((n_correlated_per_inf * n_informative, n_informative))\n",
    "for i in range(n_informative):\n",
    "    correlated_transform[i * n_correlated_per_inf: (i + 1) * n_correlated_per_inf, i] = rng.normal(size=n_correlated_per_inf)\n",
    "X_original += rng.normal(scale=noise_correlated_std, size=X_original.shape)\n",
    "X_correlated = np.dot(X_original, correlated_transform.T)\n",
    "\n",
    "X = np.hstack([X_correlated, np.zeros((n_samples, n_noise))])\n",
    "X += rng.normal(scale=noise_std, size=X.shape)\n",
    "X = scale(X)"
   ]
  },
  {
   "cell_type": "code",
   "execution_count": 5,
   "metadata": {},
   "outputs": [
    {
     "data": {
      "text/plain": [
       "<matplotlib.image.AxesImage at 0x7f9e003d2d68>"
      ]
     },
     "execution_count": 5,
     "metadata": {},
     "output_type": "execute_result"
    },
    {
     "data": {
      "image/png": "[encoded data removed]",
      "text/plain": [
       "<Figure size 432x288 with 1 Axes>"
      ]
     },
     "metadata": {},
     "output_type": "display_data"
    }
   ],
   "source": [
    "plt.imshow(np.cov(X, rowvar=False))"
   ]
  },
  {
   "cell_type": "code",
   "execution_count": 7,
   "metadata": {},
   "outputs": [],
   "source": [
    "from sklearn.model_selection import train_test_split\n",
    "X_train, X_test, y_train, y_test = train_test_split(X, y, random_state=0)"
   ]
  },
  {
   "cell_type": "code",
   "execution_count": 8,
   "metadata": {},
   "outputs": [
    {
     "data": {
      "text/plain": [
       "0.6000790009484334"
      ]
     },
     "execution_count": 8,
     "metadata": {},
     "output_type": "execute_result"
    }
   ],
   "source": [
    "from sklearn.linear_model import LassoCV, RidgeCV, LinearRegression\n",
    "lasso = LassoCV().fit(X_train, y_train)\n",
    "lasso.score(X_test, y_test)"
   ]
  },
  {
   "cell_type": "code",
   "execution_count": 9,
   "metadata": {},
   "outputs": [
    {
     "data": {
      "text/plain": [
       "0.6000920429136388"
      ]
     },
     "execution_count": 9,
     "metadata": {},
     "output_type": "execute_result"
    }
   ],
   "source": [
    "ridge = RidgeCV().fit(X_train, y_train)\n",
    "ridge.score(X_test, y_test)"
   ]
  },
  {
   "cell_type": "code",
   "execution_count": 10,
   "metadata": {},
   "outputs": [
    {
     "data": {
      "text/plain": [
       "0.6000926951310834"
      ]
     },
     "execution_count": 10,
     "metadata": {},
     "output_type": "execute_result"
    }
   ],
   "source": [
    "lr = LinearRegression().fit(X_train, y_train)\n",
    "lr.score(X_test, y_test)"
   ]
  },
  {
   "cell_type": "code",
   "execution_count": 11,
   "metadata": {},
   "outputs": [
    {
     "data": {
      "text/plain": [
       "0.5999582851573628"
      ]
     },
     "execution_count": 11,
     "metadata": {},
     "output_type": "execute_result"
    }
   ],
   "source": [
    "from sklearn.decomposition import PCA\n",
    "pca = PCA(n_components=.99).fit(X_train)\n",
    "X_train_pca = pca.transform(X_train)\n",
    "lr_pca = LinearRegression().fit(X_train_pca, y_train)\n",
    "inverse_lr_pca_coef = pca.inverse_transform(lr_pca.coef_)\n",
    "lr_pca.score(pca.transform(X_test), y_test)"
   ]
  },
  {
   "cell_type": "code",
   "execution_count": 12,
   "metadata": {},
   "outputs": [
    {
     "data": {
      "text/plain": [
       "6"
      ]
     },
     "execution_count": 12,
     "metadata": {},
     "output_type": "execute_result"
    }
   ],
   "source": [
    "pca.n_components_"
   ]
  },
  {
   "cell_type": "code",
   "execution_count": 13,
   "metadata": {},
   "outputs": [
    {
     "data": {
      "text/plain": [
       "<matplotlib.axes._subplots.AxesSubplot at 0x7f9dfea53320>"
      ]
     },
     "execution_count": 13,
     "metadata": {},
     "output_type": "execute_result"
    },
    {
     "data": {
      "image/png": "[encoded data removed]",
      "text/plain": [
       "<Figure size 432x288 with 1 Axes>"
      ]
     },
     "metadata": {},
     "output_type": "display_data"
    }
   ],
   "source": [
    "pd.DataFrame({'lasso': lasso.coef_, 'ridge': ridge.coef_, 'lr_pca': inverse_lr_pca_coef, 'lr': lr.coef_}).plot(kind='barh')"
   ]
  },
  {
   "cell_type": "code",
   "execution_count": 14,
   "metadata": {},
   "outputs": [
    {
     "data": {
      "image/png": "[encoded data removed]",
      "text/plain": [
       "<Figure size 432x288 with 1 Axes>"
      ]
     },
     "metadata": {},
     "output_type": "display_data"
    }
   ],
   "source": [
    "pd.DataFrame({'lasso': lasso.coef_, 'ridge': ridge.coef_, 'lr': lr.coef_}).plot(kind='barh')\n",
    "plt.ylabel(\"feature index\")\n",
    "plt.xlabel(\"coefficient value\")\n",
    "plt.title(\"Linear model with 'enough' data\")\n",
    "plt.savefig(\"images/linear_enough_data.png\")"
   ]
  },
  {
   "cell_type": "code",
   "execution_count": 15,
   "metadata": {},
   "outputs": [
    {
     "data": {
      "text/plain": [
       "(100, 8)"
      ]
     },
     "execution_count": 15,
     "metadata": {},
     "output_type": "execute_result"
    }
   ],
   "source": [
    "# X_test is actually big, not small, but that would be confusing naming, right?\n",
    "X_train_small, X_test_small, y_train_small, y_test_small = train_test_split(X, y, train_size=0.001, random_state=0)\n",
    "X_train_small.shape"
   ]
  },
  {
   "cell_type": "code",
   "execution_count": 16,
   "metadata": {},
   "outputs": [
    {
     "data": {
      "text/plain": [
       "0.5763894728535515"
      ]
     },
     "execution_count": 16,
     "metadata": {},
     "output_type": "execute_result"
    }
   ],
   "source": [
    "lasso = LassoCV().fit(X_train_small, y_train_small)\n",
    "lasso.score(X_test_small, y_test_small)"
   ]
  },
  {
   "cell_type": "code",
   "execution_count": 17,
   "metadata": {},
   "outputs": [
    {
     "data": {
      "text/plain": [
       "0.5739080268984393"
      ]
     },
     "execution_count": 17,
     "metadata": {},
     "output_type": "execute_result"
    }
   ],
   "source": [
    "ridge = RidgeCV().fit(X_train_small, y_train_small)\n",
    "ridge.score(X_test_small, y_test_small)"
   ]
  },
  {
   "cell_type": "code",
   "execution_count": 18,
   "metadata": {},
   "outputs": [
    {
     "data": {
      "text/plain": [
       "0.5628596345876247"
      ]
     },
     "execution_count": 18,
     "metadata": {},
     "output_type": "execute_result"
    }
   ],
   "source": [
    "lr = LinearRegression().fit(X_train_small, y_train_small)\n",
    "lr.score(X_test_small, y_test_small)"
   ]
  },
  {
   "cell_type": "code",
   "execution_count": 19,
   "metadata": {},
   "outputs": [
    {
     "data": {
      "text/plain": [
       "0.5722794583672836"
      ]
     },
     "execution_count": 19,
     "metadata": {},
     "output_type": "execute_result"
    }
   ],
   "source": [
    "from sklearn.decomposition import PCA\n",
    "pca = PCA(n_components=.99).fit(X_train_small)\n",
    "X_train_pca = pca.transform(X_train_small)\n",
    "lr_pca = LinearRegression().fit(X_train_pca, y_train_small)\n",
    "inverse_lr_pca_coef = pca.inverse_transform(lr_pca.coef_)\n",
    "lr_pca.score(pca.transform(X_test_small), y_test_small)"
   ]
  },
  {
   "cell_type": "code",
   "execution_count": 20,
   "metadata": {},
   "outputs": [
    {
     "data": {
      "text/plain": [
       "<matplotlib.axes._subplots.AxesSubplot at 0x7f9dfe8ced68>"
      ]
     },
     "execution_count": 20,
     "metadata": {},
     "output_type": "execute_result"
    },
    {
     "data": {
      "image/png": "[encoded data removed]",
      "text/plain": [
       "<Figure size 432x288 with 1 Axes>"
      ]
     },
     "metadata": {},
     "output_type": "display_data"
    }
   ],
   "source": [
    "pd.DataFrame({'lasso': lasso.coef_, 'ridge': ridge.coef_, 'lr_pca': inverse_lr_pca_coef, 'lr': lr.coef_}).plot(kind='barh')"
   ]
  },
  {
   "cell_type": "code",
   "execution_count": 21,
   "metadata": {},
   "outputs": [
    {
     "data": {
      "image/png": "[encoded data removed]",
      "text/plain": [
       "<Figure size 432x288 with 1 Axes>"
      ]
     },
     "metadata": {},
     "output_type": "display_data"
    }
   ],
   "source": [
    "pd.DataFrame({'lasso': lasso.coef_, 'ridge': ridge.coef_}).plot(kind='barh')\n",
    "plt.ylabel(\"feature index\")\n",
    "plt.xlabel(\"coefficient value\")\n",
    "plt.title(\"Linear model with 100 samples\")\n",
    "plt.savefig(\"images/linear_less_data.png\")"
   ]
  },
  {
   "cell_type": "code",
   "execution_count": null,
   "metadata": {},
   "outputs": [],
   "source": [
    "from sklearn.tree import DecisionTreeRegressor\n",
    "from sklearn.model_selection import GridSearchCV\n",
    "\n",
    "param_grid = {'max_leaf_nodes': range(2, 40, 5)}\n",
    "grid = GridSearchCV(DecisionTreeRegressor(), param_grid, cv=10)\n",
    "grid.fit(X_train, y_train)\n",
    "grid.score(X_test, y_test)"
   ]
  },
  {
   "cell_type": "code",
   "execution_count": 28,
   "metadata": {},
   "outputs": [
    {
     "data": {
      "text/html": [
       "<div>\n",
       "<style scoped>\n",
       "    .dataframe tbody tr th:only-of-type {\n",
       "        vertical-align: middle;\n",
       "    }\n",
       "\n",
       "    .dataframe tbody tr th {\n",
       "        vertical-align: top;\n",
       "    }\n",
       "\n",
       "    .dataframe thead th {\n",
       "        text-align: right;\n",
       "    }\n",
       "</style>\n",
       "<table border=\"1\" class=\"dataframe\">\n",
       "  <thead>\n",
       "    <tr style=\"text-align: right;\">\n",
       "      <th></th>\n",
       "      <th>mean_fit_time</th>\n",
       "      <th>std_fit_time</th>\n",
       "      <th>mean_score_time</th>\n",
       "      <th>std_score_time</th>\n",
       "      <th>param_max_leaf_nodes</th>\n",
       "      <th>params</th>\n",
       "      <th>split0_test_score</th>\n",
       "      <th>split1_test_score</th>\n",
       "      <th>split2_test_score</th>\n",
       "      <th>split3_test_score</th>\n",
       "      <th>split4_test_score</th>\n",
       "      <th>split5_test_score</th>\n",
       "      <th>split6_test_score</th>\n",
       "      <th>split7_test_score</th>\n",
       "      <th>split8_test_score</th>\n",
       "      <th>split9_test_score</th>\n",
       "      <th>mean_test_score</th>\n",
       "      <th>std_test_score</th>\n",
       "      <th>rank_test_score</th>\n",
       "    </tr>\n",
       "  </thead>\n",
       "  <tbody>\n",
       "    <tr>\n",
       "      <th>0</th>\n",
       "      <td>0.143135</td>\n",
       "      <td>0.015004</td>\n",
       "      <td>0.000681</td>\n",
       "      <td>0.000045</td>\n",
       "      <td>2</td>\n",
       "      <td>{'max_leaf_nodes': 2}</td>\n",
       "      <td>0.427239</td>\n",
       "      <td>0.416085</td>\n",
       "      <td>0.424098</td>\n",
       "      <td>0.433173</td>\n",
       "      <td>0.432156</td>\n",
       "      <td>0.422446</td>\n",
       "      <td>0.426663</td>\n",
       "      <td>0.435429</td>\n",
       "      <td>0.438946</td>\n",
       "      <td>0.416820</td>\n",
       "      <td>0.427306</td>\n",
       "      <td>0.007277</td>\n",
       "      <td>18</td>\n",
       "    </tr>\n",
       "    <tr>\n",
       "      <th>1</th>\n",
       "      <td>0.167587</td>\n",
       "      <td>0.013031</td>\n",
       "      <td>0.000703</td>\n",
       "      <td>0.000045</td>\n",
       "      <td>3</td>\n",
       "      <td>{'max_leaf_nodes': 3}</td>\n",
       "      <td>0.476060</td>\n",
       "      <td>0.463983</td>\n",
       "      <td>0.471775</td>\n",
       "      <td>0.480641</td>\n",
       "      <td>0.478602</td>\n",
       "      <td>0.470345</td>\n",
       "      <td>0.482485</td>\n",
       "      <td>0.481514</td>\n",
       "      <td>0.488788</td>\n",
       "      <td>0.470508</td>\n",
       "      <td>0.476470</td>\n",
       "      <td>0.006975</td>\n",
       "      <td>17</td>\n",
       "    </tr>\n",
       "    <tr>\n",
       "      <th>2</th>\n",
       "      <td>0.200635</td>\n",
       "      <td>0.006756</td>\n",
       "      <td>0.000747</td>\n",
       "      <td>0.000099</td>\n",
       "      <td>4</td>\n",
       "      <td>{'max_leaf_nodes': 4}</td>\n",
       "      <td>0.520224</td>\n",
       "      <td>0.506497</td>\n",
       "      <td>0.517705</td>\n",
       "      <td>0.525629</td>\n",
       "      <td>0.521397</td>\n",
       "      <td>0.514983</td>\n",
       "      <td>0.525306</td>\n",
       "      <td>0.528097</td>\n",
       "      <td>0.530995</td>\n",
       "      <td>0.515789</td>\n",
       "      <td>0.520662</td>\n",
       "      <td>0.006888</td>\n",
       "      <td>16</td>\n",
       "    </tr>\n",
       "    <tr>\n",
       "      <th>3</th>\n",
       "      <td>0.212318</td>\n",
       "      <td>0.015436</td>\n",
       "      <td>0.000750</td>\n",
       "      <td>0.000064</td>\n",
       "      <td>5</td>\n",
       "      <td>{'max_leaf_nodes': 5}</td>\n",
       "      <td>0.535542</td>\n",
       "      <td>0.522571</td>\n",
       "      <td>0.530112</td>\n",
       "      <td>0.538828</td>\n",
       "      <td>0.532202</td>\n",
       "      <td>0.529558</td>\n",
       "      <td>0.540946</td>\n",
       "      <td>0.538715</td>\n",
       "      <td>0.544074</td>\n",
       "      <td>0.529259</td>\n",
       "      <td>0.534181</td>\n",
       "      <td>0.006233</td>\n",
       "      <td>15</td>\n",
       "    </tr>\n",
       "    <tr>\n",
       "      <th>4</th>\n",
       "      <td>0.232033</td>\n",
       "      <td>0.023365</td>\n",
       "      <td>0.000766</td>\n",
       "      <td>0.000059</td>\n",
       "      <td>6</td>\n",
       "      <td>{'max_leaf_nodes': 6}</td>\n",
       "      <td>0.548416</td>\n",
       "      <td>0.535974</td>\n",
       "      <td>0.541404</td>\n",
       "      <td>0.553063</td>\n",
       "      <td>0.543889</td>\n",
       "      <td>0.543404</td>\n",
       "      <td>0.551852</td>\n",
       "      <td>0.552494</td>\n",
       "      <td>0.552837</td>\n",
       "      <td>0.540676</td>\n",
       "      <td>0.546401</td>\n",
       "      <td>0.005818</td>\n",
       "      <td>14</td>\n",
       "    </tr>\n",
       "    <tr>\n",
       "      <th>5</th>\n",
       "      <td>0.241055</td>\n",
       "      <td>0.014526</td>\n",
       "      <td>0.000812</td>\n",
       "      <td>0.000109</td>\n",
       "      <td>7</td>\n",
       "      <td>{'max_leaf_nodes': 7}</td>\n",
       "      <td>0.563577</td>\n",
       "      <td>0.547196</td>\n",
       "      <td>0.552169</td>\n",
       "      <td>0.562465</td>\n",
       "      <td>0.557129</td>\n",
       "      <td>0.556122</td>\n",
       "      <td>0.562720</td>\n",
       "      <td>0.564814</td>\n",
       "      <td>0.564532</td>\n",
       "      <td>0.553686</td>\n",
       "      <td>0.558441</td>\n",
       "      <td>0.005780</td>\n",
       "      <td>13</td>\n",
       "    </tr>\n",
       "    <tr>\n",
       "      <th>6</th>\n",
       "      <td>0.261824</td>\n",
       "      <td>0.020113</td>\n",
       "      <td>0.000816</td>\n",
       "      <td>0.000060</td>\n",
       "      <td>8</td>\n",
       "      <td>{'max_leaf_nodes': 8}</td>\n",
       "      <td>0.573435</td>\n",
       "      <td>0.561322</td>\n",
       "      <td>0.562850</td>\n",
       "      <td>0.578803</td>\n",
       "      <td>0.569094</td>\n",
       "      <td>0.565832</td>\n",
       "      <td>0.574245</td>\n",
       "      <td>0.574668</td>\n",
       "      <td>0.577038</td>\n",
       "      <td>0.562807</td>\n",
       "      <td>0.570009</td>\n",
       "      <td>0.006124</td>\n",
       "      <td>12</td>\n",
       "    </tr>\n",
       "    <tr>\n",
       "      <th>7</th>\n",
       "      <td>0.264866</td>\n",
       "      <td>0.020440</td>\n",
       "      <td>0.000840</td>\n",
       "      <td>0.000143</td>\n",
       "      <td>9</td>\n",
       "      <td>{'max_leaf_nodes': 9}</td>\n",
       "      <td>0.576855</td>\n",
       "      <td>0.565628</td>\n",
       "      <td>0.567080</td>\n",
       "      <td>0.582086</td>\n",
       "      <td>0.572720</td>\n",
       "      <td>0.569823</td>\n",
       "      <td>0.578141</td>\n",
       "      <td>0.578839</td>\n",
       "      <td>0.580066</td>\n",
       "      <td>0.565893</td>\n",
       "      <td>0.573713</td>\n",
       "      <td>0.005940</td>\n",
       "      <td>11</td>\n",
       "    </tr>\n",
       "    <tr>\n",
       "      <th>8</th>\n",
       "      <td>0.265258</td>\n",
       "      <td>0.020472</td>\n",
       "      <td>0.000814</td>\n",
       "      <td>0.000076</td>\n",
       "      <td>10</td>\n",
       "      <td>{'max_leaf_nodes': 10}</td>\n",
       "      <td>0.580660</td>\n",
       "      <td>0.569827</td>\n",
       "      <td>0.570548</td>\n",
       "      <td>0.585047</td>\n",
       "      <td>0.575657</td>\n",
       "      <td>0.574786</td>\n",
       "      <td>0.581582</td>\n",
       "      <td>0.582274</td>\n",
       "      <td>0.584201</td>\n",
       "      <td>0.568994</td>\n",
       "      <td>0.577358</td>\n",
       "      <td>0.005843</td>\n",
       "      <td>10</td>\n",
       "    </tr>\n",
       "    <tr>\n",
       "      <th>9</th>\n",
       "      <td>0.274208</td>\n",
       "      <td>0.019793</td>\n",
       "      <td>0.000813</td>\n",
       "      <td>0.000076</td>\n",
       "      <td>11</td>\n",
       "      <td>{'max_leaf_nodes': 11}</td>\n",
       "      <td>0.583955</td>\n",
       "      <td>0.573281</td>\n",
       "      <td>0.573480</td>\n",
       "      <td>0.588050</td>\n",
       "      <td>0.578927</td>\n",
       "      <td>0.576416</td>\n",
       "      <td>0.584593</td>\n",
       "      <td>0.585620</td>\n",
       "      <td>0.586661</td>\n",
       "      <td>0.571687</td>\n",
       "      <td>0.580267</td>\n",
       "      <td>0.005895</td>\n",
       "      <td>9</td>\n",
       "    </tr>\n",
       "    <tr>\n",
       "      <th>10</th>\n",
       "      <td>0.291740</td>\n",
       "      <td>0.021513</td>\n",
       "      <td>0.001002</td>\n",
       "      <td>0.000382</td>\n",
       "      <td>12</td>\n",
       "      <td>{'max_leaf_nodes': 12}</td>\n",
       "      <td>0.585838</td>\n",
       "      <td>0.576982</td>\n",
       "      <td>0.575814</td>\n",
       "      <td>0.591551</td>\n",
       "      <td>0.582898</td>\n",
       "      <td>0.579567</td>\n",
       "      <td>0.587773</td>\n",
       "      <td>0.589579</td>\n",
       "      <td>0.589797</td>\n",
       "      <td>0.573548</td>\n",
       "      <td>0.583335</td>\n",
       "      <td>0.006175</td>\n",
       "      <td>8</td>\n",
       "    </tr>\n",
       "    <tr>\n",
       "      <th>11</th>\n",
       "      <td>0.301285</td>\n",
       "      <td>0.013842</td>\n",
       "      <td>0.000852</td>\n",
       "      <td>0.000033</td>\n",
       "      <td>13</td>\n",
       "      <td>{'max_leaf_nodes': 13}</td>\n",
       "      <td>0.588064</td>\n",
       "      <td>0.579807</td>\n",
       "      <td>0.578886</td>\n",
       "      <td>0.593520</td>\n",
       "      <td>0.586948</td>\n",
       "      <td>0.582029</td>\n",
       "      <td>0.590199</td>\n",
       "      <td>0.593327</td>\n",
       "      <td>0.592079</td>\n",
       "      <td>0.574957</td>\n",
       "      <td>0.585982</td>\n",
       "      <td>0.006298</td>\n",
       "      <td>7</td>\n",
       "    </tr>\n",
       "    <tr>\n",
       "      <th>12</th>\n",
       "      <td>0.323839</td>\n",
       "      <td>0.016715</td>\n",
       "      <td>0.000938</td>\n",
       "      <td>0.000147</td>\n",
       "      <td>14</td>\n",
       "      <td>{'max_leaf_nodes': 14}</td>\n",
       "      <td>0.592095</td>\n",
       "      <td>0.584263</td>\n",
       "      <td>0.580843</td>\n",
       "      <td>0.597229</td>\n",
       "      <td>0.590392</td>\n",
       "      <td>0.583476</td>\n",
       "      <td>0.591557</td>\n",
       "      <td>0.596085</td>\n",
       "      <td>0.595829</td>\n",
       "      <td>0.577061</td>\n",
       "      <td>0.588883</td>\n",
       "      <td>0.006667</td>\n",
       "      <td>6</td>\n",
       "    </tr>\n",
       "    <tr>\n",
       "      <th>13</th>\n",
       "      <td>0.322147</td>\n",
       "      <td>0.019284</td>\n",
       "      <td>0.000923</td>\n",
       "      <td>0.000122</td>\n",
       "      <td>15</td>\n",
       "      <td>{'max_leaf_nodes': 15}</td>\n",
       "      <td>0.594856</td>\n",
       "      <td>0.588757</td>\n",
       "      <td>0.584188</td>\n",
       "      <td>0.598338</td>\n",
       "      <td>0.593209</td>\n",
       "      <td>0.587146</td>\n",
       "      <td>0.594303</td>\n",
       "      <td>0.598788</td>\n",
       "      <td>0.599478</td>\n",
       "      <td>0.579030</td>\n",
       "      <td>0.591809</td>\n",
       "      <td>0.006481</td>\n",
       "      <td>5</td>\n",
       "    </tr>\n",
       "    <tr>\n",
       "      <th>14</th>\n",
       "      <td>0.314241</td>\n",
       "      <td>0.011867</td>\n",
       "      <td>0.000878</td>\n",
       "      <td>0.000049</td>\n",
       "      <td>16</td>\n",
       "      <td>{'max_leaf_nodes': 16}</td>\n",
       "      <td>0.597555</td>\n",
       "      <td>0.591269</td>\n",
       "      <td>0.588141</td>\n",
       "      <td>0.599423</td>\n",
       "      <td>0.595732</td>\n",
       "      <td>0.589917</td>\n",
       "      <td>0.596653</td>\n",
       "      <td>0.600724</td>\n",
       "      <td>0.601599</td>\n",
       "      <td>0.583089</td>\n",
       "      <td>0.594410</td>\n",
       "      <td>0.005752</td>\n",
       "      <td>4</td>\n",
       "    </tr>\n",
       "    <tr>\n",
       "      <th>15</th>\n",
       "      <td>0.312961</td>\n",
       "      <td>0.003566</td>\n",
       "      <td>0.000864</td>\n",
       "      <td>0.000017</td>\n",
       "      <td>17</td>\n",
       "      <td>{'max_leaf_nodes': 17}</td>\n",
       "      <td>0.598644</td>\n",
       "      <td>0.591464</td>\n",
       "      <td>0.588370</td>\n",
       "      <td>0.600251</td>\n",
       "      <td>0.596623</td>\n",
       "      <td>0.591155</td>\n",
       "      <td>0.597465</td>\n",
       "      <td>0.601158</td>\n",
       "      <td>0.602462</td>\n",
       "      <td>0.583445</td>\n",
       "      <td>0.595104</td>\n",
       "      <td>0.005898</td>\n",
       "      <td>3</td>\n",
       "    </tr>\n",
       "    <tr>\n",
       "      <th>16</th>\n",
       "      <td>0.324712</td>\n",
       "      <td>0.007363</td>\n",
       "      <td>0.000880</td>\n",
       "      <td>0.000031</td>\n",
       "      <td>18</td>\n",
       "      <td>{'max_leaf_nodes': 18}</td>\n",
       "      <td>0.599226</td>\n",
       "      <td>0.592409</td>\n",
       "      <td>0.589297</td>\n",
       "      <td>0.601449</td>\n",
       "      <td>0.597731</td>\n",
       "      <td>0.591980</td>\n",
       "      <td>0.598056</td>\n",
       "      <td>0.601912</td>\n",
       "      <td>0.603186</td>\n",
       "      <td>0.584312</td>\n",
       "      <td>0.595956</td>\n",
       "      <td>0.005869</td>\n",
       "      <td>2</td>\n",
       "    </tr>\n",
       "    <tr>\n",
       "      <th>17</th>\n",
       "      <td>0.335440</td>\n",
       "      <td>0.015499</td>\n",
       "      <td>0.000991</td>\n",
       "      <td>0.000178</td>\n",
       "      <td>19</td>\n",
       "      <td>{'max_leaf_nodes': 19}</td>\n",
       "      <td>0.600493</td>\n",
       "      <td>0.592990</td>\n",
       "      <td>0.590504</td>\n",
       "      <td>0.602935</td>\n",
       "      <td>0.598827</td>\n",
       "      <td>0.592538</td>\n",
       "      <td>0.599068</td>\n",
       "      <td>0.602322</td>\n",
       "      <td>0.602922</td>\n",
       "      <td>0.585031</td>\n",
       "      <td>0.596763</td>\n",
       "      <td>0.005825</td>\n",
       "      <td>1</td>\n",
       "    </tr>\n",
       "  </tbody>\n",
       "</table>\n",
       "</div>"
      ],
      "text/plain": [
       "    mean_fit_time  std_fit_time  mean_score_time  std_score_time  \\\n",
       "0        0.143135      0.015004         0.000681        0.000045   \n",
       "1        0.167587      0.013031         0.000703        0.000045   \n",
       "2        0.200635      0.006756         0.000747        0.000099   \n",
       "3        0.212318      0.015436         0.000750        0.000064   \n",
       "4        0.232033      0.023365         0.000766        0.000059   \n",
       "5        0.241055      0.014526         0.000812        0.000109   \n",
       "6        0.261824      0.020113         0.000816        0.000060   \n",
       "7        0.264866      0.020440         0.000840        0.000143   \n",
       "8        0.265258      0.020472         0.000814        0.000076   \n",
       "9        0.274208      0.019793         0.000813        0.000076   \n",
       "10       0.291740      0.021513         0.001002        0.000382   \n",
       "11       0.301285      0.013842         0.000852        0.000033   \n",
       "12       0.323839      0.016715         0.000938        0.000147   \n",
       "13       0.322147      0.019284         0.000923        0.000122   \n",
       "14       0.314241      0.011867         0.000878        0.000049   \n",
       "15       0.312961      0.003566         0.000864        0.000017   \n",
       "16       0.324712      0.007363         0.000880        0.000031   \n",
       "17       0.335440      0.015499         0.000991        0.000178   \n",
       "\n",
       "   param_max_leaf_nodes                  params  split0_test_score  \\\n",
       "0                     2   {'max_leaf_nodes': 2}           0.427239   \n",
       "1                     3   {'max_leaf_nodes': 3}           0.476060   \n",
       "2                     4   {'max_leaf_nodes': 4}           0.520224   \n",
       "3                     5   {'max_leaf_nodes': 5}           0.535542   \n",
       "4                     6   {'max_leaf_nodes': 6}           0.548416   \n",
       "5                     7   {'max_leaf_nodes': 7}           0.563577   \n",
       "6                     8   {'max_leaf_nodes': 8}           0.573435   \n",
       "7                     9   {'max_leaf_nodes': 9}           0.576855   \n",
       "8                    10  {'max_leaf_nodes': 10}           0.580660   \n",
       "9                    11  {'max_leaf_nodes': 11}           0.583955   \n",
       "10                   12  {'max_leaf_nodes': 12}           0.585838   \n",
       "11                   13  {'max_leaf_nodes': 13}           0.588064   \n",
       "12                   14  {'max_leaf_nodes': 14}           0.592095   \n",
       "13                   15  {'max_leaf_nodes': 15}           0.594856   \n",
       "14                   16  {'max_leaf_nodes': 16}           0.597555   \n",
       "15                   17  {'max_leaf_nodes': 17}           0.598644   \n",
       "16                   18  {'max_leaf_nodes': 18}           0.599226   \n",
       "17                   19  {'max_leaf_nodes': 19}           0.600493   \n",
       "\n",
       "    split1_test_score  split2_test_score  split3_test_score  \\\n",
       "0            0.416085           0.424098           0.433173   \n",
       "1            0.463983           0.471775           0.480641   \n",
       "2            0.506497           0.517705           0.525629   \n",
       "3            0.522571           0.530112           0.538828   \n",
       "4            0.535974           0.541404           0.553063   \n",
       "5            0.547196           0.552169           0.562465   \n",
       "6            0.561322           0.562850           0.578803   \n",
       "7            0.565628           0.567080           0.582086   \n",
       "8            0.569827           0.570548           0.585047   \n",
       "9            0.573281           0.573480           0.588050   \n",
       "10           0.576982           0.575814           0.591551   \n",
       "11           0.579807           0.578886           0.593520   \n",
       "12           0.584263           0.580843           0.597229   \n",
       "13           0.588757           0.584188           0.598338   \n",
       "14           0.591269           0.588141           0.599423   \n",
       "15           0.591464           0.588370           0.600251   \n",
       "16           0.592409           0.589297           0.601449   \n",
       "17           0.592990           0.590504           0.602935   \n",
       "\n",
       "    split4_test_score  split5_test_score  split6_test_score  \\\n",
       "0            0.432156           0.422446           0.426663   \n",
       "1            0.478602           0.470345           0.482485   \n",
       "2            0.521397           0.514983           0.525306   \n",
       "3            0.532202           0.529558           0.540946   \n",
       "4            0.543889           0.543404           0.551852   \n",
       "5            0.557129           0.556122           0.562720   \n",
       "6            0.569094           0.565832           0.574245   \n",
       "7            0.572720           0.569823           0.578141   \n",
       "8            0.575657           0.574786           0.581582   \n",
       "9            0.578927           0.576416           0.584593   \n",
       "10           0.582898           0.579567           0.587773   \n",
       "11           0.586948           0.582029           0.590199   \n",
       "12           0.590392           0.583476           0.591557   \n",
       "13           0.593209           0.587146           0.594303   \n",
       "14           0.595732           0.589917           0.596653   \n",
       "15           0.596623           0.591155           0.597465   \n",
       "16           0.597731           0.591980           0.598056   \n",
       "17           0.598827           0.592538           0.599068   \n",
       "\n",
       "    split7_test_score  split8_test_score  split9_test_score  mean_test_score  \\\n",
       "0            0.435429           0.438946           0.416820         0.427306   \n",
       "1            0.481514           0.488788           0.470508         0.476470   \n",
       "2            0.528097           0.530995           0.515789         0.520662   \n",
       "3            0.538715           0.544074           0.529259         0.534181   \n",
       "4            0.552494           0.552837           0.540676         0.546401   \n",
       "5            0.564814           0.564532           0.553686         0.558441   \n",
       "6            0.574668           0.577038           0.562807         0.570009   \n",
       "7            0.578839           0.580066           0.565893         0.573713   \n",
       "8            0.582274           0.584201           0.568994         0.577358   \n",
       "9            0.585620           0.586661           0.571687         0.580267   \n",
       "10           0.589579           0.589797           0.573548         0.583335   \n",
       "11           0.593327           0.592079           0.574957         0.585982   \n",
       "12           0.596085           0.595829           0.577061         0.588883   \n",
       "13           0.598788           0.599478           0.579030         0.591809   \n",
       "14           0.600724           0.601599           0.583089         0.594410   \n",
       "15           0.601158           0.602462           0.583445         0.595104   \n",
       "16           0.601912           0.603186           0.584312         0.595956   \n",
       "17           0.602322           0.602922           0.585031         0.596763   \n",
       "\n",
       "    std_test_score  rank_test_score  \n",
       "0         0.007277               18  \n",
       "1         0.006975               17  \n",
       "2         0.006888               16  \n",
       "3         0.006233               15  \n",
       "4         0.005818               14  \n",
       "5         0.005780               13  \n",
       "6         0.006124               12  \n",
       "7         0.005940               11  \n",
       "8         0.005843               10  \n",
       "9         0.005895                9  \n",
       "10        0.006175                8  \n",
       "11        0.006298                7  \n",
       "12        0.006667                6  \n",
       "13        0.006481                5  \n",
       "14        0.005752                4  \n",
       "15        0.005898                3  \n",
       "16        0.005869                2  \n",
       "17        0.005825                1  "
      ]
     },
     "execution_count": 28,
     "metadata": {},
     "output_type": "execute_result"
    }
   ],
   "source": [
    "res"
   ]
  },
  {
   "cell_type": "code",
   "execution_count": 30,
   "metadata": {},
   "outputs": [
    {
     "data": {
      "text/plain": [
       "<matplotlib.axes._subplots.AxesSubplot at 0x7f9dfe226208>"
      ]
     },
     "execution_count": 30,
     "metadata": {},
     "output_type": "execute_result"
    },
    {
     "data": {
      "image/png": "[encoded data removed]",
      "text/plain": [
       "<Figure size 432x288 with 1 Axes>"
      ]
     },
     "metadata": {},
     "output_type": "display_data"
    }
   ],
   "source": [
    "res = pd.DataFrame(grid.cv_results_)\n",
    "res.plot(x='param_max_leaf_nodes', y='mean_test_score')"
   ]
  },
  {
   "cell_type": "markdown",
   "metadata": {},
   "source": [
    "# Feature Selection"
   ]
  },
  {
   "cell_type": "code",
   "execution_count": 7,
   "metadata": {
    "collapsed": true
   },
   "outputs": [],
   "source": [
    "from sklearn.datasets import load_boston\n",
    "from sklearn.model_selection import train_test_split"
   ]
  },
  {
   "cell_type": "code",
   "execution_count": 8,
   "metadata": {
    "collapsed": true
   },
   "outputs": [],
   "source": [
    "boston = load_boston()\n",
    "X, y = boston.data, boston.target\n",
    "X_train, X_test, y_train, y_test = train_test_split(X, y, random_state=0)"
   ]
  },
  {
   "cell_type": "code",
   "execution_count": 9,
   "metadata": {
    "collapsed": true
   },
   "outputs": [],
   "source": [
    "from sklearn.preprocessing import scale\n",
    "X_train_scaled = scale(X_train)\n",
    "cov = np.cov(X_train_scaled, rowvar=False)"
   ]
  },
  {
   "cell_type": "code",
   "execution_count": 10,
   "metadata": {
    "collapsed": false
   },
   "outputs": [
    {
     "data": {
      "image/png": "[encoded data removed]",
      "text/plain": [
       "<Figure size 800x800 with 1 Axes>"
      ]
     },
     "metadata": {},
     "output_type": "display_data"
    }
   ],
   "source": [
    "plt.figure(figsize=(8, 8), dpi=100)\n",
    "plt.imshow(cov)\n",
    "plt.xticks(range(X.shape[1]), boston.feature_names)\n",
    "plt.yticks(range(X.shape[1]), boston.feature_names);"
   ]
  },
  {
   "cell_type": "code",
   "execution_count": 11,
   "metadata": {
    "collapsed": false
   },
   "outputs": [],
   "source": [
    "from scipy.cluster import hierarchy\n",
    "order = np.array(hierarchy.dendrogram(hierarchy.ward(cov), no_plot=True)['ivl'], dtype=\"int\")"
   ]
  },
  {
   "cell_type": "code",
   "execution_count": 12,
   "metadata": {
    "collapsed": false
   },
   "outputs": [
    {
     "data": {
      "image/png": "[encoded data removed]",
      "text/plain": [
       "<Figure size 800x800 with 1 Axes>"
      ]
     },
     "metadata": {},
     "output_type": "display_data"
    }
   ],
   "source": [
    "plt.figure(figsize=(8, 8), dpi=100)\n",
    "plt.imshow(cov[order, :][:, order])\n",
    "plt.xticks(range(X.shape[1]), boston.feature_names[order])\n",
    "plt.yticks(range(X.shape[1]), boston.feature_names[order]);"
   ]
  },
  {
   "cell_type": "markdown",
   "metadata": {},
   "source": [
    "# Supervised feature selection"
   ]
  },
  {
   "cell_type": "code",
   "execution_count": 13,
   "metadata": {
    "collapsed": true
   },
   "outputs": [],
   "source": [
    "from sklearn.feature_selection import f_regression\n",
    "f_values, p_values = f_regression(X, y)"
   ]
  },
  {
   "cell_type": "code",
   "execution_count": 14,
   "metadata": {
    "collapsed": false
   },
   "outputs": [
    {
     "data": {
      "image/png": "[encoded data removed]",
      "text/plain": [
       "<Figure size 432x288 with 2 Axes>"
      ]
     },
     "metadata": {},
     "output_type": "display_data"
    }
   ],
   "source": [
    "fig, ax = plt.subplots(2, 1)\n",
    "ax[0].set_title(\"F values\")\n",
    "ax[0].plot(f_values, 'o')\n",
    "ax[1].set_title(\"p values\")\n",
    "ax[1].plot(p_values, 'o')\n",
    "ax[1].set_yscale(\"log\")\n",
    "\n",
    "ax[1].set_xticks(range(X.shape[1]))\n",
    "ax[1].set_xticklabels(boston.feature_names, rotation=50);\n",
    "fig.tight_layout()"
   ]
  },
  {
   "cell_type": "code",
   "execution_count": 15,
   "metadata": {
    "collapsed": false
   },
   "outputs": [
    {
     "name": "stdout",
     "output_type": "stream",
     "text": [
      "(379, 13)\n",
      "(379, 2)\n"
     ]
    }
   ],
   "source": [
    "from sklearn.feature_selection import SelectKBest, SelectPercentile, SelectFpr\n",
    "from sklearn.linear_model import RidgeCV\n",
    "\n",
    "select = SelectKBest(k=2, score_func=f_regression)\n",
    "select.fit(X_train, y_train)\n",
    "print(X_train.shape)\n",
    "print(select.transform(X_train).shape)"
   ]
  },
  {
   "cell_type": "code",
   "execution_count": 19,
   "metadata": {
    "collapsed": true
   },
   "outputs": [],
   "source": [
    "from sklearn.pipeline import make_pipeline\n",
    "from sklearn.preprocessing import StandardScaler\n",
    "all_features = make_pipeline(StandardScaler(), RidgeCV())\n",
    "select_2 = make_pipeline(StandardScaler(), SelectKBest(k=2, score_func=f_regression), RidgeCV())"
   ]
  },
  {
   "cell_type": "code",
   "execution_count": 21,
   "metadata": {
    "collapsed": false
   },
   "outputs": [
    {
     "data": {
      "text/plain": [
       "0.71795885107509"
      ]
     },
     "execution_count": 21,
     "metadata": {},
     "output_type": "execute_result"
    }
   ],
   "source": [
    "from sklearn.model_selection import cross_val_score\n",
    "np.mean(cross_val_score(all_features, X_train, y_train, cv=10))"
   ]
  },
  {
   "cell_type": "code",
   "execution_count": 22,
   "metadata": {
    "collapsed": false
   },
   "outputs": [
    {
     "data": {
      "text/plain": [
       "0.6243625749168433"
      ]
     },
     "execution_count": 22,
     "metadata": {},
     "output_type": "execute_result"
    }
   ],
   "source": [
    "np.mean(cross_val_score(select_2, X_train, y_train, cv=10))"
   ]
  },
  {
   "cell_type": "code",
   "execution_count": 23,
   "metadata": {
    "collapsed": false
   },
   "outputs": [
    {
     "data": {
      "text/plain": [
       "<matplotlib.legend.Legend at 0x7ffa18176da0>"
      ]
     },
     "execution_count": 23,
     "metadata": {},
     "output_type": "execute_result"
    },
    {
     "data": {
      "image/png": "[encoded data removed]",
      "text/plain": [
       "<Figure size 576x144 with 2 Axes>"
      ]
     },
     "metadata": {},
     "output_type": "display_data"
    }
   ],
   "source": [
    "from sklearn.feature_selection import mutual_info_regression\n",
    "scores = mutual_info_regression(X_train, y_train, discrete_features=[3])\n",
    "\n",
    "fig = plt.figure(figsize=(8, 2))\n",
    "line_f, = plt.plot(f_values, 'o', c='r')\n",
    "plt.ylabel(\"F value\")\n",
    "ax2 = plt.twinx()\n",
    "line_s, = ax2.plot(scores, 'o', alpha=.7)\n",
    "ax2.set_ylabel(\"MI score\")\n",
    "plt.xticks(range(X.shape[1]), boston.feature_names)\n",
    "plt.legend([line_s, line_f], [\"Mutual info scores\", \"F values\"], loc=(0, 1))"
   ]
  },
  {
   "cell_type": "code",
   "execution_count": 35,
   "metadata": {
    "collapsed": false
   },
   "outputs": [
    {
     "name": "stdout",
     "output_type": "stream",
     "text": [
      "[-0.          0.         -0.          0.         -0.          2.52933025\n",
      " -0.         -0.         -0.         -0.22763148 -1.70088382  0.13186059\n",
      " -3.60565498]\n"
     ]
    }
   ],
   "source": [
    "from sklearn.linear_model import Lasso\n",
    "X_train_scaled = scale(X_train)\n",
    "lasso = LassoCV().fit(X_train_scaled, y_train)\n",
    "print(lasso.coef_)"
   ]
  },
  {
   "cell_type": "code",
   "execution_count": 36,
   "metadata": {
    "collapsed": false
   },
   "outputs": [
    {
     "data": {
      "text/plain": [
       "<matplotlib.legend.Legend at 0x7ffa1a139e80>"
      ]
     },
     "execution_count": 36,
     "metadata": {},
     "output_type": "execute_result"
    },
    {
     "data": {
      "image/png": "[encoded data removed]",
      "text/plain": [
       "<Figure size 576x144 with 2 Axes>"
      ]
     },
     "metadata": {},
     "output_type": "display_data"
    }
   ],
   "source": [
    "fig = plt.figure(figsize=(8, 2))\n",
    "line_f, = plt.plot(f_values, 'o', c='r')\n",
    "plt.ylabel(\"F value\")\n",
    "ax2 = plt.twinx()\n",
    "ax2.set_ylabel(\"lasso coefficients\")\n",
    "line_s, = ax2.plot(np.abs(lasso.coef_), 'o', alpha=.7)\n",
    "plt.xticks(range(X.shape[1]), boston.feature_names)\n",
    "plt.legend([line_s, line_f], [\"Lasso coefficients abs\", \"F values\"], loc=(0, 1))"
   ]
  },
  {
   "cell_type": "code",
   "execution_count": 37,
   "metadata": {
    "collapsed": false
   },
   "outputs": [
    {
     "name": "stdout",
     "output_type": "stream",
     "text": [
      "[-0.          0.         -0.          0.         -0.          2.52933025\n",
      " -0.         -0.         -0.         -0.22763148 -1.70088382  0.13186059\n",
      " -3.60565498]\n"
     ]
    }
   ],
   "source": [
    "from sklearn.linear_model import Lasso\n",
    "X_train_scaled = scale(X_train)\n",
    "lasso = Lasso().fit(X_train_scaled, y_train)\n",
    "print(lasso.coef_)"
   ]
  },
  {
   "cell_type": "code",
   "execution_count": 38,
   "metadata": {
    "collapsed": false
   },
   "outputs": [
    {
     "data": {
      "text/plain": [
       "<matplotlib.legend.Legend at 0x7ffa1a07e978>"
      ]
     },
     "execution_count": 38,
     "metadata": {},
     "output_type": "execute_result"
    },
    {
     "data": {
      "image/png": "[encoded data removed]",
      "text/plain": [
       "<Figure size 576x144 with 2 Axes>"
      ]
     },
     "metadata": {},
     "output_type": "display_data"
    }
   ],
   "source": [
    "fig = plt.figure(figsize=(8, 2))\n",
    "line_f, = plt.plot(f_values, 'o', c='r')\n",
    "plt.ylabel(\"F value\")\n",
    "ax2 = plt.twinx()\n",
    "ax2.set_ylabel(\"lasso coefficients\")\n",
    "line_s, = ax2.plot(np.abs(lasso.coef_), 'o', alpha=.7)\n",
    "plt.xticks(range(X.shape[1]), boston.feature_names)\n",
    "plt.legend([line_s, line_f], [\"Lasso coefficients abs\", \"F values\"], loc=(0, 1))"
   ]
  },
  {
   "cell_type": "code",
   "execution_count": 40,
   "metadata": {},
   "outputs": [
    {
     "data": {
      "text/plain": [
       "(379, 13)"
      ]
     },
     "execution_count": 40,
     "metadata": {},
     "output_type": "execute_result"
    }
   ],
   "source": [
    "X_train.shape"
   ]
  },
  {
   "cell_type": "code",
   "execution_count": 44,
   "metadata": {
    "collapsed": false
   },
   "outputs": [
    {
     "name": "stdout",
     "output_type": "stream",
     "text": [
      "(379, 11)\n"
     ]
    }
   ],
   "source": [
    "from sklearn.feature_selection import SelectFromModel\n",
    "select_lassocv = SelectFromModel(LassoCV())\n",
    "select_lassocv.fit(X_train, y_train)\n",
    "print(select_lassocv.transform(X_train).shape)"
   ]
  },
  {
   "cell_type": "code",
   "execution_count": 45,
   "metadata": {
    "collapsed": false
   },
   "outputs": [
    {
     "data": {
      "text/plain": [
       "0.7171231551882247"
      ]
     },
     "execution_count": 45,
     "metadata": {},
     "output_type": "execute_result"
    }
   ],
   "source": [
    "pipe_lassocv = make_pipeline(StandardScaler(), select_lassocv, RidgeCV())\n",
    "np.mean(cross_val_score(pipe_lassocv, X_train, y_train, cv=10))"
   ]
  },
  {
   "cell_type": "code",
   "execution_count": 79,
   "metadata": {
    "collapsed": false
   },
   "outputs": [
    {
     "data": {
      "text/plain": [
       "0.71798347520832284"
      ]
     },
     "execution_count": 79,
     "metadata": {},
     "output_type": "execute_result"
    }
   ],
   "source": [
    "np.mean(cross_val_score(all_features, X_train, y_train, cv=10))"
   ]
  },
  {
   "cell_type": "code",
   "execution_count": 68,
   "metadata": {
    "collapsed": false
   },
   "outputs": [
    {
     "data": {
      "text/plain": [
       "0.67051240477576868"
      ]
     },
     "execution_count": 68,
     "metadata": {},
     "output_type": "execute_result"
    }
   ],
   "source": [
    "# could grid-search alpha in lasso\n",
    "select_lasso = SelectFromModel(Lasso())\n",
    "pipe_lasso = make_pipeline(StandardScaler(), select_lasso, RidgeCV())\n",
    "np.mean(cross_val_score(pipe_lasso, X_train, y_train, cv=10))"
   ]
  },
  {
   "cell_type": "code",
   "execution_count": 69,
   "metadata": {
    "collapsed": false
   },
   "outputs": [
    {
     "data": {
      "text/plain": [
       "array([ 9,  8, 13, 11,  5,  2, 12,  4,  7,  6,  3, 10,  1])"
      ]
     },
     "execution_count": 69,
     "metadata": {},
     "output_type": "execute_result"
    }
   ],
   "source": [
    "from sklearn.linear_model import LinearRegression\n",
    "from sklearn.feature_selection import RFE\n",
    "\n",
    "# create ranking among all features by selecting only one\n",
    "rfe = RFE(LinearRegression(), n_features_to_select=1)\n",
    "rfe.fit(X_train_scaled, y_train)\n",
    "rfe.ranking_"
   ]
  },
  {
   "cell_type": "code",
   "execution_count": 70,
   "metadata": {
    "collapsed": false
   },
   "outputs": [
    {
     "data": {
      "text/plain": [
       "<matplotlib.legend.Legend at 0x7f064678fb38>"
      ]
     },
     "execution_count": 70,
     "metadata": {},
     "output_type": "execute_result"
    },
    {
     "data": {
      "image/png": "[encoded data removed]",
      "text/plain": [
       "<matplotlib.figure.Figure at 0x7f0646908ef0>"
      ]
     },
     "metadata": {},
     "output_type": "display_data"
    }
   ],
   "source": [
    "lr = LinearRegression().fit(X_train_scaled, y_train)\n",
    "fig = plt.figure(figsize=(8, 2))\n",
    "line_f, = plt.plot(np.abs(lr.coef_), 'o', c='r')\n",
    "plt.ylabel(\"LR coefficients abs\")\n",
    "ax2 = plt.twinx()\n",
    "ax2.set_ylabel(\"1 - RFE ranking\")\n",
    "line_s, = ax2.plot(1 - rfe.ranking_, 'o', alpha=.7)\n",
    "plt.xticks(range(X.shape[1]), boston.feature_names)\n",
    "plt.legend([line_s, line_f], [\"RFE ranking\", \"LR coefficients\"], loc=(0, 1))"
   ]
  },
  {
   "cell_type": "code",
   "execution_count": 71,
   "metadata": {
    "collapsed": false
   },
   "outputs": [
    {
     "name": "stdout",
     "output_type": "stream",
     "text": [
      "[ True  True False  True  True  True False  True  True  True  True  True\n",
      "  True]\n",
      "['CRIM' 'ZN' 'CHAS' 'NOX' 'RM' 'DIS' 'RAD' 'TAX' 'PTRATIO' 'B' 'LSTAT']\n"
     ]
    }
   ],
   "source": [
    "from sklearn.linear_model import LinearRegression\n",
    "from sklearn.feature_selection import RFECV\n",
    "\n",
    "rfe = RFECV(LinearRegression(), cv=10)\n",
    "rfe.fit(X_train_scaled, y_train)\n",
    "print(rfe.support_)\n",
    "print(boston.feature_names[rfe.support_])"
   ]
  },
  {
   "cell_type": "code",
   "execution_count": 72,
   "metadata": {
    "collapsed": false
   },
   "outputs": [
    {
     "data": {
      "text/plain": [
       "0.71019583375843598"
      ]
     },
     "execution_count": 72,
     "metadata": {},
     "output_type": "execute_result"
    }
   ],
   "source": [
    "pipe_rfe_ridgecv = make_pipeline(StandardScaler(), RFECV(LinearRegression(), cv=10), RidgeCV())\n",
    "np.mean(cross_val_score(pipe_rfe_ridgecv, X_train, y_train, cv=10))"
   ]
  },
  {
   "cell_type": "code",
   "execution_count": 73,
   "metadata": {
    "collapsed": false
   },
   "outputs": [
    {
     "data": {
      "text/plain": [
       "0.82031507795494429"
      ]
     },
     "execution_count": 73,
     "metadata": {},
     "output_type": "execute_result"
    }
   ],
   "source": [
    "from sklearn.preprocessing import PolynomialFeatures\n",
    "pipe_rfe_ridgecv = make_pipeline(StandardScaler(), PolynomialFeatures(), RFECV(LinearRegression(), cv=10), RidgeCV())\n",
    "np.mean(cross_val_score(pipe_rfe_ridgecv, X_train, y_train, cv=10))"
   ]
  },
  {
   "cell_type": "code",
   "execution_count": 74,
   "metadata": {
    "collapsed": false
   },
   "outputs": [
    {
     "name": "stdout",
     "output_type": "stream",
     "text": [
      "[False  True  True  True False  True  True  True False  True  True False\n",
      "  True  True False  True  True  True  True False False False  True  True\n",
      "  True False False  True  True False  True False False False False  True\n",
      "  True  True False  True False False False  True  True  True  True  True\n",
      "  True  True False  True False False  True False False False  True False\n",
      " False False  True  True  True  True  True False False False  True  True\n",
      " False  True  True False False False False  True  True False  True  True\n",
      "  True  True False False  True  True  True  True  True  True  True  True\n",
      "  True False  True False  True False False False  True]\n"
     ]
    }
   ],
   "source": [
    "pipe_rfe_ridgecv.fit(X_train, y_train)\n",
    "print(pipe_rfe_ridgecv.named_steps['rfecv'].support_)"
   ]
  },
  {
   "cell_type": "code",
   "execution_count": 75,
   "metadata": {
    "collapsed": false
   },
   "outputs": [
    {
     "ename": "ModuleNotFoundError",
     "evalue": "No module named 'mlxtend'",
     "output_type": "error",
     "traceback": [
      "\u001b[0;31m---------------------------------------------------------------------------\u001b[0m",
      "\u001b[0;31mModuleNotFoundError\u001b[0m                       Traceback (most recent call last)",
      "\u001b[0;32m<ipython-input-75-2d5340964795>\u001b[0m in \u001b[0;36m<module>\u001b[0;34m()\u001b[0m\n\u001b[0;32m----> 1\u001b[0;31m \u001b[0;32mfrom\u001b[0m \u001b[0mmlxtend\u001b[0m\u001b[0;34m.\u001b[0m\u001b[0mfeature_selection\u001b[0m \u001b[0;32mimport\u001b[0m \u001b[0mSequentialFeatureSelector\u001b[0m\u001b[0;34m\u001b[0m\u001b[0m\n\u001b[0m\u001b[1;32m      2\u001b[0m \u001b[0msfs\u001b[0m \u001b[0;34m=\u001b[0m \u001b[0mSequentialFeatureSelector\u001b[0m\u001b[0;34m(\u001b[0m\u001b[0mLinearRegression\u001b[0m\u001b[0;34m(\u001b[0m\u001b[0;34m)\u001b[0m\u001b[0;34m,\u001b[0m \u001b[0mforward\u001b[0m\u001b[0;34m=\u001b[0m\u001b[0;32mFalse\u001b[0m\u001b[0;34m,\u001b[0m \u001b[0mk_features\u001b[0m\u001b[0;34m=\u001b[0m\u001b[0;36m7\u001b[0m\u001b[0;34m)\u001b[0m\u001b[0;34m\u001b[0m\u001b[0m\n\u001b[1;32m      3\u001b[0m \u001b[0msfs\u001b[0m\u001b[0;34m.\u001b[0m\u001b[0mfit\u001b[0m\u001b[0;34m(\u001b[0m\u001b[0mX_train_scaled\u001b[0m\u001b[0;34m,\u001b[0m \u001b[0my_train\u001b[0m\u001b[0;34m)\u001b[0m\u001b[0;34m\u001b[0m\u001b[0m\n",
      "\u001b[0;31mModuleNotFoundError\u001b[0m: No module named 'mlxtend'"
     ]
    }
   ],
   "source": [
    "from mlxtend.feature_selection import SequentialFeatureSelector\n",
    "sfs = SequentialFeatureSelector(LinearRegression(), forward=False, k_features=7)\n",
    "sfs.fit(X_train_scaled, y_train)"
   ]
  },
  {
   "cell_type": "code",
   "execution_count": null,
   "metadata": {
    "collapsed": false
   },
   "outputs": [],
   "source": [
    "print(sfs.k_feature_idx_)\n",
    "print(boston.feature_names[np.array(sfs.k_feature_idx_)])"
   ]
  },
  {
   "cell_type": "code",
   "execution_count": null,
   "metadata": {
    "collapsed": false
   },
   "outputs": [],
   "source": [
    "sfs.k_score_"
   ]
  },
  {
   "cell_type": "code",
   "execution_count": null,
   "metadata": {},
   "outputs": [],
   "source": []
  }
 ],
 "metadata": {
  "anaconda-cloud": {},
  "kernelspec": {
   "display_name": "Python 3",
   "language": "python",
   "name": "python3"
  },
  "language_info": {
   "codemirror_mode": {
    "name": "ipython",
    "version": 3
   },
   "file_extension": ".py",
   "mimetype": "text/x-python",
   "name": "python",
   "nbconvert_exporter": "python",
   "pygments_lexer": "ipython3",
   "version": "3.7.1"
  }
 },
 "nbformat": 4,
 "nbformat_minor": 2
}
