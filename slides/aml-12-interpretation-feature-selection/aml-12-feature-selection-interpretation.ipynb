{
 "cells": [
  {
   "cell_type": "code",
   "execution_count": 1,
   "metadata": {
    "collapsed": true
   },
   "outputs": [],
   "source": [
    "import numpy as np\n",
    "import matplotlib.pyplot as plt\n",
    "import pandas as pd\n",
    "% matplotlib inline\n",
    "plt.rcParams[\"savefig.dpi\"] = 300\n",
    "plt.rcParams[\"savefig.bbox\"] = 'tight'\n",
    "import warnings\n",
    "from sklearn.exceptions import ConvergenceWarning\n",
    "warnings.simplefilter('ignore', (FutureWarning, ConvergenceWarning))"
   ]
  },
  {
   "cell_type": "markdown",
   "metadata": {},
   "source": [
    "# Feature importances and Model interpretation"
   ]
  },
  {
   "cell_type": "code",
   "execution_count": 344,
   "metadata": {},
   "outputs": [],
   "source": [
    "# generate data from original 2d linear model\n",
    "from sklearn.preprocessing import scale\n",
    "\n",
    "# 35 13 50? \n",
    "rng = np.random.RandomState(13)\n",
    "n_samples = 100000\n",
    "n_informative = 2\n",
    "n_correlated_per_inf = 2\n",
    "n_noise = 4\n",
    "noise_std = .0001\n",
    "noise_correlated_std = .51\n",
    "noise_y = .3\n",
    "\n",
    "\n",
    "X_original = rng.uniform(-1, 1, size=(n_samples, n_informative))\n",
    "#coef = rng.normal(size=n_informative)\n",
    "coef = np.array([-3.2, 1.4])\n",
    "y = np.dot(X_original, coef) + rng.normal(scale=noise_y, size=n_samples)\n",
    "\n",
    "correlated_transform = np.zeros((n_correlated_per_inf * n_informative, n_informative))\n",
    "for i in range(n_informative):\n",
    "    correlated_transform[i * n_correlated_per_inf: (i + 1) * n_correlated_per_inf, i] = rng.normal(size=n_correlated_per_inf)\n",
    "X_original += rng.normal(scale=np.array([1, 1]) * noise_correlated_std, size=X_original.shape)\n",
    "X_correlated = np.dot(X_original, correlated_transform.T)\n",
    "\n",
    "X = np.hstack([X_correlated, np.zeros((n_samples, n_noise))])\n",
    "X += rng.normal(scale=noise_std, size=X.shape)\n",
    "X = scale(X)"
   ]
  },
  {
   "cell_type": "code",
   "execution_count": 345,
   "metadata": {},
   "outputs": [
    {
     "data": {
      "text/plain": [
       "<matplotlib.image.AxesImage at 0x7f12ebb329e8>"
      ]
     },
     "execution_count": 345,
     "metadata": {},
     "output_type": "execute_result"
    },
    {
     "data": {
      "image/png": "[encoded data removed]",
      "text/plain": [
       "<Figure size 432x288 with 1 Axes>"
      ]
     },
     "metadata": {},
     "output_type": "display_data"
    }
   ],
   "source": [
    "plt.imshow(np.cov(X, rowvar=False))"
   ]
  },
  {
   "cell_type": "code",
   "execution_count": 346,
   "metadata": {},
   "outputs": [],
   "source": [
    "from sklearn.model_selection import train_test_split\n",
    "X_train, X_test, y_train, y_test = train_test_split(X, y, random_state=0)"
   ]
  },
  {
   "cell_type": "code",
   "execution_count": 348,
   "metadata": {},
   "outputs": [
    {
     "name": "stdout",
     "output_type": "stream",
     "text": [
      "0.4532506867871262\n",
      "0.4532514261726276\n",
      "0.09275569004419326\n",
      "0.09275599504713594\n",
      "-0.00020773972150145426\n",
      "-0.00017276124646903313\n",
      "-0.00018329268681771538\n",
      "-0.00020494411292082404\n"
     ]
    }
   ],
   "source": [
    "for i in range(X.shape[1]):\n",
    "    lr = LinearRegression().fit(X_train[:, [i]], y_train)\n",
    "    print(lr.score(X_test[:, [i]], y_test))"
   ]
  },
  {
   "cell_type": "code",
   "execution_count": 349,
   "metadata": {},
   "outputs": [
    {
     "data": {
      "text/plain": [
       "0.5453138625214944"
      ]
     },
     "execution_count": 349,
     "metadata": {},
     "output_type": "execute_result"
    }
   ],
   "source": [
    "from sklearn.linear_model import LassoCV, RidgeCV, LinearRegression\n",
    "lasso = LassoCV().fit(X_train, y_train)\n",
    "lasso.score(X_test, y_test)"
   ]
  },
  {
   "cell_type": "code",
   "execution_count": 350,
   "metadata": {},
   "outputs": [
    {
     "data": {
      "text/plain": [
       "0.5453306487434062"
      ]
     },
     "execution_count": 350,
     "metadata": {},
     "output_type": "execute_result"
    }
   ],
   "source": [
    "ridge = RidgeCV().fit(X_train, y_train)\n",
    "ridge.score(X_test, y_test)"
   ]
  },
  {
   "cell_type": "code",
   "execution_count": 351,
   "metadata": {},
   "outputs": [
    {
     "data": {
      "text/plain": [
       "0.5453299378456281"
      ]
     },
     "execution_count": 351,
     "metadata": {},
     "output_type": "execute_result"
    }
   ],
   "source": [
    "lr = LinearRegression().fit(X_train, y_train)\n",
    "lr.score(X_test, y_test)"
   ]
  },
  {
   "cell_type": "code",
   "execution_count": 352,
   "metadata": {},
   "outputs": [
    {
     "data": {
      "text/plain": [
       "0.5453305950074661"
      ]
     },
     "execution_count": 352,
     "metadata": {},
     "output_type": "execute_result"
    }
   ],
   "source": [
    "from sklearn.decomposition import PCA\n",
    "pca = PCA(n_components=.99).fit(X_train)\n",
    "X_train_pca = pca.transform(X_train)\n",
    "lr_pca = LinearRegression().fit(X_train_pca, y_train)\n",
    "inverse_lr_pca_coef = pca.inverse_transform(lr_pca.coef_)\n",
    "lr_pca.score(pca.transform(X_test), y_test)"
   ]
  },
  {
   "cell_type": "code",
   "execution_count": 353,
   "metadata": {},
   "outputs": [
    {
     "data": {
      "text/plain": [
       "6"
      ]
     },
     "execution_count": 353,
     "metadata": {},
     "output_type": "execute_result"
    }
   ],
   "source": [
    "pca.n_components_"
   ]
  },
  {
   "cell_type": "code",
   "execution_count": 354,
   "metadata": {},
   "outputs": [],
   "source": [
    "from sklearn.model_selection import cross_val_score\n",
    "def drop_feature_importance(est, X, y):\n",
    "    base_score = np.mean(cross_val_score(est, X, y, cv=5))\n",
    "    scores = []\n",
    "    for feature in range(X.shape[1]):\n",
    "        mask = np.ones(X.shape[1], 'bool')\n",
    "        mask[feature] = False\n",
    "        X_new = X[:, mask]\n",
    "        this_score = np.mean(cross_val_score(est, X_new, y, cv=5))\n",
    "        scores.append(base_score - this_score)\n",
    "    return np.array(scores)"
   ]
  },
  {
   "cell_type": "code",
   "execution_count": 355,
   "metadata": {},
   "outputs": [
    {
     "data": {
      "text/plain": [
       "<matplotlib.axes._subplots.AxesSubplot at 0x7f12eb6da198>"
      ]
     },
     "execution_count": 355,
     "metadata": {},
     "output_type": "execute_result"
    },
    {
     "data": {
      "image/png": "[encoded data removed]",
      "text/plain": [
       "<Figure size 432x288 with 1 Axes>"
      ]
     },
     "metadata": {},
     "output_type": "display_data"
    }
   ],
   "source": [
    "pd.DataFrame({'lasso': lasso.coef_, 'ridge': ridge.coef_, 'lr_pca': inverse_lr_pca_coef, 'lr': lr.coef_}).plot(kind='barh')"
   ]
  },
  {
   "cell_type": "code",
   "execution_count": 356,
   "metadata": {},
   "outputs": [
    {
     "data": {
      "image/png": "[encoded data removed]",
      "text/plain": [
       "<Figure size 432x288 with 1 Axes>"
      ]
     },
     "metadata": {},
     "output_type": "display_data"
    }
   ],
   "source": [
    "pd.DataFrame({'lasso': lasso.coef_, 'ridge': ridge.coef_, 'lr': lr.coef_}).plot(kind='barh')\n",
    "plt.ylabel(\"feature index\")\n",
    "plt.xlabel(\"coefficient value\")\n",
    "plt.title(\"Linear model with 'enough' data\")\n",
    "plt.savefig(\"images/linear_enough_data.png\")"
   ]
  },
  {
   "cell_type": "code",
   "execution_count": 384,
   "metadata": {},
   "outputs": [],
   "source": [
    "drop_ridge = drop_feature_importance(ridge, X_train, y_train)\n",
    "#drop_ridge /= np.linalg.norm(drop_ridge)"
   ]
  },
  {
   "cell_type": "code",
   "execution_count": 358,
   "metadata": {},
   "outputs": [
    {
     "data": {
      "text/plain": [
       "array([-1.22570965e-07,  1.54983031e-07, -4.94336522e-08,  4.47408157e-08,\n",
       "       -9.41619574e-06, -2.97787960e-06, -7.21816179e-07, -2.83562778e-06])"
      ]
     },
     "execution_count": 358,
     "metadata": {},
     "output_type": "execute_result"
    }
   ],
   "source": [
    "drop_ridge"
   ]
  },
  {
   "cell_type": "code",
   "execution_count": 359,
   "metadata": {},
   "outputs": [],
   "source": [
    "\"\"\"Permutation importance for estimators\"\"\"\n",
    "# from https://github.com/scikit-learn/scikit-learn/pull/13146/\n",
    "import numpy as np\n",
    "\n",
    "from sklearn.utils import check_random_state\n",
    "from sklearn.metrics import check_scoring\n",
    "\n",
    "\n",
    "def permutation_importance(estimator, X, y, scoring=None, n_bootstrap=30,\n",
    "                           random_state=None):\n",
    "    \"\"\"Permutation importance for feature evaluation.\n",
    "    The permutation importance of a feature is calculated as follows. First,\n",
    "    the estimator is trained on a training set. Then a baseline metric, defined\n",
    "    by ``scoring``, is evaluated on a validation set. Next, a feature column\n",
    "    from the validation set is permuted and the metric is evaluated again.\n",
    "    The permutation importance is defined to be the difference between the\n",
    "    baseline metric and metric from permutating the feature column.\n",
    "    Parameters\n",
    "    ----------\n",
    "    estimator : object\n",
    "        A estimator that has already been `fit` and is compatible with\n",
    "        ``scorer``.\n",
    "    X : array-like, shape = (n_samples, n_features)\n",
    "        Training data.\n",
    "    y : array-like, shape = (n_samples, ...)\n",
    "        Target relative to ``X``.\n",
    "    scoring : string, callable or None, optional (default=None)\n",
    "        A string (see model evaluation documentation) or\n",
    "        a scorer callable object / function with signature\n",
    "        ``scorer(estimator, X, y)``.\n",
    "    n_bootstrap : int, optional (default=30)\n",
    "        Number of times to permute a feature\n",
    "    random_state : int, RandomState instance or None, optional, default None\n",
    "        The seed of the pseudo random number generator that selects a random\n",
    "        feature to update.  If int, random_state is the seed used by the random\n",
    "        number generator; If RandomState instance, random_state is the random\n",
    "        number generator; If None, the random number generator is the\n",
    "        RandomState instance used by `np.random`.\n",
    "    Returns\n",
    "    -------\n",
    "    scores : array, shape (n_features, bootstrap_samples)\n",
    "        Permutation importance scores\n",
    "    \"\"\"\n",
    "\n",
    "    random_state = check_random_state(random_state)\n",
    "    scoring = check_scoring(estimator, scoring=scoring)\n",
    "    scores = np.empty(shape=(X.shape[1], n_bootstrap), dtype=np.float)\n",
    "\n",
    "    baseline_score = scoring(estimator, X, y)\n",
    "    for f_idx in range(X.shape[1]):\n",
    "        for b_idx in range(n_bootstrap):\n",
    "            original_feature = X[:, f_idx].copy()\n",
    "            random_state.shuffle(X[:, f_idx])\n",
    "            feature_score = scoring(estimator, X, y)\n",
    "            scores[f_idx, b_idx] = baseline_score - feature_score\n",
    "            X[:, f_idx] = original_feature\n",
    "\n",
    "    return scores"
   ]
  },
  {
   "cell_type": "code",
   "execution_count": 425,
   "metadata": {},
   "outputs": [],
   "source": [
    "perm_ridge_test = permutation_importance(ridge, X_test, y_test).mean(axis=1)"
   ]
  },
  {
   "cell_type": "code",
   "execution_count": 427,
   "metadata": {},
   "outputs": [
    {
     "data": {
      "text/plain": [
       "array([ 2.25841711e-01,  2.26896482e-01,  4.58536333e-02,  4.60163986e-02,\n",
       "       -1.16940500e-06, -5.11330670e-07,  1.76582158e-05,  1.43801483e-07])"
      ]
     },
     "execution_count": 427,
     "metadata": {},
     "output_type": "execute_result"
    }
   ],
   "source": [
    "perm_ridge_test"
   ]
  },
  {
   "cell_type": "code",
   "execution_count": 362,
   "metadata": {},
   "outputs": [
    {
     "data": {
      "text/plain": [
       "<matplotlib.axes._subplots.AxesSubplot at 0x7f12eb10dcc0>"
      ]
     },
     "execution_count": 362,
     "metadata": {},
     "output_type": "execute_result"
    },
    {
     "data": {
      "image/png": "[encoded data removed]",
      "text/plain": [
       "<Figure size 432x288 with 1 Axes>"
      ]
     },
     "metadata": {},
     "output_type": "display_data"
    }
   ],
   "source": [
    "pd.DataFrame({'lasso': lasso.coef_, 'ridge': ridge.coef_, 'drop_ridge': drop_ridge,\n",
    "              'perm_ridge': perm_ridge_test.mean(axis=1)}).plot(kind='barh')"
   ]
  },
  {
   "cell_type": "code",
   "execution_count": 413,
   "metadata": {},
   "outputs": [
    {
     "name": "stderr",
     "output_type": "stream",
     "text": [
      "/home/andy/anaconda3/envs/py37/lib/python3.7/site-packages/shap/explainers/linear.py:47: UserWarning: The default value for feature_dependence has been changed to \"independent\"!\n",
      "  warnings.warn('The default value for feature_dependence has been changed to \"independent\"!')\n"
     ]
    }
   ],
   "source": [
    "import shap\n",
    "\n",
    "def shap_linear(model, X_train, X_test):\n",
    "    linear_explainer = shap.LinearExplainer(model, X_train)\n",
    "    shap_values = linear_explainer.shap_values(X_test)\n",
    "    s = shap_values.mean(axis=0)\n",
    "    s /= np.linalg.norm(s)\n",
    "    return s\n",
    "\n",
    "shap_ridge = shap_linear(ridge, X_train, X_test)"
   ]
  },
  {
   "cell_type": "code",
   "execution_count": 414,
   "metadata": {},
   "outputs": [
    {
     "name": "stderr",
     "output_type": "stream",
     "text": [
      "/home/andy/anaconda3/envs/py37/lib/python3.7/site-packages/shap/explainers/linear.py:47: UserWarning: The default value for feature_dependence has been changed to \"independent\"!\n",
      "  warnings.warn('The default value for feature_dependence has been changed to \"independent\"!')\n"
     ]
    }
   ],
   "source": [
    "shap_lasso = shap_linear(lasso, X_train, X_test)"
   ]
  },
  {
   "cell_type": "code",
   "execution_count": 416,
   "metadata": {},
   "outputs": [
    {
     "data": {
      "text/plain": [
       "array([-2.76313574e-07,  2.28129837e-09, -8.66300642e-08,  1.38552603e-09,\n",
       "       -3.91074013e-06, -1.26566080e-06, -2.06624854e-06, -1.37591301e-06])"
      ]
     },
     "execution_count": 416,
     "metadata": {},
     "output_type": "execute_result"
    }
   ],
   "source": [
    "drop_lasso = drop_feature_importance(lasso, X_train, y_train)\n",
    "drop_lasso"
   ]
  },
  {
   "cell_type": "code",
   "execution_count": 428,
   "metadata": {},
   "outputs": [],
   "source": [
    "perm_lasso_test = permutation_importance(lasso, X_test, y_test).mean(axis=1)"
   ]
  },
  {
   "cell_type": "code",
   "execution_count": 439,
   "metadata": {},
   "outputs": [
    {
     "data": {
      "image/png": "[encoded data removed]",
      "text/plain": [
       "<Figure size 720x288 with 1 Axes>"
      ]
     },
     "metadata": {},
     "output_type": "display_data"
    }
   ],
   "source": [
    "def plot_importance(some_dict):\n",
    "    plt.figure(figsize=(10, 4))\n",
    "    df = pd.DataFrame(some_dict)\n",
    "    ax = plt.gca()\n",
    "    df.plot.bar(ax=ax, width=.9)\n",
    "    ax.set_ylim(-1.5, 1.5)\n",
    "    ax.set_xlabel(\"feature index\")\n",
    "    ax.set_ylabel(\"importance value\")\n",
    "\n",
    "\n",
    "plot_importance({'lasso': lasso.coef_, 'ridge': ridge.coef_,\n",
    "              'perm_ridge': perm_ridge_test, 'shap_ridge': shap_ridge, 'shap_lasso': shap_lasso, 'perm_lasso': perm_lasso_test})"
   ]
  },
  {
   "cell_type": "code",
   "execution_count": 440,
   "metadata": {},
   "outputs": [
    {
     "data": {
      "text/plain": [
       "(100, 8)"
      ]
     },
     "execution_count": 440,
     "metadata": {},
     "output_type": "execute_result"
    }
   ],
   "source": [
    "# X_test is actually big, not small, but that would be confusing naming, right?\n",
    "X_train_small, X_test_small, y_train_small, y_test_small = train_test_split(X, y, train_size=0.001, random_state=0)\n",
    "X_train_small.shape"
   ]
  },
  {
   "cell_type": "code",
   "execution_count": 441,
   "metadata": {},
   "outputs": [
    {
     "data": {
      "text/plain": [
       "0.5361580595868876"
      ]
     },
     "execution_count": 441,
     "metadata": {},
     "output_type": "execute_result"
    }
   ],
   "source": [
    "lasso_small = LassoCV().fit(X_train_small, y_train_small)\n",
    "lasso_small.score(X_test_small, y_test_small)"
   ]
  },
  {
   "cell_type": "code",
   "execution_count": 442,
   "metadata": {},
   "outputs": [
    {
     "data": {
      "text/plain": [
       "0.5336853626423791"
      ]
     },
     "execution_count": 442,
     "metadata": {},
     "output_type": "execute_result"
    }
   ],
   "source": [
    "ridge_small = RidgeCV().fit(X_train_small, y_train_small)\n",
    "ridge_small.score(X_test_small, y_test_small)"
   ]
  },
  {
   "cell_type": "code",
   "execution_count": 443,
   "metadata": {},
   "outputs": [
    {
     "data": {
      "text/plain": [
       "0.5262746934049003"
      ]
     },
     "execution_count": 443,
     "metadata": {},
     "output_type": "execute_result"
    }
   ],
   "source": [
    "lr_small = LinearRegression().fit(X_train_small, y_train_small)\n",
    "lr_small.score(X_test_small, y_test_small)"
   ]
  },
  {
   "cell_type": "code",
   "execution_count": 444,
   "metadata": {},
   "outputs": [
    {
     "data": {
      "text/plain": [
       "0.5303117477435796"
      ]
     },
     "execution_count": 444,
     "metadata": {},
     "output_type": "execute_result"
    }
   ],
   "source": [
    "from sklearn.decomposition import PCA\n",
    "pca_small = PCA(n_components=.99).fit(X_train_small)\n",
    "X_train_pca = pca_small.transform(X_train_small)\n",
    "lr_pca_small = LinearRegression().fit(X_train_pca, y_train_small)\n",
    "inverse_lr_pca_coef = pca.inverse_transform(lr_pca_small.coef_)\n",
    "lr_pca_small.score(pca_small.transform(X_test_small), y_test_small)"
   ]
  },
  {
   "cell_type": "code",
   "execution_count": 445,
   "metadata": {},
   "outputs": [
    {
     "data": {
      "image/png": "[encoded data removed]",
      "text/plain": [
       "<Figure size 720x288 with 1 Axes>"
      ]
     },
     "metadata": {},
     "output_type": "display_data"
    }
   ],
   "source": [
    "plot_importance({'lasso': lasso_small.coef_, 'ridge': ridge_small.coef_, 'lr_pca': inverse_lr_pca_coef, 'lr': lr_small.coef_})"
   ]
  },
  {
   "cell_type": "code",
   "execution_count": 447,
   "metadata": {},
   "outputs": [
    {
     "name": "stderr",
     "output_type": "stream",
     "text": [
      "/home/andy/anaconda3/envs/py37/lib/python3.7/site-packages/shap/explainers/linear.py:47: UserWarning: The default value for feature_dependence has been changed to \"independent\"!\n",
      "  warnings.warn('The default value for feature_dependence has been changed to \"independent\"!')\n"
     ]
    }
   ],
   "source": [
    "perm_ridge_test_small = permutation_importance(ridge, X_test_small, y_test_small).mean(axis=1)\n",
    "perm_lasso_test_small = permutation_importance(lasso, X_test_small, y_test_small).mean(axis=1)\n",
    "shap_ridge_small = shap_linear(ridge_small, X_train_small, X_test_small)\n",
    "shap_lasso_small = shap_linear(lasso_small, X_train_small, X_test_small)"
   ]
  },
  {
   "cell_type": "code",
   "execution_count": 449,
   "metadata": {},
   "outputs": [
    {
     "data": {
      "image/png": "[encoded data removed]",
      "text/plain": [
       "<Figure size 720x288 with 1 Axes>"
      ]
     },
     "metadata": {},
     "output_type": "display_data"
    }
   ],
   "source": [
    "plot_importance({'ridge': ridge_small.coef_,\n",
    "                 'perm_ridge': perm_ridge_test_small, 'shap_ridge': shap_ridge_small,\n",
    "                 'lasso': lasso_small.coef_, 'perm_lasso': perm_lasso_test_small, 'shap_lasso': shap_lasso_small})\n",
    "plt.title(\"Linear model with 100 samples\")\n",
    "plt.savefig(\"images/linear_less_data.png\")"
   ]
  },
  {
   "cell_type": "code",
   "execution_count": 370,
   "metadata": {},
   "outputs": [
    {
     "data": {
      "text/plain": [
       "0.5452326112689287"
      ]
     },
     "execution_count": 370,
     "metadata": {},
     "output_type": "execute_result"
    }
   ],
   "source": [
    "from sklearn.tree import DecisionTreeRegressor\n",
    "from sklearn.model_selection import GridSearchCV\n",
    "\n",
    "param_grid = {'max_leaf_nodes': range(5, 40, 5)}\n",
    "grid = GridSearchCV(DecisionTreeRegressor(), param_grid, cv=10, n_jobs=3)\n",
    "grid.fit(X_train, y_train)\n",
    "grid.score(X_test, y_test)"
   ]
  },
  {
   "cell_type": "code",
   "execution_count": 371,
   "metadata": {},
   "outputs": [
    {
     "data": {
      "text/html": [
       "<div>\n",
       "<style scoped>\n",
       "    .dataframe tbody tr th:only-of-type {\n",
       "        vertical-align: middle;\n",
       "    }\n",
       "\n",
       "    .dataframe tbody tr th {\n",
       "        vertical-align: top;\n",
       "    }\n",
       "\n",
       "    .dataframe thead th {\n",
       "        text-align: right;\n",
       "    }\n",
       "</style>\n",
       "<table border=\"1\" class=\"dataframe\">\n",
       "  <thead>\n",
       "    <tr style=\"text-align: right;\">\n",
       "      <th></th>\n",
       "      <th>mean_fit_time</th>\n",
       "      <th>std_fit_time</th>\n",
       "      <th>mean_score_time</th>\n",
       "      <th>std_score_time</th>\n",
       "      <th>param_max_leaf_nodes</th>\n",
       "      <th>params</th>\n",
       "      <th>split0_test_score</th>\n",
       "      <th>split1_test_score</th>\n",
       "      <th>split2_test_score</th>\n",
       "      <th>split3_test_score</th>\n",
       "      <th>split4_test_score</th>\n",
       "      <th>split5_test_score</th>\n",
       "      <th>split6_test_score</th>\n",
       "      <th>split7_test_score</th>\n",
       "      <th>split8_test_score</th>\n",
       "      <th>split9_test_score</th>\n",
       "      <th>mean_test_score</th>\n",
       "      <th>std_test_score</th>\n",
       "      <th>rank_test_score</th>\n",
       "    </tr>\n",
       "  </thead>\n",
       "  <tbody>\n",
       "    <tr>\n",
       "      <th>0</th>\n",
       "      <td>0.336604</td>\n",
       "      <td>0.045168</td>\n",
       "      <td>0.001026</td>\n",
       "      <td>0.000134</td>\n",
       "      <td>5</td>\n",
       "      <td>{'max_leaf_nodes': 5}</td>\n",
       "      <td>0.462604</td>\n",
       "      <td>0.440588</td>\n",
       "      <td>0.473126</td>\n",
       "      <td>0.457954</td>\n",
       "      <td>0.452981</td>\n",
       "      <td>0.473005</td>\n",
       "      <td>0.451614</td>\n",
       "      <td>0.461949</td>\n",
       "      <td>0.472736</td>\n",
       "      <td>0.461263</td>\n",
       "      <td>0.460782</td>\n",
       "      <td>0.010051</td>\n",
       "      <td>7</td>\n",
       "    </tr>\n",
       "    <tr>\n",
       "      <th>1</th>\n",
       "      <td>0.432552</td>\n",
       "      <td>0.100811</td>\n",
       "      <td>0.001092</td>\n",
       "      <td>0.000295</td>\n",
       "      <td>10</td>\n",
       "      <td>{'max_leaf_nodes': 10}</td>\n",
       "      <td>0.521506</td>\n",
       "      <td>0.493712</td>\n",
       "      <td>0.528441</td>\n",
       "      <td>0.518701</td>\n",
       "      <td>0.511587</td>\n",
       "      <td>0.527171</td>\n",
       "      <td>0.511400</td>\n",
       "      <td>0.515145</td>\n",
       "      <td>0.529097</td>\n",
       "      <td>0.514606</td>\n",
       "      <td>0.517136</td>\n",
       "      <td>0.010079</td>\n",
       "      <td>6</td>\n",
       "    </tr>\n",
       "    <tr>\n",
       "      <th>2</th>\n",
       "      <td>0.518568</td>\n",
       "      <td>0.089544</td>\n",
       "      <td>0.001344</td>\n",
       "      <td>0.000413</td>\n",
       "      <td>15</td>\n",
       "      <td>{'max_leaf_nodes': 15}</td>\n",
       "      <td>0.538750</td>\n",
       "      <td>0.508512</td>\n",
       "      <td>0.540610</td>\n",
       "      <td>0.531709</td>\n",
       "      <td>0.524862</td>\n",
       "      <td>0.537812</td>\n",
       "      <td>0.525124</td>\n",
       "      <td>0.529646</td>\n",
       "      <td>0.540629</td>\n",
       "      <td>0.526967</td>\n",
       "      <td>0.530462</td>\n",
       "      <td>0.009408</td>\n",
       "      <td>5</td>\n",
       "    </tr>\n",
       "    <tr>\n",
       "      <th>3</th>\n",
       "      <td>0.552837</td>\n",
       "      <td>0.099752</td>\n",
       "      <td>0.001226</td>\n",
       "      <td>0.000257</td>\n",
       "      <td>20</td>\n",
       "      <td>{'max_leaf_nodes': 20}</td>\n",
       "      <td>0.545687</td>\n",
       "      <td>0.518108</td>\n",
       "      <td>0.548521</td>\n",
       "      <td>0.538756</td>\n",
       "      <td>0.530536</td>\n",
       "      <td>0.545154</td>\n",
       "      <td>0.532595</td>\n",
       "      <td>0.534600</td>\n",
       "      <td>0.550455</td>\n",
       "      <td>0.534542</td>\n",
       "      <td>0.537895</td>\n",
       "      <td>0.009385</td>\n",
       "      <td>4</td>\n",
       "    </tr>\n",
       "    <tr>\n",
       "      <th>4</th>\n",
       "      <td>0.552139</td>\n",
       "      <td>0.080510</td>\n",
       "      <td>0.001210</td>\n",
       "      <td>0.000107</td>\n",
       "      <td>25</td>\n",
       "      <td>{'max_leaf_nodes': 25}</td>\n",
       "      <td>0.550942</td>\n",
       "      <td>0.523627</td>\n",
       "      <td>0.554485</td>\n",
       "      <td>0.544066</td>\n",
       "      <td>0.535272</td>\n",
       "      <td>0.548405</td>\n",
       "      <td>0.536858</td>\n",
       "      <td>0.541139</td>\n",
       "      <td>0.556123</td>\n",
       "      <td>0.541021</td>\n",
       "      <td>0.543194</td>\n",
       "      <td>0.009367</td>\n",
       "      <td>3</td>\n",
       "    </tr>\n",
       "    <tr>\n",
       "      <th>5</th>\n",
       "      <td>0.538391</td>\n",
       "      <td>0.076021</td>\n",
       "      <td>0.001169</td>\n",
       "      <td>0.000139</td>\n",
       "      <td>30</td>\n",
       "      <td>{'max_leaf_nodes': 30}</td>\n",
       "      <td>0.556703</td>\n",
       "      <td>0.526756</td>\n",
       "      <td>0.557554</td>\n",
       "      <td>0.548513</td>\n",
       "      <td>0.539379</td>\n",
       "      <td>0.552281</td>\n",
       "      <td>0.541503</td>\n",
       "      <td>0.545559</td>\n",
       "      <td>0.559992</td>\n",
       "      <td>0.544634</td>\n",
       "      <td>0.547287</td>\n",
       "      <td>0.009537</td>\n",
       "      <td>2</td>\n",
       "    </tr>\n",
       "    <tr>\n",
       "      <th>6</th>\n",
       "      <td>0.520164</td>\n",
       "      <td>0.073912</td>\n",
       "      <td>0.001162</td>\n",
       "      <td>0.000205</td>\n",
       "      <td>35</td>\n",
       "      <td>{'max_leaf_nodes': 35}</td>\n",
       "      <td>0.558192</td>\n",
       "      <td>0.529447</td>\n",
       "      <td>0.559883</td>\n",
       "      <td>0.550660</td>\n",
       "      <td>0.540523</td>\n",
       "      <td>0.554589</td>\n",
       "      <td>0.543968</td>\n",
       "      <td>0.547745</td>\n",
       "      <td>0.562581</td>\n",
       "      <td>0.545966</td>\n",
       "      <td>0.549355</td>\n",
       "      <td>0.009541</td>\n",
       "      <td>1</td>\n",
       "    </tr>\n",
       "  </tbody>\n",
       "</table>\n",
       "</div>"
      ],
      "text/plain": [
       "   mean_fit_time  std_fit_time  mean_score_time  std_score_time  \\\n",
       "0       0.336604      0.045168         0.001026        0.000134   \n",
       "1       0.432552      0.100811         0.001092        0.000295   \n",
       "2       0.518568      0.089544         0.001344        0.000413   \n",
       "3       0.552837      0.099752         0.001226        0.000257   \n",
       "4       0.552139      0.080510         0.001210        0.000107   \n",
       "5       0.538391      0.076021         0.001169        0.000139   \n",
       "6       0.520164      0.073912         0.001162        0.000205   \n",
       "\n",
       "  param_max_leaf_nodes                  params  split0_test_score  \\\n",
       "0                    5   {'max_leaf_nodes': 5}           0.462604   \n",
       "1                   10  {'max_leaf_nodes': 10}           0.521506   \n",
       "2                   15  {'max_leaf_nodes': 15}           0.538750   \n",
       "3                   20  {'max_leaf_nodes': 20}           0.545687   \n",
       "4                   25  {'max_leaf_nodes': 25}           0.550942   \n",
       "5                   30  {'max_leaf_nodes': 30}           0.556703   \n",
       "6                   35  {'max_leaf_nodes': 35}           0.558192   \n",
       "\n",
       "   split1_test_score  split2_test_score  split3_test_score  split4_test_score  \\\n",
       "0           0.440588           0.473126           0.457954           0.452981   \n",
       "1           0.493712           0.528441           0.518701           0.511587   \n",
       "2           0.508512           0.540610           0.531709           0.524862   \n",
       "3           0.518108           0.548521           0.538756           0.530536   \n",
       "4           0.523627           0.554485           0.544066           0.535272   \n",
       "5           0.526756           0.557554           0.548513           0.539379   \n",
       "6           0.529447           0.559883           0.550660           0.540523   \n",
       "\n",
       "   split5_test_score  split6_test_score  split7_test_score  split8_test_score  \\\n",
       "0           0.473005           0.451614           0.461949           0.472736   \n",
       "1           0.527171           0.511400           0.515145           0.529097   \n",
       "2           0.537812           0.525124           0.529646           0.540629   \n",
       "3           0.545154           0.532595           0.534600           0.550455   \n",
       "4           0.548405           0.536858           0.541139           0.556123   \n",
       "5           0.552281           0.541503           0.545559           0.559992   \n",
       "6           0.554589           0.543968           0.547745           0.562581   \n",
       "\n",
       "   split9_test_score  mean_test_score  std_test_score  rank_test_score  \n",
       "0           0.461263         0.460782        0.010051                7  \n",
       "1           0.514606         0.517136        0.010079                6  \n",
       "2           0.526967         0.530462        0.009408                5  \n",
       "3           0.534542         0.537895        0.009385                4  \n",
       "4           0.541021         0.543194        0.009367                3  \n",
       "5           0.544634         0.547287        0.009537                2  \n",
       "6           0.545966         0.549355        0.009541                1  "
      ]
     },
     "execution_count": 371,
     "metadata": {},
     "output_type": "execute_result"
    },
    {
     "data": {
      "image/png": "[encoded data removed]",
      "text/plain": [
       "<Figure size 432x288 with 1 Axes>"
      ]
     },
     "metadata": {},
     "output_type": "display_data"
    }
   ],
   "source": [
    "res = pd.DataFrame(grid.cv_results_)\n",
    "res.plot(x='param_max_leaf_nodes', y='mean_test_score')\n",
    "res"
   ]
  },
  {
   "cell_type": "code",
   "execution_count": 372,
   "metadata": {},
   "outputs": [
    {
     "data": {
      "text/plain": [
       "array([0.7532024 , 0.09101644, 0.08462431, 0.07115686, 0.        ,\n",
       "       0.        , 0.        , 0.        ])"
      ]
     },
     "execution_count": 372,
     "metadata": {},
     "output_type": "execute_result"
    }
   ],
   "source": [
    "grid.best_estimator_.feature_importances_"
   ]
  },
  {
   "cell_type": "code",
   "execution_count": 373,
   "metadata": {},
   "outputs": [
    {
     "data": {
      "image/png": "[encoded data removed]",
      "text/plain": [
       "<Figure size 432x288 with 1 Axes>"
      ]
     },
     "metadata": {},
     "output_type": "display_data"
    }
   ],
   "source": [
    "pd.DataFrame({'lasso': np.abs(lasso.coef_), 'ridge': np.abs(ridge.coef_), 'tree': grid.best_estimator_.feature_importances_}).plot(kind='barh')\n",
    "plt.ylabel(\"feature index\")\n",
    "plt.xlabel(\"feature importance (abs of coef for linear models)\")\n",
    "plt.title(\"Tree model with 'enough' data\")\n",
    "plt.savefig(\"images/tree_enough_data.png\")"
   ]
  },
  {
   "cell_type": "code",
   "execution_count": 374,
   "metadata": {},
   "outputs": [
    {
     "data": {
      "text/plain": [
       "0.34448907322890654"
      ]
     },
     "execution_count": 374,
     "metadata": {},
     "output_type": "execute_result"
    }
   ],
   "source": [
    "param_grid = {'max_leaf_nodes': range(2, 20)}\n",
    "grid_tree_small = GridSearchCV(DecisionTreeRegressor(), param_grid, cv=10, n_jobs=3)\n",
    "grid_tree_small.fit(X_train_small, y_train_small)\n",
    "grid_tree_small.score(X_test_small, y_test_small)"
   ]
  },
  {
   "cell_type": "code",
   "execution_count": 375,
   "metadata": {},
   "outputs": [
    {
     "data": {
      "text/plain": [
       "<matplotlib.axes._subplots.AxesSubplot at 0x7f12eadc69e8>"
      ]
     },
     "execution_count": 375,
     "metadata": {},
     "output_type": "execute_result"
    },
    {
     "data": {
      "image/png": "[encoded data removed]",
      "text/plain": [
       "<Figure size 432x288 with 1 Axes>"
      ]
     },
     "metadata": {},
     "output_type": "display_data"
    }
   ],
   "source": [
    "res = pd.DataFrame(grid_tree_small.cv_results_)\n",
    "res.plot(x='param_max_leaf_nodes', y='mean_test_score')"
   ]
  },
  {
   "cell_type": "code",
   "execution_count": 376,
   "metadata": {},
   "outputs": [
    {
     "data": {
      "text/plain": [
       "3"
      ]
     },
     "execution_count": 376,
     "metadata": {},
     "output_type": "execute_result"
    }
   ],
   "source": [
    "grid_tree_small.best_estimator_.max_leaf_nodes"
   ]
  },
  {
   "cell_type": "code",
   "execution_count": 377,
   "metadata": {},
   "outputs": [
    {
     "data": {
      "image/png": "[encoded data removed]",
      "text/plain": [
       "<Figure size 720x288 with 1 Axes>"
      ]
     },
     "metadata": {},
     "output_type": "display_data"
    }
   ],
   "source": [
    "from sklearn.tree import plot_tree\n",
    "plt.figure(figsize=(10, 4))\n",
    "plot_tree(grid_tree_small.best_estimator_);"
   ]
  },
  {
   "cell_type": "code",
   "execution_count": 378,
   "metadata": {},
   "outputs": [
    {
     "data": {
      "image/png": "[encoded data removed]",
      "text/plain": [
       "<Figure size 432x288 with 1 Axes>"
      ]
     },
     "metadata": {},
     "output_type": "display_data"
    }
   ],
   "source": [
    "pd.DataFrame({'lasso': np.abs(lasso_small.coef_), 'ridge': np.abs(ridge_small.coef_), 'tree': grid_tree_small.best_estimator_.feature_importances_}).plot(kind='barh')\n",
    "plt.ylabel(\"feature index\")\n",
    "plt.xlabel(\"feature importance (abs of coef for linear models)\")\n",
    "plt.title(\"Tree model with 100 samples\")\n",
    "plt.savefig(\"images/tree_less_data.png\")"
   ]
  },
  {
   "cell_type": "markdown",
   "metadata": {},
   "source": [
    "# Feature Selection"
   ]
  },
  {
   "cell_type": "code",
   "execution_count": 7,
   "metadata": {
    "collapsed": true
   },
   "outputs": [],
   "source": [
    "from sklearn.datasets import load_boston\n",
    "from sklearn.model_selection import train_test_split"
   ]
  },
  {
   "cell_type": "code",
   "execution_count": 8,
   "metadata": {
    "collapsed": true
   },
   "outputs": [],
   "source": [
    "boston = load_boston()\n",
    "X, y = boston.data, boston.target\n",
    "X_train, X_test, y_train, y_test = train_test_split(X, y, random_state=0)"
   ]
  },
  {
   "cell_type": "code",
   "execution_count": 9,
   "metadata": {
    "collapsed": true
   },
   "outputs": [],
   "source": [
    "from sklearn.preprocessing import scale\n",
    "X_train_scaled = scale(X_train)\n",
    "cov = np.cov(X_train_scaled, rowvar=False)"
   ]
  },
  {
   "cell_type": "code",
   "execution_count": 10,
   "metadata": {
    "collapsed": false
   },
   "outputs": [
    {
     "data": {
      "image/png": "[encoded data removed]",
      "text/plain": [
       "<Figure size 800x800 with 1 Axes>"
      ]
     },
     "metadata": {},
     "output_type": "display_data"
    }
   ],
   "source": [
    "plt.figure(figsize=(8, 8), dpi=100)\n",
    "plt.imshow(cov)\n",
    "plt.xticks(range(X.shape[1]), boston.feature_names)\n",
    "plt.yticks(range(X.shape[1]), boston.feature_names);"
   ]
  },
  {
   "cell_type": "code",
   "execution_count": 11,
   "metadata": {
    "collapsed": false
   },
   "outputs": [],
   "source": [
    "from scipy.cluster import hierarchy\n",
    "order = np.array(hierarchy.dendrogram(hierarchy.ward(cov), no_plot=True)['ivl'], dtype=\"int\")"
   ]
  },
  {
   "cell_type": "code",
   "execution_count": 12,
   "metadata": {
    "collapsed": false
   },
   "outputs": [
    {
     "data": {
      "image/png": "[encoded data removed]",
      "text/plain": [
       "<Figure size 800x800 with 1 Axes>"
      ]
     },
     "metadata": {},
     "output_type": "display_data"
    }
   ],
   "source": [
    "plt.figure(figsize=(8, 8), dpi=100)\n",
    "plt.imshow(cov[order, :][:, order])\n",
    "plt.xticks(range(X.shape[1]), boston.feature_names[order])\n",
    "plt.yticks(range(X.shape[1]), boston.feature_names[order]);"
   ]
  },
  {
   "cell_type": "markdown",
   "metadata": {},
   "source": [
    "# Supervised feature selection"
   ]
  },
  {
   "cell_type": "code",
   "execution_count": 13,
   "metadata": {
    "collapsed": true
   },
   "outputs": [],
   "source": [
    "from sklearn.feature_selection import f_regression\n",
    "f_values, p_values = f_regression(X, y)"
   ]
  },
  {
   "cell_type": "code",
   "execution_count": 14,
   "metadata": {
    "collapsed": false
   },
   "outputs": [
    {
     "data": {
      "image/png": "[encoded data removed]",
      "text/plain": [
       "<Figure size 432x288 with 2 Axes>"
      ]
     },
     "metadata": {},
     "output_type": "display_data"
    }
   ],
   "source": [
    "fig, ax = plt.subplots(2, 1)\n",
    "ax[0].set_title(\"F values\")\n",
    "ax[0].plot(f_values, 'o')\n",
    "ax[1].set_title(\"p values\")\n",
    "ax[1].plot(p_values, 'o')\n",
    "ax[1].set_yscale(\"log\")\n",
    "\n",
    "ax[1].set_xticks(range(X.shape[1]))\n",
    "ax[1].set_xticklabels(boston.feature_names, rotation=50);\n",
    "fig.tight_layout()"
   ]
  },
  {
   "cell_type": "code",
   "execution_count": 15,
   "metadata": {
    "collapsed": false
   },
   "outputs": [
    {
     "name": "stdout",
     "output_type": "stream",
     "text": [
      "(379, 13)\n",
      "(379, 2)\n"
     ]
    }
   ],
   "source": [
    "from sklearn.feature_selection import SelectKBest, SelectPercentile, SelectFpr\n",
    "from sklearn.linear_model import RidgeCV\n",
    "\n",
    "select = SelectKBest(k=2, score_func=f_regression)\n",
    "select.fit(X_train, y_train)\n",
    "print(X_train.shape)\n",
    "print(select.transform(X_train).shape)"
   ]
  },
  {
   "cell_type": "code",
   "execution_count": 19,
   "metadata": {
    "collapsed": true
   },
   "outputs": [],
   "source": [
    "from sklearn.pipeline import make_pipeline\n",
    "from sklearn.preprocessing import StandardScaler\n",
    "all_features = make_pipeline(StandardScaler(), RidgeCV())\n",
    "select_2 = make_pipeline(StandardScaler(), SelectKBest(k=2, score_func=f_regression), RidgeCV())"
   ]
  },
  {
   "cell_type": "code",
   "execution_count": 21,
   "metadata": {
    "collapsed": false
   },
   "outputs": [
    {
     "data": {
      "text/plain": [
       "0.71795885107509"
      ]
     },
     "execution_count": 21,
     "metadata": {},
     "output_type": "execute_result"
    }
   ],
   "source": [
    "from sklearn.model_selection import cross_val_score\n",
    "np.mean(cross_val_score(all_features, X_train, y_train, cv=10))"
   ]
  },
  {
   "cell_type": "code",
   "execution_count": 22,
   "metadata": {
    "collapsed": false
   },
   "outputs": [
    {
     "data": {
      "text/plain": [
       "0.6243625749168433"
      ]
     },
     "execution_count": 22,
     "metadata": {},
     "output_type": "execute_result"
    }
   ],
   "source": [
    "np.mean(cross_val_score(select_2, X_train, y_train, cv=10))"
   ]
  },
  {
   "cell_type": "code",
   "execution_count": 23,
   "metadata": {
    "collapsed": false
   },
   "outputs": [
    {
     "data": {
      "text/plain": [
       "<matplotlib.legend.Legend at 0x7ffa18176da0>"
      ]
     },
     "execution_count": 23,
     "metadata": {},
     "output_type": "execute_result"
    },
    {
     "data": {
      "image/png": "[encoded data removed]",
      "text/plain": [
       "<Figure size 576x144 with 2 Axes>"
      ]
     },
     "metadata": {},
     "output_type": "display_data"
    }
   ],
   "source": [
    "from sklearn.feature_selection import mutual_info_regression\n",
    "scores = mutual_info_regression(X_train, y_train, discrete_features=[3])\n",
    "\n",
    "fig = plt.figure(figsize=(8, 2))\n",
    "line_f, = plt.plot(f_values, 'o', c='r')\n",
    "plt.ylabel(\"F value\")\n",
    "ax2 = plt.twinx()\n",
    "line_s, = ax2.plot(scores, 'o', alpha=.7)\n",
    "ax2.set_ylabel(\"MI score\")\n",
    "plt.xticks(range(X.shape[1]), boston.feature_names)\n",
    "plt.legend([line_s, line_f], [\"Mutual info scores\", \"F values\"], loc=(0, 1))"
   ]
  },
  {
   "cell_type": "code",
   "execution_count": 35,
   "metadata": {
    "collapsed": false
   },
   "outputs": [
    {
     "name": "stdout",
     "output_type": "stream",
     "text": [
      "[-0.          0.         -0.          0.         -0.          2.52933025\n",
      " -0.         -0.         -0.         -0.22763148 -1.70088382  0.13186059\n",
      " -3.60565498]\n"
     ]
    }
   ],
   "source": [
    "from sklearn.linear_model import Lasso\n",
    "X_train_scaled = scale(X_train)\n",
    "lasso = LassoCV().fit(X_train_scaled, y_train)\n",
    "print(lasso.coef_)"
   ]
  },
  {
   "cell_type": "code",
   "execution_count": 36,
   "metadata": {
    "collapsed": false
   },
   "outputs": [
    {
     "data": {
      "text/plain": [
       "<matplotlib.legend.Legend at 0x7ffa1a139e80>"
      ]
     },
     "execution_count": 36,
     "metadata": {},
     "output_type": "execute_result"
    },
    {
     "data": {
      "image/png": "[encoded data removed]",
      "text/plain": [
       "<Figure size 576x144 with 2 Axes>"
      ]
     },
     "metadata": {},
     "output_type": "display_data"
    }
   ],
   "source": [
    "fig = plt.figure(figsize=(8, 2))\n",
    "line_f, = plt.plot(f_values, 'o', c='r')\n",
    "plt.ylabel(\"F value\")\n",
    "ax2 = plt.twinx()\n",
    "ax2.set_ylabel(\"lasso coefficients\")\n",
    "line_s, = ax2.plot(np.abs(lasso.coef_), 'o', alpha=.7)\n",
    "plt.xticks(range(X.shape[1]), boston.feature_names)\n",
    "plt.legend([line_s, line_f], [\"Lasso coefficients abs\", \"F values\"], loc=(0, 1))"
   ]
  },
  {
   "cell_type": "code",
   "execution_count": 37,
   "metadata": {
    "collapsed": false
   },
   "outputs": [
    {
     "name": "stdout",
     "output_type": "stream",
     "text": [
      "[-0.          0.         -0.          0.         -0.          2.52933025\n",
      " -0.         -0.         -0.         -0.22763148 -1.70088382  0.13186059\n",
      " -3.60565498]\n"
     ]
    }
   ],
   "source": [
    "from sklearn.linear_model import Lasso\n",
    "X_train_scaled = scale(X_train)\n",
    "lasso = Lasso().fit(X_train_scaled, y_train)\n",
    "print(lasso.coef_)"
   ]
  },
  {
   "cell_type": "code",
   "execution_count": 38,
   "metadata": {
    "collapsed": false
   },
   "outputs": [
    {
     "data": {
      "text/plain": [
       "<matplotlib.legend.Legend at 0x7ffa1a07e978>"
      ]
     },
     "execution_count": 38,
     "metadata": {},
     "output_type": "execute_result"
    },
    {
     "data": {
      "image/png": "[encoded data removed]",
      "text/plain": [
       "<Figure size 576x144 with 2 Axes>"
      ]
     },
     "metadata": {},
     "output_type": "display_data"
    }
   ],
   "source": [
    "fig = plt.figure(figsize=(8, 2))\n",
    "line_f, = plt.plot(f_values, 'o', c='r')\n",
    "plt.ylabel(\"F value\")\n",
    "ax2 = plt.twinx()\n",
    "ax2.set_ylabel(\"lasso coefficients\")\n",
    "line_s, = ax2.plot(np.abs(lasso.coef_), 'o', alpha=.7)\n",
    "plt.xticks(range(X.shape[1]), boston.feature_names)\n",
    "plt.legend([line_s, line_f], [\"Lasso coefficients abs\", \"F values\"], loc=(0, 1))"
   ]
  },
  {
   "cell_type": "code",
   "execution_count": 40,
   "metadata": {},
   "outputs": [
    {
     "data": {
      "text/plain": [
       "(379, 13)"
      ]
     },
     "execution_count": 40,
     "metadata": {},
     "output_type": "execute_result"
    }
   ],
   "source": [
    "X_train.shape"
   ]
  },
  {
   "cell_type": "code",
   "execution_count": 44,
   "metadata": {
    "collapsed": false
   },
   "outputs": [
    {
     "name": "stdout",
     "output_type": "stream",
     "text": [
      "(379, 11)\n"
     ]
    }
   ],
   "source": [
    "from sklearn.feature_selection import SelectFromModel\n",
    "select_lassocv = SelectFromModel(LassoCV())\n",
    "select_lassocv.fit(X_train, y_train)\n",
    "print(select_lassocv.transform(X_train).shape)"
   ]
  },
  {
   "cell_type": "code",
   "execution_count": 45,
   "metadata": {
    "collapsed": false
   },
   "outputs": [
    {
     "data": {
      "text/plain": [
       "0.7171231551882247"
      ]
     },
     "execution_count": 45,
     "metadata": {},
     "output_type": "execute_result"
    }
   ],
   "source": [
    "pipe_lassocv = make_pipeline(StandardScaler(), select_lassocv, RidgeCV())\n",
    "np.mean(cross_val_score(pipe_lassocv, X_train, y_train, cv=10))"
   ]
  },
  {
   "cell_type": "code",
   "execution_count": 79,
   "metadata": {
    "collapsed": false
   },
   "outputs": [
    {
     "data": {
      "text/plain": [
       "0.71798347520832284"
      ]
     },
     "execution_count": 79,
     "metadata": {},
     "output_type": "execute_result"
    }
   ],
   "source": [
    "np.mean(cross_val_score(all_features, X_train, y_train, cv=10))"
   ]
  },
  {
   "cell_type": "code",
   "execution_count": 68,
   "metadata": {
    "collapsed": false
   },
   "outputs": [
    {
     "data": {
      "text/plain": [
       "0.67051240477576868"
      ]
     },
     "execution_count": 68,
     "metadata": {},
     "output_type": "execute_result"
    }
   ],
   "source": [
    "# could grid-search alpha in lasso\n",
    "select_lasso = SelectFromModel(Lasso())\n",
    "pipe_lasso = make_pipeline(StandardScaler(), select_lasso, RidgeCV())\n",
    "np.mean(cross_val_score(pipe_lasso, X_train, y_train, cv=10))"
   ]
  },
  {
   "cell_type": "code",
   "execution_count": 69,
   "metadata": {
    "collapsed": false
   },
   "outputs": [
    {
     "data": {
      "text/plain": [
       "array([ 9,  8, 13, 11,  5,  2, 12,  4,  7,  6,  3, 10,  1])"
      ]
     },
     "execution_count": 69,
     "metadata": {},
     "output_type": "execute_result"
    }
   ],
   "source": [
    "from sklearn.linear_model import LinearRegression\n",
    "from sklearn.feature_selection import RFE\n",
    "\n",
    "# create ranking among all features by selecting only one\n",
    "rfe = RFE(LinearRegression(), n_features_to_select=1)\n",
    "rfe.fit(X_train_scaled, y_train)\n",
    "rfe.ranking_"
   ]
  },
  {
   "cell_type": "code",
   "execution_count": 70,
   "metadata": {
    "collapsed": false
   },
   "outputs": [
    {
     "data": {
      "text/plain": [
       "<matplotlib.legend.Legend at 0x7f064678fb38>"
      ]
     },
     "execution_count": 70,
     "metadata": {},
     "output_type": "execute_result"
    },
    {
     "data": {
      "image/png": "[encoded data removed]",
      "text/plain": [
       "<matplotlib.figure.Figure at 0x7f0646908ef0>"
      ]
     },
     "metadata": {},
     "output_type": "display_data"
    }
   ],
   "source": [
    "lr = LinearRegression().fit(X_train_scaled, y_train)\n",
    "fig = plt.figure(figsize=(8, 2))\n",
    "line_f, = plt.plot(np.abs(lr.coef_), 'o', c='r')\n",
    "plt.ylabel(\"LR coefficients abs\")\n",
    "ax2 = plt.twinx()\n",
    "ax2.set_ylabel(\"1 - RFE ranking\")\n",
    "line_s, = ax2.plot(1 - rfe.ranking_, 'o', alpha=.7)\n",
    "plt.xticks(range(X.shape[1]), boston.feature_names)\n",
    "plt.legend([line_s, line_f], [\"RFE ranking\", \"LR coefficients\"], loc=(0, 1))"
   ]
  },
  {
   "cell_type": "code",
   "execution_count": 71,
   "metadata": {
    "collapsed": false
   },
   "outputs": [
    {
     "name": "stdout",
     "output_type": "stream",
     "text": [
      "[ True  True False  True  True  True False  True  True  True  True  True\n",
      "  True]\n",
      "['CRIM' 'ZN' 'CHAS' 'NOX' 'RM' 'DIS' 'RAD' 'TAX' 'PTRATIO' 'B' 'LSTAT']\n"
     ]
    }
   ],
   "source": [
    "from sklearn.linear_model import LinearRegression\n",
    "from sklearn.feature_selection import RFECV\n",
    "\n",
    "rfe = RFECV(LinearRegression(), cv=10)\n",
    "rfe.fit(X_train_scaled, y_train)\n",
    "print(rfe.support_)\n",
    "print(boston.feature_names[rfe.support_])"
   ]
  },
  {
   "cell_type": "code",
   "execution_count": 72,
   "metadata": {
    "collapsed": false
   },
   "outputs": [
    {
     "data": {
      "text/plain": [
       "0.71019583375843598"
      ]
     },
     "execution_count": 72,
     "metadata": {},
     "output_type": "execute_result"
    }
   ],
   "source": [
    "pipe_rfe_ridgecv = make_pipeline(StandardScaler(), RFECV(LinearRegression(), cv=10), RidgeCV())\n",
    "np.mean(cross_val_score(pipe_rfe_ridgecv, X_train, y_train, cv=10))"
   ]
  },
  {
   "cell_type": "code",
   "execution_count": 73,
   "metadata": {
    "collapsed": false
   },
   "outputs": [
    {
     "data": {
      "text/plain": [
       "0.82031507795494429"
      ]
     },
     "execution_count": 73,
     "metadata": {},
     "output_type": "execute_result"
    }
   ],
   "source": [
    "from sklearn.preprocessing import PolynomialFeatures\n",
    "pipe_rfe_ridgecv = make_pipeline(StandardScaler(), PolynomialFeatures(), RFECV(LinearRegression(), cv=10), RidgeCV())\n",
    "np.mean(cross_val_score(pipe_rfe_ridgecv, X_train, y_train, cv=10))"
   ]
  },
  {
   "cell_type": "code",
   "execution_count": 74,
   "metadata": {
    "collapsed": false
   },
   "outputs": [
    {
     "name": "stdout",
     "output_type": "stream",
     "text": [
      "[False  True  True  True False  True  True  True False  True  True False\n",
      "  True  True False  True  True  True  True False False False  True  True\n",
      "  True False False  True  True False  True False False False False  True\n",
      "  True  True False  True False False False  True  True  True  True  True\n",
      "  True  True False  True False False  True False False False  True False\n",
      " False False  True  True  True  True  True False False False  True  True\n",
      " False  True  True False False False False  True  True False  True  True\n",
      "  True  True False False  True  True  True  True  True  True  True  True\n",
      "  True False  True False  True False False False  True]\n"
     ]
    }
   ],
   "source": [
    "pipe_rfe_ridgecv.fit(X_train, y_train)\n",
    "print(pipe_rfe_ridgecv.named_steps['rfecv'].support_)"
   ]
  },
  {
   "cell_type": "code",
   "execution_count": 75,
   "metadata": {
    "collapsed": false
   },
   "outputs": [
    {
     "ename": "ModuleNotFoundError",
     "evalue": "No module named 'mlxtend'",
     "output_type": "error",
     "traceback": [
      "\u001b[0;31m---------------------------------------------------------------------------\u001b[0m",
      "\u001b[0;31mModuleNotFoundError\u001b[0m                       Traceback (most recent call last)",
      "\u001b[0;32m<ipython-input-75-2d5340964795>\u001b[0m in \u001b[0;36m<module>\u001b[0;34m()\u001b[0m\n\u001b[0;32m----> 1\u001b[0;31m \u001b[0;32mfrom\u001b[0m \u001b[0mmlxtend\u001b[0m\u001b[0;34m.\u001b[0m\u001b[0mfeature_selection\u001b[0m \u001b[0;32mimport\u001b[0m \u001b[0mSequentialFeatureSelector\u001b[0m\u001b[0;34m\u001b[0m\u001b[0m\n\u001b[0m\u001b[1;32m      2\u001b[0m \u001b[0msfs\u001b[0m \u001b[0;34m=\u001b[0m \u001b[0mSequentialFeatureSelector\u001b[0m\u001b[0;34m(\u001b[0m\u001b[0mLinearRegression\u001b[0m\u001b[0;34m(\u001b[0m\u001b[0;34m)\u001b[0m\u001b[0;34m,\u001b[0m \u001b[0mforward\u001b[0m\u001b[0;34m=\u001b[0m\u001b[0;32mFalse\u001b[0m\u001b[0;34m,\u001b[0m \u001b[0mk_features\u001b[0m\u001b[0;34m=\u001b[0m\u001b[0;36m7\u001b[0m\u001b[0;34m)\u001b[0m\u001b[0;34m\u001b[0m\u001b[0m\n\u001b[1;32m      3\u001b[0m \u001b[0msfs\u001b[0m\u001b[0;34m.\u001b[0m\u001b[0mfit\u001b[0m\u001b[0;34m(\u001b[0m\u001b[0mX_train_scaled\u001b[0m\u001b[0;34m,\u001b[0m \u001b[0my_train\u001b[0m\u001b[0;34m)\u001b[0m\u001b[0;34m\u001b[0m\u001b[0m\n",
      "\u001b[0;31mModuleNotFoundError\u001b[0m: No module named 'mlxtend'"
     ]
    }
   ],
   "source": [
    "from mlxtend.feature_selection import SequentialFeatureSelector\n",
    "sfs = SequentialFeatureSelector(LinearRegression(), forward=False, k_features=7)\n",
    "sfs.fit(X_train_scaled, y_train)"
   ]
  },
  {
   "cell_type": "code",
   "execution_count": null,
   "metadata": {
    "collapsed": false
   },
   "outputs": [],
   "source": [
    "print(sfs.k_feature_idx_)\n",
    "print(boston.feature_names[np.array(sfs.k_feature_idx_)])"
   ]
  },
  {
   "cell_type": "code",
   "execution_count": null,
   "metadata": {
    "collapsed": false
   },
   "outputs": [],
   "source": [
    "sfs.k_score_"
   ]
  },
  {
   "cell_type": "code",
   "execution_count": null,
   "metadata": {},
   "outputs": [],
   "source": []
  }
 ],
 "metadata": {
  "anaconda-cloud": {},
  "kernelspec": {
   "display_name": "Python 3",
   "language": "python",
   "name": "python3"
  },
  "language_info": {
   "codemirror_mode": {
    "name": "ipython",
    "version": 3
   },
   "file_extension": ".py",
   "mimetype": "text/x-python",
   "name": "python",
   "nbconvert_exporter": "python",
   "pygments_lexer": "ipython3",
   "version": "3.7.1"
  }
 },
 "nbformat": 4,
 "nbformat_minor": 2
}
