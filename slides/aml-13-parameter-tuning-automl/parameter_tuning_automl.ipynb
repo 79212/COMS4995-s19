{
 "cells": [
  {
   "cell_type": "code",
   "execution_count": 14,
   "metadata": {},
   "outputs": [],
   "source": [
    "#from halving import GridSuccessiveHalving\n",
    "import numpy as np\n",
    "\n",
    "import time\n",
    "from scipy.stats import randint as sp_randint\n",
    "\n",
    "from sklearn.model_selection import GridSearchCV\n",
    "from sklearn.model_selection import RandomizedSearchCV\n",
    "from sklearn.datasets import load_digits, fetch_openml\n",
    "from sklearn.ensemble import RandomForestClassifier\n",
    "from sklearn.model_selection import train_test_split\n",
    "import pandas as pd\n",
    "\n",
    "import matplotlib.pyplot as plt\n",
    "% matplotlib inline\n",
    "\n",
    "from joblib import Memory\n",
    "\n",
    "mem = Memory(location='/tmp')\n",
    "\n",
    "# get some data\n",
    "digits = load_digits()\n",
    "X, y = digits.data, digits.target\n",
    "@mem.cache\n",
    "def bla():\n",
    "    mnist = fetch_openml(\"mnist_784\")\n",
    "    return mnist.data, mnist.target\n",
    "\n",
    "# X, y = bla()\n",
    "X_train, X_test, y_train, y_test = train_test_split(X, y, stratify=y, random_state=0)\n",
    "\n",
    "# build a classifier\n",
    "clf = RandomForestClassifier(n_estimators=20)\n",
    "\n",
    "\n",
    "# Utility function to report best scores\n",
    "def report(results, n_top=3):\n",
    "    for i in range(1, n_top + 1):\n",
    "        candidates = np.flatnonzero(results['rank_test_score'] == i)\n",
    "        for candidate in candidates:\n",
    "            print(\"Model with rank: {0}\".format(i))\n",
    "            print(\"Mean validation score: {0:.3f} (std: {1:.3f})\".format(\n",
    "                  results['mean_test_score'][candidate],\n",
    "                  results['std_test_score'][candidate]))\n",
    "            print(\"Parameters: {0}\".format(results['params'][candidate]))\n",
    "            print(\"\")\n",
    "\n",
    "\n",
    "# specify parameters and distributions to sample from\n",
    "param_dist = {\"max_depth\": [3, None],\n",
    "              \"max_features\": sp_randint(1, 11),\n",
    "              \"min_samples_split\": sp_randint(2, 11),\n",
    "              \"bootstrap\": [True, False],\n",
    "              \"criterion\": [\"gini\", \"entropy\"]}\n",
    "\n",
    "\n",
    "\n",
    "# use a full grid over all parameters\n",
    "param_grid = {\"max_depth\": [3, None],\n",
    "              \"max_features\": [1, 3, 10],\n",
    "              \"min_samples_split\": [2, 3, 10],\n",
    "              \"bootstrap\": [True, False],\n",
    "              \"criterion\": [\"gini\", \"entropy\"]}\n"
   ]
  },
  {
   "cell_type": "code",
   "execution_count": 27,
   "metadata": {},
   "outputs": [
    {
     "data": {
      "text/plain": [
       "{'gamma': array([1.e-03, 1.e-02, 1.e-01, 1.e+00, 1.e+01, 1.e+02, 1.e+03]),\n",
       " 'C': array([1.e-03, 1.e-02, 1.e-01, 1.e+00, 1.e+01, 1.e+02, 1.e+03])}"
      ]
     },
     "execution_count": 27,
     "metadata": {},
     "output_type": "execute_result"
    }
   ],
   "source": [
    "from sklearn.svm import SVC\n",
    "param_grid = {'gamma': np.logspace(-3, 3, 7), 'C': np.logspace(-3, 3, 7)}\n",
    "param_grid"
   ]
  },
  {
   "cell_type": "code",
   "execution_count": 38,
   "metadata": {},
   "outputs": [
    {
     "name": "stderr",
     "output_type": "stream",
     "text": [
      "/home/andy/checkout/scikit-learn/sklearn/model_selection/_split.py:2184: FutureWarning: From version 0.21, test_size will always complement train_size unless both are specified.\n",
      "  FutureWarning)\n",
      "/home/andy/checkout/scikit-learn/sklearn/model_selection/_split.py:2184: FutureWarning: From version 0.21, test_size will always complement train_size unless both are specified.\n",
      "  FutureWarning)\n",
      "/home/andy/checkout/scikit-learn/sklearn/model_selection/_split.py:2184: FutureWarning: From version 0.21, test_size will always complement train_size unless both are specified.\n",
      "  FutureWarning)\n",
      "/home/andy/checkout/scikit-learn/sklearn/model_selection/_split.py:2184: FutureWarning: From version 0.21, test_size will always complement train_size unless both are specified.\n",
      "  FutureWarning)\n"
     ]
    }
   ],
   "source": [
    "tot_time = []\n",
    "results = []\n",
    "train_sizes = [0.1, 0.2, 0.4, 0.8]\n",
    "for train_size in train_sizes:\n",
    "    X_train, X_test, y_train, y_test = train_test_split(X / 16., y, stratify=y, random_state=1, train_size=.80)\n",
    "    grid_search = GridSearchCV(SVC(), param_grid=param_grid, cv=5, iid=False)\n",
    "    start = time.time()\n",
    "    grid_search.fit(X_train, y_train)\n",
    "    tot_time.append(time.time() - start)\n",
    "    res = pd.DataFrame(grid_search.cv_results_).pivot(index='param_C', columns='param_gamma', values='mean_test_score')\n",
    "    results.append(res)"
   ]
  },
  {
   "cell_type": "code",
   "execution_count": 37,
   "metadata": {},
   "outputs": [
    {
     "data": {
      "text/plain": [
       "<matplotlib.colorbar.Colorbar at 0x7f2b01f2df60>"
      ]
     },
     "execution_count": 37,
     "metadata": {},
     "output_type": "execute_result"
    },
    {
     "data": {
      "image/png": "[encoded data removed]",
      "text/plain": [
       "<Figure size 432x288 with 2 Axes>"
      ]
     },
     "metadata": {},
     "output_type": "display_data"
    }
   ],
   "source": [
    "fig, axes = plt.subplots(1, 4)\n",
    "for i, ax in enumerate(axes):\n",
    "    ax.imshow(results[i].values)\n",
    "    ax.set_title(\"Size: {}\\% time: {}\".format(train_sizes[i] * 100, tot_time[i]))"
   ]
  },
  {
   "cell_type": "code",
   "execution_count": null,
   "metadata": {},
   "outputs": [],
   "source": [
    "from sklearn.tree import DecisionTreeClassifier\n",
    "tree = DecisionTreeClassifier(max_features=2).fit(digits.data, digits.target)\n",
    "tree"
   ]
  },
  {
   "cell_type": "code",
   "execution_count": 20,
   "metadata": {},
   "outputs": [
    {
     "data": {
      "text/html": [
       "<div>\n",
       "<style scoped>\n",
       "    .dataframe tbody tr th:only-of-type {\n",
       "        vertical-align: middle;\n",
       "    }\n",
       "\n",
       "    .dataframe tbody tr th {\n",
       "        vertical-align: top;\n",
       "    }\n",
       "\n",
       "    .dataframe thead th {\n",
       "        text-align: right;\n",
       "    }\n",
       "</style>\n",
       "<table border=\"1\" class=\"dataframe\">\n",
       "  <thead>\n",
       "    <tr style=\"text-align: right;\">\n",
       "      <th>param_gamma</th>\n",
       "      <th>0.001</th>\n",
       "      <th>0.01</th>\n",
       "      <th>0.1</th>\n",
       "      <th>1.0</th>\n",
       "      <th>10.0</th>\n",
       "      <th>100.0</th>\n",
       "    </tr>\n",
       "    <tr>\n",
       "      <th>param_C</th>\n",
       "      <th></th>\n",
       "      <th></th>\n",
       "      <th></th>\n",
       "      <th></th>\n",
       "      <th></th>\n",
       "      <th></th>\n",
       "    </tr>\n",
       "  </thead>\n",
       "  <tbody>\n",
       "    <tr>\n",
       "      <th>0.001</th>\n",
       "      <td>0.837368</td>\n",
       "      <td>0.827368</td>\n",
       "      <td>0.837895</td>\n",
       "      <td>0.674211</td>\n",
       "      <td>0.293684</td>\n",
       "      <td>0.900000</td>\n",
       "    </tr>\n",
       "    <tr>\n",
       "      <th>0.010</th>\n",
       "      <td>0.837368</td>\n",
       "      <td>0.827368</td>\n",
       "      <td>0.837895</td>\n",
       "      <td>0.674211</td>\n",
       "      <td>0.293684</td>\n",
       "      <td>0.900000</td>\n",
       "    </tr>\n",
       "    <tr>\n",
       "      <th>0.100</th>\n",
       "      <td>0.837368</td>\n",
       "      <td>0.827368</td>\n",
       "      <td>0.837895</td>\n",
       "      <td>0.674211</td>\n",
       "      <td>0.293684</td>\n",
       "      <td>0.900000</td>\n",
       "    </tr>\n",
       "    <tr>\n",
       "      <th>1.000</th>\n",
       "      <td>0.837368</td>\n",
       "      <td>0.827368</td>\n",
       "      <td>0.878947</td>\n",
       "      <td>0.776316</td>\n",
       "      <td>0.313684</td>\n",
       "      <td>0.838947</td>\n",
       "    </tr>\n",
       "    <tr>\n",
       "      <th>10.000</th>\n",
       "      <td>0.837368</td>\n",
       "      <td>0.898947</td>\n",
       "      <td>0.899474</td>\n",
       "      <td>0.807368</td>\n",
       "      <td>0.333684</td>\n",
       "      <td>0.838947</td>\n",
       "    </tr>\n",
       "    <tr>\n",
       "      <th>100.000</th>\n",
       "      <td>0.898947</td>\n",
       "      <td>0.919474</td>\n",
       "      <td>0.899474</td>\n",
       "      <td>0.807368</td>\n",
       "      <td>0.333684</td>\n",
       "      <td>0.838947</td>\n",
       "    </tr>\n",
       "  </tbody>\n",
       "</table>\n",
       "</div>"
      ],
      "text/plain": [
       "param_gamma   0.001     0.010     0.100     1.000     10.000    100.000\n",
       "param_C                                                                \n",
       "0.001        0.837368  0.827368  0.837895  0.674211  0.293684  0.900000\n",
       "0.010        0.837368  0.827368  0.837895  0.674211  0.293684  0.900000\n",
       "0.100        0.837368  0.827368  0.837895  0.674211  0.293684  0.900000\n",
       "1.000        0.837368  0.827368  0.878947  0.776316  0.313684  0.838947\n",
       "10.000       0.837368  0.898947  0.899474  0.807368  0.333684  0.838947\n",
       "100.000      0.898947  0.919474  0.899474  0.807368  0.333684  0.838947"
      ]
     },
     "execution_count": 20,
     "metadata": {},
     "output_type": "execute_result"
    }
   ],
   "source": [
    "param_grid = {'max_depth': , 'max_features': [2, 4, 8, 16, 32, 64]}\n"
   ]
  },
  {
   "cell_type": "code",
   "execution_count": 8,
   "metadata": {},
   "outputs": [],
   "source": [
    "from  civismlext import HyperbandSearchCV"
   ]
  },
  {
   "cell_type": "code",
   "execution_count": 13,
   "metadata": {},
   "outputs": [],
   "source": [
    "hp = HyperbandSearchCV(clf, param_distributions=param_dist, cost_parameter_max={'n_estimators': 20}, cv=5, verbose=10)"
   ]
  },
  {
   "cell_type": "code",
   "execution_count": 14,
   "metadata": {},
   "outputs": [
    {
     "name": "stdout",
     "output_type": "stream",
     "text": [
      "Fitting 5 folds for each of 22 candidates, totalling 110 fits\n",
      "[CV] bootstrap=False, criterion=entropy, max_depth=None, max_features=5, min_samples_split=2, n_estimators=2 \n"
     ]
    },
    {
     "name": "stderr",
     "output_type": "stream",
     "text": [
      "[Parallel(n_jobs=1)]: Using backend SequentialBackend with 1 concurrent workers.\n"
     ]
    },
    {
     "name": "stdout",
     "output_type": "stream",
     "text": [
      "[CV]  bootstrap=False, criterion=entropy, max_depth=None, max_features=5, min_samples_split=2, n_estimators=2, score=(train=1.000, test=0.766), total=   0.7s\n",
      "[CV] bootstrap=False, criterion=entropy, max_depth=None, max_features=5, min_samples_split=2, n_estimators=2 \n"
     ]
    },
    {
     "name": "stderr",
     "output_type": "stream",
     "text": [
      "[Parallel(n_jobs=1)]: Done   1 out of   1 | elapsed:    0.9s remaining:    0.0s\n"
     ]
    },
    {
     "name": "stdout",
     "output_type": "stream",
     "text": [
      "[CV]  bootstrap=False, criterion=entropy, max_depth=None, max_features=5, min_samples_split=2, n_estimators=2, score=(train=1.000, test=0.757), total=   0.7s\n",
      "[CV] bootstrap=False, criterion=entropy, max_depth=None, max_features=5, min_samples_split=2, n_estimators=2 \n"
     ]
    },
    {
     "name": "stderr",
     "output_type": "stream",
     "text": [
      "[Parallel(n_jobs=1)]: Done   2 out of   2 | elapsed:    1.7s remaining:    0.0s\n"
     ]
    },
    {
     "name": "stdout",
     "output_type": "stream",
     "text": [
      "[CV]  bootstrap=False, criterion=entropy, max_depth=None, max_features=5, min_samples_split=2, n_estimators=2, score=(train=1.000, test=0.758), total=   0.6s\n",
      "[CV] bootstrap=False, criterion=entropy, max_depth=None, max_features=5, min_samples_split=2, n_estimators=2 \n"
     ]
    },
    {
     "name": "stderr",
     "output_type": "stream",
     "text": [
      "[Parallel(n_jobs=1)]: Done   3 out of   3 | elapsed:    2.5s remaining:    0.0s\n"
     ]
    },
    {
     "name": "stdout",
     "output_type": "stream",
     "text": [
      "[CV]  bootstrap=False, criterion=entropy, max_depth=None, max_features=5, min_samples_split=2, n_estimators=2, score=(train=1.000, test=0.750), total=   0.7s\n",
      "[CV] bootstrap=False, criterion=entropy, max_depth=None, max_features=5, min_samples_split=2, n_estimators=2 \n"
     ]
    },
    {
     "name": "stderr",
     "output_type": "stream",
     "text": [
      "[Parallel(n_jobs=1)]: Done   4 out of   4 | elapsed:    3.5s remaining:    0.0s\n"
     ]
    },
    {
     "name": "stdout",
     "output_type": "stream",
     "text": [
      "[CV]  bootstrap=False, criterion=entropy, max_depth=None, max_features=5, min_samples_split=2, n_estimators=2, score=(train=1.000, test=0.753), total=   0.7s\n",
      "[CV] bootstrap=True, criterion=entropy, max_depth=3, max_features=2, min_samples_split=6, n_estimators=2 \n"
     ]
    },
    {
     "name": "stderr",
     "output_type": "stream",
     "text": [
      "[Parallel(n_jobs=1)]: Done   5 out of   5 | elapsed:    4.4s remaining:    0.0s\n"
     ]
    },
    {
     "name": "stdout",
     "output_type": "stream",
     "text": [
      "[CV]  bootstrap=True, criterion=entropy, max_depth=3, max_features=2, min_samples_split=6, n_estimators=2, score=(train=0.339, test=0.344), total=   0.3s\n",
      "[CV] bootstrap=True, criterion=entropy, max_depth=3, max_features=2, min_samples_split=6, n_estimators=2 \n"
     ]
    },
    {
     "name": "stderr",
     "output_type": "stream",
     "text": [
      "[Parallel(n_jobs=1)]: Done   6 out of   6 | elapsed:    4.9s remaining:    0.0s\n"
     ]
    },
    {
     "name": "stdout",
     "output_type": "stream",
     "text": [
      "[CV]  bootstrap=True, criterion=entropy, max_depth=3, max_features=2, min_samples_split=6, n_estimators=2, score=(train=0.277, test=0.277), total=   0.3s\n",
      "[CV] bootstrap=True, criterion=entropy, max_depth=3, max_features=2, min_samples_split=6, n_estimators=2 \n"
     ]
    },
    {
     "name": "stderr",
     "output_type": "stream",
     "text": [
      "[Parallel(n_jobs=1)]: Done   7 out of   7 | elapsed:    5.3s remaining:    0.0s\n"
     ]
    },
    {
     "name": "stdout",
     "output_type": "stream",
     "text": [
      "[CV]  bootstrap=True, criterion=entropy, max_depth=3, max_features=2, min_samples_split=6, n_estimators=2, score=(train=0.366, test=0.366), total=   0.5s\n",
      "[CV] bootstrap=True, criterion=entropy, max_depth=3, max_features=2, min_samples_split=6, n_estimators=2 \n"
     ]
    },
    {
     "name": "stderr",
     "output_type": "stream",
     "text": [
      "[Parallel(n_jobs=1)]: Done   8 out of   8 | elapsed:    6.0s remaining:    0.0s\n"
     ]
    },
    {
     "name": "stdout",
     "output_type": "stream",
     "text": [
      "[CV]  bootstrap=True, criterion=entropy, max_depth=3, max_features=2, min_samples_split=6, n_estimators=2, score=(train=0.359, test=0.360), total=   0.3s\n",
      "[CV] bootstrap=True, criterion=entropy, max_depth=3, max_features=2, min_samples_split=6, n_estimators=2 \n"
     ]
    },
    {
     "name": "stderr",
     "output_type": "stream",
     "text": [
      "[Parallel(n_jobs=1)]: Done   9 out of   9 | elapsed:    6.5s remaining:    0.0s\n"
     ]
    },
    {
     "name": "stdout",
     "output_type": "stream",
     "text": [
      "[CV]  bootstrap=True, criterion=entropy, max_depth=3, max_features=2, min_samples_split=6, n_estimators=2, score=(train=0.387, test=0.383), total=   0.3s\n",
      "[CV] bootstrap=True, criterion=gini, max_depth=3, max_features=3, min_samples_split=4, n_estimators=2 \n",
      "[CV]  bootstrap=True, criterion=gini, max_depth=3, max_features=3, min_samples_split=4, n_estimators=2, score=(train=0.364, test=0.358), total=   0.3s\n",
      "[CV] bootstrap=True, criterion=gini, max_depth=3, max_features=3, min_samples_split=4, n_estimators=2 \n",
      "[CV]  bootstrap=True, criterion=gini, max_depth=3, max_features=3, min_samples_split=4, n_estimators=2, score=(train=0.368, test=0.371), total=   0.3s\n",
      "[CV] bootstrap=True, criterion=gini, max_depth=3, max_features=3, min_samples_split=4, n_estimators=2 \n",
      "[CV]  bootstrap=True, criterion=gini, max_depth=3, max_features=3, min_samples_split=4, n_estimators=2, score=(train=0.421, test=0.420), total=   0.3s\n",
      "[CV] bootstrap=True, criterion=gini, max_depth=3, max_features=3, min_samples_split=4, n_estimators=2 \n",
      "[CV]  bootstrap=True, criterion=gini, max_depth=3, max_features=3, min_samples_split=4, n_estimators=2, score=(train=0.393, test=0.385), total=   0.3s\n",
      "[CV] bootstrap=True, criterion=gini, max_depth=3, max_features=3, min_samples_split=4, n_estimators=2 \n",
      "[CV]  bootstrap=True, criterion=gini, max_depth=3, max_features=3, min_samples_split=4, n_estimators=2, score=(train=0.370, test=0.368), total=   0.3s\n",
      "[CV] bootstrap=True, criterion=gini, max_depth=None, max_features=2, min_samples_split=4, n_estimators=2 \n",
      "[CV]  bootstrap=True, criterion=gini, max_depth=None, max_features=2, min_samples_split=4, n_estimators=2, score=(train=0.891, test=0.726), total=   0.4s\n",
      "[CV] bootstrap=True, criterion=gini, max_depth=None, max_features=2, min_samples_split=4, n_estimators=2 \n",
      "[CV]  bootstrap=True, criterion=gini, max_depth=None, max_features=2, min_samples_split=4, n_estimators=2, score=(train=0.892, test=0.737), total=   0.6s\n",
      "[CV] bootstrap=True, criterion=gini, max_depth=None, max_features=2, min_samples_split=4, n_estimators=2 \n",
      "[CV]  bootstrap=True, criterion=gini, max_depth=None, max_features=2, min_samples_split=4, n_estimators=2, score=(train=0.893, test=0.738), total=   0.4s\n",
      "[CV] bootstrap=True, criterion=gini, max_depth=None, max_features=2, min_samples_split=4, n_estimators=2 \n",
      "[CV]  bootstrap=True, criterion=gini, max_depth=None, max_features=2, min_samples_split=4, n_estimators=2, score=(train=0.894, test=0.727), total=   0.5s\n",
      "[CV] bootstrap=True, criterion=gini, max_depth=None, max_features=2, min_samples_split=4, n_estimators=2 \n",
      "[CV]  bootstrap=True, criterion=gini, max_depth=None, max_features=2, min_samples_split=4, n_estimators=2, score=(train=0.895, test=0.740), total=   0.4s\n",
      "[CV] bootstrap=False, criterion=gini, max_depth=None, max_features=3, min_samples_split=5, n_estimators=2 \n",
      "[CV]  bootstrap=False, criterion=gini, max_depth=None, max_features=3, min_samples_split=5, n_estimators=2, score=(train=0.989, test=0.773), total=   0.5s\n",
      "[CV] bootstrap=False, criterion=gini, max_depth=None, max_features=3, min_samples_split=5, n_estimators=2 \n",
      "[CV]  bootstrap=False, criterion=gini, max_depth=None, max_features=3, min_samples_split=5, n_estimators=2, score=(train=0.990, test=0.772), total=   0.5s\n",
      "[CV] bootstrap=False, criterion=gini, max_depth=None, max_features=3, min_samples_split=5, n_estimators=2 \n",
      "[CV]  bootstrap=False, criterion=gini, max_depth=None, max_features=3, min_samples_split=5, n_estimators=2, score=(train=0.989, test=0.774), total=   0.6s\n",
      "[CV] bootstrap=False, criterion=gini, max_depth=None, max_features=3, min_samples_split=5, n_estimators=2 \n",
      "[CV]  bootstrap=False, criterion=gini, max_depth=None, max_features=3, min_samples_split=5, n_estimators=2, score=(train=0.989, test=0.773), total=   0.6s\n",
      "[CV] bootstrap=False, criterion=gini, max_depth=None, max_features=3, min_samples_split=5, n_estimators=2 \n",
      "[CV]  bootstrap=False, criterion=gini, max_depth=None, max_features=3, min_samples_split=5, n_estimators=2, score=(train=0.989, test=0.767), total=   0.5s\n",
      "[CV] bootstrap=True, criterion=gini, max_depth=None, max_features=10, min_samples_split=7, n_estimators=2 \n",
      "[CV]  bootstrap=True, criterion=gini, max_depth=None, max_features=10, min_samples_split=7, n_estimators=2, score=(train=0.918, test=0.810), total=   0.5s\n",
      "[CV] bootstrap=True, criterion=gini, max_depth=None, max_features=10, min_samples_split=7, n_estimators=2 \n",
      "[CV]  bootstrap=True, criterion=gini, max_depth=None, max_features=10, min_samples_split=7, n_estimators=2, score=(train=0.916, test=0.811), total=   0.7s\n",
      "[CV] bootstrap=True, criterion=gini, max_depth=None, max_features=10, min_samples_split=7, n_estimators=2 \n",
      "[CV]  bootstrap=True, criterion=gini, max_depth=None, max_features=10, min_samples_split=7, n_estimators=2, score=(train=0.921, test=0.814), total=   0.5s\n",
      "[CV] bootstrap=True, criterion=gini, max_depth=None, max_features=10, min_samples_split=7, n_estimators=2 \n",
      "[CV]  bootstrap=True, criterion=gini, max_depth=None, max_features=10, min_samples_split=7, n_estimators=2, score=(train=0.916, test=0.809), total=   0.5s\n",
      "[CV] bootstrap=True, criterion=gini, max_depth=None, max_features=10, min_samples_split=7, n_estimators=2 \n",
      "[CV]  bootstrap=True, criterion=gini, max_depth=None, max_features=10, min_samples_split=7, n_estimators=2, score=(train=0.917, test=0.804), total=   0.5s\n",
      "[CV] bootstrap=False, criterion=gini, max_depth=None, max_features=10, min_samples_split=7, n_estimators=2 \n",
      "[CV]  bootstrap=False, criterion=gini, max_depth=None, max_features=10, min_samples_split=7, n_estimators=2, score=(train=0.986, test=0.832), total=   0.7s\n",
      "[CV] bootstrap=False, criterion=gini, max_depth=None, max_features=10, min_samples_split=7, n_estimators=2 \n",
      "[CV]  bootstrap=False, criterion=gini, max_depth=None, max_features=10, min_samples_split=7, n_estimators=2, score=(train=0.987, test=0.833), total=   0.7s\n",
      "[CV] bootstrap=False, criterion=gini, max_depth=None, max_features=10, min_samples_split=7, n_estimators=2 \n",
      "[CV]  bootstrap=False, criterion=gini, max_depth=None, max_features=10, min_samples_split=7, n_estimators=2, score=(train=0.986, test=0.828), total=   0.6s\n",
      "[CV] bootstrap=False, criterion=gini, max_depth=None, max_features=10, min_samples_split=7, n_estimators=2 \n",
      "[CV]  bootstrap=False, criterion=gini, max_depth=None, max_features=10, min_samples_split=7, n_estimators=2, score=(train=0.987, test=0.825), total=   0.7s\n",
      "[CV] bootstrap=False, criterion=gini, max_depth=None, max_features=10, min_samples_split=7, n_estimators=2 \n",
      "[CV]  bootstrap=False, criterion=gini, max_depth=None, max_features=10, min_samples_split=7, n_estimators=2, score=(train=0.986, test=0.823), total=   0.7s\n",
      "[CV] bootstrap=False, criterion=gini, max_depth=None, max_features=1, min_samples_split=8, n_estimators=2 \n",
      "[CV]  bootstrap=False, criterion=gini, max_depth=None, max_features=1, min_samples_split=8, n_estimators=2, score=(train=0.964, test=0.773), total=   0.6s\n",
      "[CV] bootstrap=False, criterion=gini, max_depth=None, max_features=1, min_samples_split=8, n_estimators=2 \n",
      "[CV]  bootstrap=False, criterion=gini, max_depth=None, max_features=1, min_samples_split=8, n_estimators=2, score=(train=0.962, test=0.760), total=   0.5s\n",
      "[CV] bootstrap=False, criterion=gini, max_depth=None, max_features=1, min_samples_split=8, n_estimators=2 \n",
      "[CV]  bootstrap=False, criterion=gini, max_depth=None, max_features=1, min_samples_split=8, n_estimators=2, score=(train=0.964, test=0.765), total=   0.4s\n",
      "[CV] bootstrap=False, criterion=gini, max_depth=None, max_features=1, min_samples_split=8, n_estimators=2 \n",
      "[CV]  bootstrap=False, criterion=gini, max_depth=None, max_features=1, min_samples_split=8, n_estimators=2, score=(train=0.963, test=0.751), total=   0.4s\n",
      "[CV] bootstrap=False, criterion=gini, max_depth=None, max_features=1, min_samples_split=8, n_estimators=2 \n",
      "[CV]  bootstrap=False, criterion=gini, max_depth=None, max_features=1, min_samples_split=8, n_estimators=2, score=(train=0.963, test=0.760), total=   0.4s\n",
      "[CV] bootstrap=False, criterion=entropy, max_depth=3, max_features=6, min_samples_split=3, n_estimators=2 \n",
      "[CV]  bootstrap=False, criterion=entropy, max_depth=3, max_features=6, min_samples_split=3, n_estimators=2, score=(train=0.413, test=0.414), total=   0.3s\n",
      "[CV] bootstrap=False, criterion=entropy, max_depth=3, max_features=6, min_samples_split=3, n_estimators=2 \n",
      "[CV]  bootstrap=False, criterion=entropy, max_depth=3, max_features=6, min_samples_split=3, n_estimators=2, score=(train=0.402, test=0.402), total=   0.4s\n",
      "[CV] bootstrap=False, criterion=entropy, max_depth=3, max_features=6, min_samples_split=3, n_estimators=2 \n",
      "[CV]  bootstrap=False, criterion=entropy, max_depth=3, max_features=6, min_samples_split=3, n_estimators=2, score=(train=0.464, test=0.463), total=   0.4s\n",
      "[CV] bootstrap=False, criterion=entropy, max_depth=3, max_features=6, min_samples_split=3, n_estimators=2 \n",
      "[CV]  bootstrap=False, criterion=entropy, max_depth=3, max_features=6, min_samples_split=3, n_estimators=2, score=(train=0.458, test=0.458), total=   0.4s\n",
      "[CV] bootstrap=False, criterion=entropy, max_depth=3, max_features=6, min_samples_split=3, n_estimators=2 \n",
      "[CV]  bootstrap=False, criterion=entropy, max_depth=3, max_features=6, min_samples_split=3, n_estimators=2, score=(train=0.479, test=0.478), total=   0.4s\n",
      "[CV] bootstrap=True, criterion=gini, max_depth=3, max_features=10, min_samples_split=10, n_estimators=6 \n",
      "[CV]  bootstrap=True, criterion=gini, max_depth=3, max_features=10, min_samples_split=10, n_estimators=6, score=(train=0.613, test=0.615), total=   0.5s\n",
      "[CV] bootstrap=True, criterion=gini, max_depth=3, max_features=10, min_samples_split=10, n_estimators=6 \n",
      "[CV]  bootstrap=True, criterion=gini, max_depth=3, max_features=10, min_samples_split=10, n_estimators=6, score=(train=0.594, test=0.595), total=   0.5s\n",
      "[CV] bootstrap=True, criterion=gini, max_depth=3, max_features=10, min_samples_split=10, n_estimators=6 \n",
      "[CV]  bootstrap=True, criterion=gini, max_depth=3, max_features=10, min_samples_split=10, n_estimators=6, score=(train=0.582, test=0.586), total=   0.5s\n",
      "[CV] bootstrap=True, criterion=gini, max_depth=3, max_features=10, min_samples_split=10, n_estimators=6 \n",
      "[CV]  bootstrap=True, criterion=gini, max_depth=3, max_features=10, min_samples_split=10, n_estimators=6, score=(train=0.628, test=0.625), total=   0.5s\n",
      "[CV] bootstrap=True, criterion=gini, max_depth=3, max_features=10, min_samples_split=10, n_estimators=6 \n",
      "[CV]  bootstrap=True, criterion=gini, max_depth=3, max_features=10, min_samples_split=10, n_estimators=6, score=(train=0.580, test=0.582), total=   0.5s\n",
      "[CV] bootstrap=True, criterion=gini, max_depth=None, max_features=3, min_samples_split=3, n_estimators=6 \n",
      "[CV]  bootstrap=True, criterion=gini, max_depth=None, max_features=3, min_samples_split=3, n_estimators=6, score=(train=0.992, test=0.885), total=   0.7s\n",
      "[CV] bootstrap=True, criterion=gini, max_depth=None, max_features=3, min_samples_split=3, n_estimators=6 \n",
      "[CV]  bootstrap=True, criterion=gini, max_depth=None, max_features=3, min_samples_split=3, n_estimators=6, score=(train=0.992, test=0.883), total=   0.7s\n",
      "[CV] bootstrap=True, criterion=gini, max_depth=None, max_features=3, min_samples_split=3, n_estimators=6 \n",
      "[CV]  bootstrap=True, criterion=gini, max_depth=None, max_features=3, min_samples_split=3, n_estimators=6, score=(train=0.991, test=0.881), total=   0.7s\n",
      "[CV] bootstrap=True, criterion=gini, max_depth=None, max_features=3, min_samples_split=3, n_estimators=6 \n",
      "[CV]  bootstrap=True, criterion=gini, max_depth=None, max_features=3, min_samples_split=3, n_estimators=6, score=(train=0.992, test=0.878), total=   0.8s\n",
      "[CV] bootstrap=True, criterion=gini, max_depth=None, max_features=3, min_samples_split=3, n_estimators=6 \n",
      "[CV]  bootstrap=True, criterion=gini, max_depth=None, max_features=3, min_samples_split=3, n_estimators=6, score=(train=0.992, test=0.882), total=   0.8s\n",
      "[CV] bootstrap=True, criterion=entropy, max_depth=None, max_features=8, min_samples_split=5, n_estimators=6 \n",
      "[CV]  bootstrap=True, criterion=entropy, max_depth=None, max_features=8, min_samples_split=5, n_estimators=6, score=(train=0.989, test=0.910), total=   1.5s\n",
      "[CV] bootstrap=True, criterion=entropy, max_depth=None, max_features=8, min_samples_split=5, n_estimators=6 \n",
      "[CV]  bootstrap=True, criterion=entropy, max_depth=None, max_features=8, min_samples_split=5, n_estimators=6, score=(train=0.990, test=0.909), total=   1.2s\n",
      "[CV] bootstrap=True, criterion=entropy, max_depth=None, max_features=8, min_samples_split=5, n_estimators=6 \n",
      "[CV]  bootstrap=True, criterion=entropy, max_depth=None, max_features=8, min_samples_split=5, n_estimators=6, score=(train=0.990, test=0.909), total=   1.2s\n",
      "[CV] bootstrap=True, criterion=entropy, max_depth=None, max_features=8, min_samples_split=5, n_estimators=6 \n",
      "[CV]  bootstrap=True, criterion=entropy, max_depth=None, max_features=8, min_samples_split=5, n_estimators=6, score=(train=0.989, test=0.909), total=   1.2s\n",
      "[CV] bootstrap=True, criterion=entropy, max_depth=None, max_features=8, min_samples_split=5, n_estimators=6 \n",
      "[CV]  bootstrap=True, criterion=entropy, max_depth=None, max_features=8, min_samples_split=5, n_estimators=6, score=(train=0.990, test=0.911), total=   1.2s\n",
      "[CV] bootstrap=False, criterion=gini, max_depth=3, max_features=5, min_samples_split=4, n_estimators=6 \n",
      "[CV]  bootstrap=False, criterion=gini, max_depth=3, max_features=5, min_samples_split=4, n_estimators=6, score=(train=0.563, test=0.554), total=   0.4s\n",
      "[CV] bootstrap=False, criterion=gini, max_depth=3, max_features=5, min_samples_split=4, n_estimators=6 \n",
      "[CV]  bootstrap=False, criterion=gini, max_depth=3, max_features=5, min_samples_split=4, n_estimators=6, score=(train=0.534, test=0.532), total=   0.4s\n",
      "[CV] bootstrap=False, criterion=gini, max_depth=3, max_features=5, min_samples_split=4, n_estimators=6 \n",
      "[CV]  bootstrap=False, criterion=gini, max_depth=3, max_features=5, min_samples_split=4, n_estimators=6, score=(train=0.530, test=0.518), total=   0.4s\n",
      "[CV] bootstrap=False, criterion=gini, max_depth=3, max_features=5, min_samples_split=4, n_estimators=6 \n",
      "[CV]  bootstrap=False, criterion=gini, max_depth=3, max_features=5, min_samples_split=4, n_estimators=6, score=(train=0.528, test=0.529), total=   0.6s\n",
      "[CV] bootstrap=False, criterion=gini, max_depth=3, max_features=5, min_samples_split=4, n_estimators=6 \n",
      "[CV]  bootstrap=False, criterion=gini, max_depth=3, max_features=5, min_samples_split=4, n_estimators=6, score=(train=0.603, test=0.596), total=   0.4s\n",
      "[CV] bootstrap=False, criterion=gini, max_depth=3, max_features=10, min_samples_split=9, n_estimators=6 \n",
      "[CV]  bootstrap=False, criterion=gini, max_depth=3, max_features=10, min_samples_split=9, n_estimators=6, score=(train=0.631, test=0.624), total=   0.6s\n",
      "[CV] bootstrap=False, criterion=gini, max_depth=3, max_features=10, min_samples_split=9, n_estimators=6 \n",
      "[CV]  bootstrap=False, criterion=gini, max_depth=3, max_features=10, min_samples_split=9, n_estimators=6, score=(train=0.602, test=0.599), total=   0.8s\n",
      "[CV] bootstrap=False, criterion=gini, max_depth=3, max_features=10, min_samples_split=9, n_estimators=6 \n",
      "[CV]  bootstrap=False, criterion=gini, max_depth=3, max_features=10, min_samples_split=9, n_estimators=6, score=(train=0.622, test=0.625), total=   0.6s\n",
      "[CV] bootstrap=False, criterion=gini, max_depth=3, max_features=10, min_samples_split=9, n_estimators=6 \n",
      "[CV]  bootstrap=False, criterion=gini, max_depth=3, max_features=10, min_samples_split=9, n_estimators=6, score=(train=0.597, test=0.595), total=   0.6s\n",
      "[CV] bootstrap=False, criterion=gini, max_depth=3, max_features=10, min_samples_split=9, n_estimators=6 \n",
      "[CV]  bootstrap=False, criterion=gini, max_depth=3, max_features=10, min_samples_split=9, n_estimators=6, score=(train=0.605, test=0.606), total=   0.6s\n",
      "[CV] bootstrap=True, criterion=entropy, max_depth=3, max_features=10, min_samples_split=8, n_estimators=20 \n",
      "[CV]  bootstrap=True, criterion=entropy, max_depth=3, max_features=10, min_samples_split=8, n_estimators=20, score=(train=0.694, test=0.699), total=   1.0s\n",
      "[CV] bootstrap=True, criterion=entropy, max_depth=3, max_features=10, min_samples_split=8, n_estimators=20 \n",
      "[CV]  bootstrap=True, criterion=entropy, max_depth=3, max_features=10, min_samples_split=8, n_estimators=20, score=(train=0.712, test=0.710), total=   1.0s\n",
      "[CV] bootstrap=True, criterion=entropy, max_depth=3, max_features=10, min_samples_split=8, n_estimators=20 \n",
      "[CV]  bootstrap=True, criterion=entropy, max_depth=3, max_features=10, min_samples_split=8, n_estimators=20, score=(train=0.705, test=0.702), total=   1.0s\n",
      "[CV] bootstrap=True, criterion=entropy, max_depth=3, max_features=10, min_samples_split=8, n_estimators=20 \n",
      "[CV]  bootstrap=True, criterion=entropy, max_depth=3, max_features=10, min_samples_split=8, n_estimators=20, score=(train=0.721, test=0.715), total=   1.0s\n",
      "[CV] bootstrap=True, criterion=entropy, max_depth=3, max_features=10, min_samples_split=8, n_estimators=20 \n",
      "[CV]  bootstrap=True, criterion=entropy, max_depth=3, max_features=10, min_samples_split=8, n_estimators=20, score=(train=0.703, test=0.701), total=   1.0s\n",
      "[CV] bootstrap=False, criterion=gini, max_depth=3, max_features=4, min_samples_split=9, n_estimators=20 \n",
      "[CV]  bootstrap=False, criterion=gini, max_depth=3, max_features=4, min_samples_split=9, n_estimators=20, score=(train=0.684, test=0.685), total=   0.7s\n",
      "[CV] bootstrap=False, criterion=gini, max_depth=3, max_features=4, min_samples_split=9, n_estimators=20 \n",
      "[CV]  bootstrap=False, criterion=gini, max_depth=3, max_features=4, min_samples_split=9, n_estimators=20, score=(train=0.682, test=0.687), total=   0.7s\n",
      "[CV] bootstrap=False, criterion=gini, max_depth=3, max_features=4, min_samples_split=9, n_estimators=20 \n",
      "[CV]  bootstrap=False, criterion=gini, max_depth=3, max_features=4, min_samples_split=9, n_estimators=20, score=(train=0.703, test=0.700), total=   0.9s\n",
      "[CV] bootstrap=False, criterion=gini, max_depth=3, max_features=4, min_samples_split=9, n_estimators=20 \n",
      "[CV]  bootstrap=False, criterion=gini, max_depth=3, max_features=4, min_samples_split=9, n_estimators=20, score=(train=0.697, test=0.691), total=   0.8s\n",
      "[CV] bootstrap=False, criterion=gini, max_depth=3, max_features=4, min_samples_split=9, n_estimators=20 \n",
      "[CV]  bootstrap=False, criterion=gini, max_depth=3, max_features=4, min_samples_split=9, n_estimators=20, score=(train=0.699, test=0.696), total=   0.7s\n",
      "[CV] bootstrap=False, criterion=gini, max_depth=3, max_features=8, min_samples_split=10, n_estimators=20 \n",
      "[CV]  bootstrap=False, criterion=gini, max_depth=3, max_features=8, min_samples_split=10, n_estimators=20, score=(train=0.715, test=0.719), total=   1.2s\n",
      "[CV] bootstrap=False, criterion=gini, max_depth=3, max_features=8, min_samples_split=10, n_estimators=20 \n",
      "[CV]  bootstrap=False, criterion=gini, max_depth=3, max_features=8, min_samples_split=10, n_estimators=20, score=(train=0.714, test=0.709), total=   1.2s\n",
      "[CV] bootstrap=False, criterion=gini, max_depth=3, max_features=8, min_samples_split=10, n_estimators=20 \n",
      "[CV]  bootstrap=False, criterion=gini, max_depth=3, max_features=8, min_samples_split=10, n_estimators=20, score=(train=0.727, test=0.729), total=   1.1s\n",
      "[CV] bootstrap=False, criterion=gini, max_depth=3, max_features=8, min_samples_split=10, n_estimators=20 \n",
      "[CV]  bootstrap=False, criterion=gini, max_depth=3, max_features=8, min_samples_split=10, n_estimators=20, score=(train=0.725, test=0.728), total=   1.3s\n",
      "[CV] bootstrap=False, criterion=gini, max_depth=3, max_features=8, min_samples_split=10, n_estimators=20 \n",
      "[CV]  bootstrap=False, criterion=gini, max_depth=3, max_features=8, min_samples_split=10, n_estimators=20, score=(train=0.706, test=0.700), total=   1.3s\n",
      "[CV] bootstrap=False, criterion=gini, max_depth=None, max_features=3, min_samples_split=5, n_estimators=6 \n"
     ]
    },
    {
     "name": "stderr",
     "output_type": "stream",
     "text": [
      "[Parallel(n_jobs=1)]: Done  85 out of  85 | elapsed:  1.2min finished\n",
      "[Parallel(n_jobs=1)]: Using backend SequentialBackend with 1 concurrent workers.\n"
     ]
    },
    {
     "name": "stdout",
     "output_type": "stream",
     "text": [
      "[CV]  bootstrap=False, criterion=gini, max_depth=None, max_features=3, min_samples_split=5, n_estimators=6, score=(train=1.000, test=0.905), total=   0.9s\n",
      "[CV] bootstrap=False, criterion=gini, max_depth=None, max_features=3, min_samples_split=5, n_estimators=6 \n"
     ]
    },
    {
     "name": "stderr",
     "output_type": "stream",
     "text": [
      "[Parallel(n_jobs=1)]: Done   1 out of   1 | elapsed:    1.1s remaining:    0.0s\n"
     ]
    },
    {
     "name": "stdout",
     "output_type": "stream",
     "text": [
      "[CV]  bootstrap=False, criterion=gini, max_depth=None, max_features=3, min_samples_split=5, n_estimators=6, score=(train=1.000, test=0.905), total=   0.8s\n",
      "[CV] bootstrap=False, criterion=gini, max_depth=None, max_features=3, min_samples_split=5, n_estimators=6 \n"
     ]
    },
    {
     "name": "stderr",
     "output_type": "stream",
     "text": [
      "[Parallel(n_jobs=1)]: Done   2 out of   2 | elapsed:    2.3s remaining:    0.0s\n"
     ]
    },
    {
     "name": "stdout",
     "output_type": "stream",
     "text": [
      "[CV]  bootstrap=False, criterion=gini, max_depth=None, max_features=3, min_samples_split=5, n_estimators=6, score=(train=1.000, test=0.895), total=   0.8s\n",
      "[CV] bootstrap=False, criterion=gini, max_depth=None, max_features=3, min_samples_split=5, n_estimators=6 \n"
     ]
    },
    {
     "name": "stderr",
     "output_type": "stream",
     "text": [
      "[Parallel(n_jobs=1)]: Done   3 out of   3 | elapsed:    3.4s remaining:    0.0s\n"
     ]
    },
    {
     "name": "stdout",
     "output_type": "stream",
     "text": [
      "[CV]  bootstrap=False, criterion=gini, max_depth=None, max_features=3, min_samples_split=5, n_estimators=6, score=(train=1.000, test=0.899), total=   0.8s\n",
      "[CV] bootstrap=False, criterion=gini, max_depth=None, max_features=3, min_samples_split=5, n_estimators=6 \n"
     ]
    },
    {
     "name": "stderr",
     "output_type": "stream",
     "text": [
      "[Parallel(n_jobs=1)]: Done   4 out of   4 | elapsed:    4.5s remaining:    0.0s\n"
     ]
    },
    {
     "name": "stdout",
     "output_type": "stream",
     "text": [
      "[CV]  bootstrap=False, criterion=gini, max_depth=None, max_features=3, min_samples_split=5, n_estimators=6, score=(train=1.000, test=0.893), total=   1.0s\n",
      "[CV] bootstrap=True, criterion=gini, max_depth=None, max_features=10, min_samples_split=7, n_estimators=6 \n"
     ]
    },
    {
     "name": "stderr",
     "output_type": "stream",
     "text": [
      "[Parallel(n_jobs=1)]: Done   5 out of   5 | elapsed:    5.8s remaining:    0.0s\n"
     ]
    },
    {
     "name": "stdout",
     "output_type": "stream",
     "text": [
      "[CV]  bootstrap=True, criterion=gini, max_depth=None, max_features=10, min_samples_split=7, n_estimators=6, score=(train=0.985, test=0.914), total=   1.0s\n",
      "[CV] bootstrap=True, criterion=gini, max_depth=None, max_features=10, min_samples_split=7, n_estimators=6 \n"
     ]
    },
    {
     "name": "stderr",
     "output_type": "stream",
     "text": [
      "[Parallel(n_jobs=1)]: Done   6 out of   6 | elapsed:    7.0s remaining:    0.0s\n"
     ]
    },
    {
     "name": "stdout",
     "output_type": "stream",
     "text": [
      "[CV]  bootstrap=True, criterion=gini, max_depth=None, max_features=10, min_samples_split=7, n_estimators=6, score=(train=0.986, test=0.916), total=   1.0s\n",
      "[CV] bootstrap=True, criterion=gini, max_depth=None, max_features=10, min_samples_split=7, n_estimators=6 \n"
     ]
    },
    {
     "name": "stderr",
     "output_type": "stream",
     "text": [
      "[Parallel(n_jobs=1)]: Done   7 out of   7 | elapsed:    8.3s remaining:    0.0s\n"
     ]
    },
    {
     "name": "stdout",
     "output_type": "stream",
     "text": [
      "[CV]  bootstrap=True, criterion=gini, max_depth=None, max_features=10, min_samples_split=7, n_estimators=6, score=(train=0.984, test=0.915), total=   1.0s\n",
      "[CV] bootstrap=True, criterion=gini, max_depth=None, max_features=10, min_samples_split=7, n_estimators=6 \n"
     ]
    },
    {
     "name": "stderr",
     "output_type": "stream",
     "text": [
      "[Parallel(n_jobs=1)]: Done   8 out of   8 | elapsed:    9.5s remaining:    0.0s\n"
     ]
    },
    {
     "name": "stdout",
     "output_type": "stream",
     "text": [
      "[CV]  bootstrap=True, criterion=gini, max_depth=None, max_features=10, min_samples_split=7, n_estimators=6, score=(train=0.986, test=0.914), total=   1.0s\n",
      "[CV] bootstrap=True, criterion=gini, max_depth=None, max_features=10, min_samples_split=7, n_estimators=6 \n"
     ]
    },
    {
     "name": "stderr",
     "output_type": "stream",
     "text": [
      "[Parallel(n_jobs=1)]: Done   9 out of   9 | elapsed:   10.8s remaining:    0.0s\n"
     ]
    },
    {
     "name": "stdout",
     "output_type": "stream",
     "text": [
      "[CV]  bootstrap=True, criterion=gini, max_depth=None, max_features=10, min_samples_split=7, n_estimators=6, score=(train=0.986, test=0.908), total=   1.0s\n",
      "[CV] bootstrap=False, criterion=gini, max_depth=None, max_features=10, min_samples_split=7, n_estimators=6 \n",
      "[CV]  bootstrap=False, criterion=gini, max_depth=None, max_features=10, min_samples_split=7, n_estimators=6, score=(train=0.999, test=0.931), total=   2.1s\n",
      "[CV] bootstrap=False, criterion=gini, max_depth=None, max_features=10, min_samples_split=7, n_estimators=6 \n",
      "[CV]  bootstrap=False, criterion=gini, max_depth=None, max_features=10, min_samples_split=7, n_estimators=6, score=(train=0.999, test=0.928), total=   2.4s\n",
      "[CV] bootstrap=False, criterion=gini, max_depth=None, max_features=10, min_samples_split=7, n_estimators=6 \n",
      "[CV]  bootstrap=False, criterion=gini, max_depth=None, max_features=10, min_samples_split=7, n_estimators=6, score=(train=0.999, test=0.922), total=   1.7s\n",
      "[CV] bootstrap=False, criterion=gini, max_depth=None, max_features=10, min_samples_split=7, n_estimators=6 \n",
      "[CV]  bootstrap=False, criterion=gini, max_depth=None, max_features=10, min_samples_split=7, n_estimators=6, score=(train=1.000, test=0.925), total=   1.4s\n",
      "[CV] bootstrap=False, criterion=gini, max_depth=None, max_features=10, min_samples_split=7, n_estimators=6 \n",
      "[CV]  bootstrap=False, criterion=gini, max_depth=None, max_features=10, min_samples_split=7, n_estimators=6, score=(train=1.000, test=0.919), total=   1.5s\n",
      "[CV] bootstrap=True, criterion=entropy, max_depth=None, max_features=8, min_samples_split=5, n_estimators=18 \n",
      "[CV]  bootstrap=True, criterion=entropy, max_depth=None, max_features=8, min_samples_split=5, n_estimators=18, score=(train=0.998, test=0.951), total=   4.3s\n",
      "[CV] bootstrap=True, criterion=entropy, max_depth=None, max_features=8, min_samples_split=5, n_estimators=18 \n",
      "[CV]  bootstrap=True, criterion=entropy, max_depth=None, max_features=8, min_samples_split=5, n_estimators=18, score=(train=0.998, test=0.945), total=   3.4s\n",
      "[CV] bootstrap=True, criterion=entropy, max_depth=None, max_features=8, min_samples_split=5, n_estimators=18 \n",
      "[CV]  bootstrap=True, criterion=entropy, max_depth=None, max_features=8, min_samples_split=5, n_estimators=18, score=(train=0.998, test=0.946), total=   3.1s\n",
      "[CV] bootstrap=True, criterion=entropy, max_depth=None, max_features=8, min_samples_split=5, n_estimators=18 \n",
      "[CV]  bootstrap=True, criterion=entropy, max_depth=None, max_features=8, min_samples_split=5, n_estimators=18, score=(train=0.999, test=0.950), total=   3.4s\n",
      "[CV] bootstrap=True, criterion=entropy, max_depth=None, max_features=8, min_samples_split=5, n_estimators=18 \n",
      "[CV]  bootstrap=True, criterion=entropy, max_depth=None, max_features=8, min_samples_split=5, n_estimators=18, score=(train=0.998, test=0.944), total=   3.4s\n",
      "[CV] bootstrap=False, criterion=gini, max_depth=None, max_features=10, min_samples_split=7, n_estimators=18 \n"
     ]
    },
    {
     "name": "stderr",
     "output_type": "stream",
     "text": [
      "[Parallel(n_jobs=1)]: Done  20 out of  20 | elapsed:   43.7s finished\n",
      "[Parallel(n_jobs=1)]: Using backend SequentialBackend with 1 concurrent workers.\n"
     ]
    },
    {
     "name": "stdout",
     "output_type": "stream",
     "text": [
      "[CV]  bootstrap=False, criterion=gini, max_depth=None, max_features=10, min_samples_split=7, n_estimators=18, score=(train=1.000, test=0.957), total=   4.2s\n",
      "[CV] bootstrap=False, criterion=gini, max_depth=None, max_features=10, min_samples_split=7, n_estimators=18 \n"
     ]
    },
    {
     "name": "stderr",
     "output_type": "stream",
     "text": [
      "[Parallel(n_jobs=1)]: Done   1 out of   1 | elapsed:    5.1s remaining:    0.0s\n"
     ]
    },
    {
     "name": "stdout",
     "output_type": "stream",
     "text": [
      "[CV]  bootstrap=False, criterion=gini, max_depth=None, max_features=10, min_samples_split=7, n_estimators=18, score=(train=1.000, test=0.957), total=   6.8s\n",
      "[CV] bootstrap=False, criterion=gini, max_depth=None, max_features=10, min_samples_split=7, n_estimators=18 \n"
     ]
    },
    {
     "name": "stderr",
     "output_type": "stream",
     "text": [
      "[Parallel(n_jobs=1)]: Done   2 out of   2 | elapsed:   12.6s remaining:    0.0s\n"
     ]
    },
    {
     "name": "stdout",
     "output_type": "stream",
     "text": [
      "[CV]  bootstrap=False, criterion=gini, max_depth=None, max_features=10, min_samples_split=7, n_estimators=18, score=(train=1.000, test=0.954), total=   6.5s\n",
      "[CV] bootstrap=False, criterion=gini, max_depth=None, max_features=10, min_samples_split=7, n_estimators=18 \n"
     ]
    },
    {
     "name": "stderr",
     "output_type": "stream",
     "text": [
      "[Parallel(n_jobs=1)]: Done   3 out of   3 | elapsed:   19.9s remaining:    0.0s\n"
     ]
    },
    {
     "name": "stdout",
     "output_type": "stream",
     "text": [
      "[CV]  bootstrap=False, criterion=gini, max_depth=None, max_features=10, min_samples_split=7, n_estimators=18, score=(train=1.000, test=0.952), total=   5.7s\n",
      "[CV] bootstrap=False, criterion=gini, max_depth=None, max_features=10, min_samples_split=7, n_estimators=18 \n"
     ]
    },
    {
     "name": "stderr",
     "output_type": "stream",
     "text": [
      "[Parallel(n_jobs=1)]: Done   4 out of   4 | elapsed:   26.3s remaining:    0.0s\n"
     ]
    },
    {
     "name": "stdout",
     "output_type": "stream",
     "text": [
      "[CV]  bootstrap=False, criterion=gini, max_depth=None, max_features=10, min_samples_split=7, n_estimators=18, score=(train=1.000, test=0.953), total=   6.8s\n"
     ]
    },
    {
     "name": "stderr",
     "output_type": "stream",
     "text": [
      "[Parallel(n_jobs=1)]: Done   5 out of   5 | elapsed:   33.8s remaining:    0.0s\n",
      "[Parallel(n_jobs=1)]: Done   5 out of   5 | elapsed:   33.8s finished\n"
     ]
    },
    {
     "data": {
      "text/plain": [
       "HyperbandSearchCV(cost_parameter_max={'n_estimators': 20},\n",
       "                  cost_parameter_min=None, cv=5, error_score='raise',\n",
       "                  estimator=RandomForestClassifier(bootstrap=True,\n",
       "                                                   class_weight=None,\n",
       "                                                   criterion='gini',\n",
       "               ...': <scipy.stats._distn_infrastructure.rv_frozen object at 0x7f39c402a128>,\n",
       "                                       'min_samples_split': <scipy.stats._distn_infrastructure.rv_frozen object at 0x7f399467d5c0>},\n",
       "                  pre_dispatch='2*n_jobs', random_state=None, refit=True,\n",
       "                  return_train_score=True, scoring=None, verbose=10)"
      ]
     },
     "execution_count": 14,
     "metadata": {},
     "output_type": "execute_result"
    }
   ],
   "source": [
    "hp.fit(X_train, y_train)"
   ]
  },
  {
   "cell_type": "code",
   "execution_count": 22,
   "metadata": {},
   "outputs": [
    {
     "name": "stdout",
     "output_type": "stream",
     "text": [
      "7\n",
      "Fitting 5 folds for each of 72 candidates, totalling 360 fits\n",
      "[CV] bootstrap=True, criterion=gini, max_depth=3, max_features=1, min_samples_split=2 \n",
      "[CV]  bootstrap=True, criterion=gini, max_depth=3, max_features=1, min_samples_split=2, score=(train=0.846, test=0.346), total=   0.0s\n",
      "[CV] bootstrap=True, criterion=gini, max_depth=3, max_features=1, min_samples_split=2 \n",
      "[CV]  bootstrap=True, criterion=gini, max_depth=3, max_features=1, min_samples_split=2, score=(train=0.805, test=0.455), total=   0.0s\n",
      "[CV] bootstrap=True, criterion=gini, max_depth=3, max_features=1, min_samples_split=2 \n",
      "[CV]  bootstrap=True, criterion=gini, max_depth=3, max_features=1, min_samples_split=2, score=(train=0.771, test=0.381), total=   0.0s\n",
      "[CV] bootstrap=True, criterion=gini, max_depth=3, max_features=1, min_samples_split=2 \n",
      "[CV]  bootstrap=True, criterion=gini, max_depth=3, max_features=1, min_samples_split=2, score=(train=0.826, test=0.444), total=   0.0s\n",
      "[CV] bootstrap=True, criterion=gini, max_depth=3, max_features=1, min_samples_split=2 \n",
      "[CV]  bootstrap=True, criterion=gini, max_depth=3, max_features=1, min_samples_split=2, score=(train=0.839, test=0.529), total=   0.0s\n",
      "[CV] bootstrap=True, criterion=gini, max_depth=3, max_features=1, min_samples_split=3 \n",
      "[CV]  bootstrap=True, criterion=gini, max_depth=3, max_features=1, min_samples_split=3, score=(train=0.833, test=0.385), total=   0.0s\n",
      "[CV] bootstrap=True, criterion=gini, max_depth=3, max_features=1, min_samples_split=3 \n",
      "[CV]  bootstrap=True, criterion=gini, max_depth=3, max_features=1, min_samples_split=3, score=(train=0.768, test=0.545), total=   0.0s\n",
      "[CV] bootstrap=True, criterion=gini, max_depth=3, max_features=1, min_samples_split=3 \n",
      "[CV]  bootstrap=True, criterion=gini, max_depth=3, max_features=1, min_samples_split=3, score=(train=0.795, test=0.381), total=   0.0s\n",
      "[CV] bootstrap=True, criterion=gini, max_depth=3, max_features=1, min_samples_split=3 \n",
      "[CV]  bootstrap=True, criterion=gini, max_depth=3, max_features=1, min_samples_split=3, score=(train=0.802, test=0.611), total=   0.0s\n",
      "[CV] bootstrap=True, criterion=gini, max_depth=3, max_features=1, min_samples_split=3 \n",
      "[CV]  bootstrap=True, criterion=gini, max_depth=3, max_features=1, min_samples_split=3, score=(train=0.793, test=0.471), total=   0.0s\n",
      "[CV] bootstrap=True, criterion=gini, max_depth=3, max_features=1, min_samples_split=10 \n"
     ]
    },
    {
     "name": "stderr",
     "output_type": "stream",
     "text": [
      "[Parallel(n_jobs=1)]: Using backend SequentialBackend with 1 concurrent workers.\n",
      "[Parallel(n_jobs=1)]: Done   1 out of   1 | elapsed:    0.0s remaining:    0.0s\n",
      "[Parallel(n_jobs=1)]: Done   2 out of   2 | elapsed:    0.1s remaining:    0.0s\n",
      "[Parallel(n_jobs=1)]: Done   3 out of   3 | elapsed:    0.1s remaining:    0.0s\n",
      "[Parallel(n_jobs=1)]: Done   4 out of   4 | elapsed:    0.1s remaining:    0.0s\n",
      "[Parallel(n_jobs=1)]: Done   5 out of   5 | elapsed:    0.1s remaining:    0.0s\n",
      "[Parallel(n_jobs=1)]: Done   6 out of   6 | elapsed:    0.1s remaining:    0.0s\n",
      "[Parallel(n_jobs=1)]: Done   7 out of   7 | elapsed:    0.1s remaining:    0.0s\n",
      "[Parallel(n_jobs=1)]: Done   8 out of   8 | elapsed:    0.2s remaining:    0.0s\n",
      "[Parallel(n_jobs=1)]: Done   9 out of   9 | elapsed:    0.2s remaining:    0.0s\n"
     ]
    },
    {
     "name": "stdout",
     "output_type": "stream",
     "text": [
      "[CV]  bootstrap=True, criterion=gini, max_depth=3, max_features=1, min_samples_split=10, score=(train=0.756, test=0.385), total=   0.0s\n",
      "[CV] bootstrap=True, criterion=gini, max_depth=3, max_features=1, min_samples_split=10 \n",
      "[CV]  bootstrap=True, criterion=gini, max_depth=3, max_features=1, min_samples_split=10, score=(train=0.768, test=0.455), total=   0.0s\n",
      "[CV] bootstrap=True, criterion=gini, max_depth=3, max_features=1, min_samples_split=10 \n",
      "[CV]  bootstrap=True, criterion=gini, max_depth=3, max_features=1, min_samples_split=10, score=(train=0.747, test=0.524), total=   0.0s\n",
      "[CV] bootstrap=True, criterion=gini, max_depth=3, max_features=1, min_samples_split=10 \n",
      "[CV]  bootstrap=True, criterion=gini, max_depth=3, max_features=1, min_samples_split=10, score=(train=0.744, test=0.389), total=   0.0s\n",
      "[CV] bootstrap=True, criterion=gini, max_depth=3, max_features=1, min_samples_split=10 \n",
      "[CV]  bootstrap=True, criterion=gini, max_depth=3, max_features=1, min_samples_split=10, score=(train=0.690, test=0.353), total=   0.0s\n",
      "[CV] bootstrap=True, criterion=gini, max_depth=3, max_features=3, min_samples_split=2 \n",
      "[CV]  bootstrap=True, criterion=gini, max_depth=3, max_features=3, min_samples_split=2, score=(train=0.859, test=0.346), total=   0.0s\n",
      "[CV] bootstrap=True, criterion=gini, max_depth=3, max_features=3, min_samples_split=2 \n",
      "[CV]  bootstrap=True, criterion=gini, max_depth=3, max_features=3, min_samples_split=2, score=(train=0.878, test=0.545), total=   0.0s\n",
      "[CV] bootstrap=True, criterion=gini, max_depth=3, max_features=3, min_samples_split=2 \n",
      "[CV]  bootstrap=True, criterion=gini, max_depth=3, max_features=3, min_samples_split=2, score=(train=0.843, test=0.524), total=   0.0s\n",
      "[CV] bootstrap=True, criterion=gini, max_depth=3, max_features=3, min_samples_split=2 \n",
      "[CV]  bootstrap=True, criterion=gini, max_depth=3, max_features=3, min_samples_split=2, score=(train=0.895, test=0.611), total=   0.1s\n",
      "[CV] bootstrap=True, criterion=gini, max_depth=3, max_features=3, min_samples_split=2 \n",
      "[CV]  bootstrap=True, criterion=gini, max_depth=3, max_features=3, min_samples_split=2, score=(train=0.839, test=0.471), total=   0.0s\n",
      "[CV] bootstrap=True, criterion=gini, max_depth=3, max_features=3, min_samples_split=3 \n",
      "[CV]  bootstrap=True, criterion=gini, max_depth=3, max_features=3, min_samples_split=3, score=(train=0.821, test=0.423), total=   0.0s\n",
      "[CV] bootstrap=True, criterion=gini, max_depth=3, max_features=3, min_samples_split=3 \n",
      "[CV]  bootstrap=True, criterion=gini, max_depth=3, max_features=3, min_samples_split=3, score=(train=0.793, test=0.500), total=   0.0s\n",
      "[CV] bootstrap=True, criterion=gini, max_depth=3, max_features=3, min_samples_split=3 \n",
      "[CV]  bootstrap=True, criterion=gini, max_depth=3, max_features=3, min_samples_split=3, score=(train=0.831, test=0.476), total=   0.0s\n",
      "[CV] bootstrap=True, criterion=gini, max_depth=3, max_features=3, min_samples_split=3 \n",
      "[CV]  bootstrap=True, criterion=gini, max_depth=3, max_features=3, min_samples_split=3, score=(train=0.767, test=0.444), total=   0.0s\n",
      "[CV] bootstrap=True, criterion=gini, max_depth=3, max_features=3, min_samples_split=3 \n",
      "[CV]  bootstrap=True, criterion=gini, max_depth=3, max_features=3, min_samples_split=3, score=(train=0.793, test=0.412), total=   0.0s\n",
      "[CV] bootstrap=True, criterion=gini, max_depth=3, max_features=3, min_samples_split=10 \n",
      "[CV]  bootstrap=True, criterion=gini, max_depth=3, max_features=3, min_samples_split=10, score=(train=0.808, test=0.385), total=   0.0s\n",
      "[CV] bootstrap=True, criterion=gini, max_depth=3, max_features=3, min_samples_split=10 \n",
      "[CV]  bootstrap=True, criterion=gini, max_depth=3, max_features=3, min_samples_split=10, score=(train=0.805, test=0.455), total=   0.0s\n",
      "[CV] bootstrap=True, criterion=gini, max_depth=3, max_features=3, min_samples_split=10 \n",
      "[CV]  bootstrap=True, criterion=gini, max_depth=3, max_features=3, min_samples_split=10, score=(train=0.795, test=0.524), total=   0.0s\n",
      "[CV] bootstrap=True, criterion=gini, max_depth=3, max_features=3, min_samples_split=10 \n",
      "[CV]  bootstrap=True, criterion=gini, max_depth=3, max_features=3, min_samples_split=10, score=(train=0.802, test=0.333), total=   0.0s\n",
      "[CV] bootstrap=True, criterion=gini, max_depth=3, max_features=3, min_samples_split=10 \n",
      "[CV]  bootstrap=True, criterion=gini, max_depth=3, max_features=3, min_samples_split=10, score=(train=0.759, test=0.765), total=   0.0s\n",
      "[CV] bootstrap=True, criterion=gini, max_depth=3, max_features=10, min_samples_split=2 \n",
      "[CV]  bootstrap=True, criterion=gini, max_depth=3, max_features=10, min_samples_split=2, score=(train=0.885, test=0.423), total=   0.0s\n",
      "[CV] bootstrap=True, criterion=gini, max_depth=3, max_features=10, min_samples_split=2 \n",
      "[CV]  bootstrap=True, criterion=gini, max_depth=3, max_features=10, min_samples_split=2, score=(train=0.890, test=0.500), total=   0.0s\n",
      "[CV] bootstrap=True, criterion=gini, max_depth=3, max_features=10, min_samples_split=2 \n",
      "[CV]  bootstrap=True, criterion=gini, max_depth=3, max_features=10, min_samples_split=2, score=(train=0.843, test=0.476), total=   0.0s\n",
      "[CV] bootstrap=True, criterion=gini, max_depth=3, max_features=10, min_samples_split=2 \n",
      "[CV]  bootstrap=True, criterion=gini, max_depth=3, max_features=10, min_samples_split=2, score=(train=0.930, test=0.556), total=   0.0s\n",
      "[CV] bootstrap=True, criterion=gini, max_depth=3, max_features=10, min_samples_split=2 \n",
      "[CV]  bootstrap=True, criterion=gini, max_depth=3, max_features=10, min_samples_split=2, score=(train=0.908, test=0.529), total=   0.0s\n",
      "[CV] bootstrap=True, criterion=gini, max_depth=3, max_features=10, min_samples_split=3 \n",
      "[CV]  bootstrap=True, criterion=gini, max_depth=3, max_features=10, min_samples_split=3, score=(train=0.897, test=0.462), total=   0.0s\n",
      "[CV] bootstrap=True, criterion=gini, max_depth=3, max_features=10, min_samples_split=3 \n",
      "[CV]  bootstrap=True, criterion=gini, max_depth=3, max_features=10, min_samples_split=3, score=(train=0.878, test=0.636), total=   0.0s\n",
      "[CV] bootstrap=True, criterion=gini, max_depth=3, max_features=10, min_samples_split=3 \n",
      "[CV]  bootstrap=True, criterion=gini, max_depth=3, max_features=10, min_samples_split=3, score=(train=0.880, test=0.524), total=   0.0s\n",
      "[CV] bootstrap=True, criterion=gini, max_depth=3, max_features=10, min_samples_split=3 \n",
      "[CV]  bootstrap=True, criterion=gini, max_depth=3, max_features=10, min_samples_split=3, score=(train=0.860, test=0.556), total=   0.0s\n",
      "[CV] bootstrap=True, criterion=gini, max_depth=3, max_features=10, min_samples_split=3 \n",
      "[CV]  bootstrap=True, criterion=gini, max_depth=3, max_features=10, min_samples_split=3, score=(train=0.839, test=0.647), total=   0.0s\n",
      "[CV] bootstrap=True, criterion=gini, max_depth=3, max_features=10, min_samples_split=10 \n",
      "[CV]  bootstrap=True, criterion=gini, max_depth=3, max_features=10, min_samples_split=10, score=(train=0.885, test=0.423), total=   0.0s\n",
      "[CV] bootstrap=True, criterion=gini, max_depth=3, max_features=10, min_samples_split=10 \n",
      "[CV]  bootstrap=True, criterion=gini, max_depth=3, max_features=10, min_samples_split=10, score=(train=0.866, test=0.636), total=   0.0s\n",
      "[CV] bootstrap=True, criterion=gini, max_depth=3, max_features=10, min_samples_split=10 \n",
      "[CV]  bootstrap=True, criterion=gini, max_depth=3, max_features=10, min_samples_split=10, score=(train=0.831, test=0.429), total=   0.0s\n",
      "[CV] bootstrap=True, criterion=gini, max_depth=3, max_features=10, min_samples_split=10 \n",
      "[CV]  bootstrap=True, criterion=gini, max_depth=3, max_features=10, min_samples_split=10, score=(train=0.872, test=0.500), total=   0.0s\n",
      "[CV] bootstrap=True, criterion=gini, max_depth=3, max_features=10, min_samples_split=10 \n",
      "[CV]  bootstrap=True, criterion=gini, max_depth=3, max_features=10, min_samples_split=10, score=(train=0.862, test=0.471), total=   0.0s\n",
      "[CV] bootstrap=True, criterion=gini, max_depth=None, max_features=1, min_samples_split=2 \n",
      "[CV]  bootstrap=True, criterion=gini, max_depth=None, max_features=1, min_samples_split=2, score=(train=1.000, test=0.385), total=   0.0s\n",
      "[CV] bootstrap=True, criterion=gini, max_depth=None, max_features=1, min_samples_split=2 \n",
      "[CV]  bootstrap=True, criterion=gini, max_depth=None, max_features=1, min_samples_split=2, score=(train=1.000, test=0.727), total=   0.0s\n",
      "[CV] bootstrap=True, criterion=gini, max_depth=None, max_features=1, min_samples_split=2 \n",
      "[CV]  bootstrap=True, criterion=gini, max_depth=None, max_features=1, min_samples_split=2, score=(train=1.000, test=0.619), total=   0.0s\n",
      "[CV] bootstrap=True, criterion=gini, max_depth=None, max_features=1, min_samples_split=2 \n",
      "[CV]  bootstrap=True, criterion=gini, max_depth=None, max_features=1, min_samples_split=2, score=(train=1.000, test=0.556), total=   0.0s\n",
      "[CV] bootstrap=True, criterion=gini, max_depth=None, max_features=1, min_samples_split=2 \n",
      "[CV]  bootstrap=True, criterion=gini, max_depth=None, max_features=1, min_samples_split=2, score=(train=1.000, test=0.588), total=   0.0s\n",
      "[CV] bootstrap=True, criterion=gini, max_depth=None, max_features=1, min_samples_split=3 \n",
      "[CV]  bootstrap=True, criterion=gini, max_depth=None, max_features=1, min_samples_split=3, score=(train=1.000, test=0.423), total=   0.0s\n",
      "[CV] bootstrap=True, criterion=gini, max_depth=None, max_features=1, min_samples_split=3 \n",
      "[CV]  bootstrap=True, criterion=gini, max_depth=None, max_features=1, min_samples_split=3, score=(train=1.000, test=0.727), total=   0.0s\n",
      "[CV] bootstrap=True, criterion=gini, max_depth=None, max_features=1, min_samples_split=3 \n",
      "[CV]  bootstrap=True, criterion=gini, max_depth=None, max_features=1, min_samples_split=3, score=(train=1.000, test=0.429), total=   0.0s\n",
      "[CV] bootstrap=True, criterion=gini, max_depth=None, max_features=1, min_samples_split=3 \n",
      "[CV]  bootstrap=True, criterion=gini, max_depth=None, max_features=1, min_samples_split=3, score=(train=1.000, test=0.556), total=   0.0s\n",
      "[CV] bootstrap=True, criterion=gini, max_depth=None, max_features=1, min_samples_split=3 \n",
      "[CV]  bootstrap=True, criterion=gini, max_depth=None, max_features=1, min_samples_split=3, score=(train=1.000, test=0.706), total=   0.0s\n",
      "[CV] bootstrap=True, criterion=gini, max_depth=None, max_features=1, min_samples_split=10 \n",
      "[CV]  bootstrap=True, criterion=gini, max_depth=None, max_features=1, min_samples_split=10, score=(train=0.936, test=0.462), total=   0.0s\n",
      "[CV] bootstrap=True, criterion=gini, max_depth=None, max_features=1, min_samples_split=10 \n",
      "[CV]  bootstrap=True, criterion=gini, max_depth=None, max_features=1, min_samples_split=10, score=(train=0.951, test=0.591), total=   0.0s\n",
      "[CV] bootstrap=True, criterion=gini, max_depth=None, max_features=1, min_samples_split=10 \n",
      "[CV]  bootstrap=True, criterion=gini, max_depth=None, max_features=1, min_samples_split=10, score=(train=0.964, test=0.476), total=   0.0s\n",
      "[CV] bootstrap=True, criterion=gini, max_depth=None, max_features=1, min_samples_split=10 \n",
      "[CV]  bootstrap=True, criterion=gini, max_depth=None, max_features=1, min_samples_split=10, score=(train=0.930, test=0.500), total=   0.0s\n",
      "[CV] bootstrap=True, criterion=gini, max_depth=None, max_features=1, min_samples_split=10 \n",
      "[CV]  bootstrap=True, criterion=gini, max_depth=None, max_features=1, min_samples_split=10, score=(train=0.954, test=0.529), total=   0.0s\n",
      "[CV] bootstrap=True, criterion=gini, max_depth=None, max_features=3, min_samples_split=2 \n",
      "[CV]  bootstrap=True, criterion=gini, max_depth=None, max_features=3, min_samples_split=2, score=(train=1.000, test=0.538), total=   0.0s\n",
      "[CV] bootstrap=True, criterion=gini, max_depth=None, max_features=3, min_samples_split=2 \n",
      "[CV]  bootstrap=True, criterion=gini, max_depth=None, max_features=3, min_samples_split=2, score=(train=1.000, test=0.636), total=   0.0s\n",
      "[CV] bootstrap=True, criterion=gini, max_depth=None, max_features=3, min_samples_split=2 \n",
      "[CV]  bootstrap=True, criterion=gini, max_depth=None, max_features=3, min_samples_split=2, score=(train=1.000, test=0.619), total=   0.0s\n",
      "[CV] bootstrap=True, criterion=gini, max_depth=None, max_features=3, min_samples_split=2 \n",
      "[CV]  bootstrap=True, criterion=gini, max_depth=None, max_features=3, min_samples_split=2, score=(train=1.000, test=0.722), total=   0.0s\n",
      "[CV] bootstrap=True, criterion=gini, max_depth=None, max_features=3, min_samples_split=2 \n",
      "[CV]  bootstrap=True, criterion=gini, max_depth=None, max_features=3, min_samples_split=2, score=(train=1.000, test=0.588), total=   0.0s\n",
      "[CV] bootstrap=True, criterion=gini, max_depth=None, max_features=3, min_samples_split=3 \n",
      "[CV]  bootstrap=True, criterion=gini, max_depth=None, max_features=3, min_samples_split=3, score=(train=1.000, test=0.538), total=   0.0s\n",
      "[CV] bootstrap=True, criterion=gini, max_depth=None, max_features=3, min_samples_split=3 \n",
      "[CV]  bootstrap=True, criterion=gini, max_depth=None, max_features=3, min_samples_split=3, score=(train=1.000, test=0.727), total=   0.0s\n",
      "[CV] bootstrap=True, criterion=gini, max_depth=None, max_features=3, min_samples_split=3 \n",
      "[CV]  bootstrap=True, criterion=gini, max_depth=None, max_features=3, min_samples_split=3, score=(train=1.000, test=0.667), total=   0.0s\n",
      "[CV] bootstrap=True, criterion=gini, max_depth=None, max_features=3, min_samples_split=3 \n",
      "[CV]  bootstrap=True, criterion=gini, max_depth=None, max_features=3, min_samples_split=3, score=(train=1.000, test=0.611), total=   0.0s\n",
      "[CV] bootstrap=True, criterion=gini, max_depth=None, max_features=3, min_samples_split=3 \n",
      "[CV]  bootstrap=True, criterion=gini, max_depth=None, max_features=3, min_samples_split=3, score=(train=1.000, test=0.412), total=   0.0s\n",
      "[CV] bootstrap=True, criterion=gini, max_depth=None, max_features=3, min_samples_split=10 \n",
      "[CV]  bootstrap=True, criterion=gini, max_depth=None, max_features=3, min_samples_split=10, score=(train=0.936, test=0.538), total=   0.0s\n",
      "[CV] bootstrap=True, criterion=gini, max_depth=None, max_features=3, min_samples_split=10 \n",
      "[CV]  bootstrap=True, criterion=gini, max_depth=None, max_features=3, min_samples_split=10, score=(train=0.963, test=0.591), total=   0.0s\n",
      "[CV] bootstrap=True, criterion=gini, max_depth=None, max_features=3, min_samples_split=10 \n",
      "[CV]  bootstrap=True, criterion=gini, max_depth=None, max_features=3, min_samples_split=10, score=(train=0.928, test=0.571), total=   0.0s\n",
      "[CV] bootstrap=True, criterion=gini, max_depth=None, max_features=3, min_samples_split=10 \n",
      "[CV]  bootstrap=True, criterion=gini, max_depth=None, max_features=3, min_samples_split=10, score=(train=0.953, test=0.611), total=   0.0s\n",
      "[CV] bootstrap=True, criterion=gini, max_depth=None, max_features=3, min_samples_split=10 \n",
      "[CV]  bootstrap=True, criterion=gini, max_depth=None, max_features=3, min_samples_split=10, score=(train=0.966, test=0.706), total=   0.0s\n",
      "[CV] bootstrap=True, criterion=gini, max_depth=None, max_features=10, min_samples_split=2 \n",
      "[CV]  bootstrap=True, criterion=gini, max_depth=None, max_features=10, min_samples_split=2, score=(train=1.000, test=0.500), total=   0.0s\n",
      "[CV] bootstrap=True, criterion=gini, max_depth=None, max_features=10, min_samples_split=2 \n",
      "[CV]  bootstrap=True, criterion=gini, max_depth=None, max_features=10, min_samples_split=2, score=(train=1.000, test=0.545), total=   0.0s\n",
      "[CV] bootstrap=True, criterion=gini, max_depth=None, max_features=10, min_samples_split=2 \n",
      "[CV]  bootstrap=True, criterion=gini, max_depth=None, max_features=10, min_samples_split=2, score=(train=1.000, test=0.571), total=   0.0s\n",
      "[CV] bootstrap=True, criterion=gini, max_depth=None, max_features=10, min_samples_split=2 \n",
      "[CV]  bootstrap=True, criterion=gini, max_depth=None, max_features=10, min_samples_split=2, score=(train=1.000, test=0.611), total=   0.0s\n",
      "[CV] bootstrap=True, criterion=gini, max_depth=None, max_features=10, min_samples_split=2 \n",
      "[CV]  bootstrap=True, criterion=gini, max_depth=None, max_features=10, min_samples_split=2, score=(train=1.000, test=0.706), total=   0.0s\n",
      "[CV] bootstrap=True, criterion=gini, max_depth=None, max_features=10, min_samples_split=3 \n",
      "[CV]  bootstrap=True, criterion=gini, max_depth=None, max_features=10, min_samples_split=3, score=(train=1.000, test=0.538), total=   0.0s\n",
      "[CV] bootstrap=True, criterion=gini, max_depth=None, max_features=10, min_samples_split=3 \n",
      "[CV]  bootstrap=True, criterion=gini, max_depth=None, max_features=10, min_samples_split=3, score=(train=1.000, test=0.591), total=   0.0s\n",
      "[CV] bootstrap=True, criterion=gini, max_depth=None, max_features=10, min_samples_split=3 \n",
      "[CV]  bootstrap=True, criterion=gini, max_depth=None, max_features=10, min_samples_split=3, score=(train=1.000, test=0.571), total=   0.0s\n",
      "[CV] bootstrap=True, criterion=gini, max_depth=None, max_features=10, min_samples_split=3 \n",
      "[CV]  bootstrap=True, criterion=gini, max_depth=None, max_features=10, min_samples_split=3, score=(train=1.000, test=0.667), total=   0.0s\n",
      "[CV] bootstrap=True, criterion=gini, max_depth=None, max_features=10, min_samples_split=3 \n",
      "[CV]  bootstrap=True, criterion=gini, max_depth=None, max_features=10, min_samples_split=3, score=(train=1.000, test=0.706), total=   0.0s\n",
      "[CV] bootstrap=True, criterion=gini, max_depth=None, max_features=10, min_samples_split=10 \n",
      "[CV]  bootstrap=True, criterion=gini, max_depth=None, max_features=10, min_samples_split=10, score=(train=0.936, test=0.538), total=   0.0s\n",
      "[CV] bootstrap=True, criterion=gini, max_depth=None, max_features=10, min_samples_split=10 \n",
      "[CV]  bootstrap=True, criterion=gini, max_depth=None, max_features=10, min_samples_split=10, score=(train=0.963, test=0.591), total=   0.0s\n",
      "[CV] bootstrap=True, criterion=gini, max_depth=None, max_features=10, min_samples_split=10 \n",
      "[CV]  bootstrap=True, criterion=gini, max_depth=None, max_features=10, min_samples_split=10, score=(train=0.952, test=0.619), total=   0.0s\n",
      "[CV] bootstrap=True, criterion=gini, max_depth=None, max_features=10, min_samples_split=10 \n",
      "[CV]  bootstrap=True, criterion=gini, max_depth=None, max_features=10, min_samples_split=10, score=(train=0.965, test=0.556), total=   0.0s\n",
      "[CV] bootstrap=True, criterion=gini, max_depth=None, max_features=10, min_samples_split=10 \n",
      "[CV]  bootstrap=True, criterion=gini, max_depth=None, max_features=10, min_samples_split=10, score=(train=0.943, test=0.647), total=   0.0s\n",
      "[CV] bootstrap=True, criterion=entropy, max_depth=3, max_features=1, min_samples_split=2 \n",
      "[CV]  bootstrap=True, criterion=entropy, max_depth=3, max_features=1, min_samples_split=2, score=(train=0.821, test=0.346), total=   0.0s\n",
      "[CV] bootstrap=True, criterion=entropy, max_depth=3, max_features=1, min_samples_split=2 \n",
      "[CV]  bootstrap=True, criterion=entropy, max_depth=3, max_features=1, min_samples_split=2, score=(train=0.793, test=0.591), total=   0.0s\n",
      "[CV] bootstrap=True, criterion=entropy, max_depth=3, max_features=1, min_samples_split=2 \n",
      "[CV]  bootstrap=True, criterion=entropy, max_depth=3, max_features=1, min_samples_split=2, score=(train=0.831, test=0.429), total=   0.0s\n",
      "[CV] bootstrap=True, criterion=entropy, max_depth=3, max_features=1, min_samples_split=2 \n",
      "[CV]  bootstrap=True, criterion=entropy, max_depth=3, max_features=1, min_samples_split=2, score=(train=0.756, test=0.444), total=   0.0s\n",
      "[CV] bootstrap=True, criterion=entropy, max_depth=3, max_features=1, min_samples_split=2 \n",
      "[CV]  bootstrap=True, criterion=entropy, max_depth=3, max_features=1, min_samples_split=2, score=(train=0.770, test=0.647), total=   0.0s\n",
      "[CV] bootstrap=True, criterion=entropy, max_depth=3, max_features=1, min_samples_split=3 \n",
      "[CV]  bootstrap=True, criterion=entropy, max_depth=3, max_features=1, min_samples_split=3, score=(train=0.846, test=0.346), total=   0.0s\n",
      "[CV] bootstrap=True, criterion=entropy, max_depth=3, max_features=1, min_samples_split=3 \n",
      "[CV]  bootstrap=True, criterion=entropy, max_depth=3, max_features=1, min_samples_split=3, score=(train=0.756, test=0.455), total=   0.0s\n",
      "[CV] bootstrap=True, criterion=entropy, max_depth=3, max_features=1, min_samples_split=3 \n",
      "[CV]  bootstrap=True, criterion=entropy, max_depth=3, max_features=1, min_samples_split=3, score=(train=0.855, test=0.476), total=   0.0s\n",
      "[CV] bootstrap=True, criterion=entropy, max_depth=3, max_features=1, min_samples_split=3 \n",
      "[CV]  bootstrap=True, criterion=entropy, max_depth=3, max_features=1, min_samples_split=3, score=(train=0.733, test=0.444), total=   0.0s\n",
      "[CV] bootstrap=True, criterion=entropy, max_depth=3, max_features=1, min_samples_split=3 \n",
      "[CV]  bootstrap=True, criterion=entropy, max_depth=3, max_features=1, min_samples_split=3, score=(train=0.747, test=0.588), total=   0.0s\n",
      "[CV] bootstrap=True, criterion=entropy, max_depth=3, max_features=1, min_samples_split=10 \n",
      "[CV]  bootstrap=True, criterion=entropy, max_depth=3, max_features=1, min_samples_split=10, score=(train=0.769, test=0.423), total=   0.0s\n",
      "[CV] bootstrap=True, criterion=entropy, max_depth=3, max_features=1, min_samples_split=10 \n",
      "[CV]  bootstrap=True, criterion=entropy, max_depth=3, max_features=1, min_samples_split=10, score=(train=0.793, test=0.500), total=   0.0s\n",
      "[CV] bootstrap=True, criterion=entropy, max_depth=3, max_features=1, min_samples_split=10 \n",
      "[CV]  bootstrap=True, criterion=entropy, max_depth=3, max_features=1, min_samples_split=10, score=(train=0.759, test=0.524), total=   0.0s\n",
      "[CV] bootstrap=True, criterion=entropy, max_depth=3, max_features=1, min_samples_split=10 \n",
      "[CV]  bootstrap=True, criterion=entropy, max_depth=3, max_features=1, min_samples_split=10, score=(train=0.826, test=0.389), total=   0.0s\n",
      "[CV] bootstrap=True, criterion=entropy, max_depth=3, max_features=1, min_samples_split=10 \n",
      "[CV]  bootstrap=True, criterion=entropy, max_depth=3, max_features=1, min_samples_split=10, score=(train=0.770, test=0.471), total=   0.0s\n",
      "[CV] bootstrap=True, criterion=entropy, max_depth=3, max_features=3, min_samples_split=2 \n",
      "[CV]  bootstrap=True, criterion=entropy, max_depth=3, max_features=3, min_samples_split=2, score=(train=0.859, test=0.346), total=   0.0s\n",
      "[CV] bootstrap=True, criterion=entropy, max_depth=3, max_features=3, min_samples_split=2 \n",
      "[CV]  bootstrap=True, criterion=entropy, max_depth=3, max_features=3, min_samples_split=2, score=(train=0.854, test=0.545), total=   0.0s\n",
      "[CV] bootstrap=True, criterion=entropy, max_depth=3, max_features=3, min_samples_split=2 \n",
      "[CV]  bootstrap=True, criterion=entropy, max_depth=3, max_features=3, min_samples_split=2, score=(train=0.843, test=0.667), total=   0.0s\n",
      "[CV] bootstrap=True, criterion=entropy, max_depth=3, max_features=3, min_samples_split=2 \n",
      "[CV]  bootstrap=True, criterion=entropy, max_depth=3, max_features=3, min_samples_split=2, score=(train=0.895, test=0.500), total=   0.0s\n",
      "[CV] bootstrap=True, criterion=entropy, max_depth=3, max_features=3, min_samples_split=2 \n",
      "[CV]  bootstrap=True, criterion=entropy, max_depth=3, max_features=3, min_samples_split=2, score=(train=0.851, test=0.588), total=   0.0s\n",
      "[CV] bootstrap=True, criterion=entropy, max_depth=3, max_features=3, min_samples_split=3 \n",
      "[CV]  bootstrap=True, criterion=entropy, max_depth=3, max_features=3, min_samples_split=3, score=(train=0.821, test=0.462), total=   0.0s\n",
      "[CV] bootstrap=True, criterion=entropy, max_depth=3, max_features=3, min_samples_split=3 \n",
      "[CV]  bootstrap=True, criterion=entropy, max_depth=3, max_features=3, min_samples_split=3, score=(train=0.854, test=0.455), total=   0.0s\n",
      "[CV] bootstrap=True, criterion=entropy, max_depth=3, max_features=3, min_samples_split=3 \n",
      "[CV]  bootstrap=True, criterion=entropy, max_depth=3, max_features=3, min_samples_split=3, score=(train=0.855, test=0.524), total=   0.0s\n",
      "[CV] bootstrap=True, criterion=entropy, max_depth=3, max_features=3, min_samples_split=3 \n",
      "[CV]  bootstrap=True, criterion=entropy, max_depth=3, max_features=3, min_samples_split=3, score=(train=0.895, test=0.556), total=   0.0s\n",
      "[CV] bootstrap=True, criterion=entropy, max_depth=3, max_features=3, min_samples_split=3 \n",
      "[CV]  bootstrap=True, criterion=entropy, max_depth=3, max_features=3, min_samples_split=3, score=(train=0.770, test=0.412), total=   0.0s\n",
      "[CV] bootstrap=True, criterion=entropy, max_depth=3, max_features=3, min_samples_split=10 \n",
      "[CV]  bootstrap=True, criterion=entropy, max_depth=3, max_features=3, min_samples_split=10, score=(train=0.846, test=0.500), total=   0.0s\n",
      "[CV] bootstrap=True, criterion=entropy, max_depth=3, max_features=3, min_samples_split=10 \n",
      "[CV]  bootstrap=True, criterion=entropy, max_depth=3, max_features=3, min_samples_split=10, score=(train=0.768, test=0.500), total=   0.0s\n",
      "[CV] bootstrap=True, criterion=entropy, max_depth=3, max_features=3, min_samples_split=10 \n",
      "[CV]  bootstrap=True, criterion=entropy, max_depth=3, max_features=3, min_samples_split=10, score=(train=0.843, test=0.429), total=   0.0s\n",
      "[CV] bootstrap=True, criterion=entropy, max_depth=3, max_features=3, min_samples_split=10 \n",
      "[CV]  bootstrap=True, criterion=entropy, max_depth=3, max_features=3, min_samples_split=10, score=(train=0.814, test=0.278), total=   0.0s\n",
      "[CV] bootstrap=True, criterion=entropy, max_depth=3, max_features=3, min_samples_split=10 \n",
      "[CV]  bootstrap=True, criterion=entropy, max_depth=3, max_features=3, min_samples_split=10, score=(train=0.816, test=0.471), total=   0.0s\n",
      "[CV] bootstrap=True, criterion=entropy, max_depth=3, max_features=10, min_samples_split=2 \n",
      "[CV]  bootstrap=True, criterion=entropy, max_depth=3, max_features=10, min_samples_split=2, score=(train=0.974, test=0.577), total=   0.0s\n",
      "[CV] bootstrap=True, criterion=entropy, max_depth=3, max_features=10, min_samples_split=2 \n",
      "[CV]  bootstrap=True, criterion=entropy, max_depth=3, max_features=10, min_samples_split=2, score=(train=0.927, test=0.545), total=   0.0s\n",
      "[CV] bootstrap=True, criterion=entropy, max_depth=3, max_features=10, min_samples_split=2 \n",
      "[CV]  bootstrap=True, criterion=entropy, max_depth=3, max_features=10, min_samples_split=2, score=(train=0.952, test=0.571), total=   0.0s\n",
      "[CV] bootstrap=True, criterion=entropy, max_depth=3, max_features=10, min_samples_split=2 \n",
      "[CV]  bootstrap=True, criterion=entropy, max_depth=3, max_features=10, min_samples_split=2, score=(train=0.942, test=0.611), total=   0.0s\n",
      "[CV] bootstrap=True, criterion=entropy, max_depth=3, max_features=10, min_samples_split=2 \n",
      "[CV]  bootstrap=True, criterion=entropy, max_depth=3, max_features=10, min_samples_split=2, score=(train=0.931, test=0.647), total=   0.0s\n",
      "[CV] bootstrap=True, criterion=entropy, max_depth=3, max_features=10, min_samples_split=3 \n",
      "[CV]  bootstrap=True, criterion=entropy, max_depth=3, max_features=10, min_samples_split=3, score=(train=0.923, test=0.615), total=   0.0s\n",
      "[CV] bootstrap=True, criterion=entropy, max_depth=3, max_features=10, min_samples_split=3 \n",
      "[CV]  bootstrap=True, criterion=entropy, max_depth=3, max_features=10, min_samples_split=3, score=(train=0.927, test=0.682), total=   0.0s\n",
      "[CV] bootstrap=True, criterion=entropy, max_depth=3, max_features=10, min_samples_split=3 \n",
      "[CV]  bootstrap=True, criterion=entropy, max_depth=3, max_features=10, min_samples_split=3, score=(train=0.892, test=0.571), total=   0.0s\n",
      "[CV] bootstrap=True, criterion=entropy, max_depth=3, max_features=10, min_samples_split=3 \n",
      "[CV]  bootstrap=True, criterion=entropy, max_depth=3, max_features=10, min_samples_split=3, score=(train=0.919, test=0.556), total=   0.0s\n",
      "[CV] bootstrap=True, criterion=entropy, max_depth=3, max_features=10, min_samples_split=3 \n",
      "[CV]  bootstrap=True, criterion=entropy, max_depth=3, max_features=10, min_samples_split=3, score=(train=0.908, test=0.588), total=   0.0s\n",
      "[CV] bootstrap=True, criterion=entropy, max_depth=3, max_features=10, min_samples_split=10 \n",
      "[CV]  bootstrap=True, criterion=entropy, max_depth=3, max_features=10, min_samples_split=10, score=(train=0.885, test=0.500), total=   0.0s\n",
      "[CV] bootstrap=True, criterion=entropy, max_depth=3, max_features=10, min_samples_split=10 \n",
      "[CV]  bootstrap=True, criterion=entropy, max_depth=3, max_features=10, min_samples_split=10, score=(train=0.890, test=0.545), total=   0.0s\n",
      "[CV] bootstrap=True, criterion=entropy, max_depth=3, max_features=10, min_samples_split=10 \n",
      "[CV]  bootstrap=True, criterion=entropy, max_depth=3, max_features=10, min_samples_split=10, score=(train=0.904, test=0.571), total=   0.0s\n",
      "[CV] bootstrap=True, criterion=entropy, max_depth=3, max_features=10, min_samples_split=10 \n",
      "[CV]  bootstrap=True, criterion=entropy, max_depth=3, max_features=10, min_samples_split=10, score=(train=0.872, test=0.667), total=   0.0s\n",
      "[CV] bootstrap=True, criterion=entropy, max_depth=3, max_features=10, min_samples_split=10 \n",
      "[CV]  bootstrap=True, criterion=entropy, max_depth=3, max_features=10, min_samples_split=10, score=(train=0.897, test=0.529), total=   0.0s\n",
      "[CV] bootstrap=True, criterion=entropy, max_depth=None, max_features=1, min_samples_split=2 \n",
      "[CV]  bootstrap=True, criterion=entropy, max_depth=None, max_features=1, min_samples_split=2, score=(train=1.000, test=0.538), total=   0.0s\n",
      "[CV] bootstrap=True, criterion=entropy, max_depth=None, max_features=1, min_samples_split=2 \n",
      "[CV]  bootstrap=True, criterion=entropy, max_depth=None, max_features=1, min_samples_split=2, score=(train=1.000, test=0.818), total=   0.0s\n",
      "[CV] bootstrap=True, criterion=entropy, max_depth=None, max_features=1, min_samples_split=2 \n",
      "[CV]  bootstrap=True, criterion=entropy, max_depth=None, max_features=1, min_samples_split=2, score=(train=1.000, test=0.476), total=   0.0s\n",
      "[CV] bootstrap=True, criterion=entropy, max_depth=None, max_features=1, min_samples_split=2 \n",
      "[CV]  bootstrap=True, criterion=entropy, max_depth=None, max_features=1, min_samples_split=2, score=(train=1.000, test=0.389), total=   0.0s\n",
      "[CV] bootstrap=True, criterion=entropy, max_depth=None, max_features=1, min_samples_split=2 \n",
      "[CV]  bootstrap=True, criterion=entropy, max_depth=None, max_features=1, min_samples_split=2, score=(train=1.000, test=0.588), total=   0.0s\n",
      "[CV] bootstrap=True, criterion=entropy, max_depth=None, max_features=1, min_samples_split=3 \n",
      "[CV]  bootstrap=True, criterion=entropy, max_depth=None, max_features=1, min_samples_split=3, score=(train=1.000, test=0.500), total=   0.0s\n",
      "[CV] bootstrap=True, criterion=entropy, max_depth=None, max_features=1, min_samples_split=3 \n",
      "[CV]  bootstrap=True, criterion=entropy, max_depth=None, max_features=1, min_samples_split=3, score=(train=1.000, test=0.545), total=   0.0s\n",
      "[CV] bootstrap=True, criterion=entropy, max_depth=None, max_features=1, min_samples_split=3 \n",
      "[CV]  bootstrap=True, criterion=entropy, max_depth=None, max_features=1, min_samples_split=3, score=(train=1.000, test=0.619), total=   0.0s\n",
      "[CV] bootstrap=True, criterion=entropy, max_depth=None, max_features=1, min_samples_split=3 \n",
      "[CV]  bootstrap=True, criterion=entropy, max_depth=None, max_features=1, min_samples_split=3, score=(train=1.000, test=0.611), total=   0.0s\n",
      "[CV] bootstrap=True, criterion=entropy, max_depth=None, max_features=1, min_samples_split=3 \n",
      "[CV]  bootstrap=True, criterion=entropy, max_depth=None, max_features=1, min_samples_split=3, score=(train=1.000, test=0.588), total=   0.0s\n",
      "[CV] bootstrap=True, criterion=entropy, max_depth=None, max_features=1, min_samples_split=10 \n",
      "[CV]  bootstrap=True, criterion=entropy, max_depth=None, max_features=1, min_samples_split=10, score=(train=0.936, test=0.500), total=   0.0s\n",
      "[CV] bootstrap=True, criterion=entropy, max_depth=None, max_features=1, min_samples_split=10 \n",
      "[CV]  bootstrap=True, criterion=entropy, max_depth=None, max_features=1, min_samples_split=10, score=(train=0.915, test=0.545), total=   0.0s\n",
      "[CV] bootstrap=True, criterion=entropy, max_depth=None, max_features=1, min_samples_split=10 \n",
      "[CV]  bootstrap=True, criterion=entropy, max_depth=None, max_features=1, min_samples_split=10, score=(train=0.940, test=0.619), total=   0.0s\n",
      "[CV] bootstrap=True, criterion=entropy, max_depth=None, max_features=1, min_samples_split=10 \n",
      "[CV]  bootstrap=True, criterion=entropy, max_depth=None, max_features=1, min_samples_split=10, score=(train=0.965, test=0.611), total=   0.0s\n",
      "[CV] bootstrap=True, criterion=entropy, max_depth=None, max_features=1, min_samples_split=10 \n",
      "[CV]  bootstrap=True, criterion=entropy, max_depth=None, max_features=1, min_samples_split=10, score=(train=0.920, test=0.706), total=   0.0s\n",
      "[CV] bootstrap=True, criterion=entropy, max_depth=None, max_features=3, min_samples_split=2 \n",
      "[CV]  bootstrap=True, criterion=entropy, max_depth=None, max_features=3, min_samples_split=2, score=(train=1.000, test=0.385), total=   0.0s\n",
      "[CV] bootstrap=True, criterion=entropy, max_depth=None, max_features=3, min_samples_split=2 \n",
      "[CV]  bootstrap=True, criterion=entropy, max_depth=None, max_features=3, min_samples_split=2, score=(train=1.000, test=0.545), total=   0.0s\n",
      "[CV] bootstrap=True, criterion=entropy, max_depth=None, max_features=3, min_samples_split=2 \n",
      "[CV]  bootstrap=True, criterion=entropy, max_depth=None, max_features=3, min_samples_split=2, score=(train=1.000, test=0.619), total=   0.0s\n",
      "[CV] bootstrap=True, criterion=entropy, max_depth=None, max_features=3, min_samples_split=2 \n",
      "[CV]  bootstrap=True, criterion=entropy, max_depth=None, max_features=3, min_samples_split=2, score=(train=1.000, test=0.667), total=   0.0s\n",
      "[CV] bootstrap=True, criterion=entropy, max_depth=None, max_features=3, min_samples_split=2 \n",
      "[CV]  bootstrap=True, criterion=entropy, max_depth=None, max_features=3, min_samples_split=2, score=(train=1.000, test=0.588), total=   0.0s\n",
      "[CV] bootstrap=True, criterion=entropy, max_depth=None, max_features=3, min_samples_split=3 \n",
      "[CV]  bootstrap=True, criterion=entropy, max_depth=None, max_features=3, min_samples_split=3, score=(train=1.000, test=0.385), total=   0.0s\n",
      "[CV] bootstrap=True, criterion=entropy, max_depth=None, max_features=3, min_samples_split=3 \n",
      "[CV]  bootstrap=True, criterion=entropy, max_depth=None, max_features=3, min_samples_split=3, score=(train=1.000, test=0.682), total=   0.0s\n",
      "[CV] bootstrap=True, criterion=entropy, max_depth=None, max_features=3, min_samples_split=3 \n",
      "[CV]  bootstrap=True, criterion=entropy, max_depth=None, max_features=3, min_samples_split=3, score=(train=1.000, test=0.571), total=   0.0s\n",
      "[CV] bootstrap=True, criterion=entropy, max_depth=None, max_features=3, min_samples_split=3 \n",
      "[CV]  bootstrap=True, criterion=entropy, max_depth=None, max_features=3, min_samples_split=3, score=(train=1.000, test=0.500), total=   0.0s\n",
      "[CV] bootstrap=True, criterion=entropy, max_depth=None, max_features=3, min_samples_split=3 \n",
      "[CV]  bootstrap=True, criterion=entropy, max_depth=None, max_features=3, min_samples_split=3, score=(train=1.000, test=0.588), total=   0.0s\n",
      "[CV] bootstrap=True, criterion=entropy, max_depth=None, max_features=3, min_samples_split=10 \n",
      "[CV]  bootstrap=True, criterion=entropy, max_depth=None, max_features=3, min_samples_split=10, score=(train=0.872, test=0.308), total=   0.0s\n",
      "[CV] bootstrap=True, criterion=entropy, max_depth=None, max_features=3, min_samples_split=10 \n",
      "[CV]  bootstrap=True, criterion=entropy, max_depth=None, max_features=3, min_samples_split=10, score=(train=0.951, test=0.591), total=   0.0s\n",
      "[CV] bootstrap=True, criterion=entropy, max_depth=None, max_features=3, min_samples_split=10 \n",
      "[CV]  bootstrap=True, criterion=entropy, max_depth=None, max_features=3, min_samples_split=10, score=(train=0.976, test=0.476), total=   0.0s\n",
      "[CV] bootstrap=True, criterion=entropy, max_depth=None, max_features=3, min_samples_split=10 \n",
      "[CV]  bootstrap=True, criterion=entropy, max_depth=None, max_features=3, min_samples_split=10, score=(train=0.942, test=0.611), total=   0.0s\n",
      "[CV] bootstrap=True, criterion=entropy, max_depth=None, max_features=3, min_samples_split=10 \n",
      "[CV]  bootstrap=True, criterion=entropy, max_depth=None, max_features=3, min_samples_split=10, score=(train=0.885, test=0.588), total=   0.0s\n",
      "[CV] bootstrap=True, criterion=entropy, max_depth=None, max_features=10, min_samples_split=2 \n",
      "[CV]  bootstrap=True, criterion=entropy, max_depth=None, max_features=10, min_samples_split=2, score=(train=1.000, test=0.500), total=   0.0s\n",
      "[CV] bootstrap=True, criterion=entropy, max_depth=None, max_features=10, min_samples_split=2 \n",
      "[CV]  bootstrap=True, criterion=entropy, max_depth=None, max_features=10, min_samples_split=2, score=(train=1.000, test=0.818), total=   0.0s\n",
      "[CV] bootstrap=True, criterion=entropy, max_depth=None, max_features=10, min_samples_split=2 \n",
      "[CV]  bootstrap=True, criterion=entropy, max_depth=None, max_features=10, min_samples_split=2, score=(train=1.000, test=0.571), total=   0.0s\n",
      "[CV] bootstrap=True, criterion=entropy, max_depth=None, max_features=10, min_samples_split=2 \n",
      "[CV]  bootstrap=True, criterion=entropy, max_depth=None, max_features=10, min_samples_split=2, score=(train=1.000, test=0.667), total=   0.0s\n",
      "[CV] bootstrap=True, criterion=entropy, max_depth=None, max_features=10, min_samples_split=2 \n",
      "[CV]  bootstrap=True, criterion=entropy, max_depth=None, max_features=10, min_samples_split=2, score=(train=1.000, test=0.471), total=   0.0s\n",
      "[CV] bootstrap=True, criterion=entropy, max_depth=None, max_features=10, min_samples_split=3 \n",
      "[CV]  bootstrap=True, criterion=entropy, max_depth=None, max_features=10, min_samples_split=3, score=(train=0.987, test=0.615), total=   0.0s\n",
      "[CV] bootstrap=True, criterion=entropy, max_depth=None, max_features=10, min_samples_split=3 \n",
      "[CV]  bootstrap=True, criterion=entropy, max_depth=None, max_features=10, min_samples_split=3, score=(train=1.000, test=0.682), total=   0.0s\n",
      "[CV] bootstrap=True, criterion=entropy, max_depth=None, max_features=10, min_samples_split=3 \n",
      "[CV]  bootstrap=True, criterion=entropy, max_depth=None, max_features=10, min_samples_split=3, score=(train=1.000, test=0.619), total=   0.0s\n",
      "[CV] bootstrap=True, criterion=entropy, max_depth=None, max_features=10, min_samples_split=3 \n",
      "[CV]  bootstrap=True, criterion=entropy, max_depth=None, max_features=10, min_samples_split=3, score=(train=1.000, test=0.667), total=   0.0s\n",
      "[CV] bootstrap=True, criterion=entropy, max_depth=None, max_features=10, min_samples_split=3 \n",
      "[CV]  bootstrap=True, criterion=entropy, max_depth=None, max_features=10, min_samples_split=3, score=(train=1.000, test=0.588), total=   0.0s\n",
      "[CV] bootstrap=True, criterion=entropy, max_depth=None, max_features=10, min_samples_split=10 \n",
      "[CV]  bootstrap=True, criterion=entropy, max_depth=None, max_features=10, min_samples_split=10, score=(train=0.949, test=0.500), total=   0.0s\n",
      "[CV] bootstrap=True, criterion=entropy, max_depth=None, max_features=10, min_samples_split=10 \n",
      "[CV]  bootstrap=True, criterion=entropy, max_depth=None, max_features=10, min_samples_split=10, score=(train=0.963, test=0.727), total=   0.0s\n",
      "[CV] bootstrap=True, criterion=entropy, max_depth=None, max_features=10, min_samples_split=10 \n",
      "[CV]  bootstrap=True, criterion=entropy, max_depth=None, max_features=10, min_samples_split=10, score=(train=0.940, test=0.762), total=   0.0s\n",
      "[CV] bootstrap=True, criterion=entropy, max_depth=None, max_features=10, min_samples_split=10 \n",
      "[CV]  bootstrap=True, criterion=entropy, max_depth=None, max_features=10, min_samples_split=10, score=(train=0.965, test=0.667), total=   0.0s\n",
      "[CV] bootstrap=True, criterion=entropy, max_depth=None, max_features=10, min_samples_split=10 \n",
      "[CV]  bootstrap=True, criterion=entropy, max_depth=None, max_features=10, min_samples_split=10, score=(train=0.931, test=0.706), total=   0.0s\n",
      "[CV] bootstrap=False, criterion=gini, max_depth=3, max_features=1, min_samples_split=2 \n",
      "[CV]  bootstrap=False, criterion=gini, max_depth=3, max_features=1, min_samples_split=2, score=(train=0.872, test=0.462), total=   0.0s\n",
      "[CV] bootstrap=False, criterion=gini, max_depth=3, max_features=1, min_samples_split=2 \n",
      "[CV]  bootstrap=False, criterion=gini, max_depth=3, max_features=1, min_samples_split=2, score=(train=0.841, test=0.409), total=   0.0s\n",
      "[CV] bootstrap=False, criterion=gini, max_depth=3, max_features=1, min_samples_split=2 \n",
      "[CV]  bootstrap=False, criterion=gini, max_depth=3, max_features=1, min_samples_split=2, score=(train=0.867, test=0.524), total=   0.0s\n",
      "[CV] bootstrap=False, criterion=gini, max_depth=3, max_features=1, min_samples_split=2 \n",
      "[CV]  bootstrap=False, criterion=gini, max_depth=3, max_features=1, min_samples_split=2, score=(train=0.826, test=0.389), total=   0.0s\n",
      "[CV] bootstrap=False, criterion=gini, max_depth=3, max_features=1, min_samples_split=2 \n",
      "[CV]  bootstrap=False, criterion=gini, max_depth=3, max_features=1, min_samples_split=2, score=(train=0.885, test=0.647), total=   0.0s\n",
      "[CV] bootstrap=False, criterion=gini, max_depth=3, max_features=1, min_samples_split=3 \n",
      "[CV]  bootstrap=False, criterion=gini, max_depth=3, max_features=1, min_samples_split=3, score=(train=0.923, test=0.462), total=   0.0s\n",
      "[CV] bootstrap=False, criterion=gini, max_depth=3, max_features=1, min_samples_split=3 \n",
      "[CV]  bootstrap=False, criterion=gini, max_depth=3, max_features=1, min_samples_split=3, score=(train=0.878, test=0.591), total=   0.0s\n",
      "[CV] bootstrap=False, criterion=gini, max_depth=3, max_features=1, min_samples_split=3 \n",
      "[CV]  bootstrap=False, criterion=gini, max_depth=3, max_features=1, min_samples_split=3, score=(train=0.831, test=0.429), total=   0.0s\n",
      "[CV] bootstrap=False, criterion=gini, max_depth=3, max_features=1, min_samples_split=3 \n",
      "[CV]  bootstrap=False, criterion=gini, max_depth=3, max_features=1, min_samples_split=3, score=(train=0.884, test=0.556), total=   0.0s\n",
      "[CV] bootstrap=False, criterion=gini, max_depth=3, max_features=1, min_samples_split=3 \n",
      "[CV]  bootstrap=False, criterion=gini, max_depth=3, max_features=1, min_samples_split=3, score=(train=0.805, test=0.529), total=   0.0s\n",
      "[CV] bootstrap=False, criterion=gini, max_depth=3, max_features=1, min_samples_split=10 \n",
      "[CV]  bootstrap=False, criterion=gini, max_depth=3, max_features=1, min_samples_split=10, score=(train=0.859, test=0.462), total=   0.0s\n",
      "[CV] bootstrap=False, criterion=gini, max_depth=3, max_features=1, min_samples_split=10 \n",
      "[CV]  bootstrap=False, criterion=gini, max_depth=3, max_features=1, min_samples_split=10, score=(train=0.878, test=0.455), total=   0.0s\n",
      "[CV] bootstrap=False, criterion=gini, max_depth=3, max_features=1, min_samples_split=10 \n",
      "[CV]  bootstrap=False, criterion=gini, max_depth=3, max_features=1, min_samples_split=10, score=(train=0.867, test=0.571), total=   0.0s\n",
      "[CV] bootstrap=False, criterion=gini, max_depth=3, max_features=1, min_samples_split=10 \n",
      "[CV]  bootstrap=False, criterion=gini, max_depth=3, max_features=1, min_samples_split=10, score=(train=0.779, test=0.500), total=   0.0s\n",
      "[CV] bootstrap=False, criterion=gini, max_depth=3, max_features=1, min_samples_split=10 \n",
      "[CV]  bootstrap=False, criterion=gini, max_depth=3, max_features=1, min_samples_split=10, score=(train=0.828, test=0.529), total=   0.0s\n",
      "[CV] bootstrap=False, criterion=gini, max_depth=3, max_features=3, min_samples_split=2 \n",
      "[CV]  bootstrap=False, criterion=gini, max_depth=3, max_features=3, min_samples_split=2, score=(train=0.872, test=0.423), total=   0.0s\n",
      "[CV] bootstrap=False, criterion=gini, max_depth=3, max_features=3, min_samples_split=2 \n",
      "[CV]  bootstrap=False, criterion=gini, max_depth=3, max_features=3, min_samples_split=2, score=(train=0.927, test=0.591), total=   0.0s\n",
      "[CV] bootstrap=False, criterion=gini, max_depth=3, max_features=3, min_samples_split=2 \n",
      "[CV]  bootstrap=False, criterion=gini, max_depth=3, max_features=3, min_samples_split=2, score=(train=0.892, test=0.381), total=   0.0s\n",
      "[CV] bootstrap=False, criterion=gini, max_depth=3, max_features=3, min_samples_split=2 \n",
      "[CV]  bootstrap=False, criterion=gini, max_depth=3, max_features=3, min_samples_split=2, score=(train=0.942, test=0.556), total=   0.0s\n",
      "[CV] bootstrap=False, criterion=gini, max_depth=3, max_features=3, min_samples_split=2 \n",
      "[CV]  bootstrap=False, criterion=gini, max_depth=3, max_features=3, min_samples_split=2, score=(train=0.885, test=0.529), total=   0.0s\n",
      "[CV] bootstrap=False, criterion=gini, max_depth=3, max_features=3, min_samples_split=3 \n",
      "[CV]  bootstrap=False, criterion=gini, max_depth=3, max_features=3, min_samples_split=3, score=(train=0.910, test=0.308), total=   0.0s\n",
      "[CV] bootstrap=False, criterion=gini, max_depth=3, max_features=3, min_samples_split=3 \n",
      "[CV]  bootstrap=False, criterion=gini, max_depth=3, max_features=3, min_samples_split=3, score=(train=0.878, test=0.636), total=   0.0s\n",
      "[CV] bootstrap=False, criterion=gini, max_depth=3, max_features=3, min_samples_split=3 \n",
      "[CV]  bootstrap=False, criterion=gini, max_depth=3, max_features=3, min_samples_split=3, score=(train=0.880, test=0.524), total=   0.0s\n",
      "[CV] bootstrap=False, criterion=gini, max_depth=3, max_features=3, min_samples_split=3 \n",
      "[CV]  bootstrap=False, criterion=gini, max_depth=3, max_features=3, min_samples_split=3, score=(train=0.895, test=0.611), total=   0.0s\n",
      "[CV] bootstrap=False, criterion=gini, max_depth=3, max_features=3, min_samples_split=3 \n",
      "[CV]  bootstrap=False, criterion=gini, max_depth=3, max_features=3, min_samples_split=3, score=(train=0.874, test=0.529), total=   0.0s\n",
      "[CV] bootstrap=False, criterion=gini, max_depth=3, max_features=3, min_samples_split=10 \n",
      "[CV]  bootstrap=False, criterion=gini, max_depth=3, max_features=3, min_samples_split=10, score=(train=0.859, test=0.577), total=   0.0s\n",
      "[CV] bootstrap=False, criterion=gini, max_depth=3, max_features=3, min_samples_split=10 \n",
      "[CV]  bootstrap=False, criterion=gini, max_depth=3, max_features=3, min_samples_split=10, score=(train=0.878, test=0.591), total=   0.0s\n",
      "[CV] bootstrap=False, criterion=gini, max_depth=3, max_features=3, min_samples_split=10 \n",
      "[CV]  bootstrap=False, criterion=gini, max_depth=3, max_features=3, min_samples_split=10, score=(train=0.807, test=0.571), total=   0.0s\n",
      "[CV] bootstrap=False, criterion=gini, max_depth=3, max_features=3, min_samples_split=10 \n",
      "[CV]  bootstrap=False, criterion=gini, max_depth=3, max_features=3, min_samples_split=10, score=(train=0.907, test=0.611), total=   0.0s\n",
      "[CV] bootstrap=False, criterion=gini, max_depth=3, max_features=3, min_samples_split=10 \n",
      "[CV]  bootstrap=False, criterion=gini, max_depth=3, max_features=3, min_samples_split=10, score=(train=0.816, test=0.412), total=   0.0s\n",
      "[CV] bootstrap=False, criterion=gini, max_depth=3, max_features=10, min_samples_split=2 \n",
      "[CV]  bootstrap=False, criterion=gini, max_depth=3, max_features=10, min_samples_split=2, score=(train=0.910, test=0.500), total=   0.0s\n",
      "[CV] bootstrap=False, criterion=gini, max_depth=3, max_features=10, min_samples_split=2 \n",
      "[CV]  bootstrap=False, criterion=gini, max_depth=3, max_features=10, min_samples_split=2, score=(train=0.915, test=0.591), total=   0.0s\n",
      "[CV] bootstrap=False, criterion=gini, max_depth=3, max_features=10, min_samples_split=2 \n",
      "[CV]  bootstrap=False, criterion=gini, max_depth=3, max_features=10, min_samples_split=2, score=(train=0.916, test=0.619), total=   0.0s\n",
      "[CV] bootstrap=False, criterion=gini, max_depth=3, max_features=10, min_samples_split=2 \n",
      "[CV]  bootstrap=False, criterion=gini, max_depth=3, max_features=10, min_samples_split=2, score=(train=0.930, test=0.667), total=   0.0s\n",
      "[CV] bootstrap=False, criterion=gini, max_depth=3, max_features=10, min_samples_split=2 \n",
      "[CV]  bootstrap=False, criterion=gini, max_depth=3, max_features=10, min_samples_split=2, score=(train=0.862, test=0.588), total=   0.0s\n",
      "[CV] bootstrap=False, criterion=gini, max_depth=3, max_features=10, min_samples_split=3 \n",
      "[CV]  bootstrap=False, criterion=gini, max_depth=3, max_features=10, min_samples_split=3, score=(train=0.910, test=0.538), total=   0.0s\n",
      "[CV] bootstrap=False, criterion=gini, max_depth=3, max_features=10, min_samples_split=3 \n",
      "[CV]  bootstrap=False, criterion=gini, max_depth=3, max_features=10, min_samples_split=3, score=(train=0.915, test=0.545), total=   0.0s\n",
      "[CV] bootstrap=False, criterion=gini, max_depth=3, max_features=10, min_samples_split=3 \n",
      "[CV]  bootstrap=False, criterion=gini, max_depth=3, max_features=10, min_samples_split=3, score=(train=0.928, test=0.571), total=   0.0s\n",
      "[CV] bootstrap=False, criterion=gini, max_depth=3, max_features=10, min_samples_split=3 \n",
      "[CV]  bootstrap=False, criterion=gini, max_depth=3, max_features=10, min_samples_split=3, score=(train=0.919, test=0.556), total=   0.0s\n",
      "[CV] bootstrap=False, criterion=gini, max_depth=3, max_features=10, min_samples_split=3 \n",
      "[CV]  bootstrap=False, criterion=gini, max_depth=3, max_features=10, min_samples_split=3, score=(train=0.908, test=0.706), total=   0.0s\n",
      "[CV] bootstrap=False, criterion=gini, max_depth=3, max_features=10, min_samples_split=10 \n",
      "[CV]  bootstrap=False, criterion=gini, max_depth=3, max_features=10, min_samples_split=10, score=(train=0.936, test=0.615), total=   0.0s\n",
      "[CV] bootstrap=False, criterion=gini, max_depth=3, max_features=10, min_samples_split=10 \n",
      "[CV]  bootstrap=False, criterion=gini, max_depth=3, max_features=10, min_samples_split=10, score=(train=0.939, test=0.636), total=   0.0s\n",
      "[CV] bootstrap=False, criterion=gini, max_depth=3, max_features=10, min_samples_split=10 \n",
      "[CV]  bootstrap=False, criterion=gini, max_depth=3, max_features=10, min_samples_split=10, score=(train=0.892, test=0.619), total=   0.0s\n",
      "[CV] bootstrap=False, criterion=gini, max_depth=3, max_features=10, min_samples_split=10 \n",
      "[CV]  bootstrap=False, criterion=gini, max_depth=3, max_features=10, min_samples_split=10, score=(train=0.872, test=0.667), total=   0.0s\n",
      "[CV] bootstrap=False, criterion=gini, max_depth=3, max_features=10, min_samples_split=10 \n",
      "[CV]  bootstrap=False, criterion=gini, max_depth=3, max_features=10, min_samples_split=10, score=(train=0.851, test=0.529), total=   0.0s\n",
      "[CV] bootstrap=False, criterion=gini, max_depth=None, max_features=1, min_samples_split=2 \n",
      "[CV]  bootstrap=False, criterion=gini, max_depth=None, max_features=1, min_samples_split=2, score=(train=1.000, test=0.577), total=   0.0s\n",
      "[CV] bootstrap=False, criterion=gini, max_depth=None, max_features=1, min_samples_split=2 \n",
      "[CV]  bootstrap=False, criterion=gini, max_depth=None, max_features=1, min_samples_split=2, score=(train=1.000, test=0.682), total=   0.0s\n",
      "[CV] bootstrap=False, criterion=gini, max_depth=None, max_features=1, min_samples_split=2 \n",
      "[CV]  bootstrap=False, criterion=gini, max_depth=None, max_features=1, min_samples_split=2, score=(train=1.000, test=0.476), total=   0.0s\n",
      "[CV] bootstrap=False, criterion=gini, max_depth=None, max_features=1, min_samples_split=2 \n",
      "[CV]  bootstrap=False, criterion=gini, max_depth=None, max_features=1, min_samples_split=2, score=(train=1.000, test=0.611), total=   0.0s\n",
      "[CV] bootstrap=False, criterion=gini, max_depth=None, max_features=1, min_samples_split=2 \n",
      "[CV]  bootstrap=False, criterion=gini, max_depth=None, max_features=1, min_samples_split=2, score=(train=1.000, test=0.647), total=   0.0s\n",
      "[CV] bootstrap=False, criterion=gini, max_depth=None, max_features=1, min_samples_split=3 \n",
      "[CV]  bootstrap=False, criterion=gini, max_depth=None, max_features=1, min_samples_split=3, score=(train=1.000, test=0.577), total=   0.0s\n",
      "[CV] bootstrap=False, criterion=gini, max_depth=None, max_features=1, min_samples_split=3 \n",
      "[CV]  bootstrap=False, criterion=gini, max_depth=None, max_features=1, min_samples_split=3, score=(train=1.000, test=0.636), total=   0.0s\n",
      "[CV] bootstrap=False, criterion=gini, max_depth=None, max_features=1, min_samples_split=3 \n",
      "[CV]  bootstrap=False, criterion=gini, max_depth=None, max_features=1, min_samples_split=3, score=(train=1.000, test=0.667), total=   0.0s\n",
      "[CV] bootstrap=False, criterion=gini, max_depth=None, max_features=1, min_samples_split=3 \n",
      "[CV]  bootstrap=False, criterion=gini, max_depth=None, max_features=1, min_samples_split=3, score=(train=1.000, test=0.778), total=   0.0s\n",
      "[CV] bootstrap=False, criterion=gini, max_depth=None, max_features=1, min_samples_split=3 \n",
      "[CV]  bootstrap=False, criterion=gini, max_depth=None, max_features=1, min_samples_split=3, score=(train=1.000, test=0.765), total=   0.0s\n",
      "[CV] bootstrap=False, criterion=gini, max_depth=None, max_features=1, min_samples_split=10 \n",
      "[CV]  bootstrap=False, criterion=gini, max_depth=None, max_features=1, min_samples_split=10, score=(train=1.000, test=0.615), total=   0.0s\n",
      "[CV] bootstrap=False, criterion=gini, max_depth=None, max_features=1, min_samples_split=10 \n",
      "[CV]  bootstrap=False, criterion=gini, max_depth=None, max_features=1, min_samples_split=10, score=(train=1.000, test=0.591), total=   0.0s\n",
      "[CV] bootstrap=False, criterion=gini, max_depth=None, max_features=1, min_samples_split=10 \n",
      "[CV]  bootstrap=False, criterion=gini, max_depth=None, max_features=1, min_samples_split=10, score=(train=1.000, test=0.524), total=   0.0s\n",
      "[CV] bootstrap=False, criterion=gini, max_depth=None, max_features=1, min_samples_split=10 \n",
      "[CV]  bootstrap=False, criterion=gini, max_depth=None, max_features=1, min_samples_split=10, score=(train=1.000, test=0.722), total=   0.0s\n",
      "[CV] bootstrap=False, criterion=gini, max_depth=None, max_features=1, min_samples_split=10 \n",
      "[CV]  bootstrap=False, criterion=gini, max_depth=None, max_features=1, min_samples_split=10, score=(train=0.989, test=0.706), total=   0.0s\n",
      "[CV] bootstrap=False, criterion=gini, max_depth=None, max_features=3, min_samples_split=2 \n",
      "[CV]  bootstrap=False, criterion=gini, max_depth=None, max_features=3, min_samples_split=2, score=(train=1.000, test=0.462), total=   0.0s\n",
      "[CV] bootstrap=False, criterion=gini, max_depth=None, max_features=3, min_samples_split=2 \n",
      "[CV]  bootstrap=False, criterion=gini, max_depth=None, max_features=3, min_samples_split=2, score=(train=1.000, test=0.545), total=   0.0s\n",
      "[CV] bootstrap=False, criterion=gini, max_depth=None, max_features=3, min_samples_split=2 \n",
      "[CV]  bootstrap=False, criterion=gini, max_depth=None, max_features=3, min_samples_split=2, score=(train=1.000, test=0.619), total=   0.0s\n",
      "[CV] bootstrap=False, criterion=gini, max_depth=None, max_features=3, min_samples_split=2 \n",
      "[CV]  bootstrap=False, criterion=gini, max_depth=None, max_features=3, min_samples_split=2, score=(train=1.000, test=0.778), total=   0.0s\n",
      "[CV] bootstrap=False, criterion=gini, max_depth=None, max_features=3, min_samples_split=2 \n",
      "[CV]  bootstrap=False, criterion=gini, max_depth=None, max_features=3, min_samples_split=2, score=(train=1.000, test=0.765), total=   0.0s\n",
      "[CV] bootstrap=False, criterion=gini, max_depth=None, max_features=3, min_samples_split=3 \n",
      "[CV]  bootstrap=False, criterion=gini, max_depth=None, max_features=3, min_samples_split=3, score=(train=1.000, test=0.500), total=   0.0s\n",
      "[CV] bootstrap=False, criterion=gini, max_depth=None, max_features=3, min_samples_split=3 \n",
      "[CV]  bootstrap=False, criterion=gini, max_depth=None, max_features=3, min_samples_split=3, score=(train=1.000, test=0.727), total=   0.0s\n",
      "[CV] bootstrap=False, criterion=gini, max_depth=None, max_features=3, min_samples_split=3 \n",
      "[CV]  bootstrap=False, criterion=gini, max_depth=None, max_features=3, min_samples_split=3, score=(train=1.000, test=0.476), total=   0.0s\n",
      "[CV] bootstrap=False, criterion=gini, max_depth=None, max_features=3, min_samples_split=3 \n",
      "[CV]  bootstrap=False, criterion=gini, max_depth=None, max_features=3, min_samples_split=3, score=(train=1.000, test=0.500), total=   0.0s\n",
      "[CV] bootstrap=False, criterion=gini, max_depth=None, max_features=3, min_samples_split=3 \n",
      "[CV]  bootstrap=False, criterion=gini, max_depth=None, max_features=3, min_samples_split=3, score=(train=1.000, test=0.588), total=   0.0s\n",
      "[CV] bootstrap=False, criterion=gini, max_depth=None, max_features=3, min_samples_split=10 \n",
      "[CV]  bootstrap=False, criterion=gini, max_depth=None, max_features=3, min_samples_split=10, score=(train=1.000, test=0.577), total=   0.0s\n",
      "[CV] bootstrap=False, criterion=gini, max_depth=None, max_features=3, min_samples_split=10 \n",
      "[CV]  bootstrap=False, criterion=gini, max_depth=None, max_features=3, min_samples_split=10, score=(train=0.988, test=0.818), total=   0.0s\n",
      "[CV] bootstrap=False, criterion=gini, max_depth=None, max_features=3, min_samples_split=10 \n",
      "[CV]  bootstrap=False, criterion=gini, max_depth=None, max_features=3, min_samples_split=10, score=(train=1.000, test=0.571), total=   0.0s\n",
      "[CV] bootstrap=False, criterion=gini, max_depth=None, max_features=3, min_samples_split=10 \n",
      "[CV]  bootstrap=False, criterion=gini, max_depth=None, max_features=3, min_samples_split=10, score=(train=0.988, test=0.722), total=   0.0s\n",
      "[CV] bootstrap=False, criterion=gini, max_depth=None, max_features=3, min_samples_split=10 \n",
      "[CV]  bootstrap=False, criterion=gini, max_depth=None, max_features=3, min_samples_split=10, score=(train=0.989, test=0.588), total=   0.0s\n",
      "[CV] bootstrap=False, criterion=gini, max_depth=None, max_features=10, min_samples_split=2 \n",
      "[CV]  bootstrap=False, criterion=gini, max_depth=None, max_features=10, min_samples_split=2, score=(train=1.000, test=0.577), total=   0.0s\n",
      "[CV] bootstrap=False, criterion=gini, max_depth=None, max_features=10, min_samples_split=2 \n",
      "[CV]  bootstrap=False, criterion=gini, max_depth=None, max_features=10, min_samples_split=2, score=(train=1.000, test=0.727), total=   0.0s\n",
      "[CV] bootstrap=False, criterion=gini, max_depth=None, max_features=10, min_samples_split=2 \n",
      "[CV]  bootstrap=False, criterion=gini, max_depth=None, max_features=10, min_samples_split=2, score=(train=1.000, test=0.619), total=   0.0s\n",
      "[CV] bootstrap=False, criterion=gini, max_depth=None, max_features=10, min_samples_split=2 \n",
      "[CV]  bootstrap=False, criterion=gini, max_depth=None, max_features=10, min_samples_split=2, score=(train=1.000, test=0.778), total=   0.0s\n",
      "[CV] bootstrap=False, criterion=gini, max_depth=None, max_features=10, min_samples_split=2 \n",
      "[CV]  bootstrap=False, criterion=gini, max_depth=None, max_features=10, min_samples_split=2, score=(train=1.000, test=0.706), total=   0.0s\n",
      "[CV] bootstrap=False, criterion=gini, max_depth=None, max_features=10, min_samples_split=3 \n",
      "[CV]  bootstrap=False, criterion=gini, max_depth=None, max_features=10, min_samples_split=3, score=(train=1.000, test=0.577), total=   0.0s\n",
      "[CV] bootstrap=False, criterion=gini, max_depth=None, max_features=10, min_samples_split=3 \n",
      "[CV]  bootstrap=False, criterion=gini, max_depth=None, max_features=10, min_samples_split=3, score=(train=1.000, test=0.727), total=   0.0s\n",
      "[CV] bootstrap=False, criterion=gini, max_depth=None, max_features=10, min_samples_split=3 \n",
      "[CV]  bootstrap=False, criterion=gini, max_depth=None, max_features=10, min_samples_split=3, score=(train=1.000, test=0.524), total=   0.0s\n",
      "[CV] bootstrap=False, criterion=gini, max_depth=None, max_features=10, min_samples_split=3 \n",
      "[CV]  bootstrap=False, criterion=gini, max_depth=None, max_features=10, min_samples_split=3, score=(train=1.000, test=0.722), total=   0.0s\n",
      "[CV] bootstrap=False, criterion=gini, max_depth=None, max_features=10, min_samples_split=3 \n",
      "[CV]  bootstrap=False, criterion=gini, max_depth=None, max_features=10, min_samples_split=3, score=(train=1.000, test=0.765), total=   0.0s\n",
      "[CV] bootstrap=False, criterion=gini, max_depth=None, max_features=10, min_samples_split=10 \n",
      "[CV]  bootstrap=False, criterion=gini, max_depth=None, max_features=10, min_samples_split=10, score=(train=1.000, test=0.692), total=   0.0s\n",
      "[CV] bootstrap=False, criterion=gini, max_depth=None, max_features=10, min_samples_split=10 \n",
      "[CV]  bootstrap=False, criterion=gini, max_depth=None, max_features=10, min_samples_split=10, score=(train=1.000, test=0.727), total=   0.0s\n",
      "[CV] bootstrap=False, criterion=gini, max_depth=None, max_features=10, min_samples_split=10 \n",
      "[CV]  bootstrap=False, criterion=gini, max_depth=None, max_features=10, min_samples_split=10, score=(train=1.000, test=0.571), total=   0.0s\n",
      "[CV] bootstrap=False, criterion=gini, max_depth=None, max_features=10, min_samples_split=10 \n",
      "[CV]  bootstrap=False, criterion=gini, max_depth=None, max_features=10, min_samples_split=10, score=(train=1.000, test=0.667), total=   0.0s\n",
      "[CV] bootstrap=False, criterion=gini, max_depth=None, max_features=10, min_samples_split=10 \n",
      "[CV]  bootstrap=False, criterion=gini, max_depth=None, max_features=10, min_samples_split=10, score=(train=1.000, test=0.765), total=   0.0s\n",
      "[CV] bootstrap=False, criterion=entropy, max_depth=3, max_features=1, min_samples_split=2 \n",
      "[CV]  bootstrap=False, criterion=entropy, max_depth=3, max_features=1, min_samples_split=2, score=(train=0.897, test=0.538), total=   0.0s\n",
      "[CV] bootstrap=False, criterion=entropy, max_depth=3, max_features=1, min_samples_split=2 \n",
      "[CV]  bootstrap=False, criterion=entropy, max_depth=3, max_features=1, min_samples_split=2, score=(train=0.829, test=0.636), total=   0.0s\n",
      "[CV] bootstrap=False, criterion=entropy, max_depth=3, max_features=1, min_samples_split=2 \n",
      "[CV]  bootstrap=False, criterion=entropy, max_depth=3, max_features=1, min_samples_split=2, score=(train=0.867, test=0.571), total=   0.0s\n",
      "[CV] bootstrap=False, criterion=entropy, max_depth=3, max_features=1, min_samples_split=2 \n",
      "[CV]  bootstrap=False, criterion=entropy, max_depth=3, max_features=1, min_samples_split=2, score=(train=0.849, test=0.500), total=   0.0s\n",
      "[CV] bootstrap=False, criterion=entropy, max_depth=3, max_features=1, min_samples_split=2 \n",
      "[CV]  bootstrap=False, criterion=entropy, max_depth=3, max_features=1, min_samples_split=2, score=(train=0.862, test=0.529), total=   0.0s\n",
      "[CV] bootstrap=False, criterion=entropy, max_depth=3, max_features=1, min_samples_split=3 \n",
      "[CV]  bootstrap=False, criterion=entropy, max_depth=3, max_features=1, min_samples_split=3, score=(train=0.872, test=0.269), total=   0.0s\n",
      "[CV] bootstrap=False, criterion=entropy, max_depth=3, max_features=1, min_samples_split=3 \n",
      "[CV]  bootstrap=False, criterion=entropy, max_depth=3, max_features=1, min_samples_split=3, score=(train=0.817, test=0.636), total=   0.0s\n",
      "[CV] bootstrap=False, criterion=entropy, max_depth=3, max_features=1, min_samples_split=3 \n",
      "[CV]  bootstrap=False, criterion=entropy, max_depth=3, max_features=1, min_samples_split=3, score=(train=0.867, test=0.524), total=   0.0s\n",
      "[CV] bootstrap=False, criterion=entropy, max_depth=3, max_features=1, min_samples_split=3 \n",
      "[CV]  bootstrap=False, criterion=entropy, max_depth=3, max_features=1, min_samples_split=3, score=(train=0.860, test=0.667), total=   0.0s\n",
      "[CV] bootstrap=False, criterion=entropy, max_depth=3, max_features=1, min_samples_split=3 \n",
      "[CV]  bootstrap=False, criterion=entropy, max_depth=3, max_features=1, min_samples_split=3, score=(train=0.851, test=0.588), total=   0.0s\n",
      "[CV] bootstrap=False, criterion=entropy, max_depth=3, max_features=1, min_samples_split=10 \n",
      "[CV]  bootstrap=False, criterion=entropy, max_depth=3, max_features=1, min_samples_split=10, score=(train=0.859, test=0.462), total=   0.0s\n",
      "[CV] bootstrap=False, criterion=entropy, max_depth=3, max_features=1, min_samples_split=10 \n",
      "[CV]  bootstrap=False, criterion=entropy, max_depth=3, max_features=1, min_samples_split=10, score=(train=0.866, test=0.591), total=   0.0s\n",
      "[CV] bootstrap=False, criterion=entropy, max_depth=3, max_features=1, min_samples_split=10 \n",
      "[CV]  bootstrap=False, criterion=entropy, max_depth=3, max_features=1, min_samples_split=10, score=(train=0.867, test=0.524), total=   0.0s\n",
      "[CV] bootstrap=False, criterion=entropy, max_depth=3, max_features=1, min_samples_split=10 \n",
      "[CV]  bootstrap=False, criterion=entropy, max_depth=3, max_features=1, min_samples_split=10, score=(train=0.826, test=0.500), total=   0.0s\n",
      "[CV] bootstrap=False, criterion=entropy, max_depth=3, max_features=1, min_samples_split=10 \n",
      "[CV]  bootstrap=False, criterion=entropy, max_depth=3, max_features=1, min_samples_split=10, score=(train=0.851, test=0.471), total=   0.0s\n",
      "[CV] bootstrap=False, criterion=entropy, max_depth=3, max_features=3, min_samples_split=2 \n",
      "[CV]  bootstrap=False, criterion=entropy, max_depth=3, max_features=3, min_samples_split=2, score=(train=0.936, test=0.500), total=   0.0s\n",
      "[CV] bootstrap=False, criterion=entropy, max_depth=3, max_features=3, min_samples_split=2 \n",
      "[CV]  bootstrap=False, criterion=entropy, max_depth=3, max_features=3, min_samples_split=2, score=(train=0.902, test=0.682), total=   0.0s\n",
      "[CV] bootstrap=False, criterion=entropy, max_depth=3, max_features=3, min_samples_split=2 \n",
      "[CV]  bootstrap=False, criterion=entropy, max_depth=3, max_features=3, min_samples_split=2, score=(train=0.940, test=0.476), total=   0.0s\n",
      "[CV] bootstrap=False, criterion=entropy, max_depth=3, max_features=3, min_samples_split=2 \n",
      "[CV]  bootstrap=False, criterion=entropy, max_depth=3, max_features=3, min_samples_split=2, score=(train=0.860, test=0.556), total=   0.0s\n",
      "[CV] bootstrap=False, criterion=entropy, max_depth=3, max_features=3, min_samples_split=2 \n",
      "[CV]  bootstrap=False, criterion=entropy, max_depth=3, max_features=3, min_samples_split=2, score=(train=0.897, test=0.529), total=   0.0s\n",
      "[CV] bootstrap=False, criterion=entropy, max_depth=3, max_features=3, min_samples_split=3 \n",
      "[CV]  bootstrap=False, criterion=entropy, max_depth=3, max_features=3, min_samples_split=3, score=(train=0.923, test=0.462), total=   0.0s\n",
      "[CV] bootstrap=False, criterion=entropy, max_depth=3, max_features=3, min_samples_split=3 \n",
      "[CV]  bootstrap=False, criterion=entropy, max_depth=3, max_features=3, min_samples_split=3, score=(train=0.854, test=0.636), total=   0.0s\n",
      "[CV] bootstrap=False, criterion=entropy, max_depth=3, max_features=3, min_samples_split=3 \n",
      "[CV]  bootstrap=False, criterion=entropy, max_depth=3, max_features=3, min_samples_split=3, score=(train=0.892, test=0.667), total=   0.0s\n",
      "[CV] bootstrap=False, criterion=entropy, max_depth=3, max_features=3, min_samples_split=3 \n",
      "[CV]  bootstrap=False, criterion=entropy, max_depth=3, max_features=3, min_samples_split=3, score=(train=0.930, test=0.611), total=   0.0s\n",
      "[CV] bootstrap=False, criterion=entropy, max_depth=3, max_features=3, min_samples_split=3 \n",
      "[CV]  bootstrap=False, criterion=entropy, max_depth=3, max_features=3, min_samples_split=3, score=(train=0.874, test=0.647), total=   0.0s\n",
      "[CV] bootstrap=False, criterion=entropy, max_depth=3, max_features=3, min_samples_split=10 \n",
      "[CV]  bootstrap=False, criterion=entropy, max_depth=3, max_features=3, min_samples_split=10, score=(train=0.936, test=0.538), total=   0.0s\n",
      "[CV] bootstrap=False, criterion=entropy, max_depth=3, max_features=3, min_samples_split=10 \n",
      "[CV]  bootstrap=False, criterion=entropy, max_depth=3, max_features=3, min_samples_split=10, score=(train=0.854, test=0.591), total=   0.0s\n",
      "[CV] bootstrap=False, criterion=entropy, max_depth=3, max_features=3, min_samples_split=10 \n",
      "[CV]  bootstrap=False, criterion=entropy, max_depth=3, max_features=3, min_samples_split=10, score=(train=0.892, test=0.667), total=   0.0s\n",
      "[CV] bootstrap=False, criterion=entropy, max_depth=3, max_features=3, min_samples_split=10 \n",
      "[CV]  bootstrap=False, criterion=entropy, max_depth=3, max_features=3, min_samples_split=10, score=(train=0.884, test=0.611), total=   0.0s\n",
      "[CV] bootstrap=False, criterion=entropy, max_depth=3, max_features=3, min_samples_split=10 \n",
      "[CV]  bootstrap=False, criterion=entropy, max_depth=3, max_features=3, min_samples_split=10, score=(train=0.874, test=0.647), total=   0.0s\n",
      "[CV] bootstrap=False, criterion=entropy, max_depth=3, max_features=10, min_samples_split=2 \n",
      "[CV]  bootstrap=False, criterion=entropy, max_depth=3, max_features=10, min_samples_split=2, score=(train=0.923, test=0.500), total=   0.0s\n",
      "[CV] bootstrap=False, criterion=entropy, max_depth=3, max_features=10, min_samples_split=2 \n",
      "[CV]  bootstrap=False, criterion=entropy, max_depth=3, max_features=10, min_samples_split=2, score=(train=0.939, test=0.545), total=   0.0s\n",
      "[CV] bootstrap=False, criterion=entropy, max_depth=3, max_features=10, min_samples_split=2 \n",
      "[CV]  bootstrap=False, criterion=entropy, max_depth=3, max_features=10, min_samples_split=2, score=(train=0.964, test=0.667), total=   0.0s\n",
      "[CV] bootstrap=False, criterion=entropy, max_depth=3, max_features=10, min_samples_split=2 \n",
      "[CV]  bootstrap=False, criterion=entropy, max_depth=3, max_features=10, min_samples_split=2, score=(train=0.919, test=0.611), total=   0.0s\n",
      "[CV] bootstrap=False, criterion=entropy, max_depth=3, max_features=10, min_samples_split=2 \n",
      "[CV]  bootstrap=False, criterion=entropy, max_depth=3, max_features=10, min_samples_split=2, score=(train=0.931, test=0.706), total=   0.0s\n",
      "[CV] bootstrap=False, criterion=entropy, max_depth=3, max_features=10, min_samples_split=3 \n",
      "[CV]  bootstrap=False, criterion=entropy, max_depth=3, max_features=10, min_samples_split=3, score=(train=0.974, test=0.385), total=   0.0s\n",
      "[CV] bootstrap=False, criterion=entropy, max_depth=3, max_features=10, min_samples_split=3 \n",
      "[CV]  bootstrap=False, criterion=entropy, max_depth=3, max_features=10, min_samples_split=3, score=(train=0.976, test=0.727), total=   0.0s\n",
      "[CV] bootstrap=False, criterion=entropy, max_depth=3, max_features=10, min_samples_split=3 \n",
      "[CV]  bootstrap=False, criterion=entropy, max_depth=3, max_features=10, min_samples_split=3, score=(train=0.904, test=0.571), total=   0.0s\n",
      "[CV] bootstrap=False, criterion=entropy, max_depth=3, max_features=10, min_samples_split=3 \n",
      "[CV]  bootstrap=False, criterion=entropy, max_depth=3, max_features=10, min_samples_split=3, score=(train=0.953, test=0.500), total=   0.0s\n",
      "[CV] bootstrap=False, criterion=entropy, max_depth=3, max_features=10, min_samples_split=3 \n",
      "[CV]  bootstrap=False, criterion=entropy, max_depth=3, max_features=10, min_samples_split=3, score=(train=0.897, test=0.471), total=   0.0s\n",
      "[CV] bootstrap=False, criterion=entropy, max_depth=3, max_features=10, min_samples_split=10 \n",
      "[CV]  bootstrap=False, criterion=entropy, max_depth=3, max_features=10, min_samples_split=10, score=(train=0.949, test=0.462), total=   0.0s\n",
      "[CV] bootstrap=False, criterion=entropy, max_depth=3, max_features=10, min_samples_split=10 \n",
      "[CV]  bootstrap=False, criterion=entropy, max_depth=3, max_features=10, min_samples_split=10, score=(train=0.878, test=0.591), total=   0.0s\n",
      "[CV] bootstrap=False, criterion=entropy, max_depth=3, max_features=10, min_samples_split=10 \n",
      "[CV]  bootstrap=False, criterion=entropy, max_depth=3, max_features=10, min_samples_split=10, score=(train=0.916, test=0.619), total=   0.0s\n",
      "[CV] bootstrap=False, criterion=entropy, max_depth=3, max_features=10, min_samples_split=10 \n",
      "[CV]  bootstrap=False, criterion=entropy, max_depth=3, max_features=10, min_samples_split=10, score=(train=0.919, test=0.556), total=   0.0s\n",
      "[CV] bootstrap=False, criterion=entropy, max_depth=3, max_features=10, min_samples_split=10 \n",
      "[CV]  bootstrap=False, criterion=entropy, max_depth=3, max_features=10, min_samples_split=10, score=(train=0.920, test=0.529), total=   0.0s\n",
      "[CV] bootstrap=False, criterion=entropy, max_depth=None, max_features=1, min_samples_split=2 \n",
      "[CV]  bootstrap=False, criterion=entropy, max_depth=None, max_features=1, min_samples_split=2, score=(train=1.000, test=0.500), total=   0.0s\n",
      "[CV] bootstrap=False, criterion=entropy, max_depth=None, max_features=1, min_samples_split=2 \n",
      "[CV]  bootstrap=False, criterion=entropy, max_depth=None, max_features=1, min_samples_split=2, score=(train=1.000, test=0.636), total=   0.0s\n",
      "[CV] bootstrap=False, criterion=entropy, max_depth=None, max_features=1, min_samples_split=2 \n",
      "[CV]  bootstrap=False, criterion=entropy, max_depth=None, max_features=1, min_samples_split=2, score=(train=1.000, test=0.667), total=   0.0s\n",
      "[CV] bootstrap=False, criterion=entropy, max_depth=None, max_features=1, min_samples_split=2 \n",
      "[CV]  bootstrap=False, criterion=entropy, max_depth=None, max_features=1, min_samples_split=2, score=(train=1.000, test=0.389), total=   0.0s\n",
      "[CV] bootstrap=False, criterion=entropy, max_depth=None, max_features=1, min_samples_split=2 \n",
      "[CV]  bootstrap=False, criterion=entropy, max_depth=None, max_features=1, min_samples_split=2, score=(train=1.000, test=0.706), total=   0.0s\n",
      "[CV] bootstrap=False, criterion=entropy, max_depth=None, max_features=1, min_samples_split=3 \n",
      "[CV]  bootstrap=False, criterion=entropy, max_depth=None, max_features=1, min_samples_split=3, score=(train=1.000, test=0.423), total=   0.0s\n",
      "[CV] bootstrap=False, criterion=entropy, max_depth=None, max_features=1, min_samples_split=3 \n",
      "[CV]  bootstrap=False, criterion=entropy, max_depth=None, max_features=1, min_samples_split=3, score=(train=1.000, test=0.727), total=   0.0s\n",
      "[CV] bootstrap=False, criterion=entropy, max_depth=None, max_features=1, min_samples_split=3 \n",
      "[CV]  bootstrap=False, criterion=entropy, max_depth=None, max_features=1, min_samples_split=3, score=(train=1.000, test=0.571), total=   0.0s\n",
      "[CV] bootstrap=False, criterion=entropy, max_depth=None, max_features=1, min_samples_split=3 \n",
      "[CV]  bootstrap=False, criterion=entropy, max_depth=None, max_features=1, min_samples_split=3, score=(train=1.000, test=0.556), total=   0.0s\n",
      "[CV] bootstrap=False, criterion=entropy, max_depth=None, max_features=1, min_samples_split=3 \n",
      "[CV]  bootstrap=False, criterion=entropy, max_depth=None, max_features=1, min_samples_split=3, score=(train=1.000, test=0.588), total=   0.0s\n",
      "[CV] bootstrap=False, criterion=entropy, max_depth=None, max_features=1, min_samples_split=10 \n",
      "[CV]  bootstrap=False, criterion=entropy, max_depth=None, max_features=1, min_samples_split=10, score=(train=1.000, test=0.577), total=   0.0s\n",
      "[CV] bootstrap=False, criterion=entropy, max_depth=None, max_features=1, min_samples_split=10 \n",
      "[CV]  bootstrap=False, criterion=entropy, max_depth=None, max_features=1, min_samples_split=10, score=(train=1.000, test=0.682), total=   0.0s\n",
      "[CV] bootstrap=False, criterion=entropy, max_depth=None, max_features=1, min_samples_split=10 \n",
      "[CV]  bootstrap=False, criterion=entropy, max_depth=None, max_features=1, min_samples_split=10, score=(train=1.000, test=0.667), total=   0.0s\n",
      "[CV] bootstrap=False, criterion=entropy, max_depth=None, max_features=1, min_samples_split=10 \n",
      "[CV]  bootstrap=False, criterion=entropy, max_depth=None, max_features=1, min_samples_split=10, score=(train=0.988, test=0.667), total=   0.0s\n",
      "[CV] bootstrap=False, criterion=entropy, max_depth=None, max_features=1, min_samples_split=10 \n",
      "[CV]  bootstrap=False, criterion=entropy, max_depth=None, max_features=1, min_samples_split=10, score=(train=0.989, test=0.706), total=   0.0s\n",
      "[CV] bootstrap=False, criterion=entropy, max_depth=None, max_features=3, min_samples_split=2 \n",
      "[CV]  bootstrap=False, criterion=entropy, max_depth=None, max_features=3, min_samples_split=2, score=(train=1.000, test=0.731), total=   0.0s\n",
      "[CV] bootstrap=False, criterion=entropy, max_depth=None, max_features=3, min_samples_split=2 \n",
      "[CV]  bootstrap=False, criterion=entropy, max_depth=None, max_features=3, min_samples_split=2, score=(train=1.000, test=0.636), total=   0.0s\n",
      "[CV] bootstrap=False, criterion=entropy, max_depth=None, max_features=3, min_samples_split=2 \n",
      "[CV]  bootstrap=False, criterion=entropy, max_depth=None, max_features=3, min_samples_split=2, score=(train=1.000, test=0.619), total=   0.0s\n",
      "[CV] bootstrap=False, criterion=entropy, max_depth=None, max_features=3, min_samples_split=2 \n",
      "[CV]  bootstrap=False, criterion=entropy, max_depth=None, max_features=3, min_samples_split=2, score=(train=1.000, test=0.611), total=   0.0s\n",
      "[CV] bootstrap=False, criterion=entropy, max_depth=None, max_features=3, min_samples_split=2 \n",
      "[CV]  bootstrap=False, criterion=entropy, max_depth=None, max_features=3, min_samples_split=2, score=(train=1.000, test=0.765), total=   0.0s\n",
      "[CV] bootstrap=False, criterion=entropy, max_depth=None, max_features=3, min_samples_split=3 \n",
      "[CV]  bootstrap=False, criterion=entropy, max_depth=None, max_features=3, min_samples_split=3, score=(train=1.000, test=0.423), total=   0.0s\n",
      "[CV] bootstrap=False, criterion=entropy, max_depth=None, max_features=3, min_samples_split=3 \n",
      "[CV]  bootstrap=False, criterion=entropy, max_depth=None, max_features=3, min_samples_split=3, score=(train=1.000, test=0.636), total=   0.0s\n",
      "[CV] bootstrap=False, criterion=entropy, max_depth=None, max_features=3, min_samples_split=3 \n",
      "[CV]  bootstrap=False, criterion=entropy, max_depth=None, max_features=3, min_samples_split=3, score=(train=1.000, test=0.714), total=   0.0s\n",
      "[CV] bootstrap=False, criterion=entropy, max_depth=None, max_features=3, min_samples_split=3 \n",
      "[CV]  bootstrap=False, criterion=entropy, max_depth=None, max_features=3, min_samples_split=3, score=(train=1.000, test=0.722), total=   0.0s\n",
      "[CV] bootstrap=False, criterion=entropy, max_depth=None, max_features=3, min_samples_split=3 \n",
      "[CV]  bootstrap=False, criterion=entropy, max_depth=None, max_features=3, min_samples_split=3, score=(train=1.000, test=0.588), total=   0.0s\n",
      "[CV] bootstrap=False, criterion=entropy, max_depth=None, max_features=3, min_samples_split=10 \n",
      "[CV]  bootstrap=False, criterion=entropy, max_depth=None, max_features=3, min_samples_split=10, score=(train=1.000, test=0.500), total=   0.0s\n",
      "[CV] bootstrap=False, criterion=entropy, max_depth=None, max_features=3, min_samples_split=10 \n",
      "[CV]  bootstrap=False, criterion=entropy, max_depth=None, max_features=3, min_samples_split=10, score=(train=1.000, test=0.818), total=   0.0s\n",
      "[CV] bootstrap=False, criterion=entropy, max_depth=None, max_features=3, min_samples_split=10 \n",
      "[CV]  bootstrap=False, criterion=entropy, max_depth=None, max_features=3, min_samples_split=10, score=(train=1.000, test=0.667), total=   0.0s\n",
      "[CV] bootstrap=False, criterion=entropy, max_depth=None, max_features=3, min_samples_split=10 \n",
      "[CV]  bootstrap=False, criterion=entropy, max_depth=None, max_features=3, min_samples_split=10, score=(train=1.000, test=0.722), total=   0.0s\n",
      "[CV] bootstrap=False, criterion=entropy, max_depth=None, max_features=3, min_samples_split=10 \n",
      "[CV]  bootstrap=False, criterion=entropy, max_depth=None, max_features=3, min_samples_split=10, score=(train=1.000, test=0.706), total=   0.0s\n",
      "[CV] bootstrap=False, criterion=entropy, max_depth=None, max_features=10, min_samples_split=2 \n",
      "[CV]  bootstrap=False, criterion=entropy, max_depth=None, max_features=10, min_samples_split=2, score=(train=1.000, test=0.654), total=   0.0s\n",
      "[CV] bootstrap=False, criterion=entropy, max_depth=None, max_features=10, min_samples_split=2 \n",
      "[CV]  bootstrap=False, criterion=entropy, max_depth=None, max_features=10, min_samples_split=2, score=(train=1.000, test=0.773), total=   0.0s\n",
      "[CV] bootstrap=False, criterion=entropy, max_depth=None, max_features=10, min_samples_split=2 \n",
      "[CV]  bootstrap=False, criterion=entropy, max_depth=None, max_features=10, min_samples_split=2, score=(train=1.000, test=0.714), total=   0.0s\n",
      "[CV] bootstrap=False, criterion=entropy, max_depth=None, max_features=10, min_samples_split=2 \n",
      "[CV]  bootstrap=False, criterion=entropy, max_depth=None, max_features=10, min_samples_split=2, score=(train=1.000, test=0.611), total=   0.0s\n",
      "[CV] bootstrap=False, criterion=entropy, max_depth=None, max_features=10, min_samples_split=2 \n",
      "[CV]  bootstrap=False, criterion=entropy, max_depth=None, max_features=10, min_samples_split=2, score=(train=1.000, test=0.706), total=   0.0s\n",
      "[CV] bootstrap=False, criterion=entropy, max_depth=None, max_features=10, min_samples_split=3 \n",
      "[CV]  bootstrap=False, criterion=entropy, max_depth=None, max_features=10, min_samples_split=3, score=(train=1.000, test=0.615), total=   0.0s\n",
      "[CV] bootstrap=False, criterion=entropy, max_depth=None, max_features=10, min_samples_split=3 \n",
      "[CV]  bootstrap=False, criterion=entropy, max_depth=None, max_features=10, min_samples_split=3, score=(train=1.000, test=0.773), total=   0.0s\n",
      "[CV] bootstrap=False, criterion=entropy, max_depth=None, max_features=10, min_samples_split=3 \n",
      "[CV]  bootstrap=False, criterion=entropy, max_depth=None, max_features=10, min_samples_split=3, score=(train=1.000, test=0.667), total=   0.0s\n",
      "[CV] bootstrap=False, criterion=entropy, max_depth=None, max_features=10, min_samples_split=3 \n",
      "[CV]  bootstrap=False, criterion=entropy, max_depth=None, max_features=10, min_samples_split=3, score=(train=1.000, test=0.722), total=   0.0s\n",
      "[CV] bootstrap=False, criterion=entropy, max_depth=None, max_features=10, min_samples_split=3 \n",
      "[CV]  bootstrap=False, criterion=entropy, max_depth=None, max_features=10, min_samples_split=3, score=(train=1.000, test=0.824), total=   0.0s\n",
      "[CV] bootstrap=False, criterion=entropy, max_depth=None, max_features=10, min_samples_split=10 \n",
      "[CV]  bootstrap=False, criterion=entropy, max_depth=None, max_features=10, min_samples_split=10, score=(train=1.000, test=0.577), total=   0.0s\n",
      "[CV] bootstrap=False, criterion=entropy, max_depth=None, max_features=10, min_samples_split=10 \n",
      "[CV]  bootstrap=False, criterion=entropy, max_depth=None, max_features=10, min_samples_split=10, score=(train=0.988, test=0.773), total=   0.0s\n",
      "[CV] bootstrap=False, criterion=entropy, max_depth=None, max_features=10, min_samples_split=10 \n",
      "[CV]  bootstrap=False, criterion=entropy, max_depth=None, max_features=10, min_samples_split=10, score=(train=1.000, test=0.619), total=   0.0s\n",
      "[CV] bootstrap=False, criterion=entropy, max_depth=None, max_features=10, min_samples_split=10 \n",
      "[CV]  bootstrap=False, criterion=entropy, max_depth=None, max_features=10, min_samples_split=10, score=(train=1.000, test=0.611), total=   0.0s\n",
      "[CV] bootstrap=False, criterion=entropy, max_depth=None, max_features=10, min_samples_split=10 \n",
      "[CV]  bootstrap=False, criterion=entropy, max_depth=None, max_features=10, min_samples_split=10, score=(train=1.000, test=0.647), total=   0.0s\n",
      "Fitting 5 folds for each of 36 candidates, totalling 180 fits\n",
      "[CV] bootstrap=False, criterion=entropy, max_depth=None, max_features=10, min_samples_split=3 \n",
      "[CV]  bootstrap=False, criterion=entropy, max_depth=None, max_features=10, min_samples_split=3, score=(train=1.000, test=0.705), total=   0.0s\n",
      "[CV] bootstrap=False, criterion=entropy, max_depth=None, max_features=10, min_samples_split=3 \n",
      "[CV]  bootstrap=False, criterion=entropy, max_depth=None, max_features=10, min_samples_split=3, score=(train=1.000, test=0.682), total=   0.0s\n",
      "[CV] bootstrap=False, criterion=entropy, max_depth=None, max_features=10, min_samples_split=3 \n"
     ]
    },
    {
     "name": "stderr",
     "output_type": "stream",
     "text": [
      "[Parallel(n_jobs=1)]: Done 360 out of 360 | elapsed:    6.7s finished\n",
      "[Parallel(n_jobs=1)]: Using backend SequentialBackend with 1 concurrent workers.\n",
      "[Parallel(n_jobs=1)]: Done   1 out of   1 | elapsed:    0.0s remaining:    0.0s\n",
      "[Parallel(n_jobs=1)]: Done   2 out of   2 | elapsed:    0.1s remaining:    0.0s\n",
      "[Parallel(n_jobs=1)]: Done   3 out of   3 | elapsed:    0.1s remaining:    0.0s\n",
      "[Parallel(n_jobs=1)]: Done   4 out of   4 | elapsed:    0.2s remaining:    0.0s\n",
      "[Parallel(n_jobs=1)]: Done   5 out of   5 | elapsed:    0.2s remaining:    0.0s\n"
     ]
    },
    {
     "name": "stdout",
     "output_type": "stream",
     "text": [
      "[CV]  bootstrap=False, criterion=entropy, max_depth=None, max_features=10, min_samples_split=3, score=(train=1.000, test=0.628), total=   0.0s\n",
      "[CV] bootstrap=False, criterion=entropy, max_depth=None, max_features=10, min_samples_split=3 \n",
      "[CV]  bootstrap=False, criterion=entropy, max_depth=None, max_features=10, min_samples_split=3, score=(train=1.000, test=0.744), total=   0.0s\n",
      "[CV] bootstrap=False, criterion=entropy, max_depth=None, max_features=10, min_samples_split=3 \n",
      "[CV]  bootstrap=False, criterion=entropy, max_depth=None, max_features=10, min_samples_split=3, score=(train=1.000, test=0.711), total=   0.0s\n",
      "[CV] bootstrap=False, criterion=entropy, max_depth=None, max_features=10, min_samples_split=2 \n",
      "[CV]  bootstrap=False, criterion=entropy, max_depth=None, max_features=10, min_samples_split=2, score=(train=1.000, test=0.727), total=   0.0s\n",
      "[CV] bootstrap=False, criterion=entropy, max_depth=None, max_features=10, min_samples_split=2 \n",
      "[CV]  bootstrap=False, criterion=entropy, max_depth=None, max_features=10, min_samples_split=2, score=(train=1.000, test=0.773), total=   0.0s\n",
      "[CV] bootstrap=False, criterion=entropy, max_depth=None, max_features=10, min_samples_split=2 \n",
      "[CV]  bootstrap=False, criterion=entropy, max_depth=None, max_features=10, min_samples_split=2, score=(train=1.000, test=0.698), total=   0.0s\n",
      "[CV] bootstrap=False, criterion=entropy, max_depth=None, max_features=10, min_samples_split=2 \n"
     ]
    },
    {
     "name": "stderr",
     "output_type": "stream",
     "text": [
      "[Parallel(n_jobs=1)]: Done   6 out of   6 | elapsed:    0.2s remaining:    0.0s\n",
      "[Parallel(n_jobs=1)]: Done   7 out of   7 | elapsed:    0.3s remaining:    0.0s\n",
      "[Parallel(n_jobs=1)]: Done   8 out of   8 | elapsed:    0.3s remaining:    0.0s\n",
      "[Parallel(n_jobs=1)]: Done   9 out of   9 | elapsed:    0.3s remaining:    0.0s\n"
     ]
    },
    {
     "name": "stdout",
     "output_type": "stream",
     "text": [
      "[CV]  bootstrap=False, criterion=entropy, max_depth=None, max_features=10, min_samples_split=2, score=(train=1.000, test=0.744), total=   0.0s\n",
      "[CV] bootstrap=False, criterion=entropy, max_depth=None, max_features=10, min_samples_split=2 \n",
      "[CV]  bootstrap=False, criterion=entropy, max_depth=None, max_features=10, min_samples_split=2, score=(train=1.000, test=0.684), total=   0.0s\n",
      "[CV] bootstrap=False, criterion=gini, max_depth=None, max_features=1, min_samples_split=3 \n",
      "[CV]  bootstrap=False, criterion=gini, max_depth=None, max_features=1, min_samples_split=3, score=(train=1.000, test=0.636), total=   0.0s\n",
      "[CV] bootstrap=False, criterion=gini, max_depth=None, max_features=1, min_samples_split=3 \n",
      "[CV]  bootstrap=False, criterion=gini, max_depth=None, max_features=1, min_samples_split=3, score=(train=1.000, test=0.659), total=   0.0s\n",
      "[CV] bootstrap=False, criterion=gini, max_depth=None, max_features=1, min_samples_split=3 \n",
      "[CV]  bootstrap=False, criterion=gini, max_depth=None, max_features=1, min_samples_split=3, score=(train=1.000, test=0.605), total=   0.0s\n",
      "[CV] bootstrap=False, criterion=gini, max_depth=None, max_features=1, min_samples_split=3 \n",
      "[CV]  bootstrap=False, criterion=gini, max_depth=None, max_features=1, min_samples_split=3, score=(train=1.000, test=0.744), total=   0.0s\n",
      "[CV] bootstrap=False, criterion=gini, max_depth=None, max_features=1, min_samples_split=3 \n",
      "[CV]  bootstrap=False, criterion=gini, max_depth=None, max_features=1, min_samples_split=3, score=(train=1.000, test=0.789), total=   0.0s\n",
      "[CV] bootstrap=False, criterion=gini, max_depth=None, max_features=10, min_samples_split=10 \n",
      "[CV]  bootstrap=False, criterion=gini, max_depth=None, max_features=10, min_samples_split=10, score=(train=1.000, test=0.773), total=   0.0s\n",
      "[CV] bootstrap=False, criterion=gini, max_depth=None, max_features=10, min_samples_split=10 \n",
      "[CV]  bootstrap=False, criterion=gini, max_depth=None, max_features=10, min_samples_split=10, score=(train=1.000, test=0.682), total=   0.0s\n",
      "[CV] bootstrap=False, criterion=gini, max_depth=None, max_features=10, min_samples_split=10 \n",
      "[CV]  bootstrap=False, criterion=gini, max_depth=None, max_features=10, min_samples_split=10, score=(train=1.000, test=0.674), total=   0.0s\n",
      "[CV] bootstrap=False, criterion=gini, max_depth=None, max_features=10, min_samples_split=10 \n",
      "[CV]  bootstrap=False, criterion=gini, max_depth=None, max_features=10, min_samples_split=10, score=(train=0.994, test=0.718), total=   0.0s\n",
      "[CV] bootstrap=False, criterion=gini, max_depth=None, max_features=10, min_samples_split=10 \n",
      "[CV]  bootstrap=False, criterion=gini, max_depth=None, max_features=10, min_samples_split=10, score=(train=1.000, test=0.711), total=   0.0s\n",
      "[CV] bootstrap=False, criterion=entropy, max_depth=None, max_features=3, min_samples_split=10 \n",
      "[CV]  bootstrap=False, criterion=entropy, max_depth=None, max_features=3, min_samples_split=10, score=(train=0.994, test=0.750), total=   0.0s\n",
      "[CV] bootstrap=False, criterion=entropy, max_depth=None, max_features=3, min_samples_split=10 \n",
      "[CV]  bootstrap=False, criterion=entropy, max_depth=None, max_features=3, min_samples_split=10, score=(train=1.000, test=0.727), total=   0.0s\n",
      "[CV] bootstrap=False, criterion=entropy, max_depth=None, max_features=3, min_samples_split=10 \n",
      "[CV]  bootstrap=False, criterion=entropy, max_depth=None, max_features=3, min_samples_split=10, score=(train=0.988, test=0.744), total=   0.0s\n",
      "[CV] bootstrap=False, criterion=entropy, max_depth=None, max_features=3, min_samples_split=10 \n",
      "[CV]  bootstrap=False, criterion=entropy, max_depth=None, max_features=3, min_samples_split=10, score=(train=1.000, test=0.744), total=   0.0s\n",
      "[CV] bootstrap=False, criterion=entropy, max_depth=None, max_features=3, min_samples_split=10 \n",
      "[CV]  bootstrap=False, criterion=entropy, max_depth=None, max_features=3, min_samples_split=10, score=(train=1.000, test=0.632), total=   0.0s\n",
      "[CV] bootstrap=False, criterion=gini, max_depth=None, max_features=10, min_samples_split=2 \n",
      "[CV]  bootstrap=False, criterion=gini, max_depth=None, max_features=10, min_samples_split=2, score=(train=1.000, test=0.682), total=   0.0s\n",
      "[CV] bootstrap=False, criterion=gini, max_depth=None, max_features=10, min_samples_split=2 \n",
      "[CV]  bootstrap=False, criterion=gini, max_depth=None, max_features=10, min_samples_split=2, score=(train=1.000, test=0.727), total=   0.0s\n",
      "[CV] bootstrap=False, criterion=gini, max_depth=None, max_features=10, min_samples_split=2 \n",
      "[CV]  bootstrap=False, criterion=gini, max_depth=None, max_features=10, min_samples_split=2, score=(train=1.000, test=0.628), total=   0.0s\n",
      "[CV] bootstrap=False, criterion=gini, max_depth=None, max_features=10, min_samples_split=2 \n",
      "[CV]  bootstrap=False, criterion=gini, max_depth=None, max_features=10, min_samples_split=2, score=(train=1.000, test=0.744), total=   0.0s\n",
      "[CV] bootstrap=False, criterion=gini, max_depth=None, max_features=10, min_samples_split=2 \n",
      "[CV]  bootstrap=False, criterion=gini, max_depth=None, max_features=10, min_samples_split=2, score=(train=1.000, test=0.737), total=   0.0s\n",
      "[CV] bootstrap=False, criterion=entropy, max_depth=None, max_features=3, min_samples_split=2 \n",
      "[CV]  bootstrap=False, criterion=entropy, max_depth=None, max_features=3, min_samples_split=2, score=(train=1.000, test=0.750), total=   0.0s\n",
      "[CV] bootstrap=False, criterion=entropy, max_depth=None, max_features=3, min_samples_split=2 \n",
      "[CV]  bootstrap=False, criterion=entropy, max_depth=None, max_features=3, min_samples_split=2, score=(train=1.000, test=0.636), total=   0.0s\n",
      "[CV] bootstrap=False, criterion=entropy, max_depth=None, max_features=3, min_samples_split=2 \n",
      "[CV]  bootstrap=False, criterion=entropy, max_depth=None, max_features=3, min_samples_split=2, score=(train=1.000, test=0.674), total=   0.0s\n",
      "[CV] bootstrap=False, criterion=entropy, max_depth=None, max_features=3, min_samples_split=2 \n",
      "[CV]  bootstrap=False, criterion=entropy, max_depth=None, max_features=3, min_samples_split=2, score=(train=1.000, test=0.692), total=   0.0s\n",
      "[CV] bootstrap=False, criterion=entropy, max_depth=None, max_features=3, min_samples_split=2 \n",
      "[CV]  bootstrap=False, criterion=entropy, max_depth=None, max_features=3, min_samples_split=2, score=(train=1.000, test=0.789), total=   0.0s\n",
      "[CV] bootstrap=True, criterion=entropy, max_depth=None, max_features=10, min_samples_split=10 \n",
      "[CV]  bootstrap=True, criterion=entropy, max_depth=None, max_features=10, min_samples_split=10, score=(train=0.945, test=0.659), total=   0.0s\n",
      "[CV] bootstrap=True, criterion=entropy, max_depth=None, max_features=10, min_samples_split=10 \n",
      "[CV]  bootstrap=True, criterion=entropy, max_depth=None, max_features=10, min_samples_split=10, score=(train=0.976, test=0.682), total=   0.0s\n",
      "[CV] bootstrap=True, criterion=entropy, max_depth=None, max_features=10, min_samples_split=10 \n",
      "[CV]  bootstrap=True, criterion=entropy, max_depth=None, max_features=10, min_samples_split=10, score=(train=0.988, test=0.651), total=   0.0s\n",
      "[CV] bootstrap=True, criterion=entropy, max_depth=None, max_features=10, min_samples_split=10 \n",
      "[CV]  bootstrap=True, criterion=entropy, max_depth=None, max_features=10, min_samples_split=10, score=(train=0.988, test=0.590), total=   0.0s\n",
      "[CV] bootstrap=True, criterion=entropy, max_depth=None, max_features=10, min_samples_split=10 \n",
      "[CV]  bootstrap=True, criterion=entropy, max_depth=None, max_features=10, min_samples_split=10, score=(train=0.965, test=0.632), total=   0.0s\n",
      "[CV] bootstrap=False, criterion=gini, max_depth=None, max_features=10, min_samples_split=3 \n",
      "[CV]  bootstrap=False, criterion=gini, max_depth=None, max_features=10, min_samples_split=3, score=(train=1.000, test=0.750), total=   0.0s\n",
      "[CV] bootstrap=False, criterion=gini, max_depth=None, max_features=10, min_samples_split=3 \n",
      "[CV]  bootstrap=False, criterion=gini, max_depth=None, max_features=10, min_samples_split=3, score=(train=1.000, test=0.705), total=   0.0s\n",
      "[CV] bootstrap=False, criterion=gini, max_depth=None, max_features=10, min_samples_split=3 \n",
      "[CV]  bootstrap=False, criterion=gini, max_depth=None, max_features=10, min_samples_split=3, score=(train=1.000, test=0.674), total=   0.0s\n",
      "[CV] bootstrap=False, criterion=gini, max_depth=None, max_features=10, min_samples_split=3 \n",
      "[CV]  bootstrap=False, criterion=gini, max_depth=None, max_features=10, min_samples_split=3, score=(train=1.000, test=0.718), total=   0.0s\n",
      "[CV] bootstrap=False, criterion=gini, max_depth=None, max_features=10, min_samples_split=3 \n",
      "[CV]  bootstrap=False, criterion=gini, max_depth=None, max_features=10, min_samples_split=3, score=(train=1.000, test=0.684), total=   0.0s\n",
      "[CV] bootstrap=False, criterion=entropy, max_depth=None, max_features=1, min_samples_split=10 \n",
      "[CV]  bootstrap=False, criterion=entropy, max_depth=None, max_features=1, min_samples_split=10, score=(train=1.000, test=0.773), total=   0.0s\n",
      "[CV] bootstrap=False, criterion=entropy, max_depth=None, max_features=1, min_samples_split=10 \n",
      "[CV]  bootstrap=False, criterion=entropy, max_depth=None, max_features=1, min_samples_split=10, score=(train=1.000, test=0.727), total=   0.0s\n",
      "[CV] bootstrap=False, criterion=entropy, max_depth=None, max_features=1, min_samples_split=10 \n",
      "[CV]  bootstrap=False, criterion=entropy, max_depth=None, max_features=1, min_samples_split=10, score=(train=1.000, test=0.605), total=   0.0s\n",
      "[CV] bootstrap=False, criterion=entropy, max_depth=None, max_features=1, min_samples_split=10 \n",
      "[CV]  bootstrap=False, criterion=entropy, max_depth=None, max_features=1, min_samples_split=10, score=(train=1.000, test=0.744), total=   0.0s\n",
      "[CV] bootstrap=False, criterion=entropy, max_depth=None, max_features=1, min_samples_split=10 \n",
      "[CV]  bootstrap=False, criterion=entropy, max_depth=None, max_features=1, min_samples_split=10, score=(train=0.988, test=0.658), total=   0.0s\n",
      "[CV] bootstrap=False, criterion=gini, max_depth=None, max_features=3, min_samples_split=10 \n",
      "[CV]  bootstrap=False, criterion=gini, max_depth=None, max_features=3, min_samples_split=10, score=(train=0.994, test=0.795), total=   0.0s\n",
      "[CV] bootstrap=False, criterion=gini, max_depth=None, max_features=3, min_samples_split=10 \n",
      "[CV]  bootstrap=False, criterion=gini, max_depth=None, max_features=3, min_samples_split=10, score=(train=1.000, test=0.705), total=   0.0s\n",
      "[CV] bootstrap=False, criterion=gini, max_depth=None, max_features=3, min_samples_split=10 \n",
      "[CV]  bootstrap=False, criterion=gini, max_depth=None, max_features=3, min_samples_split=10, score=(train=1.000, test=0.605), total=   0.0s\n",
      "[CV] bootstrap=False, criterion=gini, max_depth=None, max_features=3, min_samples_split=10 \n",
      "[CV]  bootstrap=False, criterion=gini, max_depth=None, max_features=3, min_samples_split=10, score=(train=0.994, test=0.692), total=   0.0s\n",
      "[CV] bootstrap=False, criterion=gini, max_depth=None, max_features=3, min_samples_split=10 \n",
      "[CV]  bootstrap=False, criterion=gini, max_depth=None, max_features=3, min_samples_split=10, score=(train=1.000, test=0.658), total=   0.0s\n",
      "[CV] bootstrap=False, criterion=entropy, max_depth=None, max_features=10, min_samples_split=10 \n",
      "[CV]  bootstrap=False, criterion=entropy, max_depth=None, max_features=10, min_samples_split=10, score=(train=1.000, test=0.750), total=   0.0s\n",
      "[CV] bootstrap=False, criterion=entropy, max_depth=None, max_features=10, min_samples_split=10 \n",
      "[CV]  bootstrap=False, criterion=entropy, max_depth=None, max_features=10, min_samples_split=10, score=(train=0.994, test=0.659), total=   0.0s\n",
      "[CV] bootstrap=False, criterion=entropy, max_depth=None, max_features=10, min_samples_split=10 \n",
      "[CV]  bootstrap=False, criterion=entropy, max_depth=None, max_features=10, min_samples_split=10, score=(train=1.000, test=0.721), total=   0.0s\n",
      "[CV] bootstrap=False, criterion=entropy, max_depth=None, max_features=10, min_samples_split=10 \n",
      "[CV]  bootstrap=False, criterion=entropy, max_depth=None, max_features=10, min_samples_split=10, score=(train=1.000, test=0.795), total=   0.0s\n",
      "[CV] bootstrap=False, criterion=entropy, max_depth=None, max_features=10, min_samples_split=10 \n",
      "[CV]  bootstrap=False, criterion=entropy, max_depth=None, max_features=10, min_samples_split=10, score=(train=1.000, test=0.658), total=   0.0s\n",
      "[CV] bootstrap=True, criterion=entropy, max_depth=None, max_features=10, min_samples_split=3 \n",
      "[CV]  bootstrap=True, criterion=entropy, max_depth=None, max_features=10, min_samples_split=3, score=(train=1.000, test=0.773), total=   0.0s\n",
      "[CV] bootstrap=True, criterion=entropy, max_depth=None, max_features=10, min_samples_split=3 \n",
      "[CV]  bootstrap=True, criterion=entropy, max_depth=None, max_features=10, min_samples_split=3, score=(train=1.000, test=0.659), total=   0.0s\n",
      "[CV] bootstrap=True, criterion=entropy, max_depth=None, max_features=10, min_samples_split=3 \n",
      "[CV]  bootstrap=True, criterion=entropy, max_depth=None, max_features=10, min_samples_split=3, score=(train=1.000, test=0.605), total=   0.0s\n",
      "[CV] bootstrap=True, criterion=entropy, max_depth=None, max_features=10, min_samples_split=3 \n",
      "[CV]  bootstrap=True, criterion=entropy, max_depth=None, max_features=10, min_samples_split=3, score=(train=1.000, test=0.769), total=   0.0s\n",
      "[CV] bootstrap=True, criterion=entropy, max_depth=None, max_features=10, min_samples_split=3 \n",
      "[CV]  bootstrap=True, criterion=entropy, max_depth=None, max_features=10, min_samples_split=3, score=(train=1.000, test=0.711), total=   0.0s\n",
      "[CV] bootstrap=False, criterion=gini, max_depth=None, max_features=3, min_samples_split=2 \n",
      "[CV]  bootstrap=False, criterion=gini, max_depth=None, max_features=3, min_samples_split=2, score=(train=1.000, test=0.705), total=   0.0s\n",
      "[CV] bootstrap=False, criterion=gini, max_depth=None, max_features=3, min_samples_split=2 \n",
      "[CV]  bootstrap=False, criterion=gini, max_depth=None, max_features=3, min_samples_split=2, score=(train=1.000, test=0.682), total=   0.0s\n",
      "[CV] bootstrap=False, criterion=gini, max_depth=None, max_features=3, min_samples_split=2 \n",
      "[CV]  bootstrap=False, criterion=gini, max_depth=None, max_features=3, min_samples_split=2, score=(train=1.000, test=0.581), total=   0.0s\n",
      "[CV] bootstrap=False, criterion=gini, max_depth=None, max_features=3, min_samples_split=2 \n",
      "[CV]  bootstrap=False, criterion=gini, max_depth=None, max_features=3, min_samples_split=2, score=(train=1.000, test=0.744), total=   0.0s\n",
      "[CV] bootstrap=False, criterion=gini, max_depth=None, max_features=3, min_samples_split=2 \n",
      "[CV]  bootstrap=False, criterion=gini, max_depth=None, max_features=3, min_samples_split=2, score=(train=1.000, test=0.789), total=   0.0s\n",
      "[CV] bootstrap=False, criterion=gini, max_depth=None, max_features=1, min_samples_split=10 \n",
      "[CV]  bootstrap=False, criterion=gini, max_depth=None, max_features=1, min_samples_split=10, score=(train=1.000, test=0.614), total=   0.0s\n",
      "[CV] bootstrap=False, criterion=gini, max_depth=None, max_features=1, min_samples_split=10 \n",
      "[CV]  bootstrap=False, criterion=gini, max_depth=None, max_features=1, min_samples_split=10, score=(train=0.994, test=0.682), total=   0.0s\n",
      "[CV] bootstrap=False, criterion=gini, max_depth=None, max_features=1, min_samples_split=10 \n",
      "[CV]  bootstrap=False, criterion=gini, max_depth=None, max_features=1, min_samples_split=10, score=(train=1.000, test=0.581), total=   0.0s\n",
      "[CV] bootstrap=False, criterion=gini, max_depth=None, max_features=1, min_samples_split=10 \n",
      "[CV]  bootstrap=False, criterion=gini, max_depth=None, max_features=1, min_samples_split=10, score=(train=0.994, test=0.821), total=   0.0s\n",
      "[CV] bootstrap=False, criterion=gini, max_depth=None, max_features=1, min_samples_split=10 \n",
      "[CV]  bootstrap=False, criterion=gini, max_depth=None, max_features=1, min_samples_split=10, score=(train=1.000, test=0.605), total=   0.0s\n",
      "[CV] bootstrap=True, criterion=gini, max_depth=None, max_features=3, min_samples_split=2 \n",
      "[CV]  bootstrap=True, criterion=gini, max_depth=None, max_features=3, min_samples_split=2, score=(train=1.000, test=0.727), total=   0.0s\n",
      "[CV] bootstrap=True, criterion=gini, max_depth=None, max_features=3, min_samples_split=2 \n",
      "[CV]  bootstrap=True, criterion=gini, max_depth=None, max_features=3, min_samples_split=2, score=(train=1.000, test=0.614), total=   0.0s\n",
      "[CV] bootstrap=True, criterion=gini, max_depth=None, max_features=3, min_samples_split=2 \n",
      "[CV]  bootstrap=True, criterion=gini, max_depth=None, max_features=3, min_samples_split=2, score=(train=1.000, test=0.628), total=   0.0s\n",
      "[CV] bootstrap=True, criterion=gini, max_depth=None, max_features=3, min_samples_split=2 \n",
      "[CV]  bootstrap=True, criterion=gini, max_depth=None, max_features=3, min_samples_split=2, score=(train=1.000, test=0.667), total=   0.0s\n",
      "[CV] bootstrap=True, criterion=gini, max_depth=None, max_features=3, min_samples_split=2 \n",
      "[CV]  bootstrap=True, criterion=gini, max_depth=None, max_features=3, min_samples_split=2, score=(train=1.000, test=0.632), total=   0.0s\n",
      "[CV] bootstrap=False, criterion=entropy, max_depth=None, max_features=3, min_samples_split=3 \n",
      "[CV]  bootstrap=False, criterion=entropy, max_depth=None, max_features=3, min_samples_split=3, score=(train=1.000, test=0.795), total=   0.0s\n",
      "[CV] bootstrap=False, criterion=entropy, max_depth=None, max_features=3, min_samples_split=3 \n",
      "[CV]  bootstrap=False, criterion=entropy, max_depth=None, max_features=3, min_samples_split=3, score=(train=1.000, test=0.682), total=   0.0s\n",
      "[CV] bootstrap=False, criterion=entropy, max_depth=None, max_features=3, min_samples_split=3 \n",
      "[CV]  bootstrap=False, criterion=entropy, max_depth=None, max_features=3, min_samples_split=3, score=(train=1.000, test=0.581), total=   0.0s\n",
      "[CV] bootstrap=False, criterion=entropy, max_depth=None, max_features=3, min_samples_split=3 \n",
      "[CV]  bootstrap=False, criterion=entropy, max_depth=None, max_features=3, min_samples_split=3, score=(train=1.000, test=0.744), total=   0.0s\n",
      "[CV] bootstrap=False, criterion=entropy, max_depth=None, max_features=3, min_samples_split=3 \n",
      "[CV]  bootstrap=False, criterion=entropy, max_depth=None, max_features=3, min_samples_split=3, score=(train=1.000, test=0.711), total=   0.0s\n",
      "[CV] bootstrap=True, criterion=gini, max_depth=None, max_features=10, min_samples_split=3 \n",
      "[CV]  bootstrap=True, criterion=gini, max_depth=None, max_features=10, min_samples_split=3, score=(train=1.000, test=0.727), total=   0.0s\n",
      "[CV] bootstrap=True, criterion=gini, max_depth=None, max_features=10, min_samples_split=3 \n",
      "[CV]  bootstrap=True, criterion=gini, max_depth=None, max_features=10, min_samples_split=3, score=(train=1.000, test=0.682), total=   0.0s\n",
      "[CV] bootstrap=True, criterion=gini, max_depth=None, max_features=10, min_samples_split=3 \n",
      "[CV]  bootstrap=True, criterion=gini, max_depth=None, max_features=10, min_samples_split=3, score=(train=1.000, test=0.628), total=   0.0s\n",
      "[CV] bootstrap=True, criterion=gini, max_depth=None, max_features=10, min_samples_split=3 \n",
      "[CV]  bootstrap=True, criterion=gini, max_depth=None, max_features=10, min_samples_split=3, score=(train=1.000, test=0.692), total=   0.0s\n",
      "[CV] bootstrap=True, criterion=gini, max_depth=None, max_features=10, min_samples_split=3 \n",
      "[CV]  bootstrap=True, criterion=gini, max_depth=None, max_features=10, min_samples_split=3, score=(train=1.000, test=0.684), total=   0.0s\n",
      "[CV] bootstrap=False, criterion=gini, max_depth=3, max_features=10, min_samples_split=10 \n",
      "[CV]  bootstrap=False, criterion=gini, max_depth=3, max_features=10, min_samples_split=10, score=(train=0.841, test=0.591), total=   0.0s\n",
      "[CV] bootstrap=False, criterion=gini, max_depth=3, max_features=10, min_samples_split=10 \n",
      "[CV]  bootstrap=False, criterion=gini, max_depth=3, max_features=10, min_samples_split=10, score=(train=0.848, test=0.568), total=   0.0s\n",
      "[CV] bootstrap=False, criterion=gini, max_depth=3, max_features=10, min_samples_split=10 \n",
      "[CV]  bootstrap=False, criterion=gini, max_depth=3, max_features=10, min_samples_split=10, score=(train=0.794, test=0.512), total=   0.0s\n",
      "[CV] bootstrap=False, criterion=gini, max_depth=3, max_features=10, min_samples_split=10 \n",
      "[CV]  bootstrap=False, criterion=gini, max_depth=3, max_features=10, min_samples_split=10, score=(train=0.757, test=0.667), total=   0.0s\n",
      "[CV] bootstrap=False, criterion=gini, max_depth=3, max_features=10, min_samples_split=10 \n",
      "[CV]  bootstrap=False, criterion=gini, max_depth=3, max_features=10, min_samples_split=10, score=(train=0.812, test=0.553), total=   0.0s\n",
      "[CV] bootstrap=False, criterion=entropy, max_depth=3, max_features=3, min_samples_split=10 \n",
      "[CV]  bootstrap=False, criterion=entropy, max_depth=3, max_features=3, min_samples_split=10, score=(train=0.774, test=0.523), total=   0.0s\n",
      "[CV] bootstrap=False, criterion=entropy, max_depth=3, max_features=3, min_samples_split=10 \n",
      "[CV]  bootstrap=False, criterion=entropy, max_depth=3, max_features=3, min_samples_split=10, score=(train=0.805, test=0.545), total=   0.0s\n",
      "[CV] bootstrap=False, criterion=entropy, max_depth=3, max_features=3, min_samples_split=10 \n",
      "[CV]  bootstrap=False, criterion=entropy, max_depth=3, max_features=3, min_samples_split=10, score=(train=0.739, test=0.488), total=   0.0s\n",
      "[CV] bootstrap=False, criterion=entropy, max_depth=3, max_features=3, min_samples_split=10 \n",
      "[CV]  bootstrap=False, criterion=entropy, max_depth=3, max_features=3, min_samples_split=10, score=(train=0.787, test=0.667), total=   0.0s\n",
      "[CV] bootstrap=False, criterion=entropy, max_depth=3, max_features=3, min_samples_split=10 \n",
      "[CV]  bootstrap=False, criterion=entropy, max_depth=3, max_features=3, min_samples_split=10, score=(train=0.718, test=0.579), total=   0.0s\n",
      "[CV] bootstrap=False, criterion=entropy, max_depth=3, max_features=10, min_samples_split=2 \n",
      "[CV]  bootstrap=False, criterion=entropy, max_depth=3, max_features=10, min_samples_split=2, score=(train=0.848, test=0.614), total=   0.0s\n",
      "[CV] bootstrap=False, criterion=entropy, max_depth=3, max_features=10, min_samples_split=2 \n",
      "[CV]  bootstrap=False, criterion=entropy, max_depth=3, max_features=10, min_samples_split=2, score=(train=0.787, test=0.659), total=   0.0s\n",
      "[CV] bootstrap=False, criterion=entropy, max_depth=3, max_features=10, min_samples_split=2 \n",
      "[CV]  bootstrap=False, criterion=entropy, max_depth=3, max_features=10, min_samples_split=2, score=(train=0.848, test=0.558), total=   0.0s\n",
      "[CV] bootstrap=False, criterion=entropy, max_depth=3, max_features=10, min_samples_split=2 \n",
      "[CV]  bootstrap=False, criterion=entropy, max_depth=3, max_features=10, min_samples_split=2, score=(train=0.817, test=0.692), total=   0.0s\n",
      "[CV] bootstrap=False, criterion=entropy, max_depth=3, max_features=10, min_samples_split=2 \n",
      "[CV]  bootstrap=False, criterion=entropy, max_depth=3, max_features=10, min_samples_split=2, score=(train=0.824, test=0.605), total=   0.0s\n",
      "[CV] bootstrap=True, criterion=entropy, max_depth=None, max_features=10, min_samples_split=2 \n",
      "[CV]  bootstrap=True, criterion=entropy, max_depth=None, max_features=10, min_samples_split=2, score=(train=0.994, test=0.682), total=   0.0s\n",
      "[CV] bootstrap=True, criterion=entropy, max_depth=None, max_features=10, min_samples_split=2 \n",
      "[CV]  bootstrap=True, criterion=entropy, max_depth=None, max_features=10, min_samples_split=2, score=(train=1.000, test=0.614), total=   0.0s\n",
      "[CV] bootstrap=True, criterion=entropy, max_depth=None, max_features=10, min_samples_split=2 \n",
      "[CV]  bootstrap=True, criterion=entropy, max_depth=None, max_features=10, min_samples_split=2, score=(train=1.000, test=0.605), total=   0.0s\n",
      "[CV] bootstrap=True, criterion=entropy, max_depth=None, max_features=10, min_samples_split=2 \n",
      "[CV]  bootstrap=True, criterion=entropy, max_depth=None, max_features=10, min_samples_split=2, score=(train=1.000, test=0.718), total=   0.0s\n",
      "[CV] bootstrap=True, criterion=entropy, max_depth=None, max_features=10, min_samples_split=2 \n",
      "[CV]  bootstrap=True, criterion=entropy, max_depth=None, max_features=10, min_samples_split=2, score=(train=1.000, test=0.763), total=   0.0s\n",
      "[CV] bootstrap=False, criterion=entropy, max_depth=3, max_features=3, min_samples_split=3 \n",
      "[CV]  bootstrap=False, criterion=entropy, max_depth=3, max_features=3, min_samples_split=3, score=(train=0.787, test=0.477), total=   0.0s\n",
      "[CV] bootstrap=False, criterion=entropy, max_depth=3, max_features=3, min_samples_split=3 \n",
      "[CV]  bootstrap=False, criterion=entropy, max_depth=3, max_features=3, min_samples_split=3, score=(train=0.793, test=0.591), total=   0.0s\n",
      "[CV] bootstrap=False, criterion=entropy, max_depth=3, max_features=3, min_samples_split=3 \n",
      "[CV]  bootstrap=False, criterion=entropy, max_depth=3, max_features=3, min_samples_split=3, score=(train=0.758, test=0.465), total=   0.0s\n",
      "[CV] bootstrap=False, criterion=entropy, max_depth=3, max_features=3, min_samples_split=3 \n",
      "[CV]  bootstrap=False, criterion=entropy, max_depth=3, max_features=3, min_samples_split=3, score=(train=0.751, test=0.590), total=   0.0s\n",
      "[CV] bootstrap=False, criterion=entropy, max_depth=3, max_features=3, min_samples_split=3 \n",
      "[CV]  bootstrap=False, criterion=entropy, max_depth=3, max_features=3, min_samples_split=3, score=(train=0.765, test=0.474), total=   0.0s\n",
      "[CV] bootstrap=True, criterion=gini, max_depth=None, max_features=3, min_samples_split=10 \n",
      "[CV]  bootstrap=True, criterion=gini, max_depth=None, max_features=3, min_samples_split=10, score=(train=0.970, test=0.727), total=   0.0s\n",
      "[CV] bootstrap=True, criterion=gini, max_depth=None, max_features=3, min_samples_split=10 \n",
      "[CV]  bootstrap=True, criterion=gini, max_depth=None, max_features=3, min_samples_split=10, score=(train=0.976, test=0.591), total=   0.0s\n",
      "[CV] bootstrap=True, criterion=gini, max_depth=None, max_features=3, min_samples_split=10 \n",
      "[CV]  bootstrap=True, criterion=gini, max_depth=None, max_features=3, min_samples_split=10, score=(train=0.982, test=0.581), total=   0.0s\n",
      "[CV] bootstrap=True, criterion=gini, max_depth=None, max_features=3, min_samples_split=10 \n",
      "[CV]  bootstrap=True, criterion=gini, max_depth=None, max_features=3, min_samples_split=10, score=(train=0.935, test=0.744), total=   0.0s\n",
      "[CV] bootstrap=True, criterion=gini, max_depth=None, max_features=3, min_samples_split=10 \n",
      "[CV]  bootstrap=True, criterion=gini, max_depth=None, max_features=3, min_samples_split=10, score=(train=0.959, test=0.605), total=   0.0s\n",
      "[CV] bootstrap=True, criterion=entropy, max_depth=3, max_features=10, min_samples_split=3 \n",
      "[CV]  bootstrap=True, criterion=entropy, max_depth=3, max_features=10, min_samples_split=3, score=(train=0.780, test=0.568), total=   0.0s\n",
      "[CV] bootstrap=True, criterion=entropy, max_depth=3, max_features=10, min_samples_split=3 \n",
      "[CV]  bootstrap=True, criterion=entropy, max_depth=3, max_features=10, min_samples_split=3, score=(train=0.774, test=0.636), total=   0.0s\n",
      "[CV] bootstrap=True, criterion=entropy, max_depth=3, max_features=10, min_samples_split=3 \n",
      "[CV]  bootstrap=True, criterion=entropy, max_depth=3, max_features=10, min_samples_split=3, score=(train=0.830, test=0.558), total=   0.0s\n",
      "[CV] bootstrap=True, criterion=entropy, max_depth=3, max_features=10, min_samples_split=3 \n",
      "[CV]  bootstrap=True, criterion=entropy, max_depth=3, max_features=10, min_samples_split=3, score=(train=0.817, test=0.692), total=   0.0s\n",
      "[CV] bootstrap=True, criterion=entropy, max_depth=3, max_features=10, min_samples_split=3 \n",
      "[CV]  bootstrap=True, criterion=entropy, max_depth=3, max_features=10, min_samples_split=3, score=(train=0.765, test=0.526), total=   0.0s\n",
      "[CV] bootstrap=False, criterion=gini, max_depth=None, max_features=1, min_samples_split=2 \n",
      "[CV]  bootstrap=False, criterion=gini, max_depth=None, max_features=1, min_samples_split=2, score=(train=1.000, test=0.705), total=   0.0s\n",
      "[CV] bootstrap=False, criterion=gini, max_depth=None, max_features=1, min_samples_split=2 \n",
      "[CV]  bootstrap=False, criterion=gini, max_depth=None, max_features=1, min_samples_split=2, score=(train=1.000, test=0.682), total=   0.0s\n",
      "[CV] bootstrap=False, criterion=gini, max_depth=None, max_features=1, min_samples_split=2 \n",
      "[CV]  bootstrap=False, criterion=gini, max_depth=None, max_features=1, min_samples_split=2, score=(train=1.000, test=0.628), total=   0.0s\n",
      "[CV] bootstrap=False, criterion=gini, max_depth=None, max_features=1, min_samples_split=2 \n",
      "[CV]  bootstrap=False, criterion=gini, max_depth=None, max_features=1, min_samples_split=2, score=(train=1.000, test=0.641), total=   0.0s\n",
      "[CV] bootstrap=False, criterion=gini, max_depth=None, max_features=1, min_samples_split=2 \n",
      "[CV]  bootstrap=False, criterion=gini, max_depth=None, max_features=1, min_samples_split=2, score=(train=1.000, test=0.579), total=   0.0s\n",
      "[CV] bootstrap=True, criterion=entropy, max_depth=None, max_features=1, min_samples_split=10 \n",
      "[CV]  bootstrap=True, criterion=entropy, max_depth=None, max_features=1, min_samples_split=10, score=(train=0.970, test=0.636), total=   0.0s\n",
      "[CV] bootstrap=True, criterion=entropy, max_depth=None, max_features=1, min_samples_split=10 \n",
      "[CV]  bootstrap=True, criterion=entropy, max_depth=None, max_features=1, min_samples_split=10, score=(train=0.945, test=0.727), total=   0.0s\n",
      "[CV] bootstrap=True, criterion=entropy, max_depth=None, max_features=1, min_samples_split=10 \n",
      "[CV]  bootstrap=True, criterion=entropy, max_depth=None, max_features=1, min_samples_split=10, score=(train=0.958, test=0.558), total=   0.0s\n",
      "[CV] bootstrap=True, criterion=entropy, max_depth=None, max_features=1, min_samples_split=10 \n",
      "[CV]  bootstrap=True, criterion=entropy, max_depth=None, max_features=1, min_samples_split=10, score=(train=0.964, test=0.769), total=   0.0s\n",
      "[CV] bootstrap=True, criterion=entropy, max_depth=None, max_features=1, min_samples_split=10 \n",
      "[CV]  bootstrap=True, criterion=entropy, max_depth=None, max_features=1, min_samples_split=10, score=(train=0.941, test=0.553), total=   0.0s\n",
      "[CV] bootstrap=False, criterion=gini, max_depth=3, max_features=10, min_samples_split=2 \n",
      "[CV]  bootstrap=False, criterion=gini, max_depth=3, max_features=10, min_samples_split=2, score=(train=0.787, test=0.568), total=   0.0s\n",
      "[CV] bootstrap=False, criterion=gini, max_depth=3, max_features=10, min_samples_split=2 \n",
      "[CV]  bootstrap=False, criterion=gini, max_depth=3, max_features=10, min_samples_split=2, score=(train=0.835, test=0.614), total=   0.0s\n",
      "[CV] bootstrap=False, criterion=gini, max_depth=3, max_features=10, min_samples_split=2 \n",
      "[CV]  bootstrap=False, criterion=gini, max_depth=3, max_features=10, min_samples_split=2, score=(train=0.794, test=0.558), total=   0.0s\n",
      "[CV] bootstrap=False, criterion=gini, max_depth=3, max_features=10, min_samples_split=2 \n",
      "[CV]  bootstrap=False, criterion=gini, max_depth=3, max_features=10, min_samples_split=2, score=(train=0.852, test=0.641), total=   0.0s\n",
      "[CV] bootstrap=False, criterion=gini, max_depth=3, max_features=10, min_samples_split=2 \n",
      "[CV]  bootstrap=False, criterion=gini, max_depth=3, max_features=10, min_samples_split=2, score=(train=0.829, test=0.553), total=   0.0s\n",
      "[CV] bootstrap=True, criterion=gini, max_depth=None, max_features=3, min_samples_split=3 \n",
      "[CV]  bootstrap=True, criterion=gini, max_depth=None, max_features=3, min_samples_split=3, score=(train=1.000, test=0.659), total=   0.0s\n",
      "[CV] bootstrap=True, criterion=gini, max_depth=None, max_features=3, min_samples_split=3 \n",
      "[CV]  bootstrap=True, criterion=gini, max_depth=None, max_features=3, min_samples_split=3, score=(train=1.000, test=0.682), total=   0.0s\n",
      "[CV] bootstrap=True, criterion=gini, max_depth=None, max_features=3, min_samples_split=3 \n",
      "[CV]  bootstrap=True, criterion=gini, max_depth=None, max_features=3, min_samples_split=3, score=(train=1.000, test=0.605), total=   0.0s\n",
      "[CV] bootstrap=True, criterion=gini, max_depth=None, max_features=3, min_samples_split=3 \n",
      "[CV]  bootstrap=True, criterion=gini, max_depth=None, max_features=3, min_samples_split=3, score=(train=0.994, test=0.692), total=   0.0s\n",
      "[CV] bootstrap=True, criterion=gini, max_depth=None, max_features=3, min_samples_split=3 \n",
      "[CV]  bootstrap=True, criterion=gini, max_depth=None, max_features=3, min_samples_split=3, score=(train=1.000, test=0.632), total=   0.0s\n",
      "[CV] bootstrap=True, criterion=entropy, max_depth=3, max_features=10, min_samples_split=2 \n",
      "[CV]  bootstrap=True, criterion=entropy, max_depth=3, max_features=10, min_samples_split=2, score=(train=0.872, test=0.591), total=   0.0s\n",
      "[CV] bootstrap=True, criterion=entropy, max_depth=3, max_features=10, min_samples_split=2 \n",
      "[CV]  bootstrap=True, criterion=entropy, max_depth=3, max_features=10, min_samples_split=2, score=(train=0.799, test=0.568), total=   0.0s\n",
      "[CV] bootstrap=True, criterion=entropy, max_depth=3, max_features=10, min_samples_split=2 \n",
      "[CV]  bootstrap=True, criterion=entropy, max_depth=3, max_features=10, min_samples_split=2, score=(train=0.788, test=0.558), total=   0.0s\n",
      "[CV] bootstrap=True, criterion=entropy, max_depth=3, max_features=10, min_samples_split=2 \n",
      "[CV]  bootstrap=True, criterion=entropy, max_depth=3, max_features=10, min_samples_split=2, score=(train=0.757, test=0.538), total=   0.0s\n",
      "[CV] bootstrap=True, criterion=entropy, max_depth=3, max_features=10, min_samples_split=2 \n",
      "[CV]  bootstrap=True, criterion=entropy, max_depth=3, max_features=10, min_samples_split=2, score=(train=0.794, test=0.500), total=   0.0s\n",
      "[CV] bootstrap=True, criterion=gini, max_depth=None, max_features=10, min_samples_split=10 \n",
      "[CV]  bootstrap=True, criterion=gini, max_depth=None, max_features=10, min_samples_split=10, score=(train=0.976, test=0.705), total=   0.0s\n",
      "[CV] bootstrap=True, criterion=gini, max_depth=None, max_features=10, min_samples_split=10 \n",
      "[CV]  bootstrap=True, criterion=gini, max_depth=None, max_features=10, min_samples_split=10, score=(train=0.970, test=0.682), total=   0.0s\n",
      "[CV] bootstrap=True, criterion=gini, max_depth=None, max_features=10, min_samples_split=10 \n",
      "[CV]  bootstrap=True, criterion=gini, max_depth=None, max_features=10, min_samples_split=10, score=(train=0.982, test=0.651), total=   0.0s\n",
      "[CV] bootstrap=True, criterion=gini, max_depth=None, max_features=10, min_samples_split=10 \n",
      "[CV]  bootstrap=True, criterion=gini, max_depth=None, max_features=10, min_samples_split=10, score=(train=0.959, test=0.692), total=   0.0s\n",
      "[CV] bootstrap=True, criterion=gini, max_depth=None, max_features=10, min_samples_split=10 \n",
      "[CV]  bootstrap=True, criterion=gini, max_depth=None, max_features=10, min_samples_split=10, score=(train=0.965, test=0.579), total=   0.0s\n",
      "[CV] bootstrap=True, criterion=gini, max_depth=None, max_features=10, min_samples_split=2 \n",
      "[CV]  bootstrap=True, criterion=gini, max_depth=None, max_features=10, min_samples_split=2, score=(train=1.000, test=0.705), total=   0.0s\n",
      "[CV] bootstrap=True, criterion=gini, max_depth=None, max_features=10, min_samples_split=2 \n",
      "[CV]  bootstrap=True, criterion=gini, max_depth=None, max_features=10, min_samples_split=2, score=(train=1.000, test=0.591), total=   0.0s\n",
      "[CV] bootstrap=True, criterion=gini, max_depth=None, max_features=10, min_samples_split=2 \n",
      "[CV]  bootstrap=True, criterion=gini, max_depth=None, max_features=10, min_samples_split=2, score=(train=1.000, test=0.605), total=   0.0s\n",
      "[CV] bootstrap=True, criterion=gini, max_depth=None, max_features=10, min_samples_split=2 \n",
      "[CV]  bootstrap=True, criterion=gini, max_depth=None, max_features=10, min_samples_split=2, score=(train=1.000, test=0.744), total=   0.0s\n",
      "[CV] bootstrap=True, criterion=gini, max_depth=None, max_features=10, min_samples_split=2 \n",
      "[CV]  bootstrap=True, criterion=gini, max_depth=None, max_features=10, min_samples_split=2, score=(train=1.000, test=0.711), total=   0.0s\n",
      "[CV] bootstrap=False, criterion=gini, max_depth=3, max_features=10, min_samples_split=3 \n",
      "[CV]  bootstrap=False, criterion=gini, max_depth=3, max_features=10, min_samples_split=3, score=(train=0.811, test=0.591), total=   0.0s\n",
      "[CV] bootstrap=False, criterion=gini, max_depth=3, max_features=10, min_samples_split=3 \n",
      "[CV]  bootstrap=False, criterion=gini, max_depth=3, max_features=10, min_samples_split=3, score=(train=0.787, test=0.591), total=   0.0s\n",
      "[CV] bootstrap=False, criterion=gini, max_depth=3, max_features=10, min_samples_split=3 \n",
      "[CV]  bootstrap=False, criterion=gini, max_depth=3, max_features=10, min_samples_split=3, score=(train=0.812, test=0.558), total=   0.0s\n",
      "[CV] bootstrap=False, criterion=gini, max_depth=3, max_features=10, min_samples_split=3 \n",
      "[CV]  bootstrap=False, criterion=gini, max_depth=3, max_features=10, min_samples_split=3, score=(train=0.787, test=0.744), total=   0.0s\n",
      "[CV] bootstrap=False, criterion=gini, max_depth=3, max_features=10, min_samples_split=3 \n",
      "[CV]  bootstrap=False, criterion=gini, max_depth=3, max_features=10, min_samples_split=3, score=(train=0.806, test=0.632), total=   0.0s\n",
      "[CV] bootstrap=False, criterion=entropy, max_depth=None, max_features=1, min_samples_split=2 \n",
      "[CV]  bootstrap=False, criterion=entropy, max_depth=None, max_features=1, min_samples_split=2, score=(train=1.000, test=0.727), total=   0.0s\n",
      "[CV] bootstrap=False, criterion=entropy, max_depth=None, max_features=1, min_samples_split=2 \n",
      "[CV]  bootstrap=False, criterion=entropy, max_depth=None, max_features=1, min_samples_split=2, score=(train=1.000, test=0.705), total=   0.0s\n",
      "[CV] bootstrap=False, criterion=entropy, max_depth=None, max_features=1, min_samples_split=2 \n",
      "[CV]  bootstrap=False, criterion=entropy, max_depth=None, max_features=1, min_samples_split=2, score=(train=1.000, test=0.744), total=   0.0s\n",
      "[CV] bootstrap=False, criterion=entropy, max_depth=None, max_features=1, min_samples_split=2 \n",
      "[CV]  bootstrap=False, criterion=entropy, max_depth=None, max_features=1, min_samples_split=2, score=(train=1.000, test=0.744), total=   0.0s\n",
      "[CV] bootstrap=False, criterion=entropy, max_depth=None, max_features=1, min_samples_split=2 \n",
      "[CV]  bootstrap=False, criterion=entropy, max_depth=None, max_features=1, min_samples_split=2, score=(train=1.000, test=0.711), total=   0.0s\n",
      "[CV] bootstrap=True, criterion=gini, max_depth=None, max_features=1, min_samples_split=2 \n",
      "[CV]  bootstrap=True, criterion=gini, max_depth=None, max_features=1, min_samples_split=2, score=(train=1.000, test=0.682), total=   0.0s\n",
      "[CV] bootstrap=True, criterion=gini, max_depth=None, max_features=1, min_samples_split=2 \n",
      "[CV]  bootstrap=True, criterion=gini, max_depth=None, max_features=1, min_samples_split=2, score=(train=1.000, test=0.636), total=   0.0s\n",
      "[CV] bootstrap=True, criterion=gini, max_depth=None, max_features=1, min_samples_split=2 \n",
      "[CV]  bootstrap=True, criterion=gini, max_depth=None, max_features=1, min_samples_split=2, score=(train=1.000, test=0.628), total=   0.0s\n",
      "[CV] bootstrap=True, criterion=gini, max_depth=None, max_features=1, min_samples_split=2 \n",
      "[CV]  bootstrap=True, criterion=gini, max_depth=None, max_features=1, min_samples_split=2, score=(train=1.000, test=0.692), total=   0.0s\n",
      "[CV] bootstrap=True, criterion=gini, max_depth=None, max_features=1, min_samples_split=2 \n",
      "[CV]  bootstrap=True, criterion=gini, max_depth=None, max_features=1, min_samples_split=2, score=(train=1.000, test=0.605), total=   0.0s\n",
      "[CV] bootstrap=False, criterion=entropy, max_depth=None, max_features=1, min_samples_split=3 \n",
      "[CV]  bootstrap=False, criterion=entropy, max_depth=None, max_features=1, min_samples_split=3, score=(train=1.000, test=0.750), total=   0.0s\n",
      "[CV] bootstrap=False, criterion=entropy, max_depth=None, max_features=1, min_samples_split=3 \n",
      "[CV]  bootstrap=False, criterion=entropy, max_depth=None, max_features=1, min_samples_split=3, score=(train=1.000, test=0.727), total=   0.0s\n",
      "[CV] bootstrap=False, criterion=entropy, max_depth=None, max_features=1, min_samples_split=3 \n",
      "[CV]  bootstrap=False, criterion=entropy, max_depth=None, max_features=1, min_samples_split=3, score=(train=1.000, test=0.605), total=   0.0s\n",
      "[CV] bootstrap=False, criterion=entropy, max_depth=None, max_features=1, min_samples_split=3 \n",
      "[CV]  bootstrap=False, criterion=entropy, max_depth=None, max_features=1, min_samples_split=3, score=(train=1.000, test=0.718), total=   0.0s\n",
      "[CV] bootstrap=False, criterion=entropy, max_depth=None, max_features=1, min_samples_split=3 \n",
      "[CV]  bootstrap=False, criterion=entropy, max_depth=None, max_features=1, min_samples_split=3, score=(train=1.000, test=0.737), total=   0.0s\n",
      "Fitting 5 folds for each of 18 candidates, totalling 90 fits\n",
      "[CV] bootstrap=False, criterion=entropy, max_depth=None, max_features=1, min_samples_split=2 \n",
      "[CV]  bootstrap=False, criterion=entropy, max_depth=None, max_features=1, min_samples_split=2, score=(train=1.000, test=0.713), total=   0.0s\n",
      "[CV] bootstrap=False, criterion=entropy, max_depth=None, max_features=1, min_samples_split=2 \n",
      "[CV]  bootstrap=False, criterion=entropy, max_depth=None, max_features=1, min_samples_split=2, score=(train=1.000, test=0.812), total=   0.0s\n",
      "[CV] bootstrap=False, criterion=entropy, max_depth=None, max_features=1, min_samples_split=2 \n"
     ]
    },
    {
     "name": "stderr",
     "output_type": "stream",
     "text": [
      "[Parallel(n_jobs=1)]: Done 180 out of 180 | elapsed:    4.3s finished\n",
      "[Parallel(n_jobs=1)]: Using backend SequentialBackend with 1 concurrent workers.\n",
      "[Parallel(n_jobs=1)]: Done   1 out of   1 | elapsed:    0.0s remaining:    0.0s\n",
      "[Parallel(n_jobs=1)]: Done   2 out of   2 | elapsed:    0.1s remaining:    0.0s\n",
      "[Parallel(n_jobs=1)]: Done   3 out of   3 | elapsed:    0.1s remaining:    0.0s\n",
      "[Parallel(n_jobs=1)]: Done   4 out of   4 | elapsed:    0.1s remaining:    0.0s\n",
      "[Parallel(n_jobs=1)]: Done   5 out of   5 | elapsed:    0.2s remaining:    0.0s\n"
     ]
    },
    {
     "name": "stdout",
     "output_type": "stream",
     "text": [
      "[CV]  bootstrap=False, criterion=entropy, max_depth=None, max_features=1, min_samples_split=2, score=(train=1.000, test=0.711), total=   0.0s\n",
      "[CV] bootstrap=False, criterion=entropy, max_depth=None, max_features=1, min_samples_split=2 \n",
      "[CV]  bootstrap=False, criterion=entropy, max_depth=None, max_features=1, min_samples_split=2, score=(train=1.000, test=0.790), total=   0.0s\n",
      "[CV] bootstrap=False, criterion=entropy, max_depth=None, max_features=1, min_samples_split=2 \n",
      "[CV]  bootstrap=False, criterion=entropy, max_depth=None, max_features=1, min_samples_split=2, score=(train=1.000, test=0.713), total=   0.0s\n",
      "[CV] bootstrap=False, criterion=entropy, max_depth=None, max_features=10, min_samples_split=2 \n",
      "[CV]  bootstrap=False, criterion=entropy, max_depth=None, max_features=10, min_samples_split=2, score=(train=1.000, test=0.805), total=   0.1s\n",
      "[CV] bootstrap=False, criterion=entropy, max_depth=None, max_features=10, min_samples_split=2 \n"
     ]
    },
    {
     "name": "stderr",
     "output_type": "stream",
     "text": [
      "[Parallel(n_jobs=1)]: Done   6 out of   6 | elapsed:    0.3s remaining:    0.0s\n",
      "[Parallel(n_jobs=1)]: Done   7 out of   7 | elapsed:    0.4s remaining:    0.0s\n"
     ]
    },
    {
     "name": "stdout",
     "output_type": "stream",
     "text": [
      "[CV]  bootstrap=False, criterion=entropy, max_depth=None, max_features=10, min_samples_split=2, score=(train=1.000, test=0.812), total=   0.1s\n",
      "[CV] bootstrap=False, criterion=entropy, max_depth=None, max_features=10, min_samples_split=2 \n",
      "[CV]  bootstrap=False, criterion=entropy, max_depth=None, max_features=10, min_samples_split=2, score=(train=1.000, test=0.795), total=   0.1s\n",
      "[CV] bootstrap=False, criterion=entropy, max_depth=None, max_features=10, min_samples_split=2 \n",
      "[CV]  bootstrap=False, criterion=entropy, max_depth=None, max_features=10, min_samples_split=2, score=(train=1.000, test=0.827), total=   0.1s\n",
      "[CV] bootstrap=False, criterion=entropy, max_depth=None, max_features=10, min_samples_split=2 \n"
     ]
    },
    {
     "name": "stderr",
     "output_type": "stream",
     "text": [
      "[Parallel(n_jobs=1)]: Done   8 out of   8 | elapsed:    0.6s remaining:    0.0s\n",
      "[Parallel(n_jobs=1)]: Done   9 out of   9 | elapsed:    0.6s remaining:    0.0s\n"
     ]
    },
    {
     "name": "stdout",
     "output_type": "stream",
     "text": [
      "[CV]  bootstrap=False, criterion=entropy, max_depth=None, max_features=10, min_samples_split=2, score=(train=1.000, test=0.787), total=   0.1s\n",
      "[CV] bootstrap=False, criterion=entropy, max_depth=None, max_features=3, min_samples_split=10 \n",
      "[CV]  bootstrap=False, criterion=entropy, max_depth=None, max_features=3, min_samples_split=10, score=(train=0.997, test=0.805), total=   0.1s\n",
      "[CV] bootstrap=False, criterion=entropy, max_depth=None, max_features=3, min_samples_split=10 \n",
      "[CV]  bootstrap=False, criterion=entropy, max_depth=None, max_features=3, min_samples_split=10, score=(train=0.997, test=0.824), total=   0.1s\n",
      "[CV] bootstrap=False, criterion=entropy, max_depth=None, max_features=3, min_samples_split=10 \n",
      "[CV]  bootstrap=False, criterion=entropy, max_depth=None, max_features=3, min_samples_split=10, score=(train=1.000, test=0.759), total=   0.1s\n",
      "[CV] bootstrap=False, criterion=entropy, max_depth=None, max_features=3, min_samples_split=10 \n",
      "[CV]  bootstrap=False, criterion=entropy, max_depth=None, max_features=3, min_samples_split=10, score=(train=1.000, test=0.728), total=   0.1s\n",
      "[CV] bootstrap=False, criterion=entropy, max_depth=None, max_features=3, min_samples_split=10 \n",
      "[CV]  bootstrap=False, criterion=entropy, max_depth=None, max_features=3, min_samples_split=10, score=(train=1.000, test=0.738), total=   0.1s\n",
      "[CV] bootstrap=False, criterion=entropy, max_depth=None, max_features=10, min_samples_split=10 \n",
      "[CV]  bootstrap=False, criterion=entropy, max_depth=None, max_features=10, min_samples_split=10, score=(train=1.000, test=0.770), total=   0.1s\n",
      "[CV] bootstrap=False, criterion=entropy, max_depth=None, max_features=10, min_samples_split=10 \n",
      "[CV]  bootstrap=False, criterion=entropy, max_depth=None, max_features=10, min_samples_split=10, score=(train=1.000, test=0.776), total=   0.1s\n",
      "[CV] bootstrap=False, criterion=entropy, max_depth=None, max_features=10, min_samples_split=10 \n",
      "[CV]  bootstrap=False, criterion=entropy, max_depth=None, max_features=10, min_samples_split=10, score=(train=1.000, test=0.807), total=   0.1s\n",
      "[CV] bootstrap=False, criterion=entropy, max_depth=None, max_features=10, min_samples_split=10 \n",
      "[CV]  bootstrap=False, criterion=entropy, max_depth=None, max_features=10, min_samples_split=10, score=(train=1.000, test=0.728), total=   0.1s\n",
      "[CV] bootstrap=False, criterion=entropy, max_depth=None, max_features=10, min_samples_split=10 \n",
      "[CV]  bootstrap=False, criterion=entropy, max_depth=None, max_features=10, min_samples_split=10, score=(train=1.000, test=0.812), total=   0.1s\n",
      "[CV] bootstrap=False, criterion=gini, max_depth=None, max_features=10, min_samples_split=10 \n",
      "[CV]  bootstrap=False, criterion=gini, max_depth=None, max_features=10, min_samples_split=10, score=(train=1.000, test=0.828), total=   0.1s\n",
      "[CV] bootstrap=False, criterion=gini, max_depth=None, max_features=10, min_samples_split=10 \n",
      "[CV]  bootstrap=False, criterion=gini, max_depth=None, max_features=10, min_samples_split=10, score=(train=1.000, test=0.729), total=   0.1s\n",
      "[CV] bootstrap=False, criterion=gini, max_depth=None, max_features=10, min_samples_split=10 \n",
      "[CV]  bootstrap=False, criterion=gini, max_depth=None, max_features=10, min_samples_split=10, score=(train=1.000, test=0.807), total=   0.1s\n",
      "[CV] bootstrap=False, criterion=gini, max_depth=None, max_features=10, min_samples_split=10 \n",
      "[CV]  bootstrap=False, criterion=gini, max_depth=None, max_features=10, min_samples_split=10, score=(train=1.000, test=0.790), total=   0.1s\n",
      "[CV] bootstrap=False, criterion=gini, max_depth=None, max_features=10, min_samples_split=10 \n",
      "[CV]  bootstrap=False, criterion=gini, max_depth=None, max_features=10, min_samples_split=10, score=(train=1.000, test=0.750), total=   0.1s\n",
      "[CV] bootstrap=False, criterion=entropy, max_depth=None, max_features=3, min_samples_split=2 \n",
      "[CV]  bootstrap=False, criterion=entropy, max_depth=None, max_features=3, min_samples_split=2, score=(train=1.000, test=0.759), total=   0.1s\n",
      "[CV] bootstrap=False, criterion=entropy, max_depth=None, max_features=3, min_samples_split=2 \n",
      "[CV]  bootstrap=False, criterion=entropy, max_depth=None, max_features=3, min_samples_split=2, score=(train=1.000, test=0.729), total=   0.1s\n",
      "[CV] bootstrap=False, criterion=entropy, max_depth=None, max_features=3, min_samples_split=2 \n",
      "[CV]  bootstrap=False, criterion=entropy, max_depth=None, max_features=3, min_samples_split=2, score=(train=1.000, test=0.663), total=   0.1s\n",
      "[CV] bootstrap=False, criterion=entropy, max_depth=None, max_features=3, min_samples_split=2 \n",
      "[CV]  bootstrap=False, criterion=entropy, max_depth=None, max_features=3, min_samples_split=2, score=(train=1.000, test=0.679), total=   0.1s\n",
      "[CV] bootstrap=False, criterion=entropy, max_depth=None, max_features=3, min_samples_split=2 \n",
      "[CV]  bootstrap=False, criterion=entropy, max_depth=None, max_features=3, min_samples_split=2, score=(train=1.000, test=0.713), total=   0.1s\n",
      "[CV] bootstrap=False, criterion=entropy, max_depth=None, max_features=1, min_samples_split=3 \n",
      "[CV]  bootstrap=False, criterion=entropy, max_depth=None, max_features=1, min_samples_split=3, score=(train=1.000, test=0.805), total=   0.1s\n",
      "[CV] bootstrap=False, criterion=entropy, max_depth=None, max_features=1, min_samples_split=3 \n",
      "[CV]  bootstrap=False, criterion=entropy, max_depth=None, max_features=1, min_samples_split=3, score=(train=1.000, test=0.753), total=   0.1s\n",
      "[CV] bootstrap=False, criterion=entropy, max_depth=None, max_features=1, min_samples_split=3 \n",
      "[CV]  bootstrap=False, criterion=entropy, max_depth=None, max_features=1, min_samples_split=3, score=(train=1.000, test=0.795), total=   0.1s\n",
      "[CV] bootstrap=False, criterion=entropy, max_depth=None, max_features=1, min_samples_split=3 \n",
      "[CV]  bootstrap=False, criterion=entropy, max_depth=None, max_features=1, min_samples_split=3, score=(train=1.000, test=0.667), total=   0.1s\n",
      "[CV] bootstrap=False, criterion=entropy, max_depth=None, max_features=1, min_samples_split=3 \n",
      "[CV]  bootstrap=False, criterion=entropy, max_depth=None, max_features=1, min_samples_split=3, score=(train=1.000, test=0.700), total=   0.1s\n",
      "[CV] bootstrap=False, criterion=gini, max_depth=None, max_features=10, min_samples_split=3 \n",
      "[CV]  bootstrap=False, criterion=gini, max_depth=None, max_features=10, min_samples_split=3, score=(train=1.000, test=0.839), total=   0.1s\n",
      "[CV] bootstrap=False, criterion=gini, max_depth=None, max_features=10, min_samples_split=3 \n",
      "[CV]  bootstrap=False, criterion=gini, max_depth=None, max_features=10, min_samples_split=3, score=(train=1.000, test=0.765), total=   0.1s\n",
      "[CV] bootstrap=False, criterion=gini, max_depth=None, max_features=10, min_samples_split=3 \n",
      "[CV]  bootstrap=False, criterion=gini, max_depth=None, max_features=10, min_samples_split=3, score=(train=1.000, test=0.783), total=   0.1s\n",
      "[CV] bootstrap=False, criterion=gini, max_depth=None, max_features=10, min_samples_split=3 \n",
      "[CV]  bootstrap=False, criterion=gini, max_depth=None, max_features=10, min_samples_split=3, score=(train=1.000, test=0.778), total=   0.1s\n",
      "[CV] bootstrap=False, criterion=gini, max_depth=None, max_features=10, min_samples_split=3 \n",
      "[CV]  bootstrap=False, criterion=gini, max_depth=None, max_features=10, min_samples_split=3, score=(train=1.000, test=0.750), total=   0.0s\n",
      "[CV] bootstrap=False, criterion=gini, max_depth=None, max_features=10, min_samples_split=2 \n",
      "[CV]  bootstrap=False, criterion=gini, max_depth=None, max_features=10, min_samples_split=2, score=(train=1.000, test=0.805), total=   0.0s\n",
      "[CV] bootstrap=False, criterion=gini, max_depth=None, max_features=10, min_samples_split=2 \n",
      "[CV]  bootstrap=False, criterion=gini, max_depth=None, max_features=10, min_samples_split=2, score=(train=1.000, test=0.800), total=   0.0s\n",
      "[CV] bootstrap=False, criterion=gini, max_depth=None, max_features=10, min_samples_split=2 \n",
      "[CV]  bootstrap=False, criterion=gini, max_depth=None, max_features=10, min_samples_split=2, score=(train=1.000, test=0.759), total=   0.0s\n",
      "[CV] bootstrap=False, criterion=gini, max_depth=None, max_features=10, min_samples_split=2 \n",
      "[CV]  bootstrap=False, criterion=gini, max_depth=None, max_features=10, min_samples_split=2, score=(train=1.000, test=0.827), total=   0.1s\n",
      "[CV] bootstrap=False, criterion=gini, max_depth=None, max_features=10, min_samples_split=2 \n",
      "[CV]  bootstrap=False, criterion=gini, max_depth=None, max_features=10, min_samples_split=2, score=(train=1.000, test=0.738), total=   0.1s\n",
      "[CV] bootstrap=True, criterion=entropy, max_depth=None, max_features=10, min_samples_split=3 \n",
      "[CV]  bootstrap=True, criterion=entropy, max_depth=None, max_features=10, min_samples_split=3, score=(train=0.997, test=0.724), total=   0.1s\n",
      "[CV] bootstrap=True, criterion=entropy, max_depth=None, max_features=10, min_samples_split=3 \n",
      "[CV]  bootstrap=True, criterion=entropy, max_depth=None, max_features=10, min_samples_split=3, score=(train=1.000, test=0.753), total=   0.0s\n",
      "[CV] bootstrap=True, criterion=entropy, max_depth=None, max_features=10, min_samples_split=3 \n",
      "[CV]  bootstrap=True, criterion=entropy, max_depth=None, max_features=10, min_samples_split=3, score=(train=1.000, test=0.759), total=   0.1s\n",
      "[CV] bootstrap=True, criterion=entropy, max_depth=None, max_features=10, min_samples_split=3 \n",
      "[CV]  bootstrap=True, criterion=entropy, max_depth=None, max_features=10, min_samples_split=3, score=(train=1.000, test=0.741), total=   0.1s\n",
      "[CV] bootstrap=True, criterion=entropy, max_depth=None, max_features=10, min_samples_split=3 \n",
      "[CV]  bootstrap=True, criterion=entropy, max_depth=None, max_features=10, min_samples_split=3, score=(train=1.000, test=0.750), total=   0.1s\n",
      "[CV] bootstrap=False, criterion=entropy, max_depth=None, max_features=3, min_samples_split=3 \n",
      "[CV]  bootstrap=False, criterion=entropy, max_depth=None, max_features=3, min_samples_split=3, score=(train=1.000, test=0.759), total=   0.1s\n",
      "[CV] bootstrap=False, criterion=entropy, max_depth=None, max_features=3, min_samples_split=3 \n",
      "[CV]  bootstrap=False, criterion=entropy, max_depth=None, max_features=3, min_samples_split=3, score=(train=1.000, test=0.859), total=   0.0s\n",
      "[CV] bootstrap=False, criterion=entropy, max_depth=None, max_features=3, min_samples_split=3 \n",
      "[CV]  bootstrap=False, criterion=entropy, max_depth=None, max_features=3, min_samples_split=3, score=(train=1.000, test=0.771), total=   0.0s\n",
      "[CV] bootstrap=False, criterion=entropy, max_depth=None, max_features=3, min_samples_split=3 \n",
      "[CV]  bootstrap=False, criterion=entropy, max_depth=None, max_features=3, min_samples_split=3, score=(train=1.000, test=0.741), total=   0.1s\n",
      "[CV] bootstrap=False, criterion=entropy, max_depth=None, max_features=3, min_samples_split=3 \n",
      "[CV]  bootstrap=False, criterion=entropy, max_depth=None, max_features=3, min_samples_split=3, score=(train=1.000, test=0.762), total=   0.1s\n",
      "[CV] bootstrap=False, criterion=entropy, max_depth=None, max_features=1, min_samples_split=10 \n",
      "[CV]  bootstrap=False, criterion=entropy, max_depth=None, max_features=1, min_samples_split=10, score=(train=0.997, test=0.805), total=   0.0s\n",
      "[CV] bootstrap=False, criterion=entropy, max_depth=None, max_features=1, min_samples_split=10 \n",
      "[CV]  bootstrap=False, criterion=entropy, max_depth=None, max_features=1, min_samples_split=10, score=(train=1.000, test=0.800), total=   0.0s\n",
      "[CV] bootstrap=False, criterion=entropy, max_depth=None, max_features=1, min_samples_split=10 \n",
      "[CV]  bootstrap=False, criterion=entropy, max_depth=None, max_features=1, min_samples_split=10, score=(train=0.997, test=0.723), total=   0.0s\n",
      "[CV] bootstrap=False, criterion=entropy, max_depth=None, max_features=1, min_samples_split=10 \n",
      "[CV]  bootstrap=False, criterion=entropy, max_depth=None, max_features=1, min_samples_split=10, score=(train=0.997, test=0.765), total=   0.0s\n",
      "[CV] bootstrap=False, criterion=entropy, max_depth=None, max_features=1, min_samples_split=10 \n",
      "[CV]  bootstrap=False, criterion=entropy, max_depth=None, max_features=1, min_samples_split=10, score=(train=1.000, test=0.750), total=   0.0s\n",
      "[CV] bootstrap=False, criterion=gini, max_depth=None, max_features=3, min_samples_split=2 \n",
      "[CV]  bootstrap=False, criterion=gini, max_depth=None, max_features=3, min_samples_split=2, score=(train=1.000, test=0.759), total=   0.0s\n",
      "[CV] bootstrap=False, criterion=gini, max_depth=None, max_features=3, min_samples_split=2 \n",
      "[CV]  bootstrap=False, criterion=gini, max_depth=None, max_features=3, min_samples_split=2, score=(train=1.000, test=0.788), total=   0.0s\n",
      "[CV] bootstrap=False, criterion=gini, max_depth=None, max_features=3, min_samples_split=2 \n",
      "[CV]  bootstrap=False, criterion=gini, max_depth=None, max_features=3, min_samples_split=2, score=(train=1.000, test=0.807), total=   0.0s\n",
      "[CV] bootstrap=False, criterion=gini, max_depth=None, max_features=3, min_samples_split=2 \n",
      "[CV]  bootstrap=False, criterion=gini, max_depth=None, max_features=3, min_samples_split=2, score=(train=1.000, test=0.790), total=   0.0s\n",
      "[CV] bootstrap=False, criterion=gini, max_depth=None, max_features=3, min_samples_split=2 \n",
      "[CV]  bootstrap=False, criterion=gini, max_depth=None, max_features=3, min_samples_split=2, score=(train=1.000, test=0.713), total=   0.0s\n",
      "[CV] bootstrap=False, criterion=entropy, max_depth=None, max_features=10, min_samples_split=3 \n",
      "[CV]  bootstrap=False, criterion=entropy, max_depth=None, max_features=10, min_samples_split=3, score=(train=1.000, test=0.759), total=   0.1s\n",
      "[CV] bootstrap=False, criterion=entropy, max_depth=None, max_features=10, min_samples_split=3 \n",
      "[CV]  bootstrap=False, criterion=entropy, max_depth=None, max_features=10, min_samples_split=3, score=(train=1.000, test=0.788), total=   0.1s\n",
      "[CV] bootstrap=False, criterion=entropy, max_depth=None, max_features=10, min_samples_split=3 \n",
      "[CV]  bootstrap=False, criterion=entropy, max_depth=None, max_features=10, min_samples_split=3, score=(train=1.000, test=0.795), total=   0.0s\n",
      "[CV] bootstrap=False, criterion=entropy, max_depth=None, max_features=10, min_samples_split=3 \n",
      "[CV]  bootstrap=False, criterion=entropy, max_depth=None, max_features=10, min_samples_split=3, score=(train=1.000, test=0.765), total=   0.0s\n",
      "[CV] bootstrap=False, criterion=entropy, max_depth=None, max_features=10, min_samples_split=3 \n",
      "[CV]  bootstrap=False, criterion=entropy, max_depth=None, max_features=10, min_samples_split=3, score=(train=1.000, test=0.762), total=   0.0s\n",
      "[CV] bootstrap=False, criterion=gini, max_depth=None, max_features=3, min_samples_split=10 \n",
      "[CV]  bootstrap=False, criterion=gini, max_depth=None, max_features=3, min_samples_split=10, score=(train=1.000, test=0.747), total=   0.0s\n",
      "[CV] bootstrap=False, criterion=gini, max_depth=None, max_features=3, min_samples_split=10 \n",
      "[CV]  bootstrap=False, criterion=gini, max_depth=None, max_features=3, min_samples_split=10, score=(train=1.000, test=0.776), total=   0.0s\n",
      "[CV] bootstrap=False, criterion=gini, max_depth=None, max_features=3, min_samples_split=10 \n",
      "[CV]  bootstrap=False, criterion=gini, max_depth=None, max_features=3, min_samples_split=10, score=(train=1.000, test=0.735), total=   0.0s\n",
      "[CV] bootstrap=False, criterion=gini, max_depth=None, max_features=3, min_samples_split=10 \n",
      "[CV]  bootstrap=False, criterion=gini, max_depth=None, max_features=3, min_samples_split=10, score=(train=1.000, test=0.802), total=   0.0s\n",
      "[CV] bootstrap=False, criterion=gini, max_depth=None, max_features=3, min_samples_split=10 \n",
      "[CV]  bootstrap=False, criterion=gini, max_depth=None, max_features=3, min_samples_split=10, score=(train=1.000, test=0.700), total=   0.0s\n",
      "[CV] bootstrap=False, criterion=gini, max_depth=None, max_features=1, min_samples_split=3 \n",
      "[CV]  bootstrap=False, criterion=gini, max_depth=None, max_features=1, min_samples_split=3, score=(train=1.000, test=0.713), total=   0.0s\n",
      "[CV] bootstrap=False, criterion=gini, max_depth=None, max_features=1, min_samples_split=3 \n",
      "[CV]  bootstrap=False, criterion=gini, max_depth=None, max_features=1, min_samples_split=3, score=(train=1.000, test=0.718), total=   0.0s\n",
      "[CV] bootstrap=False, criterion=gini, max_depth=None, max_features=1, min_samples_split=3 \n",
      "[CV]  bootstrap=False, criterion=gini, max_depth=None, max_features=1, min_samples_split=3, score=(train=1.000, test=0.783), total=   0.0s\n",
      "[CV] bootstrap=False, criterion=gini, max_depth=None, max_features=1, min_samples_split=3 \n",
      "[CV]  bootstrap=False, criterion=gini, max_depth=None, max_features=1, min_samples_split=3, score=(train=1.000, test=0.778), total=   0.1s\n",
      "[CV] bootstrap=False, criterion=gini, max_depth=None, max_features=1, min_samples_split=3 \n",
      "[CV]  bootstrap=False, criterion=gini, max_depth=None, max_features=1, min_samples_split=3, score=(train=1.000, test=0.762), total=   0.0s\n",
      "[CV] bootstrap=True, criterion=gini, max_depth=None, max_features=10, min_samples_split=3 \n",
      "[CV]  bootstrap=True, criterion=gini, max_depth=None, max_features=10, min_samples_split=3, score=(train=1.000, test=0.724), total=   0.0s\n",
      "[CV] bootstrap=True, criterion=gini, max_depth=None, max_features=10, min_samples_split=3 \n",
      "[CV]  bootstrap=True, criterion=gini, max_depth=None, max_features=10, min_samples_split=3, score=(train=1.000, test=0.800), total=   0.0s\n",
      "[CV] bootstrap=True, criterion=gini, max_depth=None, max_features=10, min_samples_split=3 \n",
      "[CV]  bootstrap=True, criterion=gini, max_depth=None, max_features=10, min_samples_split=3, score=(train=1.000, test=0.807), total=   0.0s\n",
      "[CV] bootstrap=True, criterion=gini, max_depth=None, max_features=10, min_samples_split=3 \n",
      "[CV]  bootstrap=True, criterion=gini, max_depth=None, max_features=10, min_samples_split=3, score=(train=1.000, test=0.728), total=   0.0s\n",
      "[CV] bootstrap=True, criterion=gini, max_depth=None, max_features=10, min_samples_split=3 \n",
      "[CV]  bootstrap=True, criterion=gini, max_depth=None, max_features=10, min_samples_split=3, score=(train=1.000, test=0.750), total=   0.0s\n",
      "[CV] bootstrap=True, criterion=entropy, max_depth=None, max_features=10, min_samples_split=2 \n",
      "[CV]  bootstrap=True, criterion=entropy, max_depth=None, max_features=10, min_samples_split=2, score=(train=1.000, test=0.701), total=   0.0s\n",
      "[CV] bootstrap=True, criterion=entropy, max_depth=None, max_features=10, min_samples_split=2 \n",
      "[CV]  bootstrap=True, criterion=entropy, max_depth=None, max_features=10, min_samples_split=2, score=(train=1.000, test=0.812), total=   0.0s\n",
      "[CV] bootstrap=True, criterion=entropy, max_depth=None, max_features=10, min_samples_split=2 \n",
      "[CV]  bootstrap=True, criterion=entropy, max_depth=None, max_features=10, min_samples_split=2, score=(train=1.000, test=0.759), total=   0.0s\n",
      "[CV] bootstrap=True, criterion=entropy, max_depth=None, max_features=10, min_samples_split=2 \n",
      "[CV]  bootstrap=True, criterion=entropy, max_depth=None, max_features=10, min_samples_split=2, score=(train=1.000, test=0.728), total=   0.0s\n",
      "[CV] bootstrap=True, criterion=entropy, max_depth=None, max_features=10, min_samples_split=2 \n",
      "[CV]  bootstrap=True, criterion=entropy, max_depth=None, max_features=10, min_samples_split=2, score=(train=1.000, test=0.688), total=   0.0s\n",
      "Fitting 5 folds for each of 9 candidates, totalling 45 fits\n",
      "[CV] bootstrap=False, criterion=entropy, max_depth=None, max_features=10, min_samples_split=2 \n",
      "[CV]  bootstrap=False, criterion=entropy, max_depth=None, max_features=10, min_samples_split=2, score=(train=1.000, test=0.830), total=   0.1s\n",
      "[CV] bootstrap=False, criterion=entropy, max_depth=None, max_features=10, min_samples_split=2 \n"
     ]
    },
    {
     "name": "stderr",
     "output_type": "stream",
     "text": [
      "[Parallel(n_jobs=1)]: Done  90 out of  90 | elapsed:    6.0s finished\n",
      "[Parallel(n_jobs=1)]: Using backend SequentialBackend with 1 concurrent workers.\n",
      "[Parallel(n_jobs=1)]: Done   1 out of   1 | elapsed:    0.1s remaining:    0.0s\n"
     ]
    },
    {
     "name": "stdout",
     "output_type": "stream",
     "text": [
      "[CV]  bootstrap=False, criterion=entropy, max_depth=None, max_features=10, min_samples_split=2, score=(train=1.000, test=0.821), total=   0.1s\n",
      "[CV] bootstrap=False, criterion=entropy, max_depth=None, max_features=10, min_samples_split=2 \n",
      "[CV]  bootstrap=False, criterion=entropy, max_depth=None, max_features=10, min_samples_split=2, score=(train=1.000, test=0.851), total=   0.1s\n",
      "[CV] bootstrap=False, criterion=entropy, max_depth=None, max_features=10, min_samples_split=2 \n"
     ]
    },
    {
     "name": "stderr",
     "output_type": "stream",
     "text": [
      "[Parallel(n_jobs=1)]: Done   2 out of   2 | elapsed:    0.2s remaining:    0.0s\n",
      "[Parallel(n_jobs=1)]: Done   3 out of   3 | elapsed:    0.4s remaining:    0.0s\n"
     ]
    },
    {
     "name": "stdout",
     "output_type": "stream",
     "text": [
      "[CV]  bootstrap=False, criterion=entropy, max_depth=None, max_features=10, min_samples_split=2, score=(train=1.000, test=0.896), total=   0.1s\n",
      "[CV] bootstrap=False, criterion=entropy, max_depth=None, max_features=10, min_samples_split=2 \n",
      "[CV]  bootstrap=False, criterion=entropy, max_depth=None, max_features=10, min_samples_split=2, score=(train=1.000, test=0.846), total=   0.1s\n",
      "[CV] bootstrap=False, criterion=gini, max_depth=None, max_features=10, min_samples_split=2 \n"
     ]
    },
    {
     "name": "stderr",
     "output_type": "stream",
     "text": [
      "[Parallel(n_jobs=1)]: Done   4 out of   4 | elapsed:    0.5s remaining:    0.0s\n",
      "[Parallel(n_jobs=1)]: Done   5 out of   5 | elapsed:    0.6s remaining:    0.0s\n"
     ]
    },
    {
     "name": "stdout",
     "output_type": "stream",
     "text": [
      "[CV]  bootstrap=False, criterion=gini, max_depth=None, max_features=10, min_samples_split=2, score=(train=1.000, test=0.795), total=   0.1s\n",
      "[CV] bootstrap=False, criterion=gini, max_depth=None, max_features=10, min_samples_split=2 \n",
      "[CV]  bootstrap=False, criterion=gini, max_depth=None, max_features=10, min_samples_split=2, score=(train=1.000, test=0.863), total=   0.1s\n",
      "[CV] bootstrap=False, criterion=gini, max_depth=None, max_features=10, min_samples_split=2 \n"
     ]
    },
    {
     "name": "stderr",
     "output_type": "stream",
     "text": [
      "[Parallel(n_jobs=1)]: Done   6 out of   6 | elapsed:    0.7s remaining:    0.0s\n",
      "[Parallel(n_jobs=1)]: Done   7 out of   7 | elapsed:    0.9s remaining:    0.0s\n"
     ]
    },
    {
     "name": "stdout",
     "output_type": "stream",
     "text": [
      "[CV]  bootstrap=False, criterion=gini, max_depth=None, max_features=10, min_samples_split=2, score=(train=1.000, test=0.798), total=   0.1s\n",
      "[CV] bootstrap=False, criterion=gini, max_depth=None, max_features=10, min_samples_split=2 \n",
      "[CV]  bootstrap=False, criterion=gini, max_depth=None, max_features=10, min_samples_split=2, score=(train=1.000, test=0.866), total=   0.1s\n",
      "[CV] bootstrap=False, criterion=gini, max_depth=None, max_features=10, min_samples_split=2 \n",
      "[CV]  bootstrap=False, criterion=gini, max_depth=None, max_features=10, min_samples_split=2, score=(train=1.000, test=0.877), total=   0.0s\n",
      "[CV] bootstrap=False, criterion=gini, max_depth=None, max_features=10, min_samples_split=3 \n",
      "[CV]  bootstrap=False, criterion=gini, max_depth=None, max_features=10, min_samples_split=3, score=(train=1.000, test=0.813), total=   0.0s\n",
      "[CV] bootstrap=False, criterion=gini, max_depth=None, max_features=10, min_samples_split=3 \n"
     ]
    },
    {
     "name": "stderr",
     "output_type": "stream",
     "text": [
      "[Parallel(n_jobs=1)]: Done   8 out of   8 | elapsed:    0.9s remaining:    0.0s\n",
      "[Parallel(n_jobs=1)]: Done   9 out of   9 | elapsed:    1.0s remaining:    0.0s\n"
     ]
    },
    {
     "name": "stdout",
     "output_type": "stream",
     "text": [
      "[CV]  bootstrap=False, criterion=gini, max_depth=None, max_features=10, min_samples_split=3, score=(train=1.000, test=0.845), total=   0.1s\n",
      "[CV] bootstrap=False, criterion=gini, max_depth=None, max_features=10, min_samples_split=3 \n",
      "[CV]  bootstrap=False, criterion=gini, max_depth=None, max_features=10, min_samples_split=3, score=(train=1.000, test=0.845), total=   0.0s\n",
      "[CV] bootstrap=False, criterion=gini, max_depth=None, max_features=10, min_samples_split=3 \n",
      "[CV]  bootstrap=False, criterion=gini, max_depth=None, max_features=10, min_samples_split=3, score=(train=1.000, test=0.884), total=   0.0s\n",
      "[CV] bootstrap=False, criterion=gini, max_depth=None, max_features=10, min_samples_split=3 \n",
      "[CV]  bootstrap=False, criterion=gini, max_depth=None, max_features=10, min_samples_split=3, score=(train=1.000, test=0.858), total=   0.0s\n",
      "[CV] bootstrap=False, criterion=gini, max_depth=None, max_features=10, min_samples_split=10 \n",
      "[CV]  bootstrap=False, criterion=gini, max_depth=None, max_features=10, min_samples_split=10, score=(train=1.000, test=0.813), total=   0.0s\n",
      "[CV] bootstrap=False, criterion=gini, max_depth=None, max_features=10, min_samples_split=10 \n",
      "[CV]  bootstrap=False, criterion=gini, max_depth=None, max_features=10, min_samples_split=10, score=(train=0.998, test=0.869), total=   0.1s\n",
      "[CV] bootstrap=False, criterion=gini, max_depth=None, max_features=10, min_samples_split=10 \n",
      "[CV]  bootstrap=False, criterion=gini, max_depth=None, max_features=10, min_samples_split=10, score=(train=1.000, test=0.851), total=   0.0s\n",
      "[CV] bootstrap=False, criterion=gini, max_depth=None, max_features=10, min_samples_split=10 \n",
      "[CV]  bootstrap=False, criterion=gini, max_depth=None, max_features=10, min_samples_split=10, score=(train=1.000, test=0.884), total=   0.0s\n",
      "[CV] bootstrap=False, criterion=gini, max_depth=None, max_features=10, min_samples_split=10 \n",
      "[CV]  bootstrap=False, criterion=gini, max_depth=None, max_features=10, min_samples_split=10, score=(train=1.000, test=0.877), total=   0.0s\n",
      "[CV] bootstrap=False, criterion=entropy, max_depth=None, max_features=10, min_samples_split=10 \n",
      "[CV]  bootstrap=False, criterion=entropy, max_depth=None, max_features=10, min_samples_split=10, score=(train=1.000, test=0.865), total=   0.1s\n",
      "[CV] bootstrap=False, criterion=entropy, max_depth=None, max_features=10, min_samples_split=10 \n",
      "[CV]  bootstrap=False, criterion=entropy, max_depth=None, max_features=10, min_samples_split=10, score=(train=0.998, test=0.827), total=   0.1s\n",
      "[CV] bootstrap=False, criterion=entropy, max_depth=None, max_features=10, min_samples_split=10 \n",
      "[CV]  bootstrap=False, criterion=entropy, max_depth=None, max_features=10, min_samples_split=10, score=(train=1.000, test=0.845), total=   0.1s\n",
      "[CV] bootstrap=False, criterion=entropy, max_depth=None, max_features=10, min_samples_split=10 \n",
      "[CV]  bootstrap=False, criterion=entropy, max_depth=None, max_features=10, min_samples_split=10, score=(train=1.000, test=0.902), total=   0.1s\n",
      "[CV] bootstrap=False, criterion=entropy, max_depth=None, max_features=10, min_samples_split=10 \n",
      "[CV]  bootstrap=False, criterion=entropy, max_depth=None, max_features=10, min_samples_split=10, score=(train=1.000, test=0.852), total=   0.1s\n",
      "[CV] bootstrap=False, criterion=entropy, max_depth=None, max_features=3, min_samples_split=3 \n",
      "[CV]  bootstrap=False, criterion=entropy, max_depth=None, max_features=3, min_samples_split=3, score=(train=1.000, test=0.813), total=   0.1s\n",
      "[CV] bootstrap=False, criterion=entropy, max_depth=None, max_features=3, min_samples_split=3 \n",
      "[CV]  bootstrap=False, criterion=entropy, max_depth=None, max_features=3, min_samples_split=3, score=(train=1.000, test=0.810), total=   0.1s\n",
      "[CV] bootstrap=False, criterion=entropy, max_depth=None, max_features=3, min_samples_split=3 \n",
      "[CV]  bootstrap=False, criterion=entropy, max_depth=None, max_features=3, min_samples_split=3, score=(train=1.000, test=0.839), total=   0.1s\n",
      "[CV] bootstrap=False, criterion=entropy, max_depth=None, max_features=3, min_samples_split=3 \n",
      "[CV]  bootstrap=False, criterion=entropy, max_depth=None, max_features=3, min_samples_split=3, score=(train=1.000, test=0.835), total=   0.1s\n",
      "[CV] bootstrap=False, criterion=entropy, max_depth=None, max_features=3, min_samples_split=3 \n",
      "[CV]  bootstrap=False, criterion=entropy, max_depth=None, max_features=3, min_samples_split=3, score=(train=1.000, test=0.796), total=   0.0s\n",
      "[CV] bootstrap=False, criterion=entropy, max_depth=None, max_features=10, min_samples_split=3 \n",
      "[CV]  bootstrap=False, criterion=entropy, max_depth=None, max_features=10, min_samples_split=3, score=(train=1.000, test=0.789), total=   0.1s\n",
      "[CV] bootstrap=False, criterion=entropy, max_depth=None, max_features=10, min_samples_split=3 \n",
      "[CV]  bootstrap=False, criterion=entropy, max_depth=None, max_features=10, min_samples_split=3, score=(train=1.000, test=0.839), total=   0.1s\n",
      "[CV] bootstrap=False, criterion=entropy, max_depth=None, max_features=10, min_samples_split=3 \n",
      "[CV]  bootstrap=False, criterion=entropy, max_depth=None, max_features=10, min_samples_split=3, score=(train=1.000, test=0.827), total=   0.1s\n",
      "[CV] bootstrap=False, criterion=entropy, max_depth=None, max_features=10, min_samples_split=3 \n",
      "[CV]  bootstrap=False, criterion=entropy, max_depth=None, max_features=10, min_samples_split=3, score=(train=1.000, test=0.872), total=   0.1s\n",
      "[CV] bootstrap=False, criterion=entropy, max_depth=None, max_features=10, min_samples_split=3 \n",
      "[CV]  bootstrap=False, criterion=entropy, max_depth=None, max_features=10, min_samples_split=3, score=(train=1.000, test=0.840), total=   0.1s\n",
      "[CV] bootstrap=False, criterion=gini, max_depth=None, max_features=3, min_samples_split=2 \n",
      "[CV]  bootstrap=False, criterion=gini, max_depth=None, max_features=3, min_samples_split=2, score=(train=1.000, test=0.789), total=   0.0s\n",
      "[CV] bootstrap=False, criterion=gini, max_depth=None, max_features=3, min_samples_split=2 \n",
      "[CV]  bootstrap=False, criterion=gini, max_depth=None, max_features=3, min_samples_split=2, score=(train=1.000, test=0.810), total=   0.1s\n",
      "[CV] bootstrap=False, criterion=gini, max_depth=None, max_features=3, min_samples_split=2 \n",
      "[CV]  bootstrap=False, criterion=gini, max_depth=None, max_features=3, min_samples_split=2, score=(train=1.000, test=0.798), total=   0.1s\n",
      "[CV] bootstrap=False, criterion=gini, max_depth=None, max_features=3, min_samples_split=2 \n",
      "[CV]  bootstrap=False, criterion=gini, max_depth=None, max_features=3, min_samples_split=2, score=(train=1.000, test=0.854), total=   0.1s\n",
      "[CV] bootstrap=False, criterion=gini, max_depth=None, max_features=3, min_samples_split=2 \n",
      "[CV]  bootstrap=False, criterion=gini, max_depth=None, max_features=3, min_samples_split=2, score=(train=1.000, test=0.784), total=   0.0s\n",
      "[CV] bootstrap=False, criterion=entropy, max_depth=None, max_features=3, min_samples_split=10 \n",
      "[CV]  bootstrap=False, criterion=entropy, max_depth=None, max_features=3, min_samples_split=10, score=(train=1.000, test=0.795), total=   0.1s\n",
      "[CV] bootstrap=False, criterion=entropy, max_depth=None, max_features=3, min_samples_split=10 \n",
      "[CV]  bootstrap=False, criterion=entropy, max_depth=None, max_features=3, min_samples_split=10, score=(train=0.997, test=0.815), total=   0.0s\n",
      "[CV] bootstrap=False, criterion=entropy, max_depth=None, max_features=3, min_samples_split=10 \n",
      "[CV]  bootstrap=False, criterion=entropy, max_depth=None, max_features=3, min_samples_split=10, score=(train=1.000, test=0.804), total=   0.0s\n",
      "[CV] bootstrap=False, criterion=entropy, max_depth=None, max_features=3, min_samples_split=10 \n",
      "[CV]  bootstrap=False, criterion=entropy, max_depth=None, max_features=3, min_samples_split=10, score=(train=0.999, test=0.848), total=   0.1s\n",
      "[CV] bootstrap=False, criterion=entropy, max_depth=None, max_features=3, min_samples_split=10 \n",
      "[CV]  bootstrap=False, criterion=entropy, max_depth=None, max_features=3, min_samples_split=10, score=(train=0.999, test=0.827), total=   0.1s\n",
      "Fitting 5 folds for each of 5 candidates, totalling 25 fits\n",
      "[CV] bootstrap=False, criterion=gini, max_depth=None, max_features=10, min_samples_split=10 \n",
      "[CV]  bootstrap=False, criterion=gini, max_depth=None, max_features=10, min_samples_split=10, score=(train=0.999, test=0.871), total=   0.1s\n",
      "[CV] bootstrap=False, criterion=gini, max_depth=None, max_features=10, min_samples_split=10 \n"
     ]
    },
    {
     "name": "stderr",
     "output_type": "stream",
     "text": [
      "[Parallel(n_jobs=1)]: Done  45 out of  45 | elapsed:    3.6s finished\n",
      "[Parallel(n_jobs=1)]: Using backend SequentialBackend with 1 concurrent workers.\n",
      "[Parallel(n_jobs=1)]: Done   1 out of   1 | elapsed:    0.1s remaining:    0.0s\n",
      "[Parallel(n_jobs=1)]: Done   2 out of   2 | elapsed:    0.2s remaining:    0.0s\n"
     ]
    },
    {
     "name": "stdout",
     "output_type": "stream",
     "text": [
      "[CV]  bootstrap=False, criterion=gini, max_depth=None, max_features=10, min_samples_split=10, score=(train=1.000, test=0.877), total=   0.1s\n",
      "[CV] bootstrap=False, criterion=gini, max_depth=None, max_features=10, min_samples_split=10 \n",
      "[CV]  bootstrap=False, criterion=gini, max_depth=None, max_features=10, min_samples_split=10, score=(train=1.000, test=0.873), total=   0.1s\n",
      "[CV] bootstrap=False, criterion=gini, max_depth=None, max_features=10, min_samples_split=10 \n"
     ]
    },
    {
     "name": "stderr",
     "output_type": "stream",
     "text": [
      "[Parallel(n_jobs=1)]: Done   3 out of   3 | elapsed:    0.3s remaining:    0.0s\n",
      "[Parallel(n_jobs=1)]: Done   4 out of   4 | elapsed:    0.4s remaining:    0.0s\n"
     ]
    },
    {
     "name": "stdout",
     "output_type": "stream",
     "text": [
      "[CV]  bootstrap=False, criterion=gini, max_depth=None, max_features=10, min_samples_split=10, score=(train=0.999, test=0.876), total=   0.1s\n",
      "[CV] bootstrap=False, criterion=gini, max_depth=None, max_features=10, min_samples_split=10 \n",
      "[CV]  bootstrap=False, criterion=gini, max_depth=None, max_features=10, min_samples_split=10, score=(train=0.999, test=0.883), total=   0.1s\n",
      "[CV] bootstrap=False, criterion=entropy, max_depth=None, max_features=10, min_samples_split=10 \n"
     ]
    },
    {
     "name": "stderr",
     "output_type": "stream",
     "text": [
      "[Parallel(n_jobs=1)]: Done   5 out of   5 | elapsed:    0.5s remaining:    0.0s\n",
      "[Parallel(n_jobs=1)]: Done   6 out of   6 | elapsed:    0.7s remaining:    0.0s\n"
     ]
    },
    {
     "name": "stdout",
     "output_type": "stream",
     "text": [
      "[CV]  bootstrap=False, criterion=entropy, max_depth=None, max_features=10, min_samples_split=10, score=(train=1.000, test=0.891), total=   0.2s\n",
      "[CV] bootstrap=False, criterion=entropy, max_depth=None, max_features=10, min_samples_split=10 \n",
      "[CV]  bootstrap=False, criterion=entropy, max_depth=None, max_features=10, min_samples_split=10, score=(train=1.000, test=0.874), total=   0.2s\n",
      "[CV] bootstrap=False, criterion=entropy, max_depth=None, max_features=10, min_samples_split=10 \n"
     ]
    },
    {
     "name": "stderr",
     "output_type": "stream",
     "text": [
      "[Parallel(n_jobs=1)]: Done   7 out of   7 | elapsed:    0.9s remaining:    0.0s\n",
      "[Parallel(n_jobs=1)]: Done   8 out of   8 | elapsed:    1.0s remaining:    0.0s\n"
     ]
    },
    {
     "name": "stdout",
     "output_type": "stream",
     "text": [
      "[CV]  bootstrap=False, criterion=entropy, max_depth=None, max_features=10, min_samples_split=10, score=(train=1.000, test=0.867), total=   0.2s\n",
      "[CV] bootstrap=False, criterion=entropy, max_depth=None, max_features=10, min_samples_split=10 \n",
      "[CV]  bootstrap=False, criterion=entropy, max_depth=None, max_features=10, min_samples_split=10, score=(train=0.999, test=0.910), total=   0.3s\n",
      "[CV] bootstrap=False, criterion=entropy, max_depth=None, max_features=10, min_samples_split=10 \n",
      "[CV]  bootstrap=False, criterion=entropy, max_depth=None, max_features=10, min_samples_split=10, score=(train=1.000, test=0.869), total=   0.1s\n",
      "[CV] bootstrap=False, criterion=gini, max_depth=None, max_features=10, min_samples_split=3 \n"
     ]
    },
    {
     "name": "stderr",
     "output_type": "stream",
     "text": [
      "[Parallel(n_jobs=1)]: Done   9 out of   9 | elapsed:    1.3s remaining:    0.0s\n"
     ]
    },
    {
     "name": "stdout",
     "output_type": "stream",
     "text": [
      "[CV]  bootstrap=False, criterion=gini, max_depth=None, max_features=10, min_samples_split=3, score=(train=1.000, test=0.861), total=   0.1s\n",
      "[CV] bootstrap=False, criterion=gini, max_depth=None, max_features=10, min_samples_split=3 \n",
      "[CV]  bootstrap=False, criterion=gini, max_depth=None, max_features=10, min_samples_split=3, score=(train=1.000, test=0.860), total=   0.1s\n",
      "[CV] bootstrap=False, criterion=gini, max_depth=None, max_features=10, min_samples_split=3 \n",
      "[CV]  bootstrap=False, criterion=gini, max_depth=None, max_features=10, min_samples_split=3, score=(train=1.000, test=0.890), total=   0.1s\n",
      "[CV] bootstrap=False, criterion=gini, max_depth=None, max_features=10, min_samples_split=3 \n",
      "[CV]  bootstrap=False, criterion=gini, max_depth=None, max_features=10, min_samples_split=3, score=(train=1.000, test=0.876), total=   0.1s\n",
      "[CV] bootstrap=False, criterion=gini, max_depth=None, max_features=10, min_samples_split=3 \n",
      "[CV]  bootstrap=False, criterion=gini, max_depth=None, max_features=10, min_samples_split=3, score=(train=1.000, test=0.876), total=   0.1s\n",
      "[CV] bootstrap=False, criterion=entropy, max_depth=None, max_features=10, min_samples_split=2 \n",
      "[CV]  bootstrap=False, criterion=entropy, max_depth=None, max_features=10, min_samples_split=2, score=(train=1.000, test=0.858), total=   0.2s\n",
      "[CV] bootstrap=False, criterion=entropy, max_depth=None, max_features=10, min_samples_split=2 \n",
      "[CV]  bootstrap=False, criterion=entropy, max_depth=None, max_features=10, min_samples_split=2, score=(train=1.000, test=0.860), total=   0.2s\n",
      "[CV] bootstrap=False, criterion=entropy, max_depth=None, max_features=10, min_samples_split=2 \n",
      "[CV]  bootstrap=False, criterion=entropy, max_depth=None, max_features=10, min_samples_split=2, score=(train=1.000, test=0.873), total=   0.3s\n",
      "[CV] bootstrap=False, criterion=entropy, max_depth=None, max_features=10, min_samples_split=2 \n",
      "[CV]  bootstrap=False, criterion=entropy, max_depth=None, max_features=10, min_samples_split=2, score=(train=1.000, test=0.883), total=   0.2s\n",
      "[CV] bootstrap=False, criterion=entropy, max_depth=None, max_features=10, min_samples_split=2 \n",
      "[CV]  bootstrap=False, criterion=entropy, max_depth=None, max_features=10, min_samples_split=2, score=(train=1.000, test=0.849), total=   0.2s\n",
      "[CV] bootstrap=False, criterion=gini, max_depth=None, max_features=10, min_samples_split=2 \n",
      "[CV]  bootstrap=False, criterion=gini, max_depth=None, max_features=10, min_samples_split=2, score=(train=1.000, test=0.877), total=   0.1s\n",
      "[CV] bootstrap=False, criterion=gini, max_depth=None, max_features=10, min_samples_split=2 \n",
      "[CV]  bootstrap=False, criterion=gini, max_depth=None, max_features=10, min_samples_split=2, score=(train=1.000, test=0.860), total=   0.1s\n",
      "[CV] bootstrap=False, criterion=gini, max_depth=None, max_features=10, min_samples_split=2 \n",
      "[CV]  bootstrap=False, criterion=gini, max_depth=None, max_features=10, min_samples_split=2, score=(train=1.000, test=0.890), total=   0.1s\n",
      "[CV] bootstrap=False, criterion=gini, max_depth=None, max_features=10, min_samples_split=2 \n",
      "[CV]  bootstrap=False, criterion=gini, max_depth=None, max_features=10, min_samples_split=2, score=(train=1.000, test=0.883), total=   0.1s\n",
      "[CV] bootstrap=False, criterion=gini, max_depth=None, max_features=10, min_samples_split=2 \n",
      "[CV]  bootstrap=False, criterion=gini, max_depth=None, max_features=10, min_samples_split=2, score=(train=1.000, test=0.842), total=   0.1s\n",
      "Fitting 5 folds for each of 3 candidates, totalling 15 fits\n"
     ]
    },
    {
     "name": "stderr",
     "output_type": "stream",
     "text": [
      "[Parallel(n_jobs=1)]: Done  25 out of  25 | elapsed:    3.5s finished\n",
      "[Parallel(n_jobs=1)]: Using backend SequentialBackend with 1 concurrent workers.\n"
     ]
    },
    {
     "name": "stdout",
     "output_type": "stream",
     "text": [
      "[CV] bootstrap=False, criterion=entropy, max_depth=None, max_features=10, min_samples_split=10 \n",
      "[CV]  bootstrap=False, criterion=entropy, max_depth=None, max_features=10, min_samples_split=10, score=(train=0.999, test=0.881), total=   0.3s\n",
      "[CV] bootstrap=False, criterion=entropy, max_depth=None, max_features=10, min_samples_split=10 \n"
     ]
    },
    {
     "name": "stderr",
     "output_type": "stream",
     "text": [
      "[Parallel(n_jobs=1)]: Done   1 out of   1 | elapsed:    0.3s remaining:    0.0s\n"
     ]
    },
    {
     "name": "stdout",
     "output_type": "stream",
     "text": [
      "[CV]  bootstrap=False, criterion=entropy, max_depth=None, max_features=10, min_samples_split=10, score=(train=0.998, test=0.885), total=   0.3s\n",
      "[CV] bootstrap=False, criterion=entropy, max_depth=None, max_features=10, min_samples_split=10 \n"
     ]
    },
    {
     "name": "stderr",
     "output_type": "stream",
     "text": [
      "[Parallel(n_jobs=1)]: Done   2 out of   2 | elapsed:    0.7s remaining:    0.0s\n"
     ]
    },
    {
     "name": "stdout",
     "output_type": "stream",
     "text": [
      "[CV]  bootstrap=False, criterion=entropy, max_depth=None, max_features=10, min_samples_split=10, score=(train=1.000, test=0.916), total=   0.3s\n",
      "[CV] bootstrap=False, criterion=entropy, max_depth=None, max_features=10, min_samples_split=10 \n"
     ]
    },
    {
     "name": "stderr",
     "output_type": "stream",
     "text": [
      "[Parallel(n_jobs=1)]: Done   3 out of   3 | elapsed:    1.0s remaining:    0.0s\n"
     ]
    },
    {
     "name": "stdout",
     "output_type": "stream",
     "text": [
      "[CV]  bootstrap=False, criterion=entropy, max_depth=None, max_features=10, min_samples_split=10, score=(train=1.000, test=0.901), total=   0.3s\n",
      "[CV] bootstrap=False, criterion=entropy, max_depth=None, max_features=10, min_samples_split=10 \n"
     ]
    },
    {
     "name": "stderr",
     "output_type": "stream",
     "text": [
      "[Parallel(n_jobs=1)]: Done   4 out of   4 | elapsed:    1.3s remaining:    0.0s\n"
     ]
    },
    {
     "name": "stdout",
     "output_type": "stream",
     "text": [
      "[CV]  bootstrap=False, criterion=entropy, max_depth=None, max_features=10, min_samples_split=10, score=(train=1.000, test=0.897), total=   0.3s\n",
      "[CV] bootstrap=False, criterion=gini, max_depth=None, max_features=10, min_samples_split=10 \n",
      "[CV]  bootstrap=False, criterion=gini, max_depth=None, max_features=10, min_samples_split=10, score=(train=1.000, test=0.879), total=   0.1s\n",
      "[CV] bootstrap=False, criterion=gini, max_depth=None, max_features=10, min_samples_split=10 \n"
     ]
    },
    {
     "name": "stderr",
     "output_type": "stream",
     "text": [
      "[Parallel(n_jobs=1)]: Done   5 out of   5 | elapsed:    1.5s remaining:    0.0s\n",
      "[Parallel(n_jobs=1)]: Done   6 out of   6 | elapsed:    1.7s remaining:    0.0s\n"
     ]
    },
    {
     "name": "stdout",
     "output_type": "stream",
     "text": [
      "[CV]  bootstrap=False, criterion=gini, max_depth=None, max_features=10, min_samples_split=10, score=(train=0.999, test=0.879), total=   0.1s\n",
      "[CV] bootstrap=False, criterion=gini, max_depth=None, max_features=10, min_samples_split=10 \n",
      "[CV]  bootstrap=False, criterion=gini, max_depth=None, max_features=10, min_samples_split=10, score=(train=1.000, test=0.918), total=   0.1s\n",
      "[CV] bootstrap=False, criterion=gini, max_depth=None, max_features=10, min_samples_split=10 \n"
     ]
    },
    {
     "name": "stderr",
     "output_type": "stream",
     "text": [
      "[Parallel(n_jobs=1)]: Done   7 out of   7 | elapsed:    1.8s remaining:    0.0s\n",
      "[Parallel(n_jobs=1)]: Done   8 out of   8 | elapsed:    2.0s remaining:    0.0s\n"
     ]
    },
    {
     "name": "stdout",
     "output_type": "stream",
     "text": [
      "[CV]  bootstrap=False, criterion=gini, max_depth=None, max_features=10, min_samples_split=10, score=(train=0.999, test=0.887), total=   0.1s\n",
      "[CV] bootstrap=False, criterion=gini, max_depth=None, max_features=10, min_samples_split=10 \n",
      "[CV]  bootstrap=False, criterion=gini, max_depth=None, max_features=10, min_samples_split=10, score=(train=1.000, test=0.917), total=   0.1s\n",
      "[CV] bootstrap=False, criterion=gini, max_depth=None, max_features=10, min_samples_split=3 \n"
     ]
    },
    {
     "name": "stderr",
     "output_type": "stream",
     "text": [
      "[Parallel(n_jobs=1)]: Done   9 out of   9 | elapsed:    2.1s remaining:    0.0s\n"
     ]
    },
    {
     "name": "stdout",
     "output_type": "stream",
     "text": [
      "[CV]  bootstrap=False, criterion=gini, max_depth=None, max_features=10, min_samples_split=3, score=(train=1.000, test=0.883), total=   0.2s\n",
      "[CV] bootstrap=False, criterion=gini, max_depth=None, max_features=10, min_samples_split=3 \n",
      "[CV]  bootstrap=False, criterion=gini, max_depth=None, max_features=10, min_samples_split=3, score=(train=1.000, test=0.881), total=   0.1s\n",
      "[CV] bootstrap=False, criterion=gini, max_depth=None, max_features=10, min_samples_split=3 \n",
      "[CV]  bootstrap=False, criterion=gini, max_depth=None, max_features=10, min_samples_split=3, score=(train=1.000, test=0.906), total=   0.1s\n",
      "[CV] bootstrap=False, criterion=gini, max_depth=None, max_features=10, min_samples_split=3 \n",
      "[CV]  bootstrap=False, criterion=gini, max_depth=None, max_features=10, min_samples_split=3, score=(train=1.000, test=0.905), total=   0.1s\n",
      "[CV] bootstrap=False, criterion=gini, max_depth=None, max_features=10, min_samples_split=3 \n",
      "[CV]  bootstrap=False, criterion=gini, max_depth=None, max_features=10, min_samples_split=3, score=(train=1.000, test=0.895), total=   0.2s\n",
      "Fitting 5 folds for each of 2 candidates, totalling 10 fits\n",
      "[CV] bootstrap=False, criterion=gini, max_depth=None, max_features=10, min_samples_split=10 \n"
     ]
    },
    {
     "name": "stderr",
     "output_type": "stream",
     "text": [
      "[Parallel(n_jobs=1)]: Done  15 out of  15 | elapsed:    3.1s finished\n",
      "[Parallel(n_jobs=1)]: Using backend SequentialBackend with 1 concurrent workers.\n"
     ]
    },
    {
     "name": "stdout",
     "output_type": "stream",
     "text": [
      "[CV]  bootstrap=False, criterion=gini, max_depth=None, max_features=10, min_samples_split=10, score=(train=1.000, test=0.903), total=   0.2s\n",
      "[CV] bootstrap=False, criterion=gini, max_depth=None, max_features=10, min_samples_split=10 \n"
     ]
    },
    {
     "name": "stderr",
     "output_type": "stream",
     "text": [
      "[Parallel(n_jobs=1)]: Done   1 out of   1 | elapsed:    0.3s remaining:    0.0s\n"
     ]
    },
    {
     "name": "stdout",
     "output_type": "stream",
     "text": [
      "[CV]  bootstrap=False, criterion=gini, max_depth=None, max_features=10, min_samples_split=10, score=(train=1.000, test=0.912), total=   0.3s\n",
      "[CV] bootstrap=False, criterion=gini, max_depth=None, max_features=10, min_samples_split=10 \n"
     ]
    },
    {
     "name": "stderr",
     "output_type": "stream",
     "text": [
      "[Parallel(n_jobs=1)]: Done   2 out of   2 | elapsed:    0.6s remaining:    0.0s\n"
     ]
    },
    {
     "name": "stdout",
     "output_type": "stream",
     "text": [
      "[CV]  bootstrap=False, criterion=gini, max_depth=None, max_features=10, min_samples_split=10, score=(train=0.999, test=0.887), total=   0.2s\n",
      "[CV] bootstrap=False, criterion=gini, max_depth=None, max_features=10, min_samples_split=10 \n"
     ]
    },
    {
     "name": "stderr",
     "output_type": "stream",
     "text": [
      "[Parallel(n_jobs=1)]: Done   3 out of   3 | elapsed:    0.8s remaining:    0.0s\n"
     ]
    },
    {
     "name": "stdout",
     "output_type": "stream",
     "text": [
      "[CV]  bootstrap=False, criterion=gini, max_depth=None, max_features=10, min_samples_split=10, score=(train=1.000, test=0.902), total=   0.2s\n",
      "[CV] bootstrap=False, criterion=gini, max_depth=None, max_features=10, min_samples_split=10 \n"
     ]
    },
    {
     "name": "stderr",
     "output_type": "stream",
     "text": [
      "[Parallel(n_jobs=1)]: Done   4 out of   4 | elapsed:    1.1s remaining:    0.0s\n"
     ]
    },
    {
     "name": "stdout",
     "output_type": "stream",
     "text": [
      "[CV]  bootstrap=False, criterion=gini, max_depth=None, max_features=10, min_samples_split=10, score=(train=0.998, test=0.906), total=   0.2s\n",
      "[CV] bootstrap=False, criterion=entropy, max_depth=None, max_features=10, min_samples_split=10 \n"
     ]
    },
    {
     "name": "stderr",
     "output_type": "stream",
     "text": [
      "[Parallel(n_jobs=1)]: Done   5 out of   5 | elapsed:    1.4s remaining:    0.0s\n"
     ]
    },
    {
     "name": "stdout",
     "output_type": "stream",
     "text": [
      "[CV]  bootstrap=False, criterion=entropy, max_depth=None, max_features=10, min_samples_split=10, score=(train=1.000, test=0.908), total=   0.4s\n",
      "[CV] bootstrap=False, criterion=entropy, max_depth=None, max_features=10, min_samples_split=10 \n"
     ]
    },
    {
     "name": "stderr",
     "output_type": "stream",
     "text": [
      "[Parallel(n_jobs=1)]: Done   6 out of   6 | elapsed:    1.8s remaining:    0.0s\n"
     ]
    },
    {
     "name": "stdout",
     "output_type": "stream",
     "text": [
      "[CV]  bootstrap=False, criterion=entropy, max_depth=None, max_features=10, min_samples_split=10, score=(train=1.000, test=0.908), total=   0.4s\n",
      "[CV] bootstrap=False, criterion=entropy, max_depth=None, max_features=10, min_samples_split=10 \n"
     ]
    },
    {
     "name": "stderr",
     "output_type": "stream",
     "text": [
      "[Parallel(n_jobs=1)]: Done   7 out of   7 | elapsed:    2.2s remaining:    0.0s\n"
     ]
    },
    {
     "name": "stdout",
     "output_type": "stream",
     "text": [
      "[CV]  bootstrap=False, criterion=entropy, max_depth=None, max_features=10, min_samples_split=10, score=(train=0.999, test=0.895), total=   0.5s\n",
      "[CV] bootstrap=False, criterion=entropy, max_depth=None, max_features=10, min_samples_split=10 \n"
     ]
    },
    {
     "name": "stderr",
     "output_type": "stream",
     "text": [
      "[Parallel(n_jobs=1)]: Done   8 out of   8 | elapsed:    2.7s remaining:    0.0s\n"
     ]
    },
    {
     "name": "stdout",
     "output_type": "stream",
     "text": [
      "[CV]  bootstrap=False, criterion=entropy, max_depth=None, max_features=10, min_samples_split=10, score=(train=1.000, test=0.898), total=   0.4s\n",
      "[CV] bootstrap=False, criterion=entropy, max_depth=None, max_features=10, min_samples_split=10 \n"
     ]
    },
    {
     "name": "stderr",
     "output_type": "stream",
     "text": [
      "[Parallel(n_jobs=1)]: Done   9 out of   9 | elapsed:    3.1s remaining:    0.0s\n"
     ]
    },
    {
     "name": "stdout",
     "output_type": "stream",
     "text": [
      "[CV]  bootstrap=False, criterion=entropy, max_depth=None, max_features=10, min_samples_split=10, score=(train=0.999, test=0.899), total=   0.4s\n"
     ]
    },
    {
     "name": "stderr",
     "output_type": "stream",
     "text": [
      "[Parallel(n_jobs=1)]: Done  10 out of  10 | elapsed:    3.5s finished\n"
     ]
    },
    {
     "name": "stdout",
     "output_type": "stream",
     "text": [
      "Successive Halving took 36.21 seconds for 145 candidate parameter settings.\n",
      "Model with rank: 1\n",
      "Mean validation score: 0.902 (std: 0.008)\n",
      "Parameters: {'bootstrap': False, 'criterion': 'gini', 'max_depth': None, 'max_features': 10, 'min_samples_split': 10}\n",
      "\n",
      "Model with rank: 2\n",
      "Mean validation score: 0.902 (std: 0.006)\n",
      "Parameters: {'bootstrap': False, 'criterion': 'entropy', 'max_depth': None, 'max_features': 10, 'min_samples_split': 10}\n",
      "\n",
      "Model with rank: 3\n",
      "Mean validation score: 0.896 (std: 0.018)\n",
      "Parameters: {'bootstrap': False, 'criterion': 'gini', 'max_depth': None, 'max_features': 10, 'min_samples_split': 10}\n",
      "\n"
     ]
    }
   ],
   "source": [
    "sh = GridSuccessiveHalving(clf, param_grid=param_grid, cv=5, random_state=0)\n",
    "start = time.time()\n",
    "sh.fit(X_train, y_train)\n",
    "\n",
    "print(\"Successive Halving took %.2f seconds for %d candidate parameter settings.\"\n",
    "      % (time.time() - start, len(sh.cv_results_['params'])))\n",
    "report(sh.cv_results_)"
   ]
  },
  {
   "cell_type": "code",
   "execution_count": 23,
   "metadata": {},
   "outputs": [
    {
     "data": {
      "text/plain": [
       "0.9594285714285714"
      ]
     },
     "execution_count": 23,
     "metadata": {},
     "output_type": "execute_result"
    }
   ],
   "source": [
    "sh.score(X_test, y_test)"
   ]
  },
  {
   "cell_type": "code",
   "execution_count": 24,
   "metadata": {},
   "outputs": [
    {
     "name": "stdout",
     "output_type": "stream",
     "text": [
      "Fitting 5 folds for each of 20 candidates, totalling 100 fits\n",
      "[CV] bootstrap=True, criterion=entropy, max_depth=None, max_features=1, min_samples_split=5 \n"
     ]
    },
    {
     "name": "stderr",
     "output_type": "stream",
     "text": [
      "[Parallel(n_jobs=1)]: Using backend SequentialBackend with 1 concurrent workers.\n"
     ]
    },
    {
     "name": "stdout",
     "output_type": "stream",
     "text": [
      "[CV]  bootstrap=True, criterion=entropy, max_depth=None, max_features=1, min_samples_split=5, score=0.936, total=   2.1s\n",
      "[CV] bootstrap=True, criterion=entropy, max_depth=None, max_features=1, min_samples_split=5 \n"
     ]
    },
    {
     "name": "stderr",
     "output_type": "stream",
     "text": [
      "[Parallel(n_jobs=1)]: Done   1 out of   1 | elapsed:    2.1s remaining:    0.0s\n"
     ]
    },
    {
     "name": "stdout",
     "output_type": "stream",
     "text": [
      "[CV]  bootstrap=True, criterion=entropy, max_depth=None, max_features=1, min_samples_split=5, score=0.934, total=   1.9s\n",
      "[CV] bootstrap=True, criterion=entropy, max_depth=None, max_features=1, min_samples_split=5 \n"
     ]
    },
    {
     "name": "stderr",
     "output_type": "stream",
     "text": [
      "[Parallel(n_jobs=1)]: Done   2 out of   2 | elapsed:    4.0s remaining:    0.0s\n"
     ]
    },
    {
     "name": "stdout",
     "output_type": "stream",
     "text": [
      "[CV]  bootstrap=True, criterion=entropy, max_depth=None, max_features=1, min_samples_split=5, score=0.928, total=   1.7s\n",
      "[CV] bootstrap=True, criterion=entropy, max_depth=None, max_features=1, min_samples_split=5 \n"
     ]
    },
    {
     "name": "stderr",
     "output_type": "stream",
     "text": [
      "[Parallel(n_jobs=1)]: Done   3 out of   3 | elapsed:    5.7s remaining:    0.0s\n"
     ]
    },
    {
     "name": "stdout",
     "output_type": "stream",
     "text": [
      "[CV]  bootstrap=True, criterion=entropy, max_depth=None, max_features=1, min_samples_split=5, score=0.933, total=   1.7s\n",
      "[CV] bootstrap=True, criterion=entropy, max_depth=None, max_features=1, min_samples_split=5 \n"
     ]
    },
    {
     "name": "stderr",
     "output_type": "stream",
     "text": [
      "[Parallel(n_jobs=1)]: Done   4 out of   4 | elapsed:    7.5s remaining:    0.0s\n"
     ]
    },
    {
     "name": "stdout",
     "output_type": "stream",
     "text": [
      "[CV]  bootstrap=True, criterion=entropy, max_depth=None, max_features=1, min_samples_split=5, score=0.931, total=   1.9s\n",
      "[CV] bootstrap=False, criterion=entropy, max_depth=None, max_features=10, min_samples_split=5 \n"
     ]
    },
    {
     "name": "stderr",
     "output_type": "stream",
     "text": [
      "[Parallel(n_jobs=1)]: Done   5 out of   5 | elapsed:    9.4s remaining:    0.0s\n"
     ]
    },
    {
     "name": "stdout",
     "output_type": "stream",
     "text": [
      "[CV]  bootstrap=False, criterion=entropy, max_depth=None, max_features=10, min_samples_split=5, score=0.958, total=   6.0s\n",
      "[CV] bootstrap=False, criterion=entropy, max_depth=None, max_features=10, min_samples_split=5 \n"
     ]
    },
    {
     "name": "stderr",
     "output_type": "stream",
     "text": [
      "[Parallel(n_jobs=1)]: Done   6 out of   6 | elapsed:   15.4s remaining:    0.0s\n"
     ]
    },
    {
     "name": "stdout",
     "output_type": "stream",
     "text": [
      "[CV]  bootstrap=False, criterion=entropy, max_depth=None, max_features=10, min_samples_split=5, score=0.956, total=   6.1s\n",
      "[CV] bootstrap=False, criterion=entropy, max_depth=None, max_features=10, min_samples_split=5 \n"
     ]
    },
    {
     "name": "stderr",
     "output_type": "stream",
     "text": [
      "[Parallel(n_jobs=1)]: Done   7 out of   7 | elapsed:   21.5s remaining:    0.0s\n"
     ]
    },
    {
     "name": "stdout",
     "output_type": "stream",
     "text": [
      "[CV]  bootstrap=False, criterion=entropy, max_depth=None, max_features=10, min_samples_split=5, score=0.955, total=   6.0s\n",
      "[CV] bootstrap=False, criterion=entropy, max_depth=None, max_features=10, min_samples_split=5 \n"
     ]
    },
    {
     "name": "stderr",
     "output_type": "stream",
     "text": [
      "[Parallel(n_jobs=1)]: Done   8 out of   8 | elapsed:   27.6s remaining:    0.0s\n"
     ]
    },
    {
     "name": "stdout",
     "output_type": "stream",
     "text": [
      "[CV]  bootstrap=False, criterion=entropy, max_depth=None, max_features=10, min_samples_split=5, score=0.956, total=   6.4s\n",
      "[CV] bootstrap=False, criterion=entropy, max_depth=None, max_features=10, min_samples_split=5 \n"
     ]
    },
    {
     "name": "stderr",
     "output_type": "stream",
     "text": [
      "[Parallel(n_jobs=1)]: Done   9 out of   9 | elapsed:   34.0s remaining:    0.0s\n"
     ]
    },
    {
     "name": "stdout",
     "output_type": "stream",
     "text": [
      "[CV]  bootstrap=False, criterion=entropy, max_depth=None, max_features=10, min_samples_split=5, score=0.954, total=   6.0s\n",
      "[CV] bootstrap=False, criterion=gini, max_depth=3, max_features=8, min_samples_split=8 \n",
      "[CV]  bootstrap=False, criterion=gini, max_depth=3, max_features=8, min_samples_split=8, score=0.704, total=   1.2s\n",
      "[CV] bootstrap=False, criterion=gini, max_depth=3, max_features=8, min_samples_split=8 \n",
      "[CV]  bootstrap=False, criterion=gini, max_depth=3, max_features=8, min_samples_split=8, score=0.710, total=   1.4s\n",
      "[CV] bootstrap=False, criterion=gini, max_depth=3, max_features=8, min_samples_split=8 \n",
      "[CV]  bootstrap=False, criterion=gini, max_depth=3, max_features=8, min_samples_split=8, score=0.730, total=   1.1s\n",
      "[CV] bootstrap=False, criterion=gini, max_depth=3, max_features=8, min_samples_split=8 \n",
      "[CV]  bootstrap=False, criterion=gini, max_depth=3, max_features=8, min_samples_split=8, score=0.690, total=   1.2s\n",
      "[CV] bootstrap=False, criterion=gini, max_depth=3, max_features=8, min_samples_split=8 \n",
      "[CV]  bootstrap=False, criterion=gini, max_depth=3, max_features=8, min_samples_split=8, score=0.715, total=   1.2s\n",
      "[CV] bootstrap=True, criterion=gini, max_depth=3, max_features=2, min_samples_split=8 \n",
      "[CV]  bootstrap=True, criterion=gini, max_depth=3, max_features=2, min_samples_split=8, score=0.598, total=   0.6s\n",
      "[CV] bootstrap=True, criterion=gini, max_depth=3, max_features=2, min_samples_split=8 \n",
      "[CV]  bootstrap=True, criterion=gini, max_depth=3, max_features=2, min_samples_split=8, score=0.642, total=   0.9s\n",
      "[CV] bootstrap=True, criterion=gini, max_depth=3, max_features=2, min_samples_split=8 \n",
      "[CV]  bootstrap=True, criterion=gini, max_depth=3, max_features=2, min_samples_split=8, score=0.629, total=   0.9s\n",
      "[CV] bootstrap=True, criterion=gini, max_depth=3, max_features=2, min_samples_split=8 \n",
      "[CV]  bootstrap=True, criterion=gini, max_depth=3, max_features=2, min_samples_split=8, score=0.641, total=   0.5s\n",
      "[CV] bootstrap=True, criterion=gini, max_depth=3, max_features=2, min_samples_split=8 \n",
      "[CV]  bootstrap=True, criterion=gini, max_depth=3, max_features=2, min_samples_split=8, score=0.662, total=   0.6s\n",
      "[CV] bootstrap=False, criterion=entropy, max_depth=3, max_features=9, min_samples_split=3 \n",
      "[CV]  bootstrap=False, criterion=entropy, max_depth=3, max_features=9, min_samples_split=3, score=0.711, total=   1.4s\n",
      "[CV] bootstrap=False, criterion=entropy, max_depth=3, max_features=9, min_samples_split=3 \n",
      "[CV]  bootstrap=False, criterion=entropy, max_depth=3, max_features=9, min_samples_split=3, score=0.717, total=   1.4s\n",
      "[CV] bootstrap=False, criterion=entropy, max_depth=3, max_features=9, min_samples_split=3 \n",
      "[CV]  bootstrap=False, criterion=entropy, max_depth=3, max_features=9, min_samples_split=3, score=0.712, total=   1.6s\n",
      "[CV] bootstrap=False, criterion=entropy, max_depth=3, max_features=9, min_samples_split=3 \n",
      "[CV]  bootstrap=False, criterion=entropy, max_depth=3, max_features=9, min_samples_split=3, score=0.694, total=   1.3s\n",
      "[CV] bootstrap=False, criterion=entropy, max_depth=3, max_features=9, min_samples_split=3 \n",
      "[CV]  bootstrap=False, criterion=entropy, max_depth=3, max_features=9, min_samples_split=3, score=0.724, total=   1.3s\n",
      "[CV] bootstrap=False, criterion=entropy, max_depth=None, max_features=9, min_samples_split=6 \n",
      "[CV]  bootstrap=False, criterion=entropy, max_depth=None, max_features=9, min_samples_split=6, score=0.958, total=   5.6s\n",
      "[CV] bootstrap=False, criterion=entropy, max_depth=None, max_features=9, min_samples_split=6 \n",
      "[CV]  bootstrap=False, criterion=entropy, max_depth=None, max_features=9, min_samples_split=6, score=0.958, total=   5.6s\n",
      "[CV] bootstrap=False, criterion=entropy, max_depth=None, max_features=9, min_samples_split=6 \n",
      "[CV]  bootstrap=False, criterion=entropy, max_depth=None, max_features=9, min_samples_split=6, score=0.953, total=   5.7s\n",
      "[CV] bootstrap=False, criterion=entropy, max_depth=None, max_features=9, min_samples_split=6 \n",
      "[CV]  bootstrap=False, criterion=entropy, max_depth=None, max_features=9, min_samples_split=6, score=0.959, total=   5.5s\n",
      "[CV] bootstrap=False, criterion=entropy, max_depth=None, max_features=9, min_samples_split=6 \n",
      "[CV]  bootstrap=False, criterion=entropy, max_depth=None, max_features=9, min_samples_split=6, score=0.954, total=   5.5s\n",
      "[CV] bootstrap=False, criterion=gini, max_depth=None, max_features=6, min_samples_split=2 \n",
      "[CV]  bootstrap=False, criterion=gini, max_depth=None, max_features=6, min_samples_split=2, score=0.952, total=   3.6s\n",
      "[CV] bootstrap=False, criterion=gini, max_depth=None, max_features=6, min_samples_split=2 \n",
      "[CV]  bootstrap=False, criterion=gini, max_depth=None, max_features=6, min_samples_split=2, score=0.951, total=   3.4s\n",
      "[CV] bootstrap=False, criterion=gini, max_depth=None, max_features=6, min_samples_split=2 \n",
      "[CV]  bootstrap=False, criterion=gini, max_depth=None, max_features=6, min_samples_split=2, score=0.952, total=   3.4s\n",
      "[CV] bootstrap=False, criterion=gini, max_depth=None, max_features=6, min_samples_split=2 \n",
      "[CV]  bootstrap=False, criterion=gini, max_depth=None, max_features=6, min_samples_split=2, score=0.950, total=   3.1s\n",
      "[CV] bootstrap=False, criterion=gini, max_depth=None, max_features=6, min_samples_split=2 \n",
      "[CV]  bootstrap=False, criterion=gini, max_depth=None, max_features=6, min_samples_split=2, score=0.948, total=   3.0s\n",
      "[CV] bootstrap=True, criterion=entropy, max_depth=3, max_features=2, min_samples_split=5 \n",
      "[CV]  bootstrap=True, criterion=entropy, max_depth=3, max_features=2, min_samples_split=5, score=0.636, total=   0.6s\n",
      "[CV] bootstrap=True, criterion=entropy, max_depth=3, max_features=2, min_samples_split=5 \n",
      "[CV]  bootstrap=True, criterion=entropy, max_depth=3, max_features=2, min_samples_split=5, score=0.651, total=   0.6s\n",
      "[CV] bootstrap=True, criterion=entropy, max_depth=3, max_features=2, min_samples_split=5 \n",
      "[CV]  bootstrap=True, criterion=entropy, max_depth=3, max_features=2, min_samples_split=5, score=0.641, total=   0.5s\n",
      "[CV] bootstrap=True, criterion=entropy, max_depth=3, max_features=2, min_samples_split=5 \n",
      "[CV]  bootstrap=True, criterion=entropy, max_depth=3, max_features=2, min_samples_split=5, score=0.682, total=   0.5s\n",
      "[CV] bootstrap=True, criterion=entropy, max_depth=3, max_features=2, min_samples_split=5 \n",
      "[CV]  bootstrap=True, criterion=entropy, max_depth=3, max_features=2, min_samples_split=5, score=0.656, total=   0.6s\n",
      "[CV] bootstrap=False, criterion=entropy, max_depth=None, max_features=8, min_samples_split=2 \n",
      "[CV]  bootstrap=False, criterion=entropy, max_depth=None, max_features=8, min_samples_split=2, score=0.958, total=   5.1s\n",
      "[CV] bootstrap=False, criterion=entropy, max_depth=None, max_features=8, min_samples_split=2 \n",
      "[CV]  bootstrap=False, criterion=entropy, max_depth=None, max_features=8, min_samples_split=2, score=0.958, total=   5.1s\n",
      "[CV] bootstrap=False, criterion=entropy, max_depth=None, max_features=8, min_samples_split=2 \n",
      "[CV]  bootstrap=False, criterion=entropy, max_depth=None, max_features=8, min_samples_split=2, score=0.953, total=   5.1s\n",
      "[CV] bootstrap=False, criterion=entropy, max_depth=None, max_features=8, min_samples_split=2 \n",
      "[CV]  bootstrap=False, criterion=entropy, max_depth=None, max_features=8, min_samples_split=2, score=0.957, total=   5.1s\n",
      "[CV] bootstrap=False, criterion=entropy, max_depth=None, max_features=8, min_samples_split=2 \n",
      "[CV]  bootstrap=False, criterion=entropy, max_depth=None, max_features=8, min_samples_split=2, score=0.952, total=   5.1s\n",
      "[CV] bootstrap=False, criterion=entropy, max_depth=None, max_features=1, min_samples_split=6 \n",
      "[CV]  bootstrap=False, criterion=entropy, max_depth=None, max_features=1, min_samples_split=6, score=0.940, total=   2.4s\n",
      "[CV] bootstrap=False, criterion=entropy, max_depth=None, max_features=1, min_samples_split=6 \n",
      "[CV]  bootstrap=False, criterion=entropy, max_depth=None, max_features=1, min_samples_split=6, score=0.944, total=   2.4s\n",
      "[CV] bootstrap=False, criterion=entropy, max_depth=None, max_features=1, min_samples_split=6 \n",
      "[CV]  bootstrap=False, criterion=entropy, max_depth=None, max_features=1, min_samples_split=6, score=0.940, total=   2.8s\n",
      "[CV] bootstrap=False, criterion=entropy, max_depth=None, max_features=1, min_samples_split=6 \n",
      "[CV]  bootstrap=False, criterion=entropy, max_depth=None, max_features=1, min_samples_split=6, score=0.940, total=   3.0s\n",
      "[CV] bootstrap=False, criterion=entropy, max_depth=None, max_features=1, min_samples_split=6 \n",
      "[CV]  bootstrap=False, criterion=entropy, max_depth=None, max_features=1, min_samples_split=6, score=0.938, total=   2.8s\n",
      "[CV] bootstrap=False, criterion=entropy, max_depth=3, max_features=3, min_samples_split=9 \n",
      "[CV]  bootstrap=False, criterion=entropy, max_depth=3, max_features=3, min_samples_split=9, score=0.664, total=   0.7s\n",
      "[CV] bootstrap=False, criterion=entropy, max_depth=3, max_features=3, min_samples_split=9 \n",
      "[CV]  bootstrap=False, criterion=entropy, max_depth=3, max_features=3, min_samples_split=9, score=0.686, total=   1.0s\n",
      "[CV] bootstrap=False, criterion=entropy, max_depth=3, max_features=3, min_samples_split=9 \n",
      "[CV]  bootstrap=False, criterion=entropy, max_depth=3, max_features=3, min_samples_split=9, score=0.668, total=   0.7s\n",
      "[CV] bootstrap=False, criterion=entropy, max_depth=3, max_features=3, min_samples_split=9 \n",
      "[CV]  bootstrap=False, criterion=entropy, max_depth=3, max_features=3, min_samples_split=9, score=0.663, total=   0.7s\n",
      "[CV] bootstrap=False, criterion=entropy, max_depth=3, max_features=3, min_samples_split=9 \n",
      "[CV]  bootstrap=False, criterion=entropy, max_depth=3, max_features=3, min_samples_split=9, score=0.644, total=   0.7s\n",
      "[CV] bootstrap=True, criterion=gini, max_depth=3, max_features=1, min_samples_split=6 \n",
      "[CV]  bootstrap=True, criterion=gini, max_depth=3, max_features=1, min_samples_split=6, score=0.589, total=   0.5s\n",
      "[CV] bootstrap=True, criterion=gini, max_depth=3, max_features=1, min_samples_split=6 \n",
      "[CV]  bootstrap=True, criterion=gini, max_depth=3, max_features=1, min_samples_split=6, score=0.571, total=   0.5s\n",
      "[CV] bootstrap=True, criterion=gini, max_depth=3, max_features=1, min_samples_split=6 \n",
      "[CV]  bootstrap=True, criterion=gini, max_depth=3, max_features=1, min_samples_split=6, score=0.559, total=   0.5s\n",
      "[CV] bootstrap=True, criterion=gini, max_depth=3, max_features=1, min_samples_split=6 \n",
      "[CV]  bootstrap=True, criterion=gini, max_depth=3, max_features=1, min_samples_split=6, score=0.618, total=   0.5s\n",
      "[CV] bootstrap=True, criterion=gini, max_depth=3, max_features=1, min_samples_split=6 \n",
      "[CV]  bootstrap=True, criterion=gini, max_depth=3, max_features=1, min_samples_split=6, score=0.601, total=   0.5s\n",
      "[CV] bootstrap=False, criterion=entropy, max_depth=3, max_features=9, min_samples_split=6 \n",
      "[CV]  bootstrap=False, criterion=entropy, max_depth=3, max_features=9, min_samples_split=6, score=0.706, total=   1.3s\n",
      "[CV] bootstrap=False, criterion=entropy, max_depth=3, max_features=9, min_samples_split=6 \n",
      "[CV]  bootstrap=False, criterion=entropy, max_depth=3, max_features=9, min_samples_split=6, score=0.711, total=   1.2s\n",
      "[CV] bootstrap=False, criterion=entropy, max_depth=3, max_features=9, min_samples_split=6 \n",
      "[CV]  bootstrap=False, criterion=entropy, max_depth=3, max_features=9, min_samples_split=6, score=0.693, total=   1.2s\n",
      "[CV] bootstrap=False, criterion=entropy, max_depth=3, max_features=9, min_samples_split=6 \n",
      "[CV]  bootstrap=False, criterion=entropy, max_depth=3, max_features=9, min_samples_split=6, score=0.706, total=   1.3s\n",
      "[CV] bootstrap=False, criterion=entropy, max_depth=3, max_features=9, min_samples_split=6 \n",
      "[CV]  bootstrap=False, criterion=entropy, max_depth=3, max_features=9, min_samples_split=6, score=0.725, total=   1.3s\n",
      "[CV] bootstrap=False, criterion=entropy, max_depth=3, max_features=10, min_samples_split=10 \n",
      "[CV]  bootstrap=False, criterion=entropy, max_depth=3, max_features=10, min_samples_split=10, score=0.710, total=   1.4s\n",
      "[CV] bootstrap=False, criterion=entropy, max_depth=3, max_features=10, min_samples_split=10 \n",
      "[CV]  bootstrap=False, criterion=entropy, max_depth=3, max_features=10, min_samples_split=10, score=0.697, total=   1.6s\n",
      "[CV] bootstrap=False, criterion=entropy, max_depth=3, max_features=10, min_samples_split=10 \n",
      "[CV]  bootstrap=False, criterion=entropy, max_depth=3, max_features=10, min_samples_split=10, score=0.690, total=   1.4s\n",
      "[CV] bootstrap=False, criterion=entropy, max_depth=3, max_features=10, min_samples_split=10 \n",
      "[CV]  bootstrap=False, criterion=entropy, max_depth=3, max_features=10, min_samples_split=10, score=0.717, total=   1.4s\n",
      "[CV] bootstrap=False, criterion=entropy, max_depth=3, max_features=10, min_samples_split=10 \n",
      "[CV]  bootstrap=False, criterion=entropy, max_depth=3, max_features=10, min_samples_split=10, score=0.685, total=   1.3s\n",
      "[CV] bootstrap=False, criterion=entropy, max_depth=None, max_features=10, min_samples_split=5 \n",
      "[CV]  bootstrap=False, criterion=entropy, max_depth=None, max_features=10, min_samples_split=5, score=0.960, total=   5.9s\n",
      "[CV] bootstrap=False, criterion=entropy, max_depth=None, max_features=10, min_samples_split=5 \n",
      "[CV]  bootstrap=False, criterion=entropy, max_depth=None, max_features=10, min_samples_split=5, score=0.958, total=   5.8s\n",
      "[CV] bootstrap=False, criterion=entropy, max_depth=None, max_features=10, min_samples_split=5 \n",
      "[CV]  bootstrap=False, criterion=entropy, max_depth=None, max_features=10, min_samples_split=5, score=0.954, total=   6.1s\n",
      "[CV] bootstrap=False, criterion=entropy, max_depth=None, max_features=10, min_samples_split=5 \n",
      "[CV]  bootstrap=False, criterion=entropy, max_depth=None, max_features=10, min_samples_split=5, score=0.960, total=   6.2s\n",
      "[CV] bootstrap=False, criterion=entropy, max_depth=None, max_features=10, min_samples_split=5 \n",
      "[CV]  bootstrap=False, criterion=entropy, max_depth=None, max_features=10, min_samples_split=5, score=0.954, total=   6.2s\n",
      "[CV] bootstrap=True, criterion=entropy, max_depth=None, max_features=3, min_samples_split=2 \n",
      "[CV]  bootstrap=True, criterion=entropy, max_depth=None, max_features=3, min_samples_split=2, score=0.939, total=   2.4s\n",
      "[CV] bootstrap=True, criterion=entropy, max_depth=None, max_features=3, min_samples_split=2 \n",
      "[CV]  bootstrap=True, criterion=entropy, max_depth=None, max_features=3, min_samples_split=2, score=0.939, total=   3.0s\n",
      "[CV] bootstrap=True, criterion=entropy, max_depth=None, max_features=3, min_samples_split=2 \n",
      "[CV]  bootstrap=True, criterion=entropy, max_depth=None, max_features=3, min_samples_split=2, score=0.938, total=   4.4s\n",
      "[CV] bootstrap=True, criterion=entropy, max_depth=None, max_features=3, min_samples_split=2 \n",
      "[CV]  bootstrap=True, criterion=entropy, max_depth=None, max_features=3, min_samples_split=2, score=0.935, total=   3.3s\n",
      "[CV] bootstrap=True, criterion=entropy, max_depth=None, max_features=3, min_samples_split=2 \n",
      "[CV]  bootstrap=True, criterion=entropy, max_depth=None, max_features=3, min_samples_split=2, score=0.938, total=   2.7s\n",
      "[CV] bootstrap=True, criterion=entropy, max_depth=None, max_features=10, min_samples_split=6 \n",
      "[CV]  bootstrap=True, criterion=entropy, max_depth=None, max_features=10, min_samples_split=6, score=0.950, total=   3.9s\n",
      "[CV] bootstrap=True, criterion=entropy, max_depth=None, max_features=10, min_samples_split=6 \n",
      "[CV]  bootstrap=True, criterion=entropy, max_depth=None, max_features=10, min_samples_split=6, score=0.951, total=   3.9s\n",
      "[CV] bootstrap=True, criterion=entropy, max_depth=None, max_features=10, min_samples_split=6 \n",
      "[CV]  bootstrap=True, criterion=entropy, max_depth=None, max_features=10, min_samples_split=6, score=0.948, total=   3.9s\n",
      "[CV] bootstrap=True, criterion=entropy, max_depth=None, max_features=10, min_samples_split=6 \n",
      "[CV]  bootstrap=True, criterion=entropy, max_depth=None, max_features=10, min_samples_split=6, score=0.953, total=   3.9s\n",
      "[CV] bootstrap=True, criterion=entropy, max_depth=None, max_features=10, min_samples_split=6 \n",
      "[CV]  bootstrap=True, criterion=entropy, max_depth=None, max_features=10, min_samples_split=6, score=0.948, total=   3.9s\n",
      "[CV] bootstrap=False, criterion=gini, max_depth=3, max_features=5, min_samples_split=6 \n",
      "[CV]  bootstrap=False, criterion=gini, max_depth=3, max_features=5, min_samples_split=6, score=0.671, total=   0.8s\n",
      "[CV] bootstrap=False, criterion=gini, max_depth=3, max_features=5, min_samples_split=6 \n",
      "[CV]  bootstrap=False, criterion=gini, max_depth=3, max_features=5, min_samples_split=6, score=0.706, total=   0.9s\n",
      "[CV] bootstrap=False, criterion=gini, max_depth=3, max_features=5, min_samples_split=6 \n",
      "[CV]  bootstrap=False, criterion=gini, max_depth=3, max_features=5, min_samples_split=6, score=0.696, total=   0.9s\n",
      "[CV] bootstrap=False, criterion=gini, max_depth=3, max_features=5, min_samples_split=6 \n",
      "[CV]  bootstrap=False, criterion=gini, max_depth=3, max_features=5, min_samples_split=6, score=0.675, total=   0.9s\n",
      "[CV] bootstrap=False, criterion=gini, max_depth=3, max_features=5, min_samples_split=6 \n",
      "[CV]  bootstrap=False, criterion=gini, max_depth=3, max_features=5, min_samples_split=6, score=0.709, total=   0.9s\n",
      "[CV] bootstrap=False, criterion=gini, max_depth=3, max_features=5, min_samples_split=10 \n",
      "[CV]  bootstrap=False, criterion=gini, max_depth=3, max_features=5, min_samples_split=10, score=0.699, total=   0.9s\n",
      "[CV] bootstrap=False, criterion=gini, max_depth=3, max_features=5, min_samples_split=10 \n",
      "[CV]  bootstrap=False, criterion=gini, max_depth=3, max_features=5, min_samples_split=10, score=0.709, total=   0.8s\n",
      "[CV] bootstrap=False, criterion=gini, max_depth=3, max_features=5, min_samples_split=10 \n",
      "[CV]  bootstrap=False, criterion=gini, max_depth=3, max_features=5, min_samples_split=10, score=0.661, total=   1.1s\n",
      "[CV] bootstrap=False, criterion=gini, max_depth=3, max_features=5, min_samples_split=10 \n",
      "[CV]  bootstrap=False, criterion=gini, max_depth=3, max_features=5, min_samples_split=10, score=0.703, total=   0.9s\n",
      "[CV] bootstrap=False, criterion=gini, max_depth=3, max_features=5, min_samples_split=10 \n",
      "[CV]  bootstrap=False, criterion=gini, max_depth=3, max_features=5, min_samples_split=10, score=0.709, total=   0.9s\n",
      "[CV] bootstrap=True, criterion=entropy, max_depth=3, max_features=4, min_samples_split=9 \n",
      "[CV]  bootstrap=True, criterion=entropy, max_depth=3, max_features=4, min_samples_split=9, score=0.701, total=   0.7s\n",
      "[CV] bootstrap=True, criterion=entropy, max_depth=3, max_features=4, min_samples_split=9 \n",
      "[CV]  bootstrap=True, criterion=entropy, max_depth=3, max_features=4, min_samples_split=9, score=0.684, total=   0.7s\n",
      "[CV] bootstrap=True, criterion=entropy, max_depth=3, max_features=4, min_samples_split=9 \n",
      "[CV]  bootstrap=True, criterion=entropy, max_depth=3, max_features=4, min_samples_split=9, score=0.652, total=   0.7s\n",
      "[CV] bootstrap=True, criterion=entropy, max_depth=3, max_features=4, min_samples_split=9 \n",
      "[CV]  bootstrap=True, criterion=entropy, max_depth=3, max_features=4, min_samples_split=9, score=0.681, total=   0.7s\n",
      "[CV] bootstrap=True, criterion=entropy, max_depth=3, max_features=4, min_samples_split=9 \n",
      "[CV]  bootstrap=True, criterion=entropy, max_depth=3, max_features=4, min_samples_split=9, score=0.685, total=   0.7s\n"
     ]
    },
    {
     "name": "stderr",
     "output_type": "stream",
     "text": [
      "[Parallel(n_jobs=1)]: Done 100 out of 100 | elapsed:  4.0min finished\n"
     ]
    },
    {
     "name": "stdout",
     "output_type": "stream",
     "text": [
      "RandomizedSearchCV took 249.71 seconds for 20 candidates parameter settings.\n",
      "Model with rank: 1\n",
      "Mean validation score: 0.957 (std: 0.003)\n",
      "Parameters: {'bootstrap': False, 'criterion': 'entropy', 'max_depth': None, 'max_features': 10, 'min_samples_split': 5}\n",
      "\n",
      "Model with rank: 2\n",
      "Mean validation score: 0.956 (std: 0.002)\n",
      "Parameters: {'bootstrap': False, 'criterion': 'entropy', 'max_depth': None, 'max_features': 9, 'min_samples_split': 6}\n",
      "\n",
      "Model with rank: 3\n",
      "Mean validation score: 0.956 (std: 0.001)\n",
      "Parameters: {'bootstrap': False, 'criterion': 'entropy', 'max_depth': None, 'max_features': 10, 'min_samples_split': 5}\n",
      "\n"
     ]
    }
   ],
   "source": [
    "# run randomized search\n",
    "n_iter_search = 20\n",
    "random_search = RandomizedSearchCV(clf, param_distributions=param_dist,\n",
    "                                   n_iter=n_iter_search, cv=5, iid=False, verbose=10, random_state=0)\n",
    "\n",
    "start = time.time()\n",
    "random_search.fit(X_train, y_train)\n",
    "print(\"RandomizedSearchCV took %.2f seconds for %d candidates\"\n",
    "      \" parameter settings.\" % ((time.time() - start), n_iter_search))\n",
    "report(random_search.cv_results_)\n"
   ]
  },
  {
   "cell_type": "code",
   "execution_count": 32,
   "metadata": {},
   "outputs": [],
   "source": [
    "import pandas as pd\n",
    "#.groupby(\"params\").plot(x=\"iter\", y=\"mean_test_score\")"
   ]
  },
  {
   "cell_type": "code",
   "execution_count": 25,
   "metadata": {},
   "outputs": [
    {
     "data": {
      "text/plain": [
       "0.9583428571428572"
      ]
     },
     "execution_count": 25,
     "metadata": {},
     "output_type": "execute_result"
    }
   ],
   "source": [
    "random_search.score(X_test, y_test)"
   ]
  },
  {
   "cell_type": "code",
   "execution_count": 39,
   "metadata": {},
   "outputs": [],
   "source": [
    "res = pd.DataFrame(sh.cv_results_)\n",
    "res['params_str'] = res.params.apply(str)\n",
    "reshape = res.pivot(index='iter', columns='params_str', values='mean_test_score')\n",
    "reshape.plot(legend=False, alpha=.4, c='k')"
   ]
  },
  {
   "cell_type": "code",
   "execution_count": 44,
   "metadata": {},
   "outputs": [
    {
     "data": {
      "image/png": "[encoded data removed]",
      "text/plain": [
       "<Figure size 432x288 with 1 Axes>"
      ]
     },
     "metadata": {},
     "output_type": "display_data"
    }
   ],
   "source": [
    "import matplotlib.pyplot as plt\n",
    "res.groupby(\"params_str\").plot('iter', 'mean_test_score', ax=plt.gca(), legend=False);"
   ]
  },
  {
   "cell_type": "code",
   "execution_count": 38,
   "metadata": {},
   "outputs": [
    {
     "data": {
      "text/plain": [
       "<matplotlib.axes._subplots.AxesSubplot at 0x7f0196c080f0>"
      ]
     },
     "execution_count": 38,
     "metadata": {},
     "output_type": "execute_result"
    },
    {
     "data": {
      "image/png": "[encoded data removed]",
      "text/plain": [
       "<Figure size 432x288 with 1 Axes>"
      ]
     },
     "metadata": {},
     "output_type": "display_data"
    }
   ],
   "source": [
    "%matplotlib inline\n",
    "res.plot('iter', 'mean_test_score', kind='scatter')"
   ]
  },
  {
   "cell_type": "code",
   "execution_count": 67,
   "metadata": {},
   "outputs": [
    {
     "name": "stderr",
     "output_type": "stream",
     "text": [
      "/home/andy/checkout/scikit-learn/sklearn/model_selection/_split.py:2184: FutureWarning: From version 0.21, test_size will always complement train_size unless both are specified.\n",
      "  FutureWarning)\n"
     ]
    }
   ],
   "source": [
    "X_train, X_test, y_train, y_test = train_test_split(X / 255., y, stratify=y, random_state=0, train_size=1000)\n"
   ]
  },
  {
   "cell_type": "code",
   "execution_count": 3,
   "metadata": {},
   "outputs": [
    {
     "data": {
      "text/plain": [
       "{'gamma': array([1.e-03, 1.e-02, 1.e-01, 1.e+00, 1.e+01, 1.e+02]),\n",
       " 'C': array([1.e-03, 1.e-02, 1.e-01, 1.e+00, 1.e+01, 1.e+02])}"
      ]
     },
     "execution_count": 3,
     "metadata": {},
     "output_type": "execute_result"
    }
   ],
   "source": [
    "from sklearn.svm import SVC\n",
    "param_grid = {'gamma': np.logspace(-3, 2, 6), 'C': np.logspace(-3, 2, 6)}\n",
    "param_grid"
   ]
  },
  {
   "cell_type": "code",
   "execution_count": 70,
   "metadata": {},
   "outputs": [
    {
     "name": "stdout",
     "output_type": "stream",
     "text": [
      "Fitting 5 folds for each of 36 candidates, totalling 180 fits\n",
      "[CV] C=0.001, gamma=0.001 ............................................\n"
     ]
    },
    {
     "name": "stderr",
     "output_type": "stream",
     "text": [
      "[Parallel(n_jobs=1)]: Using backend SequentialBackend with 1 concurrent workers.\n"
     ]
    },
    {
     "name": "stdout",
     "output_type": "stream",
     "text": [
      "[CV] ................ C=0.001, gamma=0.001, score=0.113, total=   1.4s\n",
      "[CV] C=0.001, gamma=0.001 ............................................\n"
     ]
    },
    {
     "name": "stderr",
     "output_type": "stream",
     "text": [
      "[Parallel(n_jobs=1)]: Done   1 out of   1 | elapsed:    1.4s remaining:    0.0s\n"
     ]
    },
    {
     "name": "stdout",
     "output_type": "stream",
     "text": [
      "[CV] ................ C=0.001, gamma=0.001, score=0.113, total=   1.5s\n",
      "[CV] C=0.001, gamma=0.001 ............................................\n"
     ]
    },
    {
     "name": "stderr",
     "output_type": "stream",
     "text": [
      "[Parallel(n_jobs=1)]: Done   2 out of   2 | elapsed:    2.9s remaining:    0.0s\n"
     ]
    },
    {
     "name": "stdout",
     "output_type": "stream",
     "text": [
      "[CV] ................ C=0.001, gamma=0.001, score=0.114, total=   1.5s\n",
      "[CV] C=0.001, gamma=0.001 ............................................\n"
     ]
    },
    {
     "name": "stderr",
     "output_type": "stream",
     "text": [
      "[Parallel(n_jobs=1)]: Done   3 out of   3 | elapsed:    4.4s remaining:    0.0s\n"
     ]
    },
    {
     "name": "stdout",
     "output_type": "stream",
     "text": [
      "[CV] ................ C=0.001, gamma=0.001, score=0.111, total=   1.4s\n",
      "[CV] C=0.001, gamma=0.001 ............................................\n"
     ]
    },
    {
     "name": "stderr",
     "output_type": "stream",
     "text": [
      "[Parallel(n_jobs=1)]: Done   4 out of   4 | elapsed:    5.8s remaining:    0.0s\n"
     ]
    },
    {
     "name": "stdout",
     "output_type": "stream",
     "text": [
      "[CV] ................ C=0.001, gamma=0.001, score=0.113, total=   1.5s\n",
      "[CV] C=0.001, gamma=0.01 .............................................\n"
     ]
    },
    {
     "name": "stderr",
     "output_type": "stream",
     "text": [
      "[Parallel(n_jobs=1)]: Done   5 out of   5 | elapsed:    7.3s remaining:    0.0s\n"
     ]
    },
    {
     "name": "stdout",
     "output_type": "stream",
     "text": [
      "[CV] ................. C=0.001, gamma=0.01, score=0.113, total=   1.3s\n",
      "[CV] C=0.001, gamma=0.01 .............................................\n"
     ]
    },
    {
     "name": "stderr",
     "output_type": "stream",
     "text": [
      "[Parallel(n_jobs=1)]: Done   6 out of   6 | elapsed:    8.7s remaining:    0.0s\n"
     ]
    },
    {
     "name": "stdout",
     "output_type": "stream",
     "text": [
      "[CV] ................. C=0.001, gamma=0.01, score=0.113, total=   1.4s\n",
      "[CV] C=0.001, gamma=0.01 .............................................\n"
     ]
    },
    {
     "name": "stderr",
     "output_type": "stream",
     "text": [
      "[Parallel(n_jobs=1)]: Done   7 out of   7 | elapsed:   10.0s remaining:    0.0s\n"
     ]
    },
    {
     "name": "stdout",
     "output_type": "stream",
     "text": [
      "[CV] ................. C=0.001, gamma=0.01, score=0.114, total=   1.5s\n",
      "[CV] C=0.001, gamma=0.01 .............................................\n"
     ]
    },
    {
     "name": "stderr",
     "output_type": "stream",
     "text": [
      "[Parallel(n_jobs=1)]: Done   8 out of   8 | elapsed:   11.5s remaining:    0.0s\n"
     ]
    },
    {
     "name": "stdout",
     "output_type": "stream",
     "text": [
      "[CV] ................. C=0.001, gamma=0.01, score=0.111, total=   1.4s\n",
      "[CV] C=0.001, gamma=0.01 .............................................\n"
     ]
    },
    {
     "name": "stderr",
     "output_type": "stream",
     "text": [
      "[Parallel(n_jobs=1)]: Done   9 out of   9 | elapsed:   12.9s remaining:    0.0s\n"
     ]
    },
    {
     "name": "stdout",
     "output_type": "stream",
     "text": [
      "[CV] ................. C=0.001, gamma=0.01, score=0.113, total=   1.6s\n",
      "[CV] C=0.001, gamma=0.1 ..............................................\n",
      "[CV] .................. C=0.001, gamma=0.1, score=0.113, total=   1.6s\n",
      "[CV] C=0.001, gamma=0.1 ..............................................\n",
      "[CV] .................. C=0.001, gamma=0.1, score=0.113, total=   1.5s\n",
      "[CV] C=0.001, gamma=0.1 ..............................................\n",
      "[CV] .................. C=0.001, gamma=0.1, score=0.114, total=   1.6s\n",
      "[CV] C=0.001, gamma=0.1 ..............................................\n",
      "[CV] .................. C=0.001, gamma=0.1, score=0.111, total=   1.4s\n",
      "[CV] C=0.001, gamma=0.1 ..............................................\n",
      "[CV] .................. C=0.001, gamma=0.1, score=0.113, total=   1.6s\n",
      "[CV] C=0.001, gamma=1.0 ..............................................\n",
      "[CV] .................. C=0.001, gamma=1.0, score=0.113, total=   1.5s\n",
      "[CV] C=0.001, gamma=1.0 ..............................................\n",
      "[CV] .................. C=0.001, gamma=1.0, score=0.113, total=   1.6s\n",
      "[CV] C=0.001, gamma=1.0 ..............................................\n",
      "[CV] .................. C=0.001, gamma=1.0, score=0.114, total=   1.6s\n",
      "[CV] C=0.001, gamma=1.0 ..............................................\n",
      "[CV] .................. C=0.001, gamma=1.0, score=0.111, total=   1.4s\n",
      "[CV] C=0.001, gamma=1.0 ..............................................\n",
      "[CV] .................. C=0.001, gamma=1.0, score=0.113, total=   1.4s\n",
      "[CV] C=0.001, gamma=10.0 .............................................\n",
      "[CV] ................. C=0.001, gamma=10.0, score=0.113, total=   1.8s\n",
      "[CV] C=0.001, gamma=10.0 .............................................\n",
      "[CV] ................. C=0.001, gamma=10.0, score=0.113, total=   1.8s\n",
      "[CV] C=0.001, gamma=10.0 .............................................\n",
      "[CV] ................. C=0.001, gamma=10.0, score=0.114, total=   1.4s\n",
      "[CV] C=0.001, gamma=10.0 .............................................\n",
      "[CV] ................. C=0.001, gamma=10.0, score=0.111, total=   1.3s\n",
      "[CV] C=0.001, gamma=10.0 .............................................\n",
      "[CV] ................. C=0.001, gamma=10.0, score=0.113, total=   1.4s\n",
      "[CV] C=0.001, gamma=100.0 ............................................\n",
      "[CV] ................ C=0.001, gamma=100.0, score=0.113, total=   1.3s\n",
      "[CV] C=0.001, gamma=100.0 ............................................\n",
      "[CV] ................ C=0.001, gamma=100.0, score=0.113, total=   1.3s\n",
      "[CV] C=0.001, gamma=100.0 ............................................\n",
      "[CV] ................ C=0.001, gamma=100.0, score=0.114, total=   1.3s\n",
      "[CV] C=0.001, gamma=100.0 ............................................\n",
      "[CV] ................ C=0.001, gamma=100.0, score=0.111, total=   1.3s\n",
      "[CV] C=0.001, gamma=100.0 ............................................\n",
      "[CV] ................ C=0.001, gamma=100.0, score=0.113, total=   1.3s\n",
      "[CV] C=0.01, gamma=0.001 .............................................\n",
      "[CV] ................. C=0.01, gamma=0.001, score=0.113, total=   1.3s\n",
      "[CV] C=0.01, gamma=0.001 .............................................\n",
      "[CV] ................. C=0.01, gamma=0.001, score=0.113, total=   1.3s\n",
      "[CV] C=0.01, gamma=0.001 .............................................\n",
      "[CV] ................. C=0.01, gamma=0.001, score=0.114, total=   1.3s\n",
      "[CV] C=0.01, gamma=0.001 .............................................\n",
      "[CV] ................. C=0.01, gamma=0.001, score=0.111, total=   1.3s\n",
      "[CV] C=0.01, gamma=0.001 .............................................\n",
      "[CV] ................. C=0.01, gamma=0.001, score=0.113, total=   1.3s\n",
      "[CV] C=0.01, gamma=0.01 ..............................................\n",
      "[CV] .................. C=0.01, gamma=0.01, score=0.113, total=   1.3s\n",
      "[CV] C=0.01, gamma=0.01 ..............................................\n",
      "[CV] .................. C=0.01, gamma=0.01, score=0.113, total=   1.3s\n",
      "[CV] C=0.01, gamma=0.01 ..............................................\n",
      "[CV] .................. C=0.01, gamma=0.01, score=0.114, total=   1.4s\n",
      "[CV] C=0.01, gamma=0.01 ..............................................\n",
      "[CV] .................. C=0.01, gamma=0.01, score=0.111, total=   1.4s\n",
      "[CV] C=0.01, gamma=0.01 ..............................................\n",
      "[CV] .................. C=0.01, gamma=0.01, score=0.113, total=   1.5s\n",
      "[CV] C=0.01, gamma=0.1 ...............................................\n",
      "[CV] ................... C=0.01, gamma=0.1, score=0.113, total=   1.4s\n",
      "[CV] C=0.01, gamma=0.1 ...............................................\n",
      "[CV] ................... C=0.01, gamma=0.1, score=0.113, total=   1.7s\n",
      "[CV] C=0.01, gamma=0.1 ...............................................\n",
      "[CV] ................... C=0.01, gamma=0.1, score=0.114, total=   1.6s\n",
      "[CV] C=0.01, gamma=0.1 ...............................................\n",
      "[CV] ................... C=0.01, gamma=0.1, score=0.111, total=   1.7s\n",
      "[CV] C=0.01, gamma=0.1 ...............................................\n",
      "[CV] ................... C=0.01, gamma=0.1, score=0.113, total=   1.7s\n",
      "[CV] C=0.01, gamma=1.0 ...............................................\n",
      "[CV] ................... C=0.01, gamma=1.0, score=0.113, total=   1.6s\n",
      "[CV] C=0.01, gamma=1.0 ...............................................\n",
      "[CV] ................... C=0.01, gamma=1.0, score=0.113, total=   1.6s\n",
      "[CV] C=0.01, gamma=1.0 ...............................................\n",
      "[CV] ................... C=0.01, gamma=1.0, score=0.114, total=   1.7s\n",
      "[CV] C=0.01, gamma=1.0 ...............................................\n",
      "[CV] ................... C=0.01, gamma=1.0, score=0.111, total=   1.5s\n",
      "[CV] C=0.01, gamma=1.0 ...............................................\n",
      "[CV] ................... C=0.01, gamma=1.0, score=0.113, total=   1.5s\n",
      "[CV] C=0.01, gamma=10.0 ..............................................\n",
      "[CV] .................. C=0.01, gamma=10.0, score=0.113, total=   1.4s\n",
      "[CV] C=0.01, gamma=10.0 ..............................................\n",
      "[CV] .................. C=0.01, gamma=10.0, score=0.113, total=   1.4s\n",
      "[CV] C=0.01, gamma=10.0 ..............................................\n",
      "[CV] .................. C=0.01, gamma=10.0, score=0.114, total=   1.4s\n",
      "[CV] C=0.01, gamma=10.0 ..............................................\n",
      "[CV] .................. C=0.01, gamma=10.0, score=0.111, total=   1.6s\n",
      "[CV] C=0.01, gamma=10.0 ..............................................\n",
      "[CV] .................. C=0.01, gamma=10.0, score=0.113, total=   1.4s\n",
      "[CV] C=0.01, gamma=100.0 .............................................\n",
      "[CV] ................. C=0.01, gamma=100.0, score=0.113, total=   1.5s\n",
      "[CV] C=0.01, gamma=100.0 .............................................\n",
      "[CV] ................. C=0.01, gamma=100.0, score=0.113, total=   1.4s\n",
      "[CV] C=0.01, gamma=100.0 .............................................\n",
      "[CV] ................. C=0.01, gamma=100.0, score=0.114, total=   1.4s\n",
      "[CV] C=0.01, gamma=100.0 .............................................\n",
      "[CV] ................. C=0.01, gamma=100.0, score=0.111, total=   1.4s\n",
      "[CV] C=0.01, gamma=100.0 .............................................\n",
      "[CV] ................. C=0.01, gamma=100.0, score=0.113, total=   1.5s\n",
      "[CV] C=0.1, gamma=0.001 ..............................................\n",
      "[CV] .................. C=0.1, gamma=0.001, score=0.113, total=   1.4s\n",
      "[CV] C=0.1, gamma=0.001 ..............................................\n",
      "[CV] .................. C=0.1, gamma=0.001, score=0.113, total=   1.4s\n",
      "[CV] C=0.1, gamma=0.001 ..............................................\n",
      "[CV] .................. C=0.1, gamma=0.001, score=0.114, total=   1.4s\n",
      "[CV] C=0.1, gamma=0.001 ..............................................\n",
      "[CV] .................. C=0.1, gamma=0.001, score=0.111, total=   1.4s\n",
      "[CV] C=0.1, gamma=0.001 ..............................................\n",
      "[CV] .................. C=0.1, gamma=0.001, score=0.113, total=   1.4s\n",
      "[CV] C=0.1, gamma=0.01 ...............................................\n",
      "[CV] ................... C=0.1, gamma=0.01, score=0.714, total=   1.4s\n",
      "[CV] C=0.1, gamma=0.01 ...............................................\n",
      "[CV] ................... C=0.1, gamma=0.01, score=0.754, total=   1.3s\n",
      "[CV] C=0.1, gamma=0.01 ...............................................\n",
      "[CV] ................... C=0.1, gamma=0.01, score=0.741, total=   1.3s\n",
      "[CV] C=0.1, gamma=0.01 ...............................................\n",
      "[CV] ................... C=0.1, gamma=0.01, score=0.742, total=   1.3s\n",
      "[CV] C=0.1, gamma=0.01 ...............................................\n",
      "[CV] ................... C=0.1, gamma=0.01, score=0.723, total=   1.3s\n",
      "[CV] C=0.1, gamma=0.1 ................................................\n",
      "[CV] .................... C=0.1, gamma=0.1, score=0.113, total=   1.7s\n",
      "[CV] C=0.1, gamma=0.1 ................................................\n",
      "[CV] .................... C=0.1, gamma=0.1, score=0.113, total=   1.5s\n",
      "[CV] C=0.1, gamma=0.1 ................................................\n",
      "[CV] .................... C=0.1, gamma=0.1, score=0.114, total=   1.4s\n",
      "[CV] C=0.1, gamma=0.1 ................................................\n",
      "[CV] .................... C=0.1, gamma=0.1, score=0.111, total=   1.4s\n",
      "[CV] C=0.1, gamma=0.1 ................................................\n",
      "[CV] .................... C=0.1, gamma=0.1, score=0.118, total=   1.4s\n",
      "[CV] C=0.1, gamma=1.0 ................................................\n",
      "[CV] .................... C=0.1, gamma=1.0, score=0.113, total=   1.6s\n",
      "[CV] C=0.1, gamma=1.0 ................................................\n",
      "[CV] .................... C=0.1, gamma=1.0, score=0.113, total=   1.6s\n",
      "[CV] C=0.1, gamma=1.0 ................................................\n",
      "[CV] .................... C=0.1, gamma=1.0, score=0.114, total=   1.6s\n",
      "[CV] C=0.1, gamma=1.0 ................................................\n",
      "[CV] .................... C=0.1, gamma=1.0, score=0.111, total=   1.6s\n",
      "[CV] C=0.1, gamma=1.0 ................................................\n",
      "[CV] .................... C=0.1, gamma=1.0, score=0.113, total=   1.7s\n",
      "[CV] C=0.1, gamma=10.0 ...............................................\n",
      "[CV] ................... C=0.1, gamma=10.0, score=0.113, total=   1.9s\n",
      "[CV] C=0.1, gamma=10.0 ...............................................\n",
      "[CV] ................... C=0.1, gamma=10.0, score=0.113, total=   1.9s\n",
      "[CV] C=0.1, gamma=10.0 ...............................................\n",
      "[CV] ................... C=0.1, gamma=10.0, score=0.114, total=   1.7s\n",
      "[CV] C=0.1, gamma=10.0 ...............................................\n",
      "[CV] ................... C=0.1, gamma=10.0, score=0.111, total=   1.6s\n",
      "[CV] C=0.1, gamma=10.0 ...............................................\n",
      "[CV] ................... C=0.1, gamma=10.0, score=0.113, total=   1.5s\n",
      "[CV] C=0.1, gamma=100.0 ..............................................\n",
      "[CV] .................. C=0.1, gamma=100.0, score=0.113, total=   1.6s\n",
      "[CV] C=0.1, gamma=100.0 ..............................................\n",
      "[CV] .................. C=0.1, gamma=100.0, score=0.113, total=   1.5s\n",
      "[CV] C=0.1, gamma=100.0 ..............................................\n",
      "[CV] .................. C=0.1, gamma=100.0, score=0.114, total=   1.4s\n",
      "[CV] C=0.1, gamma=100.0 ..............................................\n",
      "[CV] .................. C=0.1, gamma=100.0, score=0.111, total=   1.4s\n",
      "[CV] C=0.1, gamma=100.0 ..............................................\n",
      "[CV] .................. C=0.1, gamma=100.0, score=0.113, total=   1.9s\n",
      "[CV] C=1.0, gamma=0.001 ..............................................\n",
      "[CV] .................. C=1.0, gamma=0.001, score=0.788, total=   1.1s\n",
      "[CV] C=1.0, gamma=0.001 ..............................................\n",
      "[CV] .................. C=1.0, gamma=0.001, score=0.793, total=   1.0s\n",
      "[CV] C=1.0, gamma=0.001 ..............................................\n",
      "[CV] .................. C=1.0, gamma=0.001, score=0.841, total=   1.3s\n",
      "[CV] C=1.0, gamma=0.001 ..............................................\n",
      "[CV] .................. C=1.0, gamma=0.001, score=0.828, total=   1.4s\n",
      "[CV] C=1.0, gamma=0.001 ..............................................\n",
      "[CV] .................. C=1.0, gamma=0.001, score=0.779, total=   1.0s\n",
      "[CV] C=1.0, gamma=0.01 ...............................................\n",
      "[CV] ................... C=1.0, gamma=0.01, score=0.877, total=   0.7s\n",
      "[CV] C=1.0, gamma=0.01 ...............................................\n",
      "[CV] ................... C=1.0, gamma=0.01, score=0.882, total=   0.8s\n",
      "[CV] C=1.0, gamma=0.01 ...............................................\n",
      "[CV] ................... C=1.0, gamma=0.01, score=0.920, total=   1.0s\n",
      "[CV] C=1.0, gamma=0.01 ...............................................\n",
      "[CV] ................... C=1.0, gamma=0.01, score=0.889, total=   0.8s\n",
      "[CV] C=1.0, gamma=0.01 ...............................................\n",
      "[CV] ................... C=1.0, gamma=0.01, score=0.872, total=   0.7s\n",
      "[CV] C=1.0, gamma=0.1 ................................................\n",
      "[CV] .................... C=1.0, gamma=0.1, score=0.635, total=   1.5s\n",
      "[CV] C=1.0, gamma=0.1 ................................................\n",
      "[CV] .................... C=1.0, gamma=0.1, score=0.754, total=   1.5s\n",
      "[CV] C=1.0, gamma=0.1 ................................................\n",
      "[CV] .................... C=1.0, gamma=0.1, score=0.697, total=   1.4s\n",
      "[CV] C=1.0, gamma=0.1 ................................................\n",
      "[CV] .................... C=1.0, gamma=0.1, score=0.768, total=   1.4s\n",
      "[CV] C=1.0, gamma=0.1 ................................................\n",
      "[CV] .................... C=1.0, gamma=0.1, score=0.738, total=   1.4s\n",
      "[CV] C=1.0, gamma=1.0 ................................................\n",
      "[CV] .................... C=1.0, gamma=1.0, score=0.113, total=   1.4s\n",
      "[CV] C=1.0, gamma=1.0 ................................................\n",
      "[CV] .................... C=1.0, gamma=1.0, score=0.113, total=   1.4s\n",
      "[CV] C=1.0, gamma=1.0 ................................................\n",
      "[CV] .................... C=1.0, gamma=1.0, score=0.114, total=   1.4s\n",
      "[CV] C=1.0, gamma=1.0 ................................................\n",
      "[CV] .................... C=1.0, gamma=1.0, score=0.111, total=   1.4s\n",
      "[CV] C=1.0, gamma=1.0 ................................................\n",
      "[CV] .................... C=1.0, gamma=1.0, score=0.113, total=   1.3s\n",
      "[CV] C=1.0, gamma=10.0 ...............................................\n",
      "[CV] ................... C=1.0, gamma=10.0, score=0.113, total=   1.3s\n",
      "[CV] C=1.0, gamma=10.0 ...............................................\n",
      "[CV] ................... C=1.0, gamma=10.0, score=0.113, total=   1.5s\n",
      "[CV] C=1.0, gamma=10.0 ...............................................\n",
      "[CV] ................... C=1.0, gamma=10.0, score=0.114, total=   1.4s\n",
      "[CV] C=1.0, gamma=10.0 ...............................................\n",
      "[CV] ................... C=1.0, gamma=10.0, score=0.111, total=   1.5s\n",
      "[CV] C=1.0, gamma=10.0 ...............................................\n",
      "[CV] ................... C=1.0, gamma=10.0, score=0.113, total=   1.4s\n",
      "[CV] C=1.0, gamma=100.0 ..............................................\n",
      "[CV] .................. C=1.0, gamma=100.0, score=0.113, total=   1.3s\n",
      "[CV] C=1.0, gamma=100.0 ..............................................\n",
      "[CV] .................. C=1.0, gamma=100.0, score=0.113, total=   1.5s\n",
      "[CV] C=1.0, gamma=100.0 ..............................................\n",
      "[CV] .................. C=1.0, gamma=100.0, score=0.114, total=   1.4s\n",
      "[CV] C=1.0, gamma=100.0 ..............................................\n",
      "[CV] .................. C=1.0, gamma=100.0, score=0.111, total=   1.4s\n",
      "[CV] C=1.0, gamma=100.0 ..............................................\n",
      "[CV] .................. C=1.0, gamma=100.0, score=0.113, total=   1.4s\n",
      "[CV] C=10.0, gamma=0.001 .............................................\n",
      "[CV] ................. C=10.0, gamma=0.001, score=0.852, total=   0.5s\n",
      "[CV] C=10.0, gamma=0.001 .............................................\n",
      "[CV] ................. C=10.0, gamma=0.001, score=0.872, total=   0.5s\n",
      "[CV] C=10.0, gamma=0.001 .............................................\n",
      "[CV] ................. C=10.0, gamma=0.001, score=0.925, total=   0.5s\n",
      "[CV] C=10.0, gamma=0.001 .............................................\n",
      "[CV] ................. C=10.0, gamma=0.001, score=0.909, total=   0.5s\n",
      "[CV] C=10.0, gamma=0.001 .............................................\n",
      "[CV] ................. C=10.0, gamma=0.001, score=0.872, total=   0.5s\n",
      "[CV] C=10.0, gamma=0.01 ..............................................\n",
      "[CV] .................. C=10.0, gamma=0.01, score=0.897, total=   0.6s\n",
      "[CV] C=10.0, gamma=0.01 ..............................................\n",
      "[CV] .................. C=10.0, gamma=0.01, score=0.897, total=   0.8s\n",
      "[CV] C=10.0, gamma=0.01 ..............................................\n",
      "[CV] .................. C=10.0, gamma=0.01, score=0.925, total=   0.7s\n",
      "[CV] C=10.0, gamma=0.01 ..............................................\n",
      "[CV] .................. C=10.0, gamma=0.01, score=0.934, total=   0.9s\n",
      "[CV] C=10.0, gamma=0.01 ..............................................\n",
      "[CV] .................. C=10.0, gamma=0.01, score=0.913, total=   0.8s\n",
      "[CV] C=10.0, gamma=0.1 ...............................................\n",
      "[CV] ................... C=10.0, gamma=0.1, score=0.660, total=   1.4s\n",
      "[CV] C=10.0, gamma=0.1 ...............................................\n",
      "[CV] ................... C=10.0, gamma=0.1, score=0.778, total=   1.4s\n",
      "[CV] C=10.0, gamma=0.1 ...............................................\n",
      "[CV] ................... C=10.0, gamma=0.1, score=0.716, total=   1.4s\n",
      "[CV] C=10.0, gamma=0.1 ...............................................\n",
      "[CV] ................... C=10.0, gamma=0.1, score=0.788, total=   1.4s\n",
      "[CV] C=10.0, gamma=0.1 ...............................................\n",
      "[CV] ................... C=10.0, gamma=0.1, score=0.764, total=   1.4s\n",
      "[CV] C=10.0, gamma=1.0 ...............................................\n",
      "[CV] ................... C=10.0, gamma=1.0, score=0.113, total=   1.5s\n",
      "[CV] C=10.0, gamma=1.0 ...............................................\n",
      "[CV] ................... C=10.0, gamma=1.0, score=0.113, total=   1.4s\n",
      "[CV] C=10.0, gamma=1.0 ...............................................\n",
      "[CV] ................... C=10.0, gamma=1.0, score=0.114, total=   1.4s\n",
      "[CV] C=10.0, gamma=1.0 ...............................................\n",
      "[CV] ................... C=10.0, gamma=1.0, score=0.111, total=   1.5s\n",
      "[CV] C=10.0, gamma=1.0 ...............................................\n",
      "[CV] ................... C=10.0, gamma=1.0, score=0.113, total=   1.5s\n",
      "[CV] C=10.0, gamma=10.0 ..............................................\n",
      "[CV] .................. C=10.0, gamma=10.0, score=0.113, total=   1.4s\n",
      "[CV] C=10.0, gamma=10.0 ..............................................\n",
      "[CV] .................. C=10.0, gamma=10.0, score=0.113, total=   1.4s\n",
      "[CV] C=10.0, gamma=10.0 ..............................................\n",
      "[CV] .................. C=10.0, gamma=10.0, score=0.114, total=   1.4s\n",
      "[CV] C=10.0, gamma=10.0 ..............................................\n",
      "[CV] .................. C=10.0, gamma=10.0, score=0.111, total=   1.4s\n",
      "[CV] C=10.0, gamma=10.0 ..............................................\n",
      "[CV] .................. C=10.0, gamma=10.0, score=0.113, total=   1.4s\n",
      "[CV] C=10.0, gamma=100.0 .............................................\n",
      "[CV] ................. C=10.0, gamma=100.0, score=0.113, total=   1.4s\n",
      "[CV] C=10.0, gamma=100.0 .............................................\n",
      "[CV] ................. C=10.0, gamma=100.0, score=0.113, total=   1.5s\n",
      "[CV] C=10.0, gamma=100.0 .............................................\n",
      "[CV] ................. C=10.0, gamma=100.0, score=0.114, total=   1.5s\n",
      "[CV] C=10.0, gamma=100.0 .............................................\n",
      "[CV] ................. C=10.0, gamma=100.0, score=0.111, total=   1.4s\n",
      "[CV] C=10.0, gamma=100.0 .............................................\n",
      "[CV] ................. C=10.0, gamma=100.0, score=0.113, total=   1.4s\n",
      "[CV] C=100.0, gamma=0.001 ............................................\n",
      "[CV] ................ C=100.0, gamma=0.001, score=0.877, total=   0.5s\n",
      "[CV] C=100.0, gamma=0.001 ............................................\n",
      "[CV] ................ C=100.0, gamma=0.001, score=0.877, total=   0.5s\n",
      "[CV] C=100.0, gamma=0.001 ............................................\n",
      "[CV] ................ C=100.0, gamma=0.001, score=0.905, total=   0.5s\n",
      "[CV] C=100.0, gamma=0.001 ............................................\n",
      "[CV] ................ C=100.0, gamma=0.001, score=0.889, total=   0.5s\n",
      "[CV] C=100.0, gamma=0.001 ............................................\n",
      "[CV] ................ C=100.0, gamma=0.001, score=0.877, total=   0.5s\n",
      "[CV] C=100.0, gamma=0.01 .............................................\n",
      "[CV] ................. C=100.0, gamma=0.01, score=0.897, total=   0.7s\n",
      "[CV] C=100.0, gamma=0.01 .............................................\n",
      "[CV] ................. C=100.0, gamma=0.01, score=0.897, total=   0.7s\n",
      "[CV] C=100.0, gamma=0.01 .............................................\n",
      "[CV] ................. C=100.0, gamma=0.01, score=0.925, total=   0.8s\n",
      "[CV] C=100.0, gamma=0.01 .............................................\n",
      "[CV] ................. C=100.0, gamma=0.01, score=0.934, total=   0.7s\n",
      "[CV] C=100.0, gamma=0.01 .............................................\n",
      "[CV] ................. C=100.0, gamma=0.01, score=0.913, total=   0.7s\n",
      "[CV] C=100.0, gamma=0.1 ..............................................\n",
      "[CV] .................. C=100.0, gamma=0.1, score=0.660, total=   1.4s\n",
      "[CV] C=100.0, gamma=0.1 ..............................................\n",
      "[CV] .................. C=100.0, gamma=0.1, score=0.778, total=   1.4s\n",
      "[CV] C=100.0, gamma=0.1 ..............................................\n",
      "[CV] .................. C=100.0, gamma=0.1, score=0.716, total=   1.4s\n",
      "[CV] C=100.0, gamma=0.1 ..............................................\n",
      "[CV] .................. C=100.0, gamma=0.1, score=0.788, total=   1.5s\n",
      "[CV] C=100.0, gamma=0.1 ..............................................\n",
      "[CV] .................. C=100.0, gamma=0.1, score=0.764, total=   1.5s\n",
      "[CV] C=100.0, gamma=1.0 ..............................................\n",
      "[CV] .................. C=100.0, gamma=1.0, score=0.113, total=   1.5s\n",
      "[CV] C=100.0, gamma=1.0 ..............................................\n",
      "[CV] .................. C=100.0, gamma=1.0, score=0.113, total=   1.5s\n",
      "[CV] C=100.0, gamma=1.0 ..............................................\n",
      "[CV] .................. C=100.0, gamma=1.0, score=0.114, total=   1.9s\n",
      "[CV] C=100.0, gamma=1.0 ..............................................\n",
      "[CV] .................. C=100.0, gamma=1.0, score=0.111, total=   1.4s\n",
      "[CV] C=100.0, gamma=1.0 ..............................................\n",
      "[CV] .................. C=100.0, gamma=1.0, score=0.113, total=   1.5s\n",
      "[CV] C=100.0, gamma=10.0 .............................................\n",
      "[CV] ................. C=100.0, gamma=10.0, score=0.113, total=   1.9s\n",
      "[CV] C=100.0, gamma=10.0 .............................................\n",
      "[CV] ................. C=100.0, gamma=10.0, score=0.113, total=   1.9s\n",
      "[CV] C=100.0, gamma=10.0 .............................................\n",
      "[CV] ................. C=100.0, gamma=10.0, score=0.114, total=   1.6s\n",
      "[CV] C=100.0, gamma=10.0 .............................................\n",
      "[CV] ................. C=100.0, gamma=10.0, score=0.111, total=   1.5s\n",
      "[CV] C=100.0, gamma=10.0 .............................................\n",
      "[CV] ................. C=100.0, gamma=10.0, score=0.113, total=   1.4s\n",
      "[CV] C=100.0, gamma=100.0 ............................................\n",
      "[CV] ................ C=100.0, gamma=100.0, score=0.113, total=   1.4s\n",
      "[CV] C=100.0, gamma=100.0 ............................................\n",
      "[CV] ................ C=100.0, gamma=100.0, score=0.113, total=   1.5s\n",
      "[CV] C=100.0, gamma=100.0 ............................................\n",
      "[CV] ................ C=100.0, gamma=100.0, score=0.114, total=   1.4s\n",
      "[CV] C=100.0, gamma=100.0 ............................................\n",
      "[CV] ................ C=100.0, gamma=100.0, score=0.111, total=   1.6s\n",
      "[CV] C=100.0, gamma=100.0 ............................................\n",
      "[CV] ................ C=100.0, gamma=100.0, score=0.113, total=   1.4s\n"
     ]
    },
    {
     "name": "stderr",
     "output_type": "stream",
     "text": [
      "[Parallel(n_jobs=1)]: Done 180 out of 180 | elapsed:  4.1min finished\n"
     ]
    },
    {
     "name": "stdout",
     "output_type": "stream",
     "text": [
      "GridSearchCV took 244.53 seconds for 36 candidate parameter settings.\n",
      "Model with rank: 1\n",
      "Mean validation score: 0.913 (std: 0.015)\n",
      "Parameters: {'C': 10.0, 'gamma': 0.01}\n",
      "\n",
      "Model with rank: 1\n",
      "Mean validation score: 0.913 (std: 0.015)\n",
      "Parameters: {'C': 100.0, 'gamma': 0.01}\n",
      "\n",
      "Model with rank: 3\n",
      "Mean validation score: 0.888 (std: 0.017)\n",
      "Parameters: {'C': 1.0, 'gamma': 0.01}\n",
      "\n"
     ]
    }
   ],
   "source": [
    "# run grid search\n",
    "grid_search = GridSearchCV(SVC(), param_grid=param_grid, cv=5, iid=False, verbose=10)\n",
    "start = time.time()\n",
    "grid_search.fit(X_train, y_train)\n",
    "\n",
    "print(\"GridSearchCV took %.2f seconds for %d candidate parameter settings.\"\n",
    "      % (time.time() - start, len(grid_search.cv_results_['params'])))\n",
    "report(grid_search.cv_results_)\n"
   ]
  },
  {
   "cell_type": "code",
   "execution_count": null,
   "metadata": {},
   "outputs": [
    {
     "name": "stdout",
     "output_type": "stream",
     "text": [
      "6\n",
      "n_samples_iter: 1458\n",
      "Fitting 5 folds for each of 36 candidates, totalling 180 fits\n",
      "[CV] C=0.001, gamma=0.001 ............................................\n"
     ]
    },
    {
     "name": "stderr",
     "output_type": "stream",
     "text": [
      "[Parallel(n_jobs=1)]: Using backend SequentialBackend with 1 concurrent workers.\n"
     ]
    },
    {
     "name": "stdout",
     "output_type": "stream",
     "text": [
      "[CV]  C=0.001, gamma=0.001, score=(train=0.124, test=0.125), total=   3.1s\n",
      "[CV] C=0.001, gamma=0.001 ............................................\n"
     ]
    },
    {
     "name": "stderr",
     "output_type": "stream",
     "text": [
      "[Parallel(n_jobs=1)]: Done   1 out of   1 | elapsed:    4.5s remaining:    0.0s\n"
     ]
    },
    {
     "name": "stdout",
     "output_type": "stream",
     "text": [
      "[CV]  C=0.001, gamma=0.001, score=(train=0.124, test=0.123), total=   2.7s\n",
      "[CV] C=0.001, gamma=0.001 ............................................\n"
     ]
    },
    {
     "name": "stderr",
     "output_type": "stream",
     "text": [
      "[Parallel(n_jobs=1)]: Done   2 out of   2 | elapsed:    8.6s remaining:    0.0s\n"
     ]
    },
    {
     "name": "stdout",
     "output_type": "stream",
     "text": [
      "[CV]  C=0.001, gamma=0.001, score=(train=0.124, test=0.123), total=   2.8s\n",
      "[CV] C=0.001, gamma=0.001 ............................................\n"
     ]
    },
    {
     "name": "stderr",
     "output_type": "stream",
     "text": [
      "[Parallel(n_jobs=1)]: Done   3 out of   3 | elapsed:   12.9s remaining:    0.0s\n"
     ]
    },
    {
     "name": "stdout",
     "output_type": "stream",
     "text": [
      "[CV]  C=0.001, gamma=0.001, score=(train=0.124, test=0.124), total=   2.8s\n",
      "[CV] C=0.001, gamma=0.001 ............................................\n"
     ]
    },
    {
     "name": "stderr",
     "output_type": "stream",
     "text": [
      "[Parallel(n_jobs=1)]: Done   4 out of   4 | elapsed:   17.1s remaining:    0.0s\n"
     ]
    },
    {
     "name": "stdout",
     "output_type": "stream",
     "text": [
      "[CV]  C=0.001, gamma=0.001, score=(train=0.124, test=0.125), total=   2.8s\n",
      "[CV] C=0.001, gamma=0.01 .............................................\n"
     ]
    },
    {
     "name": "stderr",
     "output_type": "stream",
     "text": [
      "[Parallel(n_jobs=1)]: Done   5 out of   5 | elapsed:   21.4s remaining:    0.0s\n"
     ]
    },
    {
     "name": "stdout",
     "output_type": "stream",
     "text": [
      "[CV]  C=0.001, gamma=0.01, score=(train=0.124, test=0.125), total=   2.8s\n",
      "[CV] C=0.001, gamma=0.01 .............................................\n"
     ]
    },
    {
     "name": "stderr",
     "output_type": "stream",
     "text": [
      "[Parallel(n_jobs=1)]: Done   6 out of   6 | elapsed:   25.6s remaining:    0.0s\n"
     ]
    },
    {
     "name": "stdout",
     "output_type": "stream",
     "text": [
      "[CV]  C=0.001, gamma=0.01, score=(train=0.124, test=0.123), total=   2.7s\n",
      "[CV] C=0.001, gamma=0.01 .............................................\n"
     ]
    },
    {
     "name": "stderr",
     "output_type": "stream",
     "text": [
      "[Parallel(n_jobs=1)]: Done   7 out of   7 | elapsed:   29.7s remaining:    0.0s\n"
     ]
    },
    {
     "name": "stdout",
     "output_type": "stream",
     "text": [
      "[CV]  C=0.001, gamma=0.01, score=(train=0.124, test=0.123), total=   2.8s\n",
      "[CV] C=0.001, gamma=0.01 .............................................\n"
     ]
    },
    {
     "name": "stderr",
     "output_type": "stream",
     "text": [
      "[Parallel(n_jobs=1)]: Done   8 out of   8 | elapsed:   33.9s remaining:    0.0s\n"
     ]
    },
    {
     "name": "stdout",
     "output_type": "stream",
     "text": [
      "[CV]  C=0.001, gamma=0.01, score=(train=0.124, test=0.124), total=   2.8s\n",
      "[CV] C=0.001, gamma=0.01 .............................................\n"
     ]
    },
    {
     "name": "stderr",
     "output_type": "stream",
     "text": [
      "[Parallel(n_jobs=1)]: Done   9 out of   9 | elapsed:   38.1s remaining:    0.0s\n"
     ]
    },
    {
     "name": "stdout",
     "output_type": "stream",
     "text": [
      "[CV]  C=0.001, gamma=0.01, score=(train=0.124, test=0.125), total=   2.8s\n",
      "[CV] C=0.001, gamma=0.1 ..............................................\n",
      "[CV]  C=0.001, gamma=0.1, score=(train=0.124, test=0.125), total=   2.7s\n",
      "[CV] C=0.001, gamma=0.1 ..............................................\n",
      "[CV]  C=0.001, gamma=0.1, score=(train=0.124, test=0.123), total=   2.7s\n",
      "[CV] C=0.001, gamma=0.1 ..............................................\n",
      "[CV]  C=0.001, gamma=0.1, score=(train=0.124, test=0.123), total=   2.7s\n",
      "[CV] C=0.001, gamma=0.1 ..............................................\n",
      "[CV]  C=0.001, gamma=0.1, score=(train=0.124, test=0.124), total=   2.8s\n",
      "[CV] C=0.001, gamma=0.1 ..............................................\n",
      "[CV]  C=0.001, gamma=0.1, score=(train=0.124, test=0.125), total=   2.8s\n",
      "[CV] C=0.001, gamma=1.0 ..............................................\n",
      "[CV]  C=0.001, gamma=1.0, score=(train=0.124, test=0.125), total=   2.9s\n",
      "[CV] C=0.001, gamma=1.0 ..............................................\n",
      "[CV]  C=0.001, gamma=1.0, score=(train=0.124, test=0.123), total=   2.8s\n",
      "[CV] C=0.001, gamma=1.0 ..............................................\n",
      "[CV]  C=0.001, gamma=1.0, score=(train=0.124, test=0.123), total=   3.0s\n",
      "[CV] C=0.001, gamma=1.0 ..............................................\n",
      "[CV]  C=0.001, gamma=1.0, score=(train=0.124, test=0.124), total=   2.9s\n",
      "[CV] C=0.001, gamma=1.0 ..............................................\n",
      "[CV]  C=0.001, gamma=1.0, score=(train=0.124, test=0.125), total=   2.8s\n",
      "[CV] C=0.001, gamma=10.0 .............................................\n",
      "[CV]  C=0.001, gamma=10.0, score=(train=0.124, test=0.125), total=   3.5s\n",
      "[CV] C=0.001, gamma=10.0 .............................................\n",
      "[CV]  C=0.001, gamma=10.0, score=(train=0.124, test=0.123), total=   3.4s\n",
      "[CV] C=0.001, gamma=10.0 .............................................\n",
      "[CV]  C=0.001, gamma=10.0, score=(train=0.124, test=0.123), total=   3.3s\n",
      "[CV] C=0.001, gamma=10.0 .............................................\n",
      "[CV]  C=0.001, gamma=10.0, score=(train=0.124, test=0.124), total=   3.4s\n",
      "[CV] C=0.001, gamma=10.0 .............................................\n",
      "[CV]  C=0.001, gamma=10.0, score=(train=0.124, test=0.125), total=   3.0s\n",
      "[CV] C=0.001, gamma=100.0 ............................................\n",
      "[CV]  C=0.001, gamma=100.0, score=(train=0.124, test=0.125), total=   2.9s\n",
      "[CV] C=0.001, gamma=100.0 ............................................\n",
      "[CV]  C=0.001, gamma=100.0, score=(train=0.124, test=0.123), total=   3.0s\n",
      "[CV] C=0.001, gamma=100.0 ............................................\n",
      "[CV]  C=0.001, gamma=100.0, score=(train=0.124, test=0.123), total=   2.9s\n",
      "[CV] C=0.001, gamma=100.0 ............................................\n",
      "[CV]  C=0.001, gamma=100.0, score=(train=0.124, test=0.124), total=   2.9s\n",
      "[CV] C=0.001, gamma=100.0 ............................................\n",
      "[CV]  C=0.001, gamma=100.0, score=(train=0.124, test=0.125), total=   2.9s\n",
      "[CV] C=0.01, gamma=0.001 .............................................\n",
      "[CV]  C=0.01, gamma=0.001, score=(train=0.124, test=0.125), total=   2.8s\n",
      "[CV] C=0.01, gamma=0.001 .............................................\n",
      "[CV]  C=0.01, gamma=0.001, score=(train=0.124, test=0.123), total=   3.1s\n",
      "[CV] C=0.01, gamma=0.001 .............................................\n",
      "[CV]  C=0.01, gamma=0.001, score=(train=0.124, test=0.123), total=   3.2s\n",
      "[CV] C=0.01, gamma=0.001 .............................................\n",
      "[CV]  C=0.01, gamma=0.001, score=(train=0.124, test=0.124), total=   2.9s\n",
      "[CV] C=0.01, gamma=0.001 .............................................\n",
      "[CV]  C=0.01, gamma=0.001, score=(train=0.124, test=0.125), total=   2.8s\n",
      "[CV] C=0.01, gamma=0.01 ..............................................\n",
      "[CV]  C=0.01, gamma=0.01, score=(train=0.124, test=0.125), total=   2.8s\n",
      "[CV] C=0.01, gamma=0.01 ..............................................\n",
      "[CV]  C=0.01, gamma=0.01, score=(train=0.124, test=0.123), total=   3.3s\n",
      "[CV] C=0.01, gamma=0.01 ..............................................\n",
      "[CV]  C=0.01, gamma=0.01, score=(train=0.124, test=0.123), total=   2.8s\n",
      "[CV] C=0.01, gamma=0.01 ..............................................\n",
      "[CV]  C=0.01, gamma=0.01, score=(train=0.124, test=0.124), total=   2.8s\n",
      "[CV] C=0.01, gamma=0.01 ..............................................\n",
      "[CV]  C=0.01, gamma=0.01, score=(train=0.124, test=0.125), total=   3.7s\n",
      "[CV] C=0.01, gamma=0.1 ...............................................\n",
      "[CV]  C=0.01, gamma=0.1, score=(train=0.124, test=0.125), total=   3.2s\n",
      "[CV] C=0.01, gamma=0.1 ...............................................\n",
      "[CV]  C=0.01, gamma=0.1, score=(train=0.124, test=0.123), total=   3.4s\n",
      "[CV] C=0.01, gamma=0.1 ...............................................\n",
      "[CV]  C=0.01, gamma=0.1, score=(train=0.124, test=0.123), total=   3.0s\n",
      "[CV] C=0.01, gamma=0.1 ...............................................\n",
      "[CV]  C=0.01, gamma=0.1, score=(train=0.124, test=0.124), total=   3.4s\n",
      "[CV] C=0.01, gamma=0.1 ...............................................\n",
      "[CV]  C=0.01, gamma=0.1, score=(train=0.124, test=0.125), total=   2.9s\n",
      "[CV] C=0.01, gamma=1.0 ...............................................\n",
      "[CV]  C=0.01, gamma=1.0, score=(train=0.124, test=0.125), total=   3.3s\n",
      "[CV] C=0.01, gamma=1.0 ...............................................\n",
      "[CV]  C=0.01, gamma=1.0, score=(train=0.124, test=0.123), total=   3.2s\n",
      "[CV] C=0.01, gamma=1.0 ...............................................\n",
      "[CV]  C=0.01, gamma=1.0, score=(train=0.124, test=0.123), total=   3.1s\n",
      "[CV] C=0.01, gamma=1.0 ...............................................\n",
      "[CV]  C=0.01, gamma=1.0, score=(train=0.124, test=0.124), total=   3.1s\n",
      "[CV] C=0.01, gamma=1.0 ...............................................\n",
      "[CV]  C=0.01, gamma=1.0, score=(train=0.124, test=0.125), total=   3.1s\n",
      "[CV] C=0.01, gamma=10.0 ..............................................\n",
      "[CV]  C=0.01, gamma=10.0, score=(train=0.124, test=0.125), total=   3.1s\n",
      "[CV] C=0.01, gamma=10.0 ..............................................\n",
      "[CV]  C=0.01, gamma=10.0, score=(train=0.124, test=0.123), total=   3.0s\n",
      "[CV] C=0.01, gamma=10.0 ..............................................\n",
      "[CV]  C=0.01, gamma=10.0, score=(train=0.124, test=0.123), total=   3.0s\n",
      "[CV] C=0.01, gamma=10.0 ..............................................\n",
      "[CV]  C=0.01, gamma=10.0, score=(train=0.124, test=0.124), total=   3.1s\n",
      "[CV] C=0.01, gamma=10.0 ..............................................\n",
      "[CV]  C=0.01, gamma=10.0, score=(train=0.124, test=0.125), total=   2.9s\n",
      "[CV] C=0.01, gamma=100.0 .............................................\n",
      "[CV]  C=0.01, gamma=100.0, score=(train=0.124, test=0.125), total=   3.0s\n",
      "[CV] C=0.01, gamma=100.0 .............................................\n",
      "[CV]  C=0.01, gamma=100.0, score=(train=0.124, test=0.123), total=   3.0s\n",
      "[CV] C=0.01, gamma=100.0 .............................................\n",
      "[CV]  C=0.01, gamma=100.0, score=(train=0.124, test=0.123), total=   3.0s\n",
      "[CV] C=0.01, gamma=100.0 .............................................\n",
      "[CV]  C=0.01, gamma=100.0, score=(train=0.124, test=0.124), total=   3.0s\n",
      "[CV] C=0.01, gamma=100.0 .............................................\n",
      "[CV]  C=0.01, gamma=100.0, score=(train=0.124, test=0.125), total=   3.1s\n",
      "[CV] C=0.1, gamma=0.001 ..............................................\n",
      "[CV]  C=0.1, gamma=0.001, score=(train=0.223, test=0.213), total=   3.1s\n",
      "[CV] C=0.1, gamma=0.001 ..............................................\n",
      "[CV]  C=0.1, gamma=0.001, score=(train=0.221, test=0.218), total=   2.8s\n",
      "[CV] C=0.1, gamma=0.001 ..............................................\n",
      "[CV]  C=0.1, gamma=0.001, score=(train=0.221, test=0.219), total=   2.8s\n",
      "[CV] C=0.1, gamma=0.001 ..............................................\n",
      "[CV]  C=0.1, gamma=0.001, score=(train=0.219, test=0.221), total=   2.9s\n",
      "[CV] C=0.1, gamma=0.001 ..............................................\n",
      "[CV]  C=0.1, gamma=0.001, score=(train=0.217, test=0.233), total=   2.9s\n",
      "[CV] C=0.1, gamma=0.01 ...............................................\n",
      "[CV]  C=0.1, gamma=0.01, score=(train=0.870, test=0.794), total=   2.4s\n",
      "[CV] C=0.1, gamma=0.01 ...............................................\n",
      "[CV]  C=0.1, gamma=0.01, score=(train=0.859, test=0.805), total=   2.6s\n",
      "[CV] C=0.1, gamma=0.01 ...............................................\n",
      "[CV]  C=0.1, gamma=0.01, score=(train=0.847, test=0.829), total=   2.9s\n",
      "[CV] C=0.1, gamma=0.01 ...............................................\n",
      "[CV]  C=0.1, gamma=0.01, score=(train=0.842, test=0.834), total=   2.5s\n",
      "[CV] C=0.1, gamma=0.01 ...............................................\n",
      "[CV]  C=0.1, gamma=0.01, score=(train=0.868, test=0.819), total=   2.6s\n",
      "[CV] C=0.1, gamma=0.1 ................................................\n",
      "[CV]  C=0.1, gamma=0.1, score=(train=0.232, test=0.128), total=   3.2s\n",
      "[CV] C=0.1, gamma=0.1 ................................................\n",
      "[CV]  C=0.1, gamma=0.1, score=(train=0.233, test=0.137), total=   2.9s\n",
      "[CV] C=0.1, gamma=0.1 ................................................\n",
      "[CV]  C=0.1, gamma=0.1, score=(train=0.336, test=0.123), total=   3.0s\n",
      "[CV] C=0.1, gamma=0.1 ................................................\n",
      "[CV]  C=0.1, gamma=0.1, score=(train=0.233, test=0.128), total=   3.2s\n",
      "[CV] C=0.1, gamma=0.1 ................................................\n",
      "[CV]  C=0.1, gamma=0.1, score=(train=0.232, test=0.132), total=   3.3s\n",
      "[CV] C=0.1, gamma=1.0 ................................................\n",
      "[CV]  C=0.1, gamma=1.0, score=(train=0.124, test=0.125), total=   3.2s\n",
      "[CV] C=0.1, gamma=1.0 ................................................\n",
      "[CV]  C=0.1, gamma=1.0, score=(train=0.124, test=0.123), total=   3.1s\n",
      "[CV] C=0.1, gamma=1.0 ................................................\n",
      "[CV]  C=0.1, gamma=1.0, score=(train=0.124, test=0.123), total=   3.0s\n",
      "[CV] C=0.1, gamma=1.0 ................................................\n",
      "[CV]  C=0.1, gamma=1.0, score=(train=0.124, test=0.124), total=   3.2s\n",
      "[CV] C=0.1, gamma=1.0 ................................................\n",
      "[CV]  C=0.1, gamma=1.0, score=(train=0.124, test=0.125), total=   3.2s\n",
      "[CV] C=0.1, gamma=10.0 ...............................................\n",
      "[CV]  C=0.1, gamma=10.0, score=(train=0.124, test=0.125), total=   3.2s\n",
      "[CV] C=0.1, gamma=10.0 ...............................................\n",
      "[CV]  C=0.1, gamma=10.0, score=(train=0.124, test=0.123), total=   3.4s\n",
      "[CV] C=0.1, gamma=10.0 ...............................................\n",
      "[CV]  C=0.1, gamma=10.0, score=(train=0.124, test=0.123), total=   3.7s\n",
      "[CV] C=0.1, gamma=10.0 ...............................................\n",
      "[CV]  C=0.1, gamma=10.0, score=(train=0.124, test=0.124), total=   4.1s\n",
      "[CV] C=0.1, gamma=10.0 ...............................................\n",
      "[CV]  C=0.1, gamma=10.0, score=(train=0.124, test=0.125), total=   3.2s\n",
      "[CV] C=0.1, gamma=100.0 ..............................................\n",
      "[CV]  C=0.1, gamma=100.0, score=(train=0.124, test=0.125), total=   3.0s\n",
      "[CV] C=0.1, gamma=100.0 ..............................................\n",
      "[CV]  C=0.1, gamma=100.0, score=(train=0.124, test=0.123), total=   3.1s\n",
      "[CV] C=0.1, gamma=100.0 ..............................................\n",
      "[CV]  C=0.1, gamma=100.0, score=(train=0.124, test=0.123), total=   4.1s\n",
      "[CV] C=0.1, gamma=100.0 ..............................................\n",
      "[CV]  C=0.1, gamma=100.0, score=(train=0.124, test=0.124), total=   3.1s\n",
      "[CV] C=0.1, gamma=100.0 ..............................................\n",
      "[CV]  C=0.1, gamma=100.0, score=(train=0.124, test=0.125), total=   3.6s\n",
      "[CV] C=1.0, gamma=0.001 ..............................................\n",
      "[CV]  C=1.0, gamma=0.001, score=(train=0.893, test=0.841), total=   1.9s\n",
      "[CV] C=1.0, gamma=0.001 ..............................................\n",
      "[CV]  C=1.0, gamma=0.001, score=(train=0.892, test=0.836), total=   2.1s\n",
      "[CV] C=1.0, gamma=0.001 ..............................................\n",
      "[CV]  C=1.0, gamma=0.001, score=(train=0.883, test=0.863), total=   2.3s\n",
      "[CV] C=1.0, gamma=0.001 ..............................................\n",
      "[CV]  C=1.0, gamma=0.001, score=(train=0.892, test=0.872), total=   2.5s\n",
      "[CV] C=1.0, gamma=0.001 ..............................................\n",
      "[CV]  C=1.0, gamma=0.001, score=(train=0.889, test=0.843), total=   2.2s\n",
      "[CV] C=1.0, gamma=0.01 ...............................................\n",
      "[CV]  C=1.0, gamma=0.01, score=(train=0.981, test=0.878), total=   1.5s\n",
      "[CV] C=1.0, gamma=0.01 ...............................................\n",
      "[CV]  C=1.0, gamma=0.01, score=(train=0.979, test=0.911), total=   1.4s\n",
      "[CV] C=1.0, gamma=0.01 ...............................................\n",
      "[CV]  C=1.0, gamma=0.01, score=(train=0.974, test=0.925), total=   1.3s\n",
      "[CV] C=1.0, gamma=0.01 ...............................................\n",
      "[CV]  C=1.0, gamma=0.01, score=(train=0.976, test=0.910), total=   1.4s\n",
      "[CV] C=1.0, gamma=0.01 ...............................................\n",
      "[CV]  C=1.0, gamma=0.01, score=(train=0.978, test=0.920), total=   1.4s\n",
      "[CV] C=1.0, gamma=0.1 ................................................\n",
      "[CV]  C=1.0, gamma=0.1, score=(train=1.000, test=0.740), total=   5.3s\n",
      "[CV] C=1.0, gamma=0.1 ................................................\n",
      "[CV]  C=1.0, gamma=0.1, score=(train=1.000, test=0.765), total=   4.5s\n",
      "[CV] C=1.0, gamma=0.1 ................................................\n",
      "[CV]  C=1.0, gamma=0.1, score=(train=1.000, test=0.771), total=   4.3s\n",
      "[CV] C=1.0, gamma=0.1 ................................................\n",
      "[CV]  C=1.0, gamma=0.1, score=(train=1.000, test=0.752), total=   3.1s\n",
      "[CV] C=1.0, gamma=0.1 ................................................\n",
      "[CV]  C=1.0, gamma=0.1, score=(train=1.000, test=0.794), total=   3.1s\n",
      "[CV] C=1.0, gamma=1.0 ................................................\n",
      "[CV]  C=1.0, gamma=1.0, score=(train=1.000, test=0.125), total=   3.0s\n",
      "[CV] C=1.0, gamma=1.0 ................................................\n",
      "[CV]  C=1.0, gamma=1.0, score=(train=1.000, test=0.123), total=   3.0s\n",
      "[CV] C=1.0, gamma=1.0 ................................................\n",
      "[CV]  C=1.0, gamma=1.0, score=(train=1.000, test=0.123), total=   3.1s\n",
      "[CV] C=1.0, gamma=1.0 ................................................\n",
      "[CV]  C=1.0, gamma=1.0, score=(train=1.000, test=0.124), total=   3.7s\n",
      "[CV] C=1.0, gamma=1.0 ................................................\n",
      "[CV]  C=1.0, gamma=1.0, score=(train=1.000, test=0.125), total=   3.4s\n",
      "[CV] C=1.0, gamma=10.0 ...............................................\n",
      "[CV]  C=1.0, gamma=10.0, score=(train=1.000, test=0.125), total=   3.6s\n",
      "[CV] C=1.0, gamma=10.0 ...............................................\n",
      "[CV]  C=1.0, gamma=10.0, score=(train=1.000, test=0.123), total=   3.5s\n",
      "[CV] C=1.0, gamma=10.0 ...............................................\n",
      "[CV]  C=1.0, gamma=10.0, score=(train=1.000, test=0.123), total=   3.9s\n",
      "[CV] C=1.0, gamma=10.0 ...............................................\n",
      "[CV]  C=1.0, gamma=10.0, score=(train=1.000, test=0.124), total=   3.8s\n",
      "[CV] C=1.0, gamma=10.0 ...............................................\n",
      "[CV]  C=1.0, gamma=10.0, score=(train=1.000, test=0.125), total=   3.2s\n",
      "[CV] C=1.0, gamma=100.0 ..............................................\n",
      "[CV]  C=1.0, gamma=100.0, score=(train=1.000, test=0.125), total=   3.1s\n",
      "[CV] C=1.0, gamma=100.0 ..............................................\n",
      "[CV]  C=1.0, gamma=100.0, score=(train=1.000, test=0.123), total=   3.3s\n",
      "[CV] C=1.0, gamma=100.0 ..............................................\n",
      "[CV]  C=1.0, gamma=100.0, score=(train=1.000, test=0.123), total=   3.3s\n",
      "[CV] C=1.0, gamma=100.0 ..............................................\n",
      "[CV]  C=1.0, gamma=100.0, score=(train=1.000, test=0.124), total=   3.6s\n",
      "[CV] C=1.0, gamma=100.0 ..............................................\n",
      "[CV]  C=1.0, gamma=100.0, score=(train=1.000, test=0.125), total=   3.2s\n",
      "[CV] C=10.0, gamma=0.001 .............................................\n",
      "[CV]  C=10.0, gamma=0.001, score=(train=0.966, test=0.865), total=   1.1s\n",
      "[CV] C=10.0, gamma=0.001 .............................................\n",
      "[CV]  C=10.0, gamma=0.001, score=(train=0.966, test=0.901), total=   1.1s\n",
      "[CV] C=10.0, gamma=0.001 .............................................\n",
      "[CV]  C=10.0, gamma=0.001, score=(train=0.964, test=0.908), total=   1.1s\n",
      "[CV] C=10.0, gamma=0.001 .............................................\n",
      "[CV]  C=10.0, gamma=0.001, score=(train=0.967, test=0.910), total=   1.0s\n",
      "[CV] C=10.0, gamma=0.001 .............................................\n",
      "[CV]  C=10.0, gamma=0.001, score=(train=0.970, test=0.878), total=   1.0s\n",
      "[CV] C=10.0, gamma=0.01 ..............................................\n",
      "[CV]  C=10.0, gamma=0.01, score=(train=1.000, test=0.902), total=   1.4s\n",
      "[CV] C=10.0, gamma=0.01 ..............................................\n",
      "[CV]  C=10.0, gamma=0.01, score=(train=1.000, test=0.925), total=   1.2s\n",
      "[CV] C=10.0, gamma=0.01 ..............................................\n",
      "[CV]  C=10.0, gamma=0.01, score=(train=1.000, test=0.938), total=   1.2s\n",
      "[CV] C=10.0, gamma=0.01 ..............................................\n",
      "[CV]  C=10.0, gamma=0.01, score=(train=1.000, test=0.934), total=   1.2s\n",
      "[CV] C=10.0, gamma=0.01 ..............................................\n",
      "[CV]  C=10.0, gamma=0.01, score=(train=1.000, test=0.930), total=   1.4s\n",
      "[CV] C=10.0, gamma=0.1 ...............................................\n",
      "[CV]  C=10.0, gamma=0.1, score=(train=1.000, test=0.757), total=   2.9s\n",
      "[CV] C=10.0, gamma=0.1 ...............................................\n",
      "[CV]  C=10.0, gamma=0.1, score=(train=1.000, test=0.792), total=   2.8s\n",
      "[CV] C=10.0, gamma=0.1 ...............................................\n",
      "[CV]  C=10.0, gamma=0.1, score=(train=1.000, test=0.791), total=   2.8s\n",
      "[CV] C=10.0, gamma=0.1 ...............................................\n",
      "[CV]  C=10.0, gamma=0.1, score=(train=1.000, test=0.772), total=   2.8s\n",
      "[CV] C=10.0, gamma=0.1 ...............................................\n",
      "[CV]  C=10.0, gamma=0.1, score=(train=1.000, test=0.812), total=   2.8s\n",
      "[CV] C=10.0, gamma=1.0 ...............................................\n",
      "[CV]  C=10.0, gamma=1.0, score=(train=1.000, test=0.125), total=   2.8s\n",
      "[CV] C=10.0, gamma=1.0 ...............................................\n",
      "[CV]  C=10.0, gamma=1.0, score=(train=1.000, test=0.123), total=   2.8s\n",
      "[CV] C=10.0, gamma=1.0 ...............................................\n",
      "[CV]  C=10.0, gamma=1.0, score=(train=1.000, test=0.123), total=   2.8s\n",
      "[CV] C=10.0, gamma=1.0 ...............................................\n",
      "[CV]  C=10.0, gamma=1.0, score=(train=1.000, test=0.124), total=   2.8s\n",
      "[CV] C=10.0, gamma=1.0 ...............................................\n",
      "[CV]  C=10.0, gamma=1.0, score=(train=1.000, test=0.125), total=   2.9s\n",
      "[CV] C=10.0, gamma=10.0 ..............................................\n",
      "[CV]  C=10.0, gamma=10.0, score=(train=1.000, test=0.125), total=   3.3s\n",
      "[CV] C=10.0, gamma=10.0 ..............................................\n",
      "[CV]  C=10.0, gamma=10.0, score=(train=1.000, test=0.123), total=   3.1s\n",
      "[CV] C=10.0, gamma=10.0 ..............................................\n",
      "[CV]  C=10.0, gamma=10.0, score=(train=1.000, test=0.123), total=   3.2s\n",
      "[CV] C=10.0, gamma=10.0 ..............................................\n",
      "[CV]  C=10.0, gamma=10.0, score=(train=1.000, test=0.124), total=983.8min\n",
      "[CV] C=10.0, gamma=10.0 ..............................................\n",
      "[CV]  C=10.0, gamma=10.0, score=(train=1.000, test=0.125), total=   4.0s\n",
      "[CV] C=10.0, gamma=100.0 .............................................\n",
      "[CV]  C=10.0, gamma=100.0, score=(train=1.000, test=0.125), total=   3.0s\n",
      "[CV] C=10.0, gamma=100.0 .............................................\n",
      "[CV]  C=10.0, gamma=100.0, score=(train=1.000, test=0.123), total=   2.8s\n",
      "[CV] C=10.0, gamma=100.0 .............................................\n",
      "[CV]  C=10.0, gamma=100.0, score=(train=1.000, test=0.123), total=   2.9s\n",
      "[CV] C=10.0, gamma=100.0 .............................................\n",
      "[CV]  C=10.0, gamma=100.0, score=(train=1.000, test=0.124), total=   2.8s\n",
      "[CV] C=10.0, gamma=100.0 .............................................\n",
      "[CV]  C=10.0, gamma=100.0, score=(train=1.000, test=0.125), total=   2.9s\n",
      "[CV] C=100.0, gamma=0.001 ............................................\n",
      "[CV]  C=100.0, gamma=0.001, score=(train=1.000, test=0.875), total=   0.8s\n",
      "[CV] C=100.0, gamma=0.001 ............................................\n",
      "[CV]  C=100.0, gamma=0.001, score=(train=1.000, test=0.887), total=   0.8s\n",
      "[CV] C=100.0, gamma=0.001 ............................................\n",
      "[CV]  C=100.0, gamma=0.001, score=(train=1.000, test=0.904), total=   0.8s\n",
      "[CV] C=100.0, gamma=0.001 ............................................\n",
      "[CV]  C=100.0, gamma=0.001, score=(train=1.000, test=0.900), total=   0.8s\n",
      "[CV] C=100.0, gamma=0.001 ............................................\n",
      "[CV]  C=100.0, gamma=0.001, score=(train=1.000, test=0.882), total=   0.8s\n",
      "[CV] C=100.0, gamma=0.01 .............................................\n",
      "[CV]  C=100.0, gamma=0.01, score=(train=1.000, test=0.902), total=   1.1s\n",
      "[CV] C=100.0, gamma=0.01 .............................................\n",
      "[CV]  C=100.0, gamma=0.01, score=(train=1.000, test=0.925), total=   1.1s\n",
      "[CV] C=100.0, gamma=0.01 .............................................\n",
      "[CV]  C=100.0, gamma=0.01, score=(train=1.000, test=0.938), total=   1.1s\n",
      "[CV] C=100.0, gamma=0.01 .............................................\n",
      "[CV]  C=100.0, gamma=0.01, score=(train=1.000, test=0.934), total=   1.1s\n",
      "[CV] C=100.0, gamma=0.01 .............................................\n",
      "[CV]  C=100.0, gamma=0.01, score=(train=1.000, test=0.930), total=   1.1s\n",
      "[CV] C=100.0, gamma=0.1 ..............................................\n",
      "[CV]  C=100.0, gamma=0.1, score=(train=1.000, test=0.757), total=   2.7s\n",
      "[CV] C=100.0, gamma=0.1 ..............................................\n",
      "[CV]  C=100.0, gamma=0.1, score=(train=1.000, test=0.792), total=   2.8s\n",
      "[CV] C=100.0, gamma=0.1 ..............................................\n",
      "[CV]  C=100.0, gamma=0.1, score=(train=1.000, test=0.791), total=   2.9s\n",
      "[CV] C=100.0, gamma=0.1 ..............................................\n",
      "[CV]  C=100.0, gamma=0.1, score=(train=1.000, test=0.772), total=   2.8s\n",
      "[CV] C=100.0, gamma=0.1 ..............................................\n",
      "[CV]  C=100.0, gamma=0.1, score=(train=1.000, test=0.812), total=   2.8s\n",
      "[CV] C=100.0, gamma=1.0 ..............................................\n",
      "[CV]  C=100.0, gamma=1.0, score=(train=1.000, test=0.125), total=   2.8s\n",
      "[CV] C=100.0, gamma=1.0 ..............................................\n",
      "[CV]  C=100.0, gamma=1.0, score=(train=1.000, test=0.123), total=   2.8s\n",
      "[CV] C=100.0, gamma=1.0 ..............................................\n",
      "[CV]  C=100.0, gamma=1.0, score=(train=1.000, test=0.123), total=   2.8s\n",
      "[CV] C=100.0, gamma=1.0 ..............................................\n",
      "[CV]  C=100.0, gamma=1.0, score=(train=1.000, test=0.124), total=   2.9s\n",
      "[CV] C=100.0, gamma=1.0 ..............................................\n",
      "[CV]  C=100.0, gamma=1.0, score=(train=1.000, test=0.125), total=   2.8s\n",
      "[CV] C=100.0, gamma=10.0 .............................................\n",
      "[CV]  C=100.0, gamma=10.0, score=(train=1.000, test=0.125), total=   2.9s\n",
      "[CV] C=100.0, gamma=10.0 .............................................\n",
      "[CV]  C=100.0, gamma=10.0, score=(train=1.000, test=0.123), total=   3.1s\n",
      "[CV] C=100.0, gamma=10.0 .............................................\n",
      "[CV]  C=100.0, gamma=10.0, score=(train=1.000, test=0.123), total=   2.9s\n",
      "[CV] C=100.0, gamma=10.0 .............................................\n",
      "[CV]  C=100.0, gamma=10.0, score=(train=1.000, test=0.124), total=   2.8s\n",
      "[CV] C=100.0, gamma=10.0 .............................................\n",
      "[CV]  C=100.0, gamma=10.0, score=(train=1.000, test=0.125), total=   2.8s\n",
      "[CV] C=100.0, gamma=100.0 ............................................\n",
      "[CV]  C=100.0, gamma=100.0, score=(train=1.000, test=0.125), total=   2.7s\n",
      "[CV] C=100.0, gamma=100.0 ............................................\n",
      "[CV]  C=100.0, gamma=100.0, score=(train=1.000, test=0.123), total=   2.8s\n",
      "[CV] C=100.0, gamma=100.0 ............................................\n",
      "[CV]  C=100.0, gamma=100.0, score=(train=1.000, test=0.123), total=   2.8s\n",
      "[CV] C=100.0, gamma=100.0 ............................................\n",
      "[CV]  C=100.0, gamma=100.0, score=(train=1.000, test=0.124), total=   2.8s\n",
      "[CV] C=100.0, gamma=100.0 ............................................\n",
      "[CV]  C=100.0, gamma=100.0, score=(train=1.000, test=0.125), total=   2.8s\n",
      "n_samples_iter: 2916\n",
      "Fitting 5 folds for each of 18 candidates, totalling 90 fits\n",
      "[CV] C=100.0, gamma=0.01 .............................................\n"
     ]
    },
    {
     "name": "stderr",
     "output_type": "stream",
     "text": [
      "[Parallel(n_jobs=1)]: Done 180 out of 180 | elapsed: 996.5min finished\n",
      "[Parallel(n_jobs=1)]: Using backend SequentialBackend with 1 concurrent workers.\n"
     ]
    },
    {
     "name": "stdout",
     "output_type": "stream",
     "text": [
      "[CV]  C=100.0, gamma=0.01, score=(train=1.000, test=0.952), total=   3.3s\n",
      "[CV] C=100.0, gamma=0.01 .............................................\n"
     ]
    },
    {
     "name": "stderr",
     "output_type": "stream",
     "text": [
      "[Parallel(n_jobs=1)]: Done   1 out of   1 | elapsed:    6.4s remaining:    0.0s\n"
     ]
    },
    {
     "name": "stdout",
     "output_type": "stream",
     "text": [
      "[CV]  C=100.0, gamma=0.01, score=(train=1.000, test=0.954), total=   3.4s\n",
      "[CV] C=100.0, gamma=0.01 .............................................\n"
     ]
    },
    {
     "name": "stderr",
     "output_type": "stream",
     "text": [
      "[Parallel(n_jobs=1)]: Done   2 out of   2 | elapsed:   13.0s remaining:    0.0s\n"
     ]
    },
    {
     "name": "stdout",
     "output_type": "stream",
     "text": [
      "[CV]  C=100.0, gamma=0.01, score=(train=1.000, test=0.940), total=   3.3s\n",
      "[CV] C=100.0, gamma=0.01 .............................................\n"
     ]
    },
    {
     "name": "stderr",
     "output_type": "stream",
     "text": [
      "[Parallel(n_jobs=1)]: Done   3 out of   3 | elapsed:   19.4s remaining:    0.0s\n"
     ]
    },
    {
     "name": "stdout",
     "output_type": "stream",
     "text": [
      "[CV]  C=100.0, gamma=0.01, score=(train=1.000, test=0.928), total=   3.4s\n",
      "[CV] C=100.0, gamma=0.01 .............................................\n"
     ]
    },
    {
     "name": "stderr",
     "output_type": "stream",
     "text": [
      "[Parallel(n_jobs=1)]: Done   4 out of   4 | elapsed:   26.2s remaining:    0.0s\n"
     ]
    },
    {
     "name": "stdout",
     "output_type": "stream",
     "text": [
      "[CV]  C=100.0, gamma=0.01, score=(train=1.000, test=0.926), total=   3.5s\n",
      "[CV] C=10.0, gamma=0.01 ..............................................\n"
     ]
    },
    {
     "name": "stderr",
     "output_type": "stream",
     "text": [
      "[Parallel(n_jobs=1)]: Done   5 out of   5 | elapsed:   34.0s remaining:    0.0s\n"
     ]
    },
    {
     "name": "stdout",
     "output_type": "stream",
     "text": [
      "[CV]  C=10.0, gamma=0.01, score=(train=1.000, test=0.952), total=   3.8s\n",
      "[CV] C=10.0, gamma=0.01 ..............................................\n"
     ]
    },
    {
     "name": "stderr",
     "output_type": "stream",
     "text": [
      "[Parallel(n_jobs=1)]: Done   6 out of   6 | elapsed:   41.8s remaining:    0.0s\n"
     ]
    },
    {
     "name": "stdout",
     "output_type": "stream",
     "text": [
      "[CV]  C=10.0, gamma=0.01, score=(train=1.000, test=0.954), total=   5.7s\n",
      "[CV] C=10.0, gamma=0.01 ..............................................\n"
     ]
    },
    {
     "name": "stderr",
     "output_type": "stream",
     "text": [
      "[Parallel(n_jobs=1)]: Done   7 out of   7 | elapsed:   52.5s remaining:    0.0s\n"
     ]
    },
    {
     "name": "stdout",
     "output_type": "stream",
     "text": [
      "[CV]  C=10.0, gamma=0.01, score=(train=1.000, test=0.940), total=   5.5s\n",
      "[CV] C=10.0, gamma=0.01 ..............................................\n"
     ]
    },
    {
     "name": "stderr",
     "output_type": "stream",
     "text": [
      "[Parallel(n_jobs=1)]: Done   8 out of   8 | elapsed:  1.0min remaining:    0.0s\n"
     ]
    },
    {
     "name": "stdout",
     "output_type": "stream",
     "text": [
      "[CV]  C=10.0, gamma=0.01, score=(train=1.000, test=0.928), total=   6.7s\n",
      "[CV] C=10.0, gamma=0.01 ..............................................\n"
     ]
    },
    {
     "name": "stderr",
     "output_type": "stream",
     "text": [
      "[Parallel(n_jobs=1)]: Done   9 out of   9 | elapsed:  1.3min remaining:    0.0s\n"
     ]
    },
    {
     "name": "stdout",
     "output_type": "stream",
     "text": [
      "[CV]  C=10.0, gamma=0.01, score=(train=1.000, test=0.926), total=   6.4s\n",
      "[CV] C=1.0, gamma=0.01 ...............................................\n",
      "[CV]  C=1.0, gamma=0.01, score=(train=0.972, test=0.940), total=   6.8s\n",
      "[CV] C=1.0, gamma=0.01 ...............................................\n",
      "[CV]  C=1.0, gamma=0.01, score=(train=0.970, test=0.933), total=   8.0s\n",
      "[CV] C=1.0, gamma=0.01 ...............................................\n",
      "[CV]  C=1.0, gamma=0.01, score=(train=0.973, test=0.937), total=   8.6s\n",
      "[CV] C=1.0, gamma=0.01 ...............................................\n",
      "[CV]  C=1.0, gamma=0.01, score=(train=0.969, test=0.929), total=   7.5s\n",
      "[CV] C=1.0, gamma=0.01 ...............................................\n",
      "[CV]  C=1.0, gamma=0.01, score=(train=0.971, test=0.903), total=   7.9s\n",
      "[CV] C=10.0, gamma=0.001 .............................................\n",
      "[CV]  C=10.0, gamma=0.001, score=(train=0.954, test=0.920), total=   8.0s\n",
      "[CV] C=10.0, gamma=0.001 .............................................\n",
      "[CV]  C=10.0, gamma=0.001, score=(train=0.955, test=0.921), total=   7.7s\n",
      "[CV] C=10.0, gamma=0.001 .............................................\n",
      "[CV]  C=10.0, gamma=0.001, score=(train=0.955, test=0.918), total=   6.9s\n",
      "[CV] C=10.0, gamma=0.001 .............................................\n",
      "[CV]  C=10.0, gamma=0.001, score=(train=0.955, test=0.905), total=   6.9s\n",
      "[CV] C=10.0, gamma=0.001 .............................................\n",
      "[CV]  C=10.0, gamma=0.001, score=(train=0.956, test=0.900), total=   7.3s\n",
      "[CV] C=100.0, gamma=0.001 ............................................\n",
      "[CV]  C=100.0, gamma=0.001, score=(train=0.999, test=0.922), total=   6.6s\n",
      "[CV] C=100.0, gamma=0.001 ............................................\n",
      "[CV]  C=100.0, gamma=0.001, score=(train=0.999, test=0.916), total=   7.0s\n",
      "[CV] C=100.0, gamma=0.001 ............................................\n",
      "[CV]  C=100.0, gamma=0.001, score=(train=0.998, test=0.909), total=   5.7s\n",
      "[CV] C=100.0, gamma=0.001 ............................................\n",
      "[CV]  C=100.0, gamma=0.001, score=(train=0.999, test=0.898), total=   6.2s\n",
      "[CV] C=100.0, gamma=0.001 ............................................\n",
      "[CV]  C=100.0, gamma=0.001, score=(train=0.998, test=0.903), total=   5.8s\n",
      "[CV] C=1.0, gamma=0.001 ..............................................\n",
      "[CV]  C=1.0, gamma=0.001, score=(train=0.890, test=0.864), total=  13.6s\n",
      "[CV] C=1.0, gamma=0.001 ..............................................\n",
      "[CV]  C=1.0, gamma=0.001, score=(train=0.886, test=0.901), total=  13.8s\n",
      "[CV] C=1.0, gamma=0.001 ..............................................\n",
      "[CV]  C=1.0, gamma=0.001, score=(train=0.894, test=0.861), total=  16.6s\n",
      "[CV] C=1.0, gamma=0.001 ..............................................\n",
      "[CV]  C=1.0, gamma=0.001, score=(train=0.892, test=0.873), total=  16.9s\n",
      "[CV] C=1.0, gamma=0.001 ..............................................\n",
      "[CV]  C=1.0, gamma=0.001, score=(train=0.896, test=0.845), total=  15.4s\n",
      "[CV] C=0.1, gamma=0.01 ...............................................\n",
      "[CV]  C=0.1, gamma=0.01, score=(train=0.875, test=0.869), total=  18.4s\n",
      "[CV] C=0.1, gamma=0.01 ...............................................\n",
      "[CV]  C=0.1, gamma=0.01, score=(train=0.877, test=0.887), total=  12.0s\n",
      "[CV] C=0.1, gamma=0.01 ...............................................\n",
      "[CV]  C=0.1, gamma=0.01, score=(train=0.888, test=0.865), total=  14.0s\n",
      "[CV] C=0.1, gamma=0.01 ...............................................\n",
      "[CV]  C=0.1, gamma=0.01, score=(train=0.884, test=0.859), total=  10.7s\n",
      "[CV] C=0.1, gamma=0.01 ...............................................\n",
      "[CV]  C=0.1, gamma=0.01, score=(train=0.888, test=0.845), total=   7.5s\n",
      "[CV] C=100.0, gamma=0.1 ..............................................\n",
      "[CV]  C=100.0, gamma=0.1, score=(train=1.000, test=0.825), total=  15.6s\n",
      "[CV] C=100.0, gamma=0.1 ..............................................\n",
      "[CV]  C=100.0, gamma=0.1, score=(train=1.000, test=0.858), total=  16.5s\n",
      "[CV] C=100.0, gamma=0.1 ..............................................\n",
      "[CV]  C=100.0, gamma=0.1, score=(train=1.000, test=0.781), total=  16.2s\n",
      "[CV] C=100.0, gamma=0.1 ..............................................\n",
      "[CV]  C=100.0, gamma=0.1, score=(train=1.000, test=0.792), total=  14.5s\n",
      "[CV] C=100.0, gamma=0.1 ..............................................\n",
      "[CV]  C=100.0, gamma=0.1, score=(train=1.000, test=0.822), total=  14.8s\n",
      "[CV] C=10.0, gamma=0.1 ...............................................\n",
      "[CV]  C=10.0, gamma=0.1, score=(train=1.000, test=0.825), total=  16.6s\n",
      "[CV] C=10.0, gamma=0.1 ...............................................\n",
      "[CV]  C=10.0, gamma=0.1, score=(train=1.000, test=0.858), total=  17.9s\n",
      "[CV] C=10.0, gamma=0.1 ...............................................\n",
      "[CV]  C=10.0, gamma=0.1, score=(train=1.000, test=0.781), total=  20.0s\n",
      "[CV] C=10.0, gamma=0.1 ...............................................\n",
      "[CV]  C=10.0, gamma=0.1, score=(train=1.000, test=0.792), total=  20.1s\n",
      "[CV] C=10.0, gamma=0.1 ...............................................\n",
      "[CV]  C=10.0, gamma=0.1, score=(train=1.000, test=0.822), total=  23.1s\n",
      "[CV] C=1.0, gamma=0.1 ................................................\n",
      "[CV]  C=1.0, gamma=0.1, score=(train=1.000, test=0.811), total=  18.7s\n",
      "[CV] C=1.0, gamma=0.1 ................................................\n",
      "[CV]  C=1.0, gamma=0.1, score=(train=1.000, test=0.848), total=  13.9s\n",
      "[CV] C=1.0, gamma=0.1 ................................................\n"
     ]
    }
   ],
   "source": [
    "X_train, X_test, y_train, y_test = train_test_split(X / 255., y, stratify=y, random_state=0)\n",
    "\n",
    "sh = GridSuccessiveHalving(SVC(), param_grid=param_grid, cv=5, random_state=0, verbose=10)\n",
    "start = time.time()\n",
    "sh.fit(X_train, y_train)\n",
    "\n",
    "print(\"Successive Halving took %.2f seconds for %d candidate parameter settings.\"\n",
    "      % (time.time() - start, len(sh.cv_results_['params'])))\n",
    "report(sh.cv_results_)"
   ]
  },
  {
   "cell_type": "code",
   "execution_count": 75,
   "metadata": {},
   "outputs": [
    {
     "data": {
      "text/plain": [
       "0.9194666666666667"
      ]
     },
     "execution_count": 75,
     "metadata": {},
     "output_type": "execute_result"
    }
   ],
   "source": [
    "grid_search.score(X_test, y_test)\n"
   ]
  },
  {
   "cell_type": "code",
   "execution_count": 10,
   "metadata": {},
   "outputs": [
    {
     "data": {
      "text/plain": [
       "0.9187536231884058"
      ]
     },
     "execution_count": 10,
     "metadata": {},
     "output_type": "execute_result"
    }
   ],
   "source": [
    "sh.score(X_test, y_test)"
   ]
  },
  {
   "cell_type": "code",
   "execution_count": 5,
   "metadata": {},
   "outputs": [
    {
     "data": {
      "text/plain": [
       "<matplotlib.axes._subplots.AxesSubplot at 0x7f48ffb91898>"
      ]
     },
     "execution_count": 5,
     "metadata": {},
     "output_type": "execute_result"
    },
    {
     "data": {
      "image/png": "[encoded data removed]",
      "text/plain": [
       "<Figure size 432x288 with 1 Axes>"
      ]
     },
     "metadata": {},
     "output_type": "display_data"
    }
   ],
   "source": [
    "%matplotlib inline\n",
    "import pandas as pd\n",
    "\n",
    "res = pd.DataFrame(sh.cv_results_)\n",
    "res['params_str'] = res.params.apply(str)\n",
    "reshape = res.pivot(index='iter', columns='params_str', values='mean_test_score')\n",
    "reshape.plot(legend=False, alpha=.4, c='k')"
   ]
  },
  {
   "cell_type": "code",
   "execution_count": 6,
   "metadata": {},
   "outputs": [
    {
     "data": {
      "text/html": [
       "<div>\n",
       "<style scoped>\n",
       "    .dataframe tbody tr th:only-of-type {\n",
       "        vertical-align: middle;\n",
       "    }\n",
       "\n",
       "    .dataframe tbody tr th {\n",
       "        vertical-align: top;\n",
       "    }\n",
       "\n",
       "    .dataframe thead th {\n",
       "        text-align: right;\n",
       "    }\n",
       "</style>\n",
       "<table border=\"1\" class=\"dataframe\">\n",
       "  <thead>\n",
       "    <tr style=\"text-align: right;\">\n",
       "      <th>params_str</th>\n",
       "      <th>{'C': 0.001, 'gamma': 0.001}</th>\n",
       "      <th>{'C': 0.001, 'gamma': 0.01}</th>\n",
       "      <th>{'C': 0.001, 'gamma': 0.1}</th>\n",
       "      <th>{'C': 0.001, 'gamma': 1.0}</th>\n",
       "      <th>{'C': 0.001, 'gamma': 10.0}</th>\n",
       "      <th>{'C': 0.001, 'gamma': 100.0}</th>\n",
       "      <th>{'C': 0.01, 'gamma': 0.001}</th>\n",
       "      <th>{'C': 0.01, 'gamma': 0.01}</th>\n",
       "      <th>{'C': 0.01, 'gamma': 0.1}</th>\n",
       "      <th>{'C': 0.01, 'gamma': 1.0}</th>\n",
       "      <th>...</th>\n",
       "      <th>{'C': 10.0, 'gamma': 0.1}</th>\n",
       "      <th>{'C': 10.0, 'gamma': 1.0}</th>\n",
       "      <th>{'C': 10.0, 'gamma': 10.0}</th>\n",
       "      <th>{'C': 10.0, 'gamma': 100.0}</th>\n",
       "      <th>{'C': 100.0, 'gamma': 0.001}</th>\n",
       "      <th>{'C': 100.0, 'gamma': 0.01}</th>\n",
       "      <th>{'C': 100.0, 'gamma': 0.1}</th>\n",
       "      <th>{'C': 100.0, 'gamma': 1.0}</th>\n",
       "      <th>{'C': 100.0, 'gamma': 10.0}</th>\n",
       "      <th>{'C': 100.0, 'gamma': 100.0}</th>\n",
       "    </tr>\n",
       "    <tr>\n",
       "      <th>iter</th>\n",
       "      <th></th>\n",
       "      <th></th>\n",
       "      <th></th>\n",
       "      <th></th>\n",
       "      <th></th>\n",
       "      <th></th>\n",
       "      <th></th>\n",
       "      <th></th>\n",
       "      <th></th>\n",
       "      <th></th>\n",
       "      <th></th>\n",
       "      <th></th>\n",
       "      <th></th>\n",
       "      <th></th>\n",
       "      <th></th>\n",
       "      <th></th>\n",
       "      <th></th>\n",
       "      <th></th>\n",
       "      <th></th>\n",
       "      <th></th>\n",
       "      <th></th>\n",
       "    </tr>\n",
       "  </thead>\n",
       "  <tbody>\n",
       "    <tr>\n",
       "      <th>0</th>\n",
       "      <td>0.164668</td>\n",
       "      <td>0.164668</td>\n",
       "      <td>0.129374</td>\n",
       "      <td>0.129374</td>\n",
       "      <td>0.164668</td>\n",
       "      <td>0.141138</td>\n",
       "      <td>0.164668</td>\n",
       "      <td>0.164668</td>\n",
       "      <td>0.129374</td>\n",
       "      <td>0.129374</td>\n",
       "      <td>...</td>\n",
       "      <td>0.277687</td>\n",
       "      <td>0.129374</td>\n",
       "      <td>0.164668</td>\n",
       "      <td>0.141138</td>\n",
       "      <td>0.751719</td>\n",
       "      <td>0.766145</td>\n",
       "      <td>0.277687</td>\n",
       "      <td>0.129374</td>\n",
       "      <td>0.164668</td>\n",
       "      <td>0.141138</td>\n",
       "    </tr>\n",
       "    <tr>\n",
       "      <th>1</th>\n",
       "      <td>0.162487</td>\n",
       "      <td>NaN</td>\n",
       "      <td>NaN</td>\n",
       "      <td>NaN</td>\n",
       "      <td>NaN</td>\n",
       "      <td>NaN</td>\n",
       "      <td>0.162487</td>\n",
       "      <td>0.162487</td>\n",
       "      <td>NaN</td>\n",
       "      <td>NaN</td>\n",
       "      <td>...</td>\n",
       "      <td>0.304140</td>\n",
       "      <td>NaN</td>\n",
       "      <td>0.162487</td>\n",
       "      <td>NaN</td>\n",
       "      <td>0.732745</td>\n",
       "      <td>0.733937</td>\n",
       "      <td>0.304140</td>\n",
       "      <td>NaN</td>\n",
       "      <td>0.162487</td>\n",
       "      <td>NaN</td>\n",
       "    </tr>\n",
       "    <tr>\n",
       "      <th>2</th>\n",
       "      <td>NaN</td>\n",
       "      <td>NaN</td>\n",
       "      <td>NaN</td>\n",
       "      <td>NaN</td>\n",
       "      <td>NaN</td>\n",
       "      <td>NaN</td>\n",
       "      <td>NaN</td>\n",
       "      <td>NaN</td>\n",
       "      <td>NaN</td>\n",
       "      <td>NaN</td>\n",
       "      <td>...</td>\n",
       "      <td>0.293254</td>\n",
       "      <td>NaN</td>\n",
       "      <td>NaN</td>\n",
       "      <td>NaN</td>\n",
       "      <td>0.740079</td>\n",
       "      <td>0.776190</td>\n",
       "      <td>0.293254</td>\n",
       "      <td>NaN</td>\n",
       "      <td>NaN</td>\n",
       "      <td>NaN</td>\n",
       "    </tr>\n",
       "    <tr>\n",
       "      <th>3</th>\n",
       "      <td>NaN</td>\n",
       "      <td>NaN</td>\n",
       "      <td>NaN</td>\n",
       "      <td>NaN</td>\n",
       "      <td>NaN</td>\n",
       "      <td>NaN</td>\n",
       "      <td>NaN</td>\n",
       "      <td>NaN</td>\n",
       "      <td>NaN</td>\n",
       "      <td>NaN</td>\n",
       "      <td>...</td>\n",
       "      <td>NaN</td>\n",
       "      <td>NaN</td>\n",
       "      <td>NaN</td>\n",
       "      <td>NaN</td>\n",
       "      <td>0.780840</td>\n",
       "      <td>0.800602</td>\n",
       "      <td>NaN</td>\n",
       "      <td>NaN</td>\n",
       "      <td>NaN</td>\n",
       "      <td>NaN</td>\n",
       "    </tr>\n",
       "    <tr>\n",
       "      <th>4</th>\n",
       "      <td>NaN</td>\n",
       "      <td>NaN</td>\n",
       "      <td>NaN</td>\n",
       "      <td>NaN</td>\n",
       "      <td>NaN</td>\n",
       "      <td>NaN</td>\n",
       "      <td>NaN</td>\n",
       "      <td>NaN</td>\n",
       "      <td>NaN</td>\n",
       "      <td>NaN</td>\n",
       "      <td>...</td>\n",
       "      <td>NaN</td>\n",
       "      <td>NaN</td>\n",
       "      <td>NaN</td>\n",
       "      <td>NaN</td>\n",
       "      <td>NaN</td>\n",
       "      <td>0.880104</td>\n",
       "      <td>NaN</td>\n",
       "      <td>NaN</td>\n",
       "      <td>NaN</td>\n",
       "      <td>NaN</td>\n",
       "    </tr>\n",
       "    <tr>\n",
       "      <th>5</th>\n",
       "      <td>NaN</td>\n",
       "      <td>NaN</td>\n",
       "      <td>NaN</td>\n",
       "      <td>NaN</td>\n",
       "      <td>NaN</td>\n",
       "      <td>NaN</td>\n",
       "      <td>NaN</td>\n",
       "      <td>NaN</td>\n",
       "      <td>NaN</td>\n",
       "      <td>NaN</td>\n",
       "      <td>...</td>\n",
       "      <td>NaN</td>\n",
       "      <td>NaN</td>\n",
       "      <td>NaN</td>\n",
       "      <td>NaN</td>\n",
       "      <td>NaN</td>\n",
       "      <td>0.895587</td>\n",
       "      <td>NaN</td>\n",
       "      <td>NaN</td>\n",
       "      <td>NaN</td>\n",
       "      <td>NaN</td>\n",
       "    </tr>\n",
       "  </tbody>\n",
       "</table>\n",
       "<p>6 rows × 36 columns</p>\n",
       "</div>"
      ],
      "text/plain": [
       "params_str  {'C': 0.001, 'gamma': 0.001}  {'C': 0.001, 'gamma': 0.01}  \\\n",
       "iter                                                                    \n",
       "0                               0.164668                     0.164668   \n",
       "1                               0.162487                          NaN   \n",
       "2                                    NaN                          NaN   \n",
       "3                                    NaN                          NaN   \n",
       "4                                    NaN                          NaN   \n",
       "5                                    NaN                          NaN   \n",
       "\n",
       "params_str  {'C': 0.001, 'gamma': 0.1}  {'C': 0.001, 'gamma': 1.0}  \\\n",
       "iter                                                                 \n",
       "0                             0.129374                    0.129374   \n",
       "1                                  NaN                         NaN   \n",
       "2                                  NaN                         NaN   \n",
       "3                                  NaN                         NaN   \n",
       "4                                  NaN                         NaN   \n",
       "5                                  NaN                         NaN   \n",
       "\n",
       "params_str  {'C': 0.001, 'gamma': 10.0}  {'C': 0.001, 'gamma': 100.0}  \\\n",
       "iter                                                                    \n",
       "0                              0.164668                      0.141138   \n",
       "1                                   NaN                           NaN   \n",
       "2                                   NaN                           NaN   \n",
       "3                                   NaN                           NaN   \n",
       "4                                   NaN                           NaN   \n",
       "5                                   NaN                           NaN   \n",
       "\n",
       "params_str  {'C': 0.01, 'gamma': 0.001}  {'C': 0.01, 'gamma': 0.01}  \\\n",
       "iter                                                                  \n",
       "0                              0.164668                    0.164668   \n",
       "1                              0.162487                    0.162487   \n",
       "2                                   NaN                         NaN   \n",
       "3                                   NaN                         NaN   \n",
       "4                                   NaN                         NaN   \n",
       "5                                   NaN                         NaN   \n",
       "\n",
       "params_str  {'C': 0.01, 'gamma': 0.1}  {'C': 0.01, 'gamma': 1.0}  \\\n",
       "iter                                                               \n",
       "0                            0.129374                   0.129374   \n",
       "1                                 NaN                        NaN   \n",
       "2                                 NaN                        NaN   \n",
       "3                                 NaN                        NaN   \n",
       "4                                 NaN                        NaN   \n",
       "5                                 NaN                        NaN   \n",
       "\n",
       "params_str              ...               {'C': 10.0, 'gamma': 0.1}  \\\n",
       "iter                    ...                                           \n",
       "0                       ...                                0.277687   \n",
       "1                       ...                                0.304140   \n",
       "2                       ...                                0.293254   \n",
       "3                       ...                                     NaN   \n",
       "4                       ...                                     NaN   \n",
       "5                       ...                                     NaN   \n",
       "\n",
       "params_str  {'C': 10.0, 'gamma': 1.0}  {'C': 10.0, 'gamma': 10.0}  \\\n",
       "iter                                                                \n",
       "0                            0.129374                    0.164668   \n",
       "1                                 NaN                    0.162487   \n",
       "2                                 NaN                         NaN   \n",
       "3                                 NaN                         NaN   \n",
       "4                                 NaN                         NaN   \n",
       "5                                 NaN                         NaN   \n",
       "\n",
       "params_str  {'C': 10.0, 'gamma': 100.0}  {'C': 100.0, 'gamma': 0.001}  \\\n",
       "iter                                                                    \n",
       "0                              0.141138                      0.751719   \n",
       "1                                   NaN                      0.732745   \n",
       "2                                   NaN                      0.740079   \n",
       "3                                   NaN                      0.780840   \n",
       "4                                   NaN                           NaN   \n",
       "5                                   NaN                           NaN   \n",
       "\n",
       "params_str  {'C': 100.0, 'gamma': 0.01}  {'C': 100.0, 'gamma': 0.1}  \\\n",
       "iter                                                                  \n",
       "0                              0.766145                    0.277687   \n",
       "1                              0.733937                    0.304140   \n",
       "2                              0.776190                    0.293254   \n",
       "3                              0.800602                         NaN   \n",
       "4                              0.880104                         NaN   \n",
       "5                              0.895587                         NaN   \n",
       "\n",
       "params_str  {'C': 100.0, 'gamma': 1.0}  {'C': 100.0, 'gamma': 10.0}  \\\n",
       "iter                                                                  \n",
       "0                             0.129374                     0.164668   \n",
       "1                                  NaN                     0.162487   \n",
       "2                                  NaN                          NaN   \n",
       "3                                  NaN                          NaN   \n",
       "4                                  NaN                          NaN   \n",
       "5                                  NaN                          NaN   \n",
       "\n",
       "params_str  {'C': 100.0, 'gamma': 100.0}  \n",
       "iter                                      \n",
       "0                               0.141138  \n",
       "1                                    NaN  \n",
       "2                                    NaN  \n",
       "3                                    NaN  \n",
       "4                                    NaN  \n",
       "5                                    NaN  \n",
       "\n",
       "[6 rows x 36 columns]"
      ]
     },
     "execution_count": 6,
     "metadata": {},
     "output_type": "execute_result"
    }
   ],
   "source": [
    "reshape"
   ]
  },
  {
   "cell_type": "code",
   "execution_count": 7,
   "metadata": {},
   "outputs": [],
   "source": [
    "bla = res.groupby('params_str')['mean_test_score'].median()"
   ]
  },
  {
   "cell_type": "code",
   "execution_count": 8,
   "metadata": {},
   "outputs": [],
   "source": [
    "new = res.drop_duplicates(subset='params_str', keep='last')[['param_gamma', 'param_C', 'mean_test_score']]"
   ]
  },
  {
   "cell_type": "code",
   "execution_count": 9,
   "metadata": {},
   "outputs": [
    {
     "data": {
      "text/html": [
       "<div>\n",
       "<style scoped>\n",
       "    .dataframe tbody tr th:only-of-type {\n",
       "        vertical-align: middle;\n",
       "    }\n",
       "\n",
       "    .dataframe tbody tr th {\n",
       "        vertical-align: top;\n",
       "    }\n",
       "\n",
       "    .dataframe thead tr th {\n",
       "        text-align: left;\n",
       "    }\n",
       "\n",
       "    .dataframe thead tr:last-of-type th {\n",
       "        text-align: right;\n",
       "    }\n",
       "</style>\n",
       "<table border=\"1\" class=\"dataframe\">\n",
       "  <thead>\n",
       "    <tr>\n",
       "      <th></th>\n",
       "      <th colspan=\"6\" halign=\"left\">mean_test_score</th>\n",
       "    </tr>\n",
       "    <tr>\n",
       "      <th>param_gamma</th>\n",
       "      <th>0.001</th>\n",
       "      <th>0.010</th>\n",
       "      <th>0.100</th>\n",
       "      <th>1.000</th>\n",
       "      <th>10.000</th>\n",
       "      <th>100.000</th>\n",
       "    </tr>\n",
       "    <tr>\n",
       "      <th>param_C</th>\n",
       "      <th></th>\n",
       "      <th></th>\n",
       "      <th></th>\n",
       "      <th></th>\n",
       "      <th></th>\n",
       "      <th></th>\n",
       "    </tr>\n",
       "  </thead>\n",
       "  <tbody>\n",
       "    <tr>\n",
       "      <th>0.001</th>\n",
       "      <td>0.162487</td>\n",
       "      <td>0.164668</td>\n",
       "      <td>0.129374</td>\n",
       "      <td>0.129374</td>\n",
       "      <td>0.164668</td>\n",
       "      <td>0.141138</td>\n",
       "    </tr>\n",
       "    <tr>\n",
       "      <th>0.010</th>\n",
       "      <td>0.162487</td>\n",
       "      <td>0.162487</td>\n",
       "      <td>0.129374</td>\n",
       "      <td>0.129374</td>\n",
       "      <td>0.162487</td>\n",
       "      <td>0.141138</td>\n",
       "    </tr>\n",
       "    <tr>\n",
       "      <th>0.100</th>\n",
       "      <td>0.162487</td>\n",
       "      <td>0.164668</td>\n",
       "      <td>0.129374</td>\n",
       "      <td>0.129374</td>\n",
       "      <td>0.162487</td>\n",
       "      <td>0.141138</td>\n",
       "    </tr>\n",
       "    <tr>\n",
       "      <th>1.000</th>\n",
       "      <td>0.182540</td>\n",
       "      <td>0.846617</td>\n",
       "      <td>0.293254</td>\n",
       "      <td>0.129374</td>\n",
       "      <td>0.162487</td>\n",
       "      <td>0.141138</td>\n",
       "    </tr>\n",
       "    <tr>\n",
       "      <th>10.000</th>\n",
       "      <td>0.785551</td>\n",
       "      <td>0.895587</td>\n",
       "      <td>0.293254</td>\n",
       "      <td>0.129374</td>\n",
       "      <td>0.162487</td>\n",
       "      <td>0.141138</td>\n",
       "    </tr>\n",
       "    <tr>\n",
       "      <th>100.000</th>\n",
       "      <td>0.780840</td>\n",
       "      <td>0.895587</td>\n",
       "      <td>0.293254</td>\n",
       "      <td>0.129374</td>\n",
       "      <td>0.162487</td>\n",
       "      <td>0.141138</td>\n",
       "    </tr>\n",
       "  </tbody>\n",
       "</table>\n",
       "</div>"
      ],
      "text/plain": [
       "            mean_test_score                                                  \n",
       "param_gamma         0.001     0.010     0.100     1.000     10.000    100.000\n",
       "param_C                                                                      \n",
       "0.001              0.162487  0.164668  0.129374  0.129374  0.164668  0.141138\n",
       "0.010              0.162487  0.162487  0.129374  0.129374  0.162487  0.141138\n",
       "0.100              0.162487  0.164668  0.129374  0.129374  0.162487  0.141138\n",
       "1.000              0.182540  0.846617  0.293254  0.129374  0.162487  0.141138\n",
       "10.000             0.785551  0.895587  0.293254  0.129374  0.162487  0.141138\n",
       "100.000            0.780840  0.895587  0.293254  0.129374  0.162487  0.141138"
      ]
     },
     "execution_count": 9,
     "metadata": {},
     "output_type": "execute_result"
    }
   ],
   "source": [
    "new.pivot(index='param_C', columns='param_gamma')"
   ]
  },
  {
   "cell_type": "code",
   "execution_count": 12,
   "metadata": {},
   "outputs": [
    {
     "data": {
      "text/plain": [
       "<matplotlib.image.AxesImage at 0x7f48feefe908>"
      ]
     },
     "execution_count": 12,
     "metadata": {},
     "output_type": "execute_result"
    },
    {
     "data": {
      "image/png": "[encoded data removed]",
      "text/plain": [
       "<Figure size 432x288 with 1 Axes>"
      ]
     },
     "metadata": {},
     "output_type": "display_data"
    }
   ],
   "source": [
    "import matplotlib.pyplot as plt\n",
    "%matplotlib inline\n",
    "plt.imshow(new.pivot(index='param_C', columns='param_gamma'))"
   ]
  },
  {
   "cell_type": "code",
   "execution_count": 10,
   "metadata": {},
   "outputs": [
    {
     "data": {
      "text/html": [
       "<div>\n",
       "<style scoped>\n",
       "    .dataframe tbody tr th:only-of-type {\n",
       "        vertical-align: middle;\n",
       "    }\n",
       "\n",
       "    .dataframe tbody tr th {\n",
       "        vertical-align: top;\n",
       "    }\n",
       "\n",
       "    .dataframe thead tr th {\n",
       "        text-align: left;\n",
       "    }\n",
       "\n",
       "    .dataframe thead tr:last-of-type th {\n",
       "        text-align: right;\n",
       "    }\n",
       "</style>\n",
       "<table border=\"1\" class=\"dataframe\">\n",
       "  <thead>\n",
       "    <tr>\n",
       "      <th></th>\n",
       "      <th colspan=\"6\" halign=\"left\">iter</th>\n",
       "    </tr>\n",
       "    <tr>\n",
       "      <th>param_gamma</th>\n",
       "      <th>0.001</th>\n",
       "      <th>0.010</th>\n",
       "      <th>0.100</th>\n",
       "      <th>1.000</th>\n",
       "      <th>10.000</th>\n",
       "      <th>100.000</th>\n",
       "    </tr>\n",
       "    <tr>\n",
       "      <th>param_C</th>\n",
       "      <th></th>\n",
       "      <th></th>\n",
       "      <th></th>\n",
       "      <th></th>\n",
       "      <th></th>\n",
       "      <th></th>\n",
       "    </tr>\n",
       "  </thead>\n",
       "  <tbody>\n",
       "    <tr>\n",
       "      <th>0.001</th>\n",
       "      <td>1</td>\n",
       "      <td>0</td>\n",
       "      <td>0</td>\n",
       "      <td>0</td>\n",
       "      <td>0</td>\n",
       "      <td>0</td>\n",
       "    </tr>\n",
       "    <tr>\n",
       "      <th>0.010</th>\n",
       "      <td>1</td>\n",
       "      <td>1</td>\n",
       "      <td>0</td>\n",
       "      <td>0</td>\n",
       "      <td>1</td>\n",
       "      <td>0</td>\n",
       "    </tr>\n",
       "    <tr>\n",
       "      <th>0.100</th>\n",
       "      <td>1</td>\n",
       "      <td>0</td>\n",
       "      <td>0</td>\n",
       "      <td>0</td>\n",
       "      <td>1</td>\n",
       "      <td>0</td>\n",
       "    </tr>\n",
       "    <tr>\n",
       "      <th>1.000</th>\n",
       "      <td>2</td>\n",
       "      <td>4</td>\n",
       "      <td>2</td>\n",
       "      <td>0</td>\n",
       "      <td>1</td>\n",
       "      <td>0</td>\n",
       "    </tr>\n",
       "    <tr>\n",
       "      <th>10.000</th>\n",
       "      <td>3</td>\n",
       "      <td>5</td>\n",
       "      <td>2</td>\n",
       "      <td>0</td>\n",
       "      <td>1</td>\n",
       "      <td>0</td>\n",
       "    </tr>\n",
       "    <tr>\n",
       "      <th>100.000</th>\n",
       "      <td>3</td>\n",
       "      <td>5</td>\n",
       "      <td>2</td>\n",
       "      <td>0</td>\n",
       "      <td>1</td>\n",
       "      <td>0</td>\n",
       "    </tr>\n",
       "  </tbody>\n",
       "</table>\n",
       "</div>"
      ],
      "text/plain": [
       "               iter                                        \n",
       "param_gamma 0.001   0.010   0.100   1.000   10.000  100.000\n",
       "param_C                                                    \n",
       "0.001             1       0       0       0       0       0\n",
       "0.010             1       1       0       0       1       0\n",
       "0.100             1       0       0       0       1       0\n",
       "1.000             2       4       2       0       1       0\n",
       "10.000            3       5       2       0       1       0\n",
       "100.000           3       5       2       0       1       0"
      ]
     },
     "execution_count": 10,
     "metadata": {},
     "output_type": "execute_result"
    }
   ],
   "source": [
    "res.drop_duplicates(subset='params_str', keep='last')[['param_gamma', 'param_C', 'iter']].pivot(index='param_C', columns='param_gamma')"
   ]
  },
  {
   "cell_type": "code",
   "execution_count": 3,
   "metadata": {},
   "outputs": [],
   "source": [
    "from sklearn.linear_model import LogisticRegression, LogisticRegressionCV"
   ]
  },
  {
   "cell_type": "code",
   "execution_count": 5,
   "metadata": {},
   "outputs": [
    {
     "name": "stderr",
     "output_type": "stream",
     "text": [
      "/home/andy/checkout/scikit-learn/sklearn/linear_model/sag.py:337: ConvergenceWarning: The max_iter was reached which means the coef_ did not converge\n",
      "  \"the coef_ did not converge\", ConvergenceWarning)\n"
     ]
    },
    {
     "ename": "KeyboardInterrupt",
     "evalue": "",
     "output_type": "error",
     "traceback": [
      "\u001b[0;31m---------------------------------------------------------------------------\u001b[0m",
      "\u001b[0;31mKeyboardInterrupt\u001b[0m                         Traceback (most recent call last)",
      "\u001b[0;32m<ipython-input-5-a9a0193abe9d>\u001b[0m in \u001b[0;36m<module>\u001b[0;34m()\u001b[0m\n\u001b[1;32m      1\u001b[0m \u001b[0mstart\u001b[0m \u001b[0;34m=\u001b[0m \u001b[0mtime\u001b[0m\u001b[0;34m.\u001b[0m\u001b[0mtime\u001b[0m\u001b[0;34m(\u001b[0m\u001b[0;34m)\u001b[0m\u001b[0;34m\u001b[0m\u001b[0;34m\u001b[0m\u001b[0m\n\u001b[0;32m----> 2\u001b[0;31m \u001b[0mLogisticRegressionCV\u001b[0m\u001b[0;34m(\u001b[0m\u001b[0mcv\u001b[0m\u001b[0;34m=\u001b[0m\u001b[0;36m5\u001b[0m\u001b[0;34m,\u001b[0m \u001b[0mmulti_class\u001b[0m\u001b[0;34m=\u001b[0m\u001b[0;34m'multinomial'\u001b[0m\u001b[0;34m,\u001b[0m \u001b[0msolver\u001b[0m\u001b[0;34m=\u001b[0m\u001b[0;34m'sag'\u001b[0m\u001b[0;34m)\u001b[0m\u001b[0;34m.\u001b[0m\u001b[0mfit\u001b[0m\u001b[0;34m(\u001b[0m\u001b[0mX_train\u001b[0m\u001b[0;34m,\u001b[0m \u001b[0my_train\u001b[0m\u001b[0;34m)\u001b[0m\u001b[0;34m\u001b[0m\u001b[0;34m\u001b[0m\u001b[0m\n\u001b[0m\u001b[1;32m      3\u001b[0m \u001b[0mprint\u001b[0m\u001b[0;34m(\u001b[0m\u001b[0mtime\u001b[0m\u001b[0;34m.\u001b[0m\u001b[0mtime\u001b[0m\u001b[0;34m(\u001b[0m\u001b[0;34m)\u001b[0m \u001b[0;34m-\u001b[0m \u001b[0mstart\u001b[0m\u001b[0;34m)\u001b[0m\u001b[0;34m\u001b[0m\u001b[0;34m\u001b[0m\u001b[0m\n",
      "\u001b[0;32m~/checkout/scikit-learn/sklearn/linear_model/logistic.py\u001b[0m in \u001b[0;36mfit\u001b[0;34m(self, X, y, sample_weight)\u001b[0m\n\u001b[1;32m   2083\u001b[0m                       \u001b[0ml1_ratio\u001b[0m\u001b[0;34m=\u001b[0m\u001b[0ml1_ratio\u001b[0m\u001b[0;34m\u001b[0m\u001b[0;34m\u001b[0m\u001b[0m\n\u001b[1;32m   2084\u001b[0m                       )\n\u001b[0;32m-> 2085\u001b[0;31m             \u001b[0;32mfor\u001b[0m \u001b[0mlabel\u001b[0m \u001b[0;32min\u001b[0m \u001b[0miter_encoded_labels\u001b[0m\u001b[0;34m\u001b[0m\u001b[0;34m\u001b[0m\u001b[0m\n\u001b[0m\u001b[1;32m   2086\u001b[0m             \u001b[0;32mfor\u001b[0m \u001b[0mtrain\u001b[0m\u001b[0;34m,\u001b[0m \u001b[0mtest\u001b[0m \u001b[0;32min\u001b[0m \u001b[0mfolds\u001b[0m\u001b[0;34m\u001b[0m\u001b[0;34m\u001b[0m\u001b[0m\n\u001b[1;32m   2087\u001b[0m             for l1_ratio in l1_ratios_)\n",
      "\u001b[0;32m~/checkout/scikit-learn/sklearn/externals/joblib/parallel.py\u001b[0m in \u001b[0;36m__call__\u001b[0;34m(self, iterable)\u001b[0m\n\u001b[1;32m    915\u001b[0m             \u001b[0;31m# remaining jobs.\u001b[0m\u001b[0;34m\u001b[0m\u001b[0;34m\u001b[0m\u001b[0;34m\u001b[0m\u001b[0m\n\u001b[1;32m    916\u001b[0m             \u001b[0mself\u001b[0m\u001b[0;34m.\u001b[0m\u001b[0m_iterating\u001b[0m \u001b[0;34m=\u001b[0m \u001b[0;32mFalse\u001b[0m\u001b[0;34m\u001b[0m\u001b[0;34m\u001b[0m\u001b[0m\n\u001b[0;32m--> 917\u001b[0;31m             \u001b[0;32mif\u001b[0m \u001b[0mself\u001b[0m\u001b[0;34m.\u001b[0m\u001b[0mdispatch_one_batch\u001b[0m\u001b[0;34m(\u001b[0m\u001b[0miterator\u001b[0m\u001b[0;34m)\u001b[0m\u001b[0;34m:\u001b[0m\u001b[0;34m\u001b[0m\u001b[0;34m\u001b[0m\u001b[0m\n\u001b[0m\u001b[1;32m    918\u001b[0m                 \u001b[0mself\u001b[0m\u001b[0;34m.\u001b[0m\u001b[0m_iterating\u001b[0m \u001b[0;34m=\u001b[0m \u001b[0mself\u001b[0m\u001b[0;34m.\u001b[0m\u001b[0m_original_iterator\u001b[0m \u001b[0;32mis\u001b[0m \u001b[0;32mnot\u001b[0m \u001b[0;32mNone\u001b[0m\u001b[0;34m\u001b[0m\u001b[0;34m\u001b[0m\u001b[0m\n\u001b[1;32m    919\u001b[0m \u001b[0;34m\u001b[0m\u001b[0m\n",
      "\u001b[0;32m~/checkout/scikit-learn/sklearn/externals/joblib/parallel.py\u001b[0m in \u001b[0;36mdispatch_one_batch\u001b[0;34m(self, iterator)\u001b[0m\n\u001b[1;32m    757\u001b[0m                 \u001b[0;32mreturn\u001b[0m \u001b[0;32mFalse\u001b[0m\u001b[0;34m\u001b[0m\u001b[0;34m\u001b[0m\u001b[0m\n\u001b[1;32m    758\u001b[0m             \u001b[0;32melse\u001b[0m\u001b[0;34m:\u001b[0m\u001b[0;34m\u001b[0m\u001b[0;34m\u001b[0m\u001b[0m\n\u001b[0;32m--> 759\u001b[0;31m                 \u001b[0mself\u001b[0m\u001b[0;34m.\u001b[0m\u001b[0m_dispatch\u001b[0m\u001b[0;34m(\u001b[0m\u001b[0mtasks\u001b[0m\u001b[0;34m)\u001b[0m\u001b[0;34m\u001b[0m\u001b[0;34m\u001b[0m\u001b[0m\n\u001b[0m\u001b[1;32m    760\u001b[0m                 \u001b[0;32mreturn\u001b[0m \u001b[0;32mTrue\u001b[0m\u001b[0;34m\u001b[0m\u001b[0;34m\u001b[0m\u001b[0m\n\u001b[1;32m    761\u001b[0m \u001b[0;34m\u001b[0m\u001b[0m\n",
      "\u001b[0;32m~/checkout/scikit-learn/sklearn/externals/joblib/parallel.py\u001b[0m in \u001b[0;36m_dispatch\u001b[0;34m(self, batch)\u001b[0m\n\u001b[1;32m    714\u001b[0m         \u001b[0;32mwith\u001b[0m \u001b[0mself\u001b[0m\u001b[0;34m.\u001b[0m\u001b[0m_lock\u001b[0m\u001b[0;34m:\u001b[0m\u001b[0;34m\u001b[0m\u001b[0;34m\u001b[0m\u001b[0m\n\u001b[1;32m    715\u001b[0m             \u001b[0mjob_idx\u001b[0m \u001b[0;34m=\u001b[0m \u001b[0mlen\u001b[0m\u001b[0;34m(\u001b[0m\u001b[0mself\u001b[0m\u001b[0;34m.\u001b[0m\u001b[0m_jobs\u001b[0m\u001b[0;34m)\u001b[0m\u001b[0;34m\u001b[0m\u001b[0;34m\u001b[0m\u001b[0m\n\u001b[0;32m--> 716\u001b[0;31m             \u001b[0mjob\u001b[0m \u001b[0;34m=\u001b[0m \u001b[0mself\u001b[0m\u001b[0;34m.\u001b[0m\u001b[0m_backend\u001b[0m\u001b[0;34m.\u001b[0m\u001b[0mapply_async\u001b[0m\u001b[0;34m(\u001b[0m\u001b[0mbatch\u001b[0m\u001b[0;34m,\u001b[0m \u001b[0mcallback\u001b[0m\u001b[0;34m=\u001b[0m\u001b[0mcb\u001b[0m\u001b[0;34m)\u001b[0m\u001b[0;34m\u001b[0m\u001b[0;34m\u001b[0m\u001b[0m\n\u001b[0m\u001b[1;32m    717\u001b[0m             \u001b[0;31m# A job can complete so quickly than its callback is\u001b[0m\u001b[0;34m\u001b[0m\u001b[0;34m\u001b[0m\u001b[0;34m\u001b[0m\u001b[0m\n\u001b[1;32m    718\u001b[0m             \u001b[0;31m# called before we get here, causing self._jobs to\u001b[0m\u001b[0;34m\u001b[0m\u001b[0;34m\u001b[0m\u001b[0;34m\u001b[0m\u001b[0m\n",
      "\u001b[0;32m~/checkout/scikit-learn/sklearn/externals/joblib/_parallel_backends.py\u001b[0m in \u001b[0;36mapply_async\u001b[0;34m(self, func, callback)\u001b[0m\n\u001b[1;32m    180\u001b[0m     \u001b[0;32mdef\u001b[0m \u001b[0mapply_async\u001b[0m\u001b[0;34m(\u001b[0m\u001b[0mself\u001b[0m\u001b[0;34m,\u001b[0m \u001b[0mfunc\u001b[0m\u001b[0;34m,\u001b[0m \u001b[0mcallback\u001b[0m\u001b[0;34m=\u001b[0m\u001b[0;32mNone\u001b[0m\u001b[0;34m)\u001b[0m\u001b[0;34m:\u001b[0m\u001b[0;34m\u001b[0m\u001b[0;34m\u001b[0m\u001b[0m\n\u001b[1;32m    181\u001b[0m         \u001b[0;34m\"\"\"Schedule a func to be run\"\"\"\u001b[0m\u001b[0;34m\u001b[0m\u001b[0;34m\u001b[0m\u001b[0m\n\u001b[0;32m--> 182\u001b[0;31m         \u001b[0mresult\u001b[0m \u001b[0;34m=\u001b[0m \u001b[0mImmediateResult\u001b[0m\u001b[0;34m(\u001b[0m\u001b[0mfunc\u001b[0m\u001b[0;34m)\u001b[0m\u001b[0;34m\u001b[0m\u001b[0;34m\u001b[0m\u001b[0m\n\u001b[0m\u001b[1;32m    183\u001b[0m         \u001b[0;32mif\u001b[0m \u001b[0mcallback\u001b[0m\u001b[0;34m:\u001b[0m\u001b[0;34m\u001b[0m\u001b[0;34m\u001b[0m\u001b[0m\n\u001b[1;32m    184\u001b[0m             \u001b[0mcallback\u001b[0m\u001b[0;34m(\u001b[0m\u001b[0mresult\u001b[0m\u001b[0;34m)\u001b[0m\u001b[0;34m\u001b[0m\u001b[0;34m\u001b[0m\u001b[0m\n",
      "\u001b[0;32m~/checkout/scikit-learn/sklearn/externals/joblib/_parallel_backends.py\u001b[0m in \u001b[0;36m__init__\u001b[0;34m(self, batch)\u001b[0m\n\u001b[1;32m    547\u001b[0m         \u001b[0;31m# Don't delay the application, to avoid keeping the input\u001b[0m\u001b[0;34m\u001b[0m\u001b[0;34m\u001b[0m\u001b[0;34m\u001b[0m\u001b[0m\n\u001b[1;32m    548\u001b[0m         \u001b[0;31m# arguments in memory\u001b[0m\u001b[0;34m\u001b[0m\u001b[0;34m\u001b[0m\u001b[0;34m\u001b[0m\u001b[0m\n\u001b[0;32m--> 549\u001b[0;31m         \u001b[0mself\u001b[0m\u001b[0;34m.\u001b[0m\u001b[0mresults\u001b[0m \u001b[0;34m=\u001b[0m \u001b[0mbatch\u001b[0m\u001b[0;34m(\u001b[0m\u001b[0;34m)\u001b[0m\u001b[0;34m\u001b[0m\u001b[0;34m\u001b[0m\u001b[0m\n\u001b[0m\u001b[1;32m    550\u001b[0m \u001b[0;34m\u001b[0m\u001b[0m\n\u001b[1;32m    551\u001b[0m     \u001b[0;32mdef\u001b[0m \u001b[0mget\u001b[0m\u001b[0;34m(\u001b[0m\u001b[0mself\u001b[0m\u001b[0;34m)\u001b[0m\u001b[0;34m:\u001b[0m\u001b[0;34m\u001b[0m\u001b[0;34m\u001b[0m\u001b[0m\n",
      "\u001b[0;32m~/checkout/scikit-learn/sklearn/externals/joblib/parallel.py\u001b[0m in \u001b[0;36m__call__\u001b[0;34m(self)\u001b[0m\n\u001b[1;32m    223\u001b[0m         \u001b[0;32mwith\u001b[0m \u001b[0mparallel_backend\u001b[0m\u001b[0;34m(\u001b[0m\u001b[0mself\u001b[0m\u001b[0;34m.\u001b[0m\u001b[0m_backend\u001b[0m\u001b[0;34m,\u001b[0m \u001b[0mn_jobs\u001b[0m\u001b[0;34m=\u001b[0m\u001b[0mself\u001b[0m\u001b[0;34m.\u001b[0m\u001b[0m_n_jobs\u001b[0m\u001b[0;34m)\u001b[0m\u001b[0;34m:\u001b[0m\u001b[0;34m\u001b[0m\u001b[0;34m\u001b[0m\u001b[0m\n\u001b[1;32m    224\u001b[0m             return [func(*args, **kwargs)\n\u001b[0;32m--> 225\u001b[0;31m                     for func, args, kwargs in self.items]\n\u001b[0m\u001b[1;32m    226\u001b[0m \u001b[0;34m\u001b[0m\u001b[0m\n\u001b[1;32m    227\u001b[0m     \u001b[0;32mdef\u001b[0m \u001b[0m__len__\u001b[0m\u001b[0;34m(\u001b[0m\u001b[0mself\u001b[0m\u001b[0;34m)\u001b[0m\u001b[0;34m:\u001b[0m\u001b[0;34m\u001b[0m\u001b[0;34m\u001b[0m\u001b[0m\n",
      "\u001b[0;32m~/checkout/scikit-learn/sklearn/externals/joblib/parallel.py\u001b[0m in \u001b[0;36m<listcomp>\u001b[0;34m(.0)\u001b[0m\n\u001b[1;32m    223\u001b[0m         \u001b[0;32mwith\u001b[0m \u001b[0mparallel_backend\u001b[0m\u001b[0;34m(\u001b[0m\u001b[0mself\u001b[0m\u001b[0;34m.\u001b[0m\u001b[0m_backend\u001b[0m\u001b[0;34m,\u001b[0m \u001b[0mn_jobs\u001b[0m\u001b[0;34m=\u001b[0m\u001b[0mself\u001b[0m\u001b[0;34m.\u001b[0m\u001b[0m_n_jobs\u001b[0m\u001b[0;34m)\u001b[0m\u001b[0;34m:\u001b[0m\u001b[0;34m\u001b[0m\u001b[0;34m\u001b[0m\u001b[0m\n\u001b[1;32m    224\u001b[0m             return [func(*args, **kwargs)\n\u001b[0;32m--> 225\u001b[0;31m                     for func, args, kwargs in self.items]\n\u001b[0m\u001b[1;32m    226\u001b[0m \u001b[0;34m\u001b[0m\u001b[0m\n\u001b[1;32m    227\u001b[0m     \u001b[0;32mdef\u001b[0m \u001b[0m__len__\u001b[0m\u001b[0;34m(\u001b[0m\u001b[0mself\u001b[0m\u001b[0;34m)\u001b[0m\u001b[0;34m:\u001b[0m\u001b[0;34m\u001b[0m\u001b[0;34m\u001b[0m\u001b[0m\n",
      "\u001b[0;32m~/checkout/scikit-learn/sklearn/linear_model/logistic.py\u001b[0m in \u001b[0;36m_log_reg_scoring_path\u001b[0;34m(X, y, train, test, pos_class, Cs, scoring, fit_intercept, max_iter, tol, class_weight, verbose, solver, penalty, dual, intercept_scaling, multi_class, random_state, max_squared_sum, sample_weight, l1_ratio)\u001b[0m\n\u001b[1;32m   1160\u001b[0m         \u001b[0mpenalty\u001b[0m\u001b[0;34m=\u001b[0m\u001b[0mpenalty\u001b[0m\u001b[0;34m,\u001b[0m \u001b[0mintercept_scaling\u001b[0m\u001b[0;34m=\u001b[0m\u001b[0mintercept_scaling\u001b[0m\u001b[0;34m,\u001b[0m\u001b[0;34m\u001b[0m\u001b[0;34m\u001b[0m\u001b[0m\n\u001b[1;32m   1161\u001b[0m         \u001b[0mrandom_state\u001b[0m\u001b[0;34m=\u001b[0m\u001b[0mrandom_state\u001b[0m\u001b[0;34m,\u001b[0m \u001b[0mcheck_input\u001b[0m\u001b[0;34m=\u001b[0m\u001b[0;32mFalse\u001b[0m\u001b[0;34m,\u001b[0m\u001b[0;34m\u001b[0m\u001b[0;34m\u001b[0m\u001b[0m\n\u001b[0;32m-> 1162\u001b[0;31m         max_squared_sum=max_squared_sum, sample_weight=sample_weight)\n\u001b[0m\u001b[1;32m   1163\u001b[0m \u001b[0;34m\u001b[0m\u001b[0m\n\u001b[1;32m   1164\u001b[0m     \u001b[0mlog_reg\u001b[0m \u001b[0;34m=\u001b[0m \u001b[0mLogisticRegression\u001b[0m\u001b[0;34m(\u001b[0m\u001b[0msolver\u001b[0m\u001b[0;34m=\u001b[0m\u001b[0msolver\u001b[0m\u001b[0;34m,\u001b[0m \u001b[0mmulti_class\u001b[0m\u001b[0;34m=\u001b[0m\u001b[0mmulti_class\u001b[0m\u001b[0;34m)\u001b[0m\u001b[0;34m\u001b[0m\u001b[0;34m\u001b[0m\u001b[0m\n",
      "\u001b[0;32m~/checkout/scikit-learn/sklearn/linear_model/logistic.py\u001b[0m in \u001b[0;36m_logistic_regression_path\u001b[0;34m(X, y, pos_class, Cs, fit_intercept, max_iter, tol, verbose, solver, coef, class_weight, dual, penalty, intercept_scaling, multi_class, random_state, check_input, max_squared_sum, sample_weight, l1_ratio)\u001b[0m\n\u001b[1;32m    984\u001b[0m                 \u001b[0mbeta\u001b[0m\u001b[0;34m,\u001b[0m \u001b[0mmax_iter\u001b[0m\u001b[0;34m,\u001b[0m \u001b[0mtol\u001b[0m\u001b[0;34m,\u001b[0m\u001b[0;34m\u001b[0m\u001b[0;34m\u001b[0m\u001b[0m\n\u001b[1;32m    985\u001b[0m                 \u001b[0mverbose\u001b[0m\u001b[0;34m,\u001b[0m \u001b[0mrandom_state\u001b[0m\u001b[0;34m,\u001b[0m \u001b[0;32mFalse\u001b[0m\u001b[0;34m,\u001b[0m \u001b[0mmax_squared_sum\u001b[0m\u001b[0;34m,\u001b[0m \u001b[0mwarm_start_sag\u001b[0m\u001b[0;34m,\u001b[0m\u001b[0;34m\u001b[0m\u001b[0;34m\u001b[0m\u001b[0m\n\u001b[0;32m--> 986\u001b[0;31m                 is_saga=(solver == 'saga'))\n\u001b[0m\u001b[1;32m    987\u001b[0m \u001b[0;34m\u001b[0m\u001b[0m\n\u001b[1;32m    988\u001b[0m         \u001b[0;32melse\u001b[0m\u001b[0;34m:\u001b[0m\u001b[0;34m\u001b[0m\u001b[0;34m\u001b[0m\u001b[0m\n",
      "\u001b[0;32m~/checkout/scikit-learn/sklearn/linear_model/sag.py\u001b[0m in \u001b[0;36msag_solver\u001b[0;34m(X, y, sample_weight, loss, alpha, beta, max_iter, tol, verbose, random_state, check_input, max_squared_sum, warm_start_mem, is_saga)\u001b[0m\n\u001b[1;32m    331\u001b[0m                             \u001b[0mintercept_decay\u001b[0m\u001b[0;34m,\u001b[0m\u001b[0;34m\u001b[0m\u001b[0;34m\u001b[0m\u001b[0m\n\u001b[1;32m    332\u001b[0m                             \u001b[0mis_saga\u001b[0m\u001b[0;34m,\u001b[0m\u001b[0;34m\u001b[0m\u001b[0;34m\u001b[0m\u001b[0m\n\u001b[0;32m--> 333\u001b[0;31m                             verbose)\n\u001b[0m\u001b[1;32m    334\u001b[0m \u001b[0;34m\u001b[0m\u001b[0m\n\u001b[1;32m    335\u001b[0m     \u001b[0;32mif\u001b[0m \u001b[0mn_iter_\u001b[0m \u001b[0;34m==\u001b[0m \u001b[0mmax_iter\u001b[0m\u001b[0;34m:\u001b[0m\u001b[0;34m\u001b[0m\u001b[0;34m\u001b[0m\u001b[0m\n",
      "\u001b[0;31mKeyboardInterrupt\u001b[0m: "
     ]
    }
   ],
   "source": [
    "start = time.time()\n",
    "LogisticRegressionCV(cv=5, multi_class='multinomial', solver='sag').fit(X_train, y_train)\n",
    "print(time.time() - start)"
   ]
  },
  {
   "cell_type": "code",
   "execution_count": null,
   "metadata": {},
   "outputs": [],
   "source": []
  }
 ],
 "metadata": {
  "kernelspec": {
   "display_name": "Python 3",
   "language": "python",
   "name": "python3"
  },
  "language_info": {
   "codemirror_mode": {
    "name": "ipython",
    "version": 3
   },
   "file_extension": ".py",
   "mimetype": "text/x-python",
   "name": "python",
   "nbconvert_exporter": "python",
   "pygments_lexer": "ipython3",
   "version": "3.7.1"
  }
 },
 "nbformat": 4,
 "nbformat_minor": 2
}
